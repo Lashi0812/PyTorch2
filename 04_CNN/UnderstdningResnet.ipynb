{
 "cells": [
  {
   "cell_type": "code",
   "execution_count": 1,
   "metadata": {},
   "outputs": [],
   "source": [
    "# python libraries\n",
    "import os\n",
    "import sys\n",
    "import dataclasses\n",
    "from datetime import datetime\n",
    "from pathlib import Path\n",
    "from operator import methodcaller\n",
    "from collections import OrderedDict\n",
    "from dataclasses import dataclass\n",
    "from typing import (\n",
    "    List,\n",
    "    Tuple,\n",
    "    Dict,\n",
    "    Any,\n",
    "    Mapping,\n",
    "    Callable\n",
    ")\n",
    "from enum import Enum\n",
    "# adding the path\n",
    "if not str(Path(os.getcwd()).parent) in sys.path:\n",
    "    sys.path.append(str(Path(os.getcwd()).parent))\n",
    "\n",
    "# numpy\n",
    "import numpy as np\n",
    "\n",
    "# torch\n",
    "import torch\n",
    "from torch import nn\n",
    "from torch.utils.data import TensorDataset,DataLoader\n",
    "from torch.nn import functional as F\n",
    "\n",
    "try:\n",
    "    from torchmetrics import Accuracy\n",
    "except:\n",
    "    print(f\"[INFO] Installing the torchmetrics\")\n",
    "    %pip install torchmetrics\n",
    "    from torchmetrics import Accuracy\n",
    "\n",
    "try:\n",
    "    import torchinfo\n",
    "except:\n",
    "    print(f\"[INFO] Installing the torchinfo\")\n",
    "    %pip install torchinfo\n",
    "    import torchinfo\n",
    "\n",
    "# helper function\n",
    "try:\n",
    "    import my_helper as helper\n",
    "except:\n",
    "    print(\"[INFO] Downloading the helper function from github\")\n",
    "    import requests\n",
    "    response = requests.get(\"https://raw.githubusercontent.com/Lashi0812/PyTorch2/master/my_helper.py\")\n",
    "    with open(\"my_helper.py\" ,\"wb\") as f:\n",
    "        f.write(response.content)\n",
    "    import my_helper as helper\n",
    "\n",
    "\n",
    "## Connect Persistence memory\n",
    "try :\n",
    "    from google.colab import drive\n",
    "\n",
    "    # Paths\n",
    "    DRIVE_PATH = Path(\"/content/drive\")\n",
    "    MODEL_SAVE_PATH = Path(\"/content/drive/Othercomputers/My PC/drive/models\")\n",
    "\n",
    "    # mount drive\n",
    "    drive.mount(str(DRIVE_PATH))\n",
    "except:\n",
    "    MODEL_SAVE_PATH = Path(os.getcwd())/\"models\"\n",
    "    \n",
    "device = \"cuda\" if torch.cuda.is_available() else \"cpu\""
   ]
  },
  {
   "cell_type": "code",
   "execution_count": 2,
   "metadata": {},
   "outputs": [],
   "source": [
    "x = torch.arange(10).reshape((-1,1))\n",
    "y = torch.arange(10).reshape((-1,1))"
   ]
  },
  {
   "attachments": {},
   "cell_type": "markdown",
   "metadata": {},
   "source": [
    "# Why Residual is better ?"
   ]
  },
  {
   "cell_type": "code",
   "execution_count": 3,
   "metadata": {},
   "outputs": [],
   "source": [
    "class Hypo(helper.Module):\n",
    "    def __init__(self,lr=0.01) -> None:\n",
    "        super().__init__()\n",
    "        self.lr = lr\n",
    "        self.noise_layer = nn.Sequential(\n",
    "            nn.LazyLinear(out_features=10,bias=False),nn.ReLU(inplace=False),\n",
    "            )\n",
    "        self.final = nn.LazyLinear(1,bias=False)\n",
    "            \n",
    "    def forward(self, x: torch.Tensor):\n",
    "        y = self.noise_layer(x) \n",
    "        y = self.final(y)\n",
    "        return F.relu(y)\n",
    "    \n",
    "    def loss(self, y_logits, y):\n",
    "        loss_fn = nn.MSELoss()\n",
    "        return loss_fn(y_logits,y)  "
   ]
  },
  {
   "cell_type": "code",
   "execution_count": 4,
   "metadata": {},
   "outputs": [],
   "source": [
    "class SyntheticRegressionData(helper.DataModule):\n",
    "    def __init__(\n",
    "        self, w, b, noise=0.01, num_train=1000, num_val=1000, batch_size=32\n",
    "    ) -> None:\n",
    "        self.w = w\n",
    "        self.b = b\n",
    "        self.noise = noise\n",
    "        self.num_train = num_train\n",
    "        self.num_val = num_val\n",
    "        self.batch_size = batch_size\n",
    "\n",
    "        n = num_train + num_val\n",
    "        self.X = torch.normal(5,1,size=(n, len(self.w)))\n",
    "        noise = torch.randn(size=(n, 1)) * self.noise\n",
    "        self.y = torch.matmul(self.X, torch.reshape(self.w, (-1, 1))) + b\n",
    "\n",
    "    def get_dataloader(self, train: bool):\n",
    "        i = slice(0, self.num_train) if train else slice(self.num_train, None)\n",
    "        return self.get_tensorloader((self.X,self.y),train,i)\n",
    "\n",
    "    def get_tensorloader(self, tensors, train, indices=slice(0, None)):\n",
    "        tensors = tuple(a[indices] for a in tensors)\n",
    "        dataset = torch.utils.data.TensorDataset(*tensors)\n",
    "        return torch.utils.data.DataLoader(dataset=dataset,batch_size=self.batch_size,shuffle=True)\n"
   ]
  },
  {
   "cell_type": "code",
   "execution_count": 5,
   "metadata": {},
   "outputs": [],
   "source": [
    "data = SyntheticRegressionData(w = torch.tensor([1.]),b=0,noise=0)"
   ]
  },
  {
   "cell_type": "code",
   "execution_count": 6,
   "metadata": {},
   "outputs": [
    {
     "name": "stdout",
     "output_type": "stream",
     "text": [
      "Training the model in cpu\n"
     ]
    },
    {
     "name": "stderr",
     "output_type": "stream",
     "text": [
      "c:\\Users\\Lenovo\\anaconda3\\envs\\py310\\lib\\site-packages\\torch\\nn\\modules\\lazy.py:178: UserWarning: Lazy modules are a new feature under heavy development so changes to the API or functionality can happen at any moment.\n",
      "  warnings.warn('Lazy modules are a new feature under heavy development '\n"
     ]
    }
   ],
   "source": [
    "hypo = Hypo(lr=0.03)\n",
    "trainer = helper.Trainer(max_epochs=10)"
   ]
  },
  {
   "cell_type": "code",
   "execution_count": 7,
   "metadata": {},
   "outputs": [
    {
     "name": "stdout",
     "output_type": "stream",
     "text": [
      "Training the model in cpu\n"
     ]
    }
   ],
   "source": [
    "trainer = helper.Trainer(max_epochs=10)"
   ]
  },
  {
   "cell_type": "code",
   "execution_count": 8,
   "metadata": {},
   "outputs": [
    {
     "data": {
      "text/plain": [
       "True"
      ]
     },
     "execution_count": 8,
     "metadata": {},
     "output_type": "execute_result"
    }
   ],
   "source": [
    "torch.allclose(data.X,data.y)"
   ]
  },
  {
   "cell_type": "code",
   "execution_count": 9,
   "metadata": {},
   "outputs": [
    {
     "data": {
      "text/plain": [
       "True"
      ]
     },
     "execution_count": 9,
     "metadata": {},
     "output_type": "execute_result"
    }
   ],
   "source": [
    "torch.allclose(F.relu(data.X),data.y)"
   ]
  },
  {
   "cell_type": "code",
   "execution_count": 10,
   "metadata": {},
   "outputs": [
    {
     "data": {
      "application/vnd.jupyter.widget-view+json": {
       "model_id": "409a9f665bdb405484bf5a8c1d260683",
       "version_major": 2,
       "version_minor": 0
      },
      "text/plain": [
       "  0%|          | 0/10 [00:00<?, ?it/s]"
      ]
     },
     "metadata": {},
     "output_type": "display_data"
    },
    {
     "data": {
      "image/png": "[encoded data removed]",
      "text/plain": [
       "<Figure size 400x300 with 1 Axes>"
      ]
     },
     "metadata": {},
     "output_type": "display_data"
    }
   ],
   "source": [
    "trainer.fit(hypo,data)"
   ]
  },
  {
   "cell_type": "code",
   "execution_count": 11,
   "metadata": {},
   "outputs": [],
   "source": [
    "class Residual(helper.Module):\n",
    "    def __init__(self,lr=0.01) -> None:\n",
    "        super().__init__()\n",
    "        self.lr = lr\n",
    "        self.noise_layer = nn.Sequential(\n",
    "            nn.LazyLinear(out_features=10,bias=False),nn.ReLU(inplace=False),\n",
    "            )\n",
    "        self.final = nn.LazyLinear(1,bias=False)\n",
    "            \n",
    "    def forward(self, x: torch.Tensor):\n",
    "        y = self.noise_layer(x) \n",
    "        y = self.final(y)\n",
    "        y += x\n",
    "        return F.relu(y)\n",
    "    \n",
    "    def loss(self, y_logits, y):\n",
    "        loss_fn = nn.MSELoss()\n",
    "        return loss_fn(y_logits,y)  "
   ]
  },
  {
   "cell_type": "code",
   "execution_count": 12,
   "metadata": {},
   "outputs": [
    {
     "data": {
      "text/plain": [
       "True"
      ]
     },
     "execution_count": 12,
     "metadata": {},
     "output_type": "execute_result"
    }
   ],
   "source": [
    "torch.allclose(F.relu(data.X),data.y)"
   ]
  },
  {
   "cell_type": "code",
   "execution_count": 13,
   "metadata": {},
   "outputs": [
    {
     "name": "stdout",
     "output_type": "stream",
     "text": [
      "Training the model in cpu\n"
     ]
    }
   ],
   "source": [
    "res = Residual(lr=0.03)\n",
    "trainer = helper.Trainer(max_epochs=10)"
   ]
  },
  {
   "cell_type": "code",
   "execution_count": 14,
   "metadata": {},
   "outputs": [
    {
     "data": {
      "application/vnd.jupyter.widget-view+json": {
       "model_id": "6b91e2ef7b9d4c1f8b5c8660d3270ca3",
       "version_major": 2,
       "version_minor": 0
      },
      "text/plain": [
       "  0%|          | 0/10 [00:00<?, ?it/s]"
      ]
     },
     "metadata": {},
     "output_type": "display_data"
    },
    {
     "data": {
      "image/png": "[encoded data removed]",
      "text/plain": [
       "<Figure size 400x300 with 1 Axes>"
      ]
     },
     "metadata": {},
     "output_type": "display_data"
    }
   ],
   "source": [
    "trainer.fit(res,data)"
   ]
  },
  {
   "cell_type": "code",
   "execution_count": 15,
   "metadata": {},
   "outputs": [
    {
     "name": "stdout",
     "output_type": "stream",
     "text": [
      "noise_layer.0.weight Parameter containing:\n",
      "tensor([[-1.6264e-02],\n",
      "        [ 1.9612e-07],\n",
      "        [-6.7706e-01],\n",
      "        [-7.5204e-01],\n",
      "        [-1.0438e-01],\n",
      "        [-4.7089e-01],\n",
      "        [-7.2010e-01],\n",
      "        [-2.8342e-01],\n",
      "        [-7.1881e-04],\n",
      "        [-1.6282e-01]], requires_grad=True)\n",
      "final.weight Parameter containing:\n",
      "tensor([[-0.6903, -0.1620, -0.2357,  0.1683, -0.8820, -0.8458, -0.1193, -0.5639,\n",
      "         -0.1318,  0.0370]], requires_grad=True)\n"
     ]
    }
   ],
   "source": [
    "for k,v in res.named_parameters():\n",
    "    print(k,v)"
   ]
  },
  {
   "attachments": {},
   "cell_type": "markdown",
   "metadata": {},
   "source": [
    "1. if identity mappings are optimal, the solvers may simply drive the weights of the multiple nonlinear layers toward zero to approach identity mappings\n",
    "2. They why Residual network perform better than the Hypo "
   ]
  },
  {
   "cell_type": "code",
   "execution_count": 16,
   "metadata": {},
   "outputs": [
    {
     "name": "stdout",
     "output_type": "stream",
     "text": [
      "noise_layer.0.weight Parameter containing:\n",
      "tensor([[-0.6089],\n",
      "        [-0.9734],\n",
      "        [-0.6948],\n",
      "        [-0.9698],\n",
      "        [-1.3078],\n",
      "        [-2.6008],\n",
      "        [-1.2485],\n",
      "        [-1.9719],\n",
      "        [-0.8349],\n",
      "        [-0.3584]], requires_grad=True)\n",
      "final.weight Parameter containing:\n",
      "tensor([[-0.1727,  0.2413, -0.6562,  0.2718, -0.8968, -2.1886, -0.8963, -1.7715,\n",
      "         -0.0153, -0.0061]], requires_grad=True)\n"
     ]
    }
   ],
   "source": [
    "for k,v in hypo.named_parameters():\n",
    "    print(k,v)"
   ]
  },
  {
   "attachments": {},
   "cell_type": "markdown",
   "metadata": {},
   "source": [
    "In hypo , the solver have difficulty in approximating the identity function by multiplying non-Linear layer"
   ]
  }
 ],
 "metadata": {
  "kernelspec": {
   "display_name": "py310",
   "language": "python",
   "name": "python3"
  },
  "language_info": {
   "codemirror_mode": {
    "name": "ipython",
    "version": 3
   },
   "file_extension": ".py",
   "mimetype": "text/x-python",
   "name": "python",
   "nbconvert_exporter": "python",
   "pygments_lexer": "ipython3",
   "version": "3.10.6"
  },
  "orig_nbformat": 4,
  "vscode": {
   "interpreter": {
    "hash": "cf51ac970e033765f04eaa06b2d945d30ec4bd27f0fa0badbc17cd319e8357a7"
   }
  }
 },
 "nbformat": 4,
 "nbformat_minor": 2
}
