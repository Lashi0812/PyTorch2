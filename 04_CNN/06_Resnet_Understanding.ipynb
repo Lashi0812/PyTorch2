{
 "cells": [
  {
   "cell_type": "code",
   "execution_count": 1,
   "metadata": {},
   "outputs": [],
   "source": [
    "# python libraries\n",
    "import os\n",
    "import sys\n",
    "import dataclasses\n",
    "from datetime import datetime\n",
    "from pathlib import Path\n",
    "from operator import methodcaller\n",
    "from collections import OrderedDict\n",
    "from dataclasses import dataclass\n",
    "from typing import (\n",
    "    List,\n",
    "    Tuple,\n",
    "    Dict,\n",
    "    Any,\n",
    "    Mapping,\n",
    "    Callable\n",
    ")\n",
    "from enum import Enum\n",
    "# adding the path\n",
    "if not str(Path(os.getcwd()).parent) in sys.path:\n",
    "    sys.path.append(str(Path(os.getcwd()).parent))\n",
    "\n",
    "# numpy\n",
    "import numpy as np\n",
    "\n",
    "# torch\n",
    "import torch\n",
    "from torch import nn\n",
    "from torch.utils.data import TensorDataset,DataLoader\n",
    "from torch.nn import functional as F\n",
    "\n",
    "try:\n",
    "    from torchmetrics import Accuracy\n",
    "except:\n",
    "    print(f\"[INFO] Installing the torchmetrics\")\n",
    "    %pip install torchmetrics\n",
    "    from torchmetrics import Accuracy\n",
    "\n",
    "try:\n",
    "    import torchinfo\n",
    "except:\n",
    "    print(f\"[INFO] Installing the torchinfo\")\n",
    "    %pip install torchinfo\n",
    "    import torchinfo\n",
    "\n",
    "# helper function\n",
    "try:\n",
    "    import my_helper as helper\n",
    "except:\n",
    "    print(\"[INFO] Downloading the helper function from github\")\n",
    "    import requests\n",
    "    response = requests.get(\"https://raw.githubusercontent.com/Lashi0812/PyTorch2/master/my_helper.py\")\n",
    "    with open(\"my_helper.py\" ,\"wb\") as f:\n",
    "        f.write(response.content)\n",
    "    import my_helper as helper\n",
    "\n",
    "\n",
    "## Connect Persistence memory\n",
    "try :\n",
    "    from google.colab import drive\n",
    "\n",
    "    # Paths\n",
    "    DRIVE_PATH = Path(\"/content/drive\")\n",
    "    MODEL_SAVE_PATH = Path(\"/content/drive/Othercomputers/My PC/drive/models\")\n",
    "\n",
    "    # mount drive\n",
    "    drive.mount(str(DRIVE_PATH))\n",
    "except:\n",
    "    MODEL_SAVE_PATH = Path(os.getcwd())/\"models\"\n",
    "    \n",
    "device = \"cuda\" if torch.cuda.is_available() else \"cpu\""
   ]
  },
  {
   "cell_type": "code",
   "execution_count": 2,
   "metadata": {},
   "outputs": [],
   "source": [
    "x = torch.arange(10).reshape((-1,1))\n",
    "y = torch.arange(10).reshape((-1,1))"
   ]
  },
  {
   "attachments": {},
   "cell_type": "markdown",
   "metadata": {},
   "source": [
    "# Why Residual is better ?"
   ]
  },
  {
   "cell_type": "code",
   "execution_count": 3,
   "metadata": {},
   "outputs": [],
   "source": [
    "class SyntheticRegressionData(helper.DataModule):\n",
    "    def __init__(\n",
    "        self, w, b, noise=0.01, num_train=1000, num_val=1000, batch_size=32\n",
    "    ) -> None:\n",
    "        self.w = w\n",
    "        self.b = b\n",
    "        self.noise = noise\n",
    "        self.num_train = num_train\n",
    "        self.num_val = num_val\n",
    "        self.batch_size = batch_size\n",
    "\n",
    "        n = num_train + num_val\n",
    "        self.X = torch.normal(5,1,size=(n, len(self.w)))\n",
    "        noise = torch.randn(size=(n, 1)) * self.noise\n",
    "        self.y = torch.matmul(self.X, torch.reshape(self.w, (-1, 1))) + b\n",
    "\n",
    "    def get_dataloader(self, train: bool):\n",
    "        i = slice(0, self.num_train) if train else slice(self.num_train, None)\n",
    "        return self.get_tensorloader((self.X,self.y),train,i)\n",
    "\n",
    "    def get_tensorloader(self, tensors, train, indices=slice(0, None)):\n",
    "        tensors = tuple(a[indices] for a in tensors)\n",
    "        dataset = torch.utils.data.TensorDataset(*tensors)\n",
    "        return torch.utils.data.DataLoader(dataset=dataset,batch_size=self.batch_size,shuffle=True)\n"
   ]
  },
  {
   "cell_type": "code",
   "execution_count": 4,
   "metadata": {},
   "outputs": [],
   "source": [
    "class Hypo(helper.Module):\n",
    "    def __init__(self,lr=0.01) -> None:\n",
    "        super().__init__()\n",
    "        self.lr = lr\n",
    "        self.noise_layer = nn.Sequential(\n",
    "            nn.LazyLinear(out_features=10,bias=False),nn.ReLU(inplace=False),\n",
    "            nn.LazyLinear(out_features=10,bias=False),nn.ReLU(inplace=False),\n",
    "            nn.LazyLinear(out_features=10,bias=False),nn.ReLU(inplace=False),\n",
    "            nn.LazyLinear(out_features=10,bias=False),nn.ReLU(inplace=False),\n",
    "            nn.LazyLinear(out_features=10,bias=False),nn.ReLU(inplace=False),\n",
    "            )\n",
    "        self.final = nn.LazyLinear(1,bias=False)\n",
    "            \n",
    "    def forward(self, x: torch.Tensor):\n",
    "        y = self.noise_layer(x) \n",
    "        y = self.final(y)\n",
    "        return F.relu(y)\n",
    "    \n",
    "    def loss(self, y_logits, y):\n",
    "        loss_fn = nn.MSELoss()\n",
    "        return loss_fn(y_logits,y)  "
   ]
  },
  {
   "cell_type": "code",
   "execution_count": 5,
   "metadata": {},
   "outputs": [],
   "source": [
    "data = SyntheticRegressionData(w = torch.tensor([1.]),b=0,noise=0)"
   ]
  },
  {
   "cell_type": "code",
   "execution_count": 6,
   "metadata": {},
   "outputs": [
    {
     "name": "stdout",
     "output_type": "stream",
     "text": [
      "Training the model in cpu\n"
     ]
    },
    {
     "name": "stderr",
     "output_type": "stream",
     "text": [
      "c:\\Users\\Lenovo\\anaconda3\\envs\\py310\\lib\\site-packages\\torch\\nn\\modules\\lazy.py:178: UserWarning: Lazy modules are a new feature under heavy development so changes to the API or functionality can happen at any moment.\n",
      "  warnings.warn('Lazy modules are a new feature under heavy development '\n"
     ]
    }
   ],
   "source": [
    "hypo = Hypo(lr=0.03)\n",
    "trainer = helper.Trainer(max_epochs=10)"
   ]
  },
  {
   "cell_type": "code",
   "execution_count": 7,
   "metadata": {},
   "outputs": [
    {
     "name": "stdout",
     "output_type": "stream",
     "text": [
      "Training the model in cpu\n"
     ]
    }
   ],
   "source": [
    "trainer = helper.Trainer(max_epochs=10)"
   ]
  },
  {
   "cell_type": "code",
   "execution_count": 8,
   "metadata": {},
   "outputs": [
    {
     "data": {
      "text/plain": [
       "True"
      ]
     },
     "execution_count": 8,
     "metadata": {},
     "output_type": "execute_result"
    }
   ],
   "source": [
    "torch.allclose(data.X,data.y)"
   ]
  },
  {
   "cell_type": "code",
   "execution_count": 9,
   "metadata": {},
   "outputs": [
    {
     "data": {
      "text/plain": [
       "True"
      ]
     },
     "execution_count": 9,
     "metadata": {},
     "output_type": "execute_result"
    }
   ],
   "source": [
    "torch.allclose(F.relu(data.X),data.y)"
   ]
  },
  {
   "cell_type": "code",
   "execution_count": 10,
   "metadata": {},
   "outputs": [
    {
     "data": {
      "application/vnd.jupyter.widget-view+json": {
       "model_id": "1733781f764f4c0aa6e60b6e0aed4442",
       "version_major": 2,
       "version_minor": 0
      },
      "text/plain": [
       "  0%|          | 0/10 [00:00<?, ?it/s]"
      ]
     },
     "metadata": {},
     "output_type": "display_data"
    },
    {
     "data": {
      "image/png": "[encoded data removed]",
      "text/plain": [
       "<Figure size 400x300 with 1 Axes>"
      ]
     },
     "metadata": {},
     "output_type": "display_data"
    }
   ],
   "source": [
    "trainer.fit(hypo,data)"
   ]
  },
  {
   "cell_type": "code",
   "execution_count": 11,
   "metadata": {},
   "outputs": [],
   "source": [
    "class Residual(helper.Module):\n",
    "    def __init__(self,lr=0.01) -> None:\n",
    "        super().__init__()\n",
    "        self.lr = lr\n",
    "        self.noise_layer = nn.Sequential(\n",
    "            nn.LazyLinear(out_features=10,bias=False),nn.ReLU(inplace=False),\n",
    "            nn.LazyLinear(out_features=10,bias=False),nn.ReLU(inplace=False),\n",
    "            nn.LazyLinear(out_features=10,bias=False),nn.ReLU(inplace=False),\n",
    "            nn.LazyLinear(out_features=10,bias=False),nn.ReLU(inplace=False),\n",
    "            nn.LazyLinear(out_features=10,bias=False),nn.ReLU(inplace=False),\n",
    "            )\n",
    "        self.final = nn.LazyLinear(1,bias=False)\n",
    "            \n",
    "    def forward(self, x: torch.Tensor):\n",
    "        y = self.noise_layer(x) \n",
    "        y = self.final(y)\n",
    "        y += x\n",
    "        return F.relu(y)\n",
    "    \n",
    "    def loss(self, y_logits, y):\n",
    "        loss_fn = nn.MSELoss()\n",
    "        return loss_fn(y_logits,y)  "
   ]
  },
  {
   "cell_type": "code",
   "execution_count": 12,
   "metadata": {},
   "outputs": [
    {
     "data": {
      "text/plain": [
       "True"
      ]
     },
     "execution_count": 12,
     "metadata": {},
     "output_type": "execute_result"
    }
   ],
   "source": [
    "torch.allclose(F.relu(data.X),data.y)"
   ]
  },
  {
   "cell_type": "code",
   "execution_count": 13,
   "metadata": {},
   "outputs": [
    {
     "name": "stdout",
     "output_type": "stream",
     "text": [
      "Training the model in cpu\n"
     ]
    }
   ],
   "source": [
    "res = Residual(lr=0.03)\n",
    "trainer = helper.Trainer(max_epochs=10)"
   ]
  },
  {
   "cell_type": "code",
   "execution_count": 14,
   "metadata": {},
   "outputs": [
    {
     "data": {
      "application/vnd.jupyter.widget-view+json": {
       "model_id": "f74b88f9b019417cb260edf4d323eac8",
       "version_major": 2,
       "version_minor": 0
      },
      "text/plain": [
       "  0%|          | 0/10 [00:00<?, ?it/s]"
      ]
     },
     "metadata": {},
     "output_type": "display_data"
    },
    {
     "data": {
      "image/png": "[encoded data removed]",
      "text/plain": [
       "<Figure size 400x300 with 1 Axes>"
      ]
     },
     "metadata": {},
     "output_type": "display_data"
    }
   ],
   "source": [
    "trainer.fit(res,data)"
   ]
  },
  {
   "cell_type": "code",
   "execution_count": 15,
   "metadata": {},
   "outputs": [
    {
     "name": "stdout",
     "output_type": "stream",
     "text": [
      "noise_layer.0.weight Parameter containing:\n",
      "tensor([[-0.4676],\n",
      "        [-0.2032],\n",
      "        [-0.8954],\n",
      "        [-0.1689],\n",
      "        [-0.9690],\n",
      "        [-0.6708],\n",
      "        [-0.5688],\n",
      "        [ 0.4014],\n",
      "        [-0.6375],\n",
      "        [ 0.5674]], requires_grad=True)\n",
      "noise_layer.2.weight Parameter containing:\n",
      "tensor([[ 0.0597,  0.3019, -0.1658, -0.1326, -0.0522, -0.0325, -0.2789,  0.2128,\n",
      "         -0.0609,  0.0618],\n",
      "        [ 0.2704,  0.2937, -0.1443, -0.2433,  0.0167, -0.0329, -0.2423,  0.3003,\n",
      "         -0.1015, -0.2394],\n",
      "        [-0.1966, -0.2022, -0.2112,  0.2160,  0.0527, -0.1771,  0.1873, -0.1488,\n",
      "          0.2822,  0.2519],\n",
      "        [ 0.1060, -0.0610, -0.3143,  0.1091,  0.0350, -0.2749,  0.0736, -0.0350,\n",
      "          0.0996, -0.0687],\n",
      "        [ 0.0794,  0.0387,  0.1114,  0.1011, -0.1576, -0.0426, -0.2899,  0.1339,\n",
      "          0.1959, -0.2057],\n",
      "        [ 0.1963, -0.0471, -0.1845, -0.2244,  0.3122,  0.0983,  0.0527,  0.1432,\n",
      "         -0.0031,  0.1132],\n",
      "        [-0.0977, -0.1052,  0.2021, -0.0722, -0.0312, -0.2934, -0.2526,  0.2858,\n",
      "          0.0274,  0.0946],\n",
      "        [-0.1992, -0.1331, -0.0229, -0.0698, -0.1373,  0.2916, -0.2590, -0.1308,\n",
      "         -0.1822, -0.1669],\n",
      "        [ 0.2631,  0.0584, -0.1114,  0.3116, -0.2089,  0.2438, -0.0411,  0.1579,\n",
      "          0.1611, -0.1369],\n",
      "        [ 0.1071, -0.0017, -0.0146, -0.1215, -0.2686, -0.2355,  0.1733, -0.2350,\n",
      "          0.1091, -0.2646]], requires_grad=True)\n",
      "noise_layer.4.weight Parameter containing:\n",
      "tensor([[ 8.4269e-02,  2.7247e-01,  1.1452e-01, -2.7767e-01,  2.0216e-01,\n",
      "          5.2188e-03, -2.3939e-01,  2.1536e-01,  2.0177e-01,  1.0674e-01],\n",
      "        [-1.6765e-01,  1.0303e-01, -2.5505e-01,  2.9439e-01,  6.8118e-02,\n",
      "          8.8998e-02, -1.7226e-01,  1.1938e-01,  2.7599e-01, -1.3159e-01],\n",
      "        [-9.2623e-03, -2.1567e-01, -2.0709e-01,  5.9115e-02,  3.8821e-02,\n",
      "          6.3356e-02, -2.9281e-02,  2.0604e-01,  3.9610e-02,  2.1790e-01],\n",
      "        [ 9.1472e-02, -2.3910e-01,  2.7248e-01, -3.4355e-02, -1.8081e-01,\n",
      "         -1.5812e-01, -2.5797e-02,  3.1294e-01, -2.2525e-01, -3.1354e-01],\n",
      "        [ 2.6240e-01, -6.7142e-02, -1.4516e-01,  1.2197e-01, -1.4204e-01,\n",
      "          8.6586e-02, -2.1362e-01,  2.5225e-01,  3.0797e-01, -2.7524e-01],\n",
      "        [ 6.3661e-02,  1.6971e-01, -2.8567e-01,  1.6960e-01,  2.8380e-01,\n",
      "          3.1450e-01, -2.6473e-01, -1.6795e-01, -2.1082e-01, -2.0412e-01],\n",
      "        [ 4.9865e-02,  2.6913e-01,  1.1870e-01, -2.1842e-01,  2.6874e-01,\n",
      "          2.0338e-01, -2.0111e-01,  2.6588e-01,  3.2022e-02,  1.7842e-01],\n",
      "        [-2.4717e-02,  5.0318e-02, -1.6086e-01, -2.3126e-01, -2.5907e-01,\n",
      "         -2.3002e-01,  6.8450e-02,  2.6658e-01, -6.1801e-03, -2.6862e-01],\n",
      "        [-2.7643e-01, -2.0918e-01, -2.4346e-01,  2.7989e-01, -4.0506e-02,\n",
      "          1.1947e-02,  3.0942e-01,  2.1190e-01,  1.4208e-01,  9.8533e-02],\n",
      "        [ 2.6502e-01, -2.6603e-01,  2.4537e-01,  7.2154e-02,  1.5546e-01,\n",
      "          7.5081e-02,  2.0125e-01,  1.6388e-04, -1.9323e-01, -2.1853e-01]],\n",
      "       requires_grad=True)\n",
      "noise_layer.6.weight Parameter containing:\n",
      "tensor([[ 0.0524,  0.0408,  0.0144,  0.3046,  0.0377, -0.2921, -0.2749,  0.1421,\n",
      "         -0.3084, -0.1509],\n",
      "        [ 0.0496, -0.0512,  0.0240,  0.1338,  0.0275,  0.1075,  0.0730, -0.2626,\n",
      "          0.1673,  0.2505],\n",
      "        [ 0.0024,  0.1522, -0.0280, -0.2901,  0.0706, -0.1063, -0.2073,  0.0665,\n",
      "          0.0439,  0.1546],\n",
      "        [-0.0901,  0.2018,  0.2772,  0.3111, -0.0541,  0.2100, -0.1163,  0.1494,\n",
      "         -0.2419, -0.3133],\n",
      "        [-0.0253,  0.0563,  0.1163, -0.2304, -0.2716, -0.1496, -0.1054,  0.0317,\n",
      "          0.2596, -0.2325],\n",
      "        [-0.2480, -0.3023,  0.2602, -0.1915,  0.1043, -0.2562,  0.0651,  0.3152,\n",
      "          0.2765,  0.1347],\n",
      "        [ 0.0957,  0.2827, -0.0212, -0.2517, -0.3030, -0.0544,  0.1451, -0.0044,\n",
      "          0.1308, -0.2644],\n",
      "        [-0.1180, -0.1773, -0.0210,  0.2975, -0.2959, -0.1587,  0.1860, -0.0442,\n",
      "         -0.0293,  0.0061],\n",
      "        [-0.0510,  0.1599,  0.1819,  0.2506, -0.0759,  0.1581, -0.1352,  0.2058,\n",
      "          0.3026,  0.2880],\n",
      "        [ 0.1817,  0.0644,  0.1582,  0.2400, -0.0443,  0.2149,  0.2642, -0.0311,\n",
      "          0.0264, -0.1358]], requires_grad=True)\n",
      "noise_layer.8.weight Parameter containing:\n",
      "tensor([[ 0.2315, -0.0275, -0.1123, -0.0732,  0.0911,  0.1408,  0.0918, -0.0104,\n",
      "         -0.2340, -0.1157],\n",
      "        [ 0.1301,  0.0784,  0.1805, -0.0498,  0.1216,  0.2818,  0.1353, -0.0358,\n",
      "          0.1935, -0.1994],\n",
      "        [-0.2453,  0.0856, -0.1146,  0.0689, -0.1610,  0.1780,  0.2441,  0.0867,\n",
      "          0.1481,  0.1547],\n",
      "        [ 0.0162,  0.1793, -0.1108, -0.1694, -0.2474, -0.2483, -0.1100, -0.0319,\n",
      "          0.1213, -0.2188],\n",
      "        [ 0.2829,  0.1825,  0.2964, -0.1455, -0.1173, -0.3048, -0.1648,  0.1156,\n",
      "          0.1122,  0.3046],\n",
      "        [-0.0687,  0.0081, -0.0618,  0.2705,  0.2663,  0.3154,  0.0502,  0.0809,\n",
      "          0.2783, -0.1204],\n",
      "        [-0.2079, -0.3066, -0.3044,  0.1306,  0.1217,  0.1288, -0.0805,  0.2266,\n",
      "         -0.1479,  0.2107],\n",
      "        [-0.2016,  0.0597, -0.0580,  0.1728,  0.2876, -0.2411,  0.2120, -0.0043,\n",
      "         -0.1891,  0.0920],\n",
      "        [ 0.0399, -0.0867,  0.1098,  0.2649, -0.0307, -0.2182, -0.2093,  0.3043,\n",
      "          0.1564, -0.0288],\n",
      "        [ 0.0137, -0.2455, -0.3107, -0.0320,  0.0301,  0.1682, -0.2467, -0.2033,\n",
      "          0.1951,  0.2605]], requires_grad=True)\n",
      "final.weight Parameter containing:\n",
      "tensor([[-0.0061,  0.0985,  0.2371,  0.1331, -0.1281,  0.0012, -0.1411, -0.3020,\n",
      "          0.1959,  0.1704]], requires_grad=True)\n"
     ]
    }
   ],
   "source": [
    "for k,v in res.named_parameters():\n",
    "    print(k,v)"
   ]
  },
  {
   "attachments": {},
   "cell_type": "markdown",
   "metadata": {},
   "source": [
    "1. if identity mappings are optimal, the solvers may simply drive the weights of the multiple nonlinear layers toward zero to approach identity mappings\n",
    "2. They why Residual network perform better than the Hypo "
   ]
  },
  {
   "cell_type": "code",
   "execution_count": 16,
   "metadata": {},
   "outputs": [
    {
     "name": "stdout",
     "output_type": "stream",
     "text": [
      "noise_layer.0.weight Parameter containing:\n",
      "tensor([[ 0.1965],\n",
      "        [-0.0179],\n",
      "        [ 0.1580],\n",
      "        [-0.1793],\n",
      "        [-0.9090],\n",
      "        [ 0.1077],\n",
      "        [-0.5261],\n",
      "        [ 0.5974],\n",
      "        [ 0.9932],\n",
      "        [ 0.0812]], requires_grad=True)\n",
      "noise_layer.2.weight Parameter containing:\n",
      "tensor([[ 0.2224, -0.2535,  0.1933,  0.2666, -0.2765,  0.1257, -0.3146,  0.1698,\n",
      "         -0.1305,  0.2644],\n",
      "        [ 0.2530,  0.1958, -0.0180, -0.1088, -0.0711,  0.1759,  0.2812,  0.0791,\n",
      "          0.2229, -0.0270],\n",
      "        [-0.1866,  0.1924,  0.2592, -0.2777,  0.1355,  0.2695,  0.0611, -0.0306,\n",
      "          0.2984,  0.1795],\n",
      "        [-0.1281,  0.0553, -0.1967,  0.1523, -0.2011, -0.0150,  0.0322, -0.1056,\n",
      "          0.2918, -0.2206],\n",
      "        [ 0.0044, -0.0664,  0.0545, -0.2408, -0.2901, -0.1827,  0.2485, -0.1276,\n",
      "         -0.1405, -0.2019],\n",
      "        [ 0.0786,  0.2184,  0.0407, -0.1585, -0.0804, -0.2003, -0.1098, -0.2564,\n",
      "         -0.1633, -0.2400],\n",
      "        [ 0.0442, -0.3138, -0.2978, -0.3137, -0.1273, -0.1419, -0.2171, -0.2343,\n",
      "          0.0820, -0.0453],\n",
      "        [ 0.2803, -0.0753,  0.0475,  0.2269, -0.0624,  0.3161, -0.2645,  0.3080,\n",
      "          0.0775,  0.2446],\n",
      "        [-0.0755, -0.2274,  0.1375, -0.2200, -0.0210, -0.2908,  0.0236, -0.2814,\n",
      "          0.1150,  0.2115],\n",
      "        [ 0.2278, -0.0069,  0.0429,  0.0063,  0.2160, -0.1423,  0.0052,  0.1926,\n",
      "          0.0938,  0.2899]], requires_grad=True)\n",
      "noise_layer.4.weight Parameter containing:\n",
      "tensor([[ 0.1721, -0.0365,  0.1920, -0.0188,  0.2707, -0.2485,  0.2950,  0.0054,\n",
      "          0.0441,  0.0812],\n",
      "        [ 0.2295, -0.2646, -0.1233, -0.1676, -0.2477,  0.2868, -0.2050,  0.2927,\n",
      "         -0.2069, -0.1572],\n",
      "        [-0.3077,  0.2000, -0.2314, -0.2182, -0.0682, -0.0863, -0.1968,  0.0499,\n",
      "          0.0462,  0.1687],\n",
      "        [-0.1032,  0.2609, -0.0880,  0.1676,  0.0706, -0.1290,  0.1452,  0.2319,\n",
      "          0.0456, -0.1267],\n",
      "        [ 0.2971, -0.1202, -0.0441,  0.1525,  0.2968, -0.1217, -0.0601,  0.1590,\n",
      "          0.2073, -0.2269],\n",
      "        [ 0.0246, -0.2343, -0.0276, -0.1079, -0.1432,  0.0376,  0.0714, -0.1443,\n",
      "          0.0727, -0.0735],\n",
      "        [-0.0964, -0.2242,  0.0033, -0.1444,  0.1958, -0.0698, -0.0920,  0.1779,\n",
      "          0.0411,  0.2574],\n",
      "        [ 0.1030, -0.1122,  0.0480,  0.2382, -0.1406, -0.0882,  0.0302, -0.1420,\n",
      "         -0.1956, -0.2375],\n",
      "        [ 0.3005,  0.2386, -0.0855, -0.1391,  0.0340, -0.1196, -0.2504, -0.2507,\n",
      "          0.3103,  0.2993],\n",
      "        [ 0.1232,  0.1684,  0.2748, -0.1553, -0.3065,  0.0533, -0.0976,  0.0597,\n",
      "          0.2144, -0.2565]], requires_grad=True)\n",
      "noise_layer.6.weight Parameter containing:\n",
      "tensor([[ 0.2803, -0.3158, -0.1175,  0.0410, -0.1412, -0.0917, -0.2682, -0.1886,\n",
      "         -0.0246,  0.2005],\n",
      "        [-0.0433, -0.1717,  0.0148, -0.2632, -0.0309,  0.3022,  0.2043, -0.0597,\n",
      "         -0.2330, -0.1339],\n",
      "        [ 0.1789,  0.0590,  0.1176,  0.0105,  0.0097, -0.0385,  0.0567,  0.1772,\n",
      "          0.0449,  0.2449],\n",
      "        [-0.2907,  0.1855, -0.0896, -0.1282,  0.1568,  0.1632, -0.2602,  0.0401,\n",
      "         -0.0867,  0.1998],\n",
      "        [ 0.2426,  0.1713, -0.1342, -0.1373, -0.1107,  0.1070,  0.1938, -0.2837,\n",
      "         -0.0688, -0.0856],\n",
      "        [ 0.2936,  0.2131,  0.0882, -0.2763, -0.0991,  0.1307,  0.0516,  0.2530,\n",
      "         -0.1182,  0.1826],\n",
      "        [ 0.2681,  0.2937,  0.1398,  0.2428,  0.0918, -0.1438,  0.2900,  0.2722,\n",
      "          0.0465, -0.2159],\n",
      "        [-0.1800, -0.0777, -0.0608, -0.2093,  0.3107,  0.3117,  0.2883,  0.2703,\n",
      "          0.1808, -0.0337],\n",
      "        [ 0.2939, -0.1904, -0.1253, -0.1842, -0.0750,  0.0816, -0.2423, -0.1050,\n",
      "         -0.1347,  0.2899],\n",
      "        [ 0.0547,  0.2938,  0.1446,  0.1141, -0.0144,  0.1217,  0.1865, -0.2436,\n",
      "         -0.1130,  0.2364]], requires_grad=True)\n",
      "noise_layer.8.weight Parameter containing:\n",
      "tensor([[-0.2120, -0.0129, -0.1632,  0.1288,  0.1572, -0.1533,  0.2967,  0.0071,\n",
      "          0.2670, -0.1116],\n",
      "        [-0.2942,  0.2818, -0.1181,  0.1674,  0.1859,  0.1813, -0.2909,  0.1346,\n",
      "         -0.2812,  0.2967],\n",
      "        [ 0.0892, -0.1052, -0.0308, -0.2798,  0.0591, -0.1479, -0.1224, -0.0569,\n",
      "          0.1582,  0.2420],\n",
      "        [-0.1963, -0.2930,  0.2545, -0.2586,  0.1472,  0.0936,  0.1172,  0.1648,\n",
      "          0.2269, -0.2803],\n",
      "        [-0.1920,  0.2382,  0.1800,  0.2791,  0.2699,  0.2832,  0.2856, -0.0721,\n",
      "         -0.1150, -0.3030],\n",
      "        [ 0.1955,  0.0793,  0.2425, -0.1904, -0.0274, -0.1236,  0.0325, -0.1289,\n",
      "         -0.1952, -0.1770],\n",
      "        [-0.2975, -0.0641,  0.2924, -0.2744,  0.1766, -0.2305, -0.1293, -0.1763,\n",
      "         -0.0328,  0.2070],\n",
      "        [ 0.2611,  0.2927,  0.2256, -0.1073,  0.2374,  0.1328, -0.0799, -0.2771,\n",
      "         -0.0799, -0.0006],\n",
      "        [-0.1431,  0.0987, -0.1114,  0.1268,  0.2367,  0.1686, -0.2537,  0.2593,\n",
      "          0.2863, -0.2506],\n",
      "        [-0.2793,  0.0837, -0.0081, -0.0249, -0.2679, -0.2228, -0.0044,  0.0898,\n",
      "         -0.0783,  0.1664]], requires_grad=True)\n",
      "final.weight Parameter containing:\n",
      "tensor([[-0.1556,  0.0563, -0.1346,  0.1797, -0.1187, -0.2159, -0.0591, -0.2379,\n",
      "          0.2691,  0.3065]], requires_grad=True)\n"
     ]
    }
   ],
   "source": [
    "for k,v in hypo.named_parameters():\n",
    "    print(k,v)"
   ]
  },
  {
   "attachments": {},
   "cell_type": "markdown",
   "metadata": {},
   "source": [
    "In hypo , the solver have difficulty in approximating the identity function by multiplying non-Linear layer"
   ]
  },
  {
   "cell_type": "code",
   "execution_count": 19,
   "metadata": {},
   "outputs": [
    {
     "data": {
      "text/plain": [
       "================================================================================================\n",
       "Layer (type (var_name))                  Kernel Shape   Output Shape   Param #        Mult-Adds\n",
       "================================================================================================\n",
       "Hypo (Hypo)                              --             [32, 1]        --             --\n",
       "├─Sequential (noise_layer)               --             [32, 10]       --             --\n",
       "│    └─Linear (0)                        --             [32, 10]       10             320\n",
       "│    └─ReLU (1)                          --             [32, 10]       --             --\n",
       "│    └─Linear (2)                        --             [32, 10]       100            3,200\n",
       "│    └─ReLU (3)                          --             [32, 10]       --             --\n",
       "│    └─Linear (4)                        --             [32, 10]       100            3,200\n",
       "│    └─ReLU (5)                          --             [32, 10]       --             --\n",
       "│    └─Linear (6)                        --             [32, 10]       100            3,200\n",
       "│    └─ReLU (7)                          --             [32, 10]       --             --\n",
       "│    └─Linear (8)                        --             [32, 10]       100            3,200\n",
       "│    └─ReLU (9)                          --             [32, 10]       --             --\n",
       "├─Linear (final)                         --             [32, 1]        10             320\n",
       "================================================================================================\n",
       "Total params: 420\n",
       "Trainable params: 420\n",
       "Non-trainable params: 0\n",
       "Total mult-adds (M): 0.01\n",
       "================================================================================================\n",
       "Input size (MB): 0.00\n",
       "Forward/backward pass size (MB): 0.01\n",
       "Params size (MB): 0.00\n",
       "Estimated Total Size (MB): 0.01\n",
       "================================================================================================"
      ]
     },
     "execution_count": 19,
     "metadata": {},
     "output_type": "execute_result"
    }
   ],
   "source": [
    "torchinfo.summary(Hypo(),input_size=(32,1)  ,  col_width=14,depth=2,\n",
    "    col_names=[\"kernel_size\", \"output_size\", \"num_params\", \"mult_adds\"],\n",
    "    row_settings=[\"var_names\"],\n",
    ")"
   ]
  },
  {
   "cell_type": "code",
   "execution_count": 20,
   "metadata": {},
   "outputs": [
    {
     "data": {
      "text/plain": [
       "================================================================================================\n",
       "Layer (type (var_name))                  Kernel Shape   Output Shape   Param #        Mult-Adds\n",
       "================================================================================================\n",
       "Residual (Residual)                      --             [32, 1]        --             --\n",
       "├─Sequential (noise_layer)               --             [32, 10]       --             --\n",
       "│    └─Linear (0)                        --             [32, 10]       10             320\n",
       "│    └─ReLU (1)                          --             [32, 10]       --             --\n",
       "│    └─Linear (2)                        --             [32, 10]       100            3,200\n",
       "│    └─ReLU (3)                          --             [32, 10]       --             --\n",
       "│    └─Linear (4)                        --             [32, 10]       100            3,200\n",
       "│    └─ReLU (5)                          --             [32, 10]       --             --\n",
       "│    └─Linear (6)                        --             [32, 10]       100            3,200\n",
       "│    └─ReLU (7)                          --             [32, 10]       --             --\n",
       "│    └─Linear (8)                        --             [32, 10]       100            3,200\n",
       "│    └─ReLU (9)                          --             [32, 10]       --             --\n",
       "├─Linear (final)                         --             [32, 1]        10             320\n",
       "================================================================================================\n",
       "Total params: 420\n",
       "Trainable params: 420\n",
       "Non-trainable params: 0\n",
       "Total mult-adds (M): 0.01\n",
       "================================================================================================\n",
       "Input size (MB): 0.00\n",
       "Forward/backward pass size (MB): 0.01\n",
       "Params size (MB): 0.00\n",
       "Estimated Total Size (MB): 0.01\n",
       "================================================================================================"
      ]
     },
     "execution_count": 20,
     "metadata": {},
     "output_type": "execute_result"
    }
   ],
   "source": [
    "torchinfo.summary(Residual(),input_size=(32,1)  ,  col_width=14,depth=2,\n",
    "    col_names=[\"kernel_size\", \"output_size\", \"num_params\", \"mult_adds\"],\n",
    "    row_settings=[\"var_names\"],\n",
    ")"
   ]
  },
  {
   "cell_type": "code",
   "execution_count": null,
   "metadata": {},
   "outputs": [],
   "source": []
  }
 ],
 "metadata": {
  "kernelspec": {
   "display_name": "py310",
   "language": "python",
   "name": "python3"
  },
  "language_info": {
   "codemirror_mode": {
    "name": "ipython",
    "version": 3
   },
   "file_extension": ".py",
   "mimetype": "text/x-python",
   "name": "python",
   "nbconvert_exporter": "python",
   "pygments_lexer": "ipython3",
   "version": "3.10.6"
  },
  "orig_nbformat": 4,
  "vscode": {
   "interpreter": {
    "hash": "cf51ac970e033765f04eaa06b2d945d30ec4bd27f0fa0badbc17cd319e8357a7"
   }
  }
 },
 "nbformat": 4,
 "nbformat_minor": 2
}
