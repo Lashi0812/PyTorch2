{
 "cells": [
  {
   "cell_type": "code",
   "execution_count": 5,
   "metadata": {},
   "outputs": [],
   "source": [
    "# python libraries\n",
    "import os\n",
    "import sys\n",
    "import dataclasses\n",
    "from datetime import datetime\n",
    "from pathlib import Path\n",
    "from operator import methodcaller\n",
    "from collections import OrderedDict\n",
    "from dataclasses import dataclass\n",
    "from typing import (\n",
    "    List,\n",
    "    Tuple,\n",
    "    Dict,\n",
    "    Any,\n",
    "    Mapping,\n",
    "    Callable\n",
    ")\n",
    "from enum import Enum\n",
    "# adding the path\n",
    "if not str(Path(os.getcwd()).parent) in sys.path:\n",
    "    sys.path.append(str(Path(os.getcwd()).parent))\n",
    "\n",
    "# numpy\n",
    "import numpy as np\n",
    "\n",
    "# torch\n",
    "import torch\n",
    "from torch import nn\n",
    "from torch.nn import functional as F\n",
    "\n",
    "try:\n",
    "    from torchmetrics import Accuracy\n",
    "except:\n",
    "    print(f\"[INFO] Installing the torchmetrics\")\n",
    "    %pip install torchmetrics\n",
    "    from torchmetrics import Accuracy\n",
    "\n",
    "try:\n",
    "    import torchinfo\n",
    "except:\n",
    "    print(f\"[INFO] Installing the torchinfo\")\n",
    "    %pip install torchinfo\n",
    "    import torchinfo\n",
    "\n",
    "# helper function\n",
    "try:\n",
    "    import my_helper as helper\n",
    "except:\n",
    "    print(\"[INFO] Downloading the helper function from github\")\n",
    "    import requests\n",
    "    response = requests.get(\"https://raw.githubusercontent.com/Lashi0812/PyTorch2/master/my_helper.py\")\n",
    "    with open(\"my_helper.py\" ,\"wb\") as f:\n",
    "        f.write(response.content)\n",
    "    import my_helper as helper\n",
    "\n",
    "\n",
    "## Connect Persistence memory\n",
    "try :\n",
    "    from google.colab import drive\n",
    "\n",
    "    # Paths\n",
    "    DRIVE_PATH = Path(\"/content/drive\")\n",
    "    MODEL_SAVE_PATH = Path(\"/content/drive/Othercomputers/My PC/drive/models\")\n",
    "\n",
    "    # mount drive\n",
    "    drive.mount(str(DRIVE_PATH))\n",
    "except:\n",
    "    MODEL_SAVE_PATH = Path(os.getcwd())/\"models\"\n",
    "    \n",
    "device = \"cuda\" if torch.cuda.is_available() else \"cpu\""
   ]
  },
  {
   "attachments": {},
   "cell_type": "markdown",
   "metadata": {},
   "source": [
    "# Basic Conv"
   ]
  },
  {
   "cell_type": "code",
   "execution_count": 4,
   "metadata": {},
   "outputs": [],
   "source": [
    "class BasicConv2d(nn.Module):\n",
    "    def __init__(self,num_channels,**kwargs) -> None:\n",
    "        super().__init__()\n",
    "        self.bc = nn.Sequential(\n",
    "            nn.LazyConv2d(num_channels,**kwargs),\n",
    "            nn.LazyBatchNorm2d()\n",
    "        )\n",
    "    def forward(self,x):\n",
    "        return self.bc(x)\n",
    "        "
   ]
  },
  {
   "attachments": {},
   "cell_type": "markdown",
   "metadata": {},
   "source": [
    "# Residual Block"
   ]
  },
  {
   "cell_type": "code",
   "execution_count": 10,
   "metadata": {},
   "outputs": [],
   "source": [
    "class ResidualBlock(nn.Module):\n",
    "    def __init__(self,num_channels,use_1x1conv=False,stride=1) -> None:\n",
    "        super().__init__()\n",
    "        self.bc1 = BasicConv2d(num_channels,kernel_size=3,padding=1,stride=stride)\n",
    "        #? Stride is not applied on g(x) for second time\n",
    "        self.bc2 = BasicConv2d(num_channels,kernel_size=3,padding=1)\n",
    "        if use_1x1conv:\n",
    "            self.conv1x1 = nn.LazyConv2d(num_channels,kernel_size=1,padding=0,stride=stride)\n",
    "        else:\n",
    "            self.conv1x1 = None\n",
    "    \n",
    "    def forward(self,x):\n",
    "        y = F.relu(self.bc1(x))\n",
    "        y = self.bc2(y)\n",
    "        if self.conv1x1:\n",
    "            x = self.conv1x1(x)\n",
    "        y += x\n",
    "        return F.relu(y)"
   ]
  },
  {
   "cell_type": "code",
   "execution_count": 17,
   "metadata": {},
   "outputs": [
    {
     "data": {
      "text/plain": [
       "torch.Size([4, 3, 6, 6])"
      ]
     },
     "execution_count": 17,
     "metadata": {},
     "output_type": "execute_result"
    }
   ],
   "source": [
    "ResidualBlock(3)(torch.randn(4,3,6,6)).shape"
   ]
  },
  {
   "cell_type": "code",
   "execution_count": 13,
   "metadata": {},
   "outputs": [
    {
     "data": {
      "text/plain": [
       "torch.Size([4, 3, 6, 6])"
      ]
     },
     "execution_count": 13,
     "metadata": {},
     "output_type": "execute_result"
    }
   ],
   "source": [
    "ResidualBlock(3,use_1x1conv=True)(torch.randn(4,3,6,6)).shape"
   ]
  },
  {
   "cell_type": "code",
   "execution_count": 15,
   "metadata": {},
   "outputs": [
    {
     "name": "stderr",
     "output_type": "stream",
     "text": [
      "c:\\Users\\Lenovo\\anaconda3\\envs\\py310\\lib\\site-packages\\torch\\nn\\modules\\lazy.py:178: UserWarning: Lazy modules are a new feature under heavy development so changes to the API or functionality can happen at any moment.\n",
      "  warnings.warn('Lazy modules are a new feature under heavy development '\n"
     ]
    },
    {
     "data": {
      "text/plain": [
       "torch.Size([4, 3, 3, 3])"
      ]
     },
     "execution_count": 15,
     "metadata": {},
     "output_type": "execute_result"
    }
   ],
   "source": [
    "ResidualBlock(3,use_1x1conv=True,stride=2)(torch.randn(4,3,6,6)).shape"
   ]
  },
  {
   "attachments": {},
   "cell_type": "markdown",
   "metadata": {},
   "source": [
    "# ResNet"
   ]
  },
  {
   "cell_type": "code",
   "execution_count": 30,
   "metadata": {},
   "outputs": [],
   "source": [
    "class ResNet(helper.Classifier):\n",
    "    \n",
    "    def __init__(self,arch,lr=0.1,num_classes=10) -> None:\n",
    "        super().__init__()\n",
    "        self.arch = arch,\n",
    "        self.lr = lr\n",
    "        self.num_classes = num_classes\n",
    "        \n",
    "        self.net = nn.Sequential(self.b1())\n",
    "        for i,b in enumerate(arch):\n",
    "            self.net.add_module(f'{i+2}',self.block(*b,first_block=(i==0)))\n",
    "        self.net.add_module(\"last\",nn.Sequential(\n",
    "            nn.AdaptiveAvgPool2d((1,1)),nn.Flatten(),\n",
    "            nn.LazyLinear(num_classes)\n",
    "        ))\n",
    "    \n",
    "    def b1(self):\n",
    "        \"\"\"This much similar to VGG\"\"\"\n",
    "        return nn.Sequential(\n",
    "            nn.LazyConv2d(64,kernel_size=7,stride=2,padding=3),\n",
    "            nn.LazyBatchNorm2d(),nn.ReLU(),\n",
    "            nn.MaxPool2d(kernel_size=3,stride=2,padding=1)\n",
    "        )\n",
    "    \n",
    "    def block(self,num_residuals,num_channels,first_block=False):\n",
    "        blk = []\n",
    "        for i in range(num_residuals):\n",
    "            if i == 0 and not first_block:\n",
    "                blk.append(ResidualBlock(num_channels,use_1x1conv=True,stride=2))\n",
    "            else:\n",
    "                blk.append(ResidualBlock(num_channels))\n",
    "        return nn.Sequential(*blk)\n",
    "    \n",
    "    def init_resnet(self,module):\n",
    "        if isinstance(module,(nn.Linear,nn.Conv2d)):\n",
    "            nn.init.kaiming_normal_(module.weight)"
   ]
  },
  {
   "cell_type": "code",
   "execution_count": 32,
   "metadata": {},
   "outputs": [],
   "source": [
    "class ResNet18(ResNet):\n",
    "    def __init__(self, lr=0.1, num_classes=10) -> None:\n",
    "        super().__init__(((2,64),(2,128),(2,256),(2,512)), lr, num_classes)"
   ]
  },
  {
   "cell_type": "code",
   "execution_count": 29,
   "metadata": {},
   "outputs": [
    {
     "name": "stderr",
     "output_type": "stream",
     "text": [
      "c:\\Users\\Lenovo\\anaconda3\\envs\\py310\\lib\\site-packages\\torch\\nn\\modules\\lazy.py:178: UserWarning: Lazy modules are a new feature under heavy development so changes to the API or functionality can happen at any moment.\n",
      "  warnings.warn('Lazy modules are a new feature under heavy development '\n"
     ]
    },
    {
     "data": {
      "text/plain": [
       "==========================================================================================================\n",
       "Layer (type (var_name))                            Kernel Shape   Output Shape   Param #        Mult-Adds\n",
       "==========================================================================================================\n",
       "ResNet18 (ResNet18)                                --             [1, 10]        --             --\n",
       "├─Sequential (net)                                 --             [1, 10]        --             --\n",
       "│    └─Sequential (0)                              --             [1, 64, 56, 56] 3,328          40,140,928\n",
       "│    └─Sequential (2)                              --             [1, 64, 56, 56] 148,224        463,225,344\n",
       "│    └─Sequential (3)                              --             [1, 128, 28, 28] 525,952        411,544,576\n",
       "│    └─Sequential (4)                              --             [1, 256, 14, 14] 2,100,480      411,294,720\n",
       "│    └─Sequential (5)                              --             [1, 512, 7, 7] 8,395,264      411,171,328\n",
       "│    └─Sequential (last)                           --             [1, 10]        5,130          5,130\n",
       "==========================================================================================================\n",
       "Total params: 11,178,378\n",
       "Trainable params: 11,178,378\n",
       "Non-trainable params: 0\n",
       "Total mult-adds (G): 1.74\n",
       "==========================================================================================================\n",
       "Input size (MB): 0.20\n",
       "Forward/backward pass size (MB): 38.33\n",
       "Params size (MB): 44.71\n",
       "Estimated Total Size (MB): 83.25\n",
       "=========================================================================================================="
      ]
     },
     "execution_count": 29,
     "metadata": {},
     "output_type": "execute_result"
    }
   ],
   "source": [
    "torchinfo.summary(ResNet18(),input_size=(1,1,224,224)  ,  col_width=14,depth=2,\n",
    "    col_names=[\"kernel_size\", \"output_size\", \"num_params\", \"mult_adds\"],\n",
    "    row_settings=[\"var_names\"],\n",
    ")"
   ]
  },
  {
   "attachments": {},
   "cell_type": "markdown",
   "metadata": {},
   "source": [
    "# Training the model"
   ]
  },
  {
   "cell_type": "code",
   "execution_count": 33,
   "metadata": {},
   "outputs": [],
   "source": [
    "data = helper.FashionMNIST(batch_size=128,resize=(96,96))\n",
    "model = ResNet18(lr=0.01)\n",
    "model.apply_init([next(iter(data.train_dataloader()))[0]],model.init_resnet)\n"
   ]
  },
  {
   "cell_type": "code",
   "execution_count": 34,
   "metadata": {},
   "outputs": [
    {
     "name": "stdout",
     "output_type": "stream",
     "text": [
      "Training the model in cpu\n"
     ]
    }
   ],
   "source": [
    "trainer = helper.Trainer(max_epochs=3,model_save_path=MODEL_SAVE_PATH,verbose=True)"
   ]
  },
  {
   "cell_type": "code",
   "execution_count": 35,
   "metadata": {},
   "outputs": [
    {
     "name": "stdout",
     "output_type": "stream",
     "text": [
      "[INFO] Entering FIT\n",
      "[INFO] Entering Data Preparation\n",
      "[INFO] Entering Model Preparation\n",
      "[INFO] Entering Plot Preparation\n"
     ]
    },
    {
     "data": {
      "application/vnd.jupyter.widget-view+json": {
       "model_id": "4750252ddffc40428238f449cae68827",
       "version_major": 2,
       "version_minor": 0
      },
      "text/plain": [
       "  0%|          | 0/3 [00:00<?, ?it/s]"
      ]
     },
     "metadata": {},
     "output_type": "display_data"
    },
    {
     "name": "stdout",
     "output_type": "stream",
     "text": [
      "[INFO] Start Fitting per epoch\n",
      "\tBatch 0\\469 - Training Loss 4.033375263214111\n"
     ]
    },
    {
     "ename": "KeyboardInterrupt",
     "evalue": "",
     "output_type": "error",
     "traceback": [
      "\u001b[1;31m---------------------------------------------------------------------------\u001b[0m",
      "\u001b[1;31mKeyboardInterrupt\u001b[0m                         Traceback (most recent call last)",
      "\u001b[1;32mc:\\Users\\Lenovo\\DataspellProjects\\PyTorch2\\04_CNN\\ResNet.ipynb Cell 16\u001b[0m in \u001b[0;36m1\n\u001b[1;32m----> <a href='vscode-notebook-cell:/c%3A/Users/Lenovo/DataspellProjects/PyTorch2/04_CNN/ResNet.ipynb#X21sZmlsZQ%3D%3D?line=0'>1</a>\u001b[0m trainer\u001b[39m.\u001b[39;49mfit(model,data)\n",
      "File \u001b[1;32mc:\\Users\\Lenovo\\DataspellProjects\\PyTorch2\\my_helper.py:234\u001b[0m, in \u001b[0;36mTrainer.fit\u001b[1;34m(self, model, data)\u001b[0m\n\u001b[0;32m    232\u001b[0m \u001b[39melse\u001b[39;00m:\n\u001b[0;32m    233\u001b[0m     \u001b[39mfor\u001b[39;00m epoch \u001b[39min\u001b[39;00m tqdm(\u001b[39mrange\u001b[39m(\u001b[39mself\u001b[39m\u001b[39m.\u001b[39mmax_epochs)):\n\u001b[1;32m--> 234\u001b[0m         \u001b[39mself\u001b[39;49m\u001b[39m.\u001b[39;49mfit_epoch()\n\u001b[0;32m    235\u001b[0m         \u001b[39mif\u001b[39;00m \u001b[39mself\u001b[39m\u001b[39m.\u001b[39mverbose:\n\u001b[0;32m    236\u001b[0m             \u001b[39mprint\u001b[39m(\u001b[39mf\u001b[39m\u001b[39m'\u001b[39m\u001b[39mAt end Epoch \u001b[39m\u001b[39m{\u001b[39;00mepoch\u001b[39m}\u001b[39;00m\u001b[39m\\\u001b[39m\u001b[39m{\u001b[39;00m\u001b[39mself\u001b[39m\u001b[39m.\u001b[39mmax_epochs\u001b[39m}\u001b[39;00m\u001b[39m  - Training Loss \u001b[39m\u001b[39m{\u001b[39;00m\u001b[39mself\u001b[39m\u001b[39m.\u001b[39mhistory[\u001b[39m\"\u001b[39m\u001b[39mtrain_loss\u001b[39m\u001b[39m\"\u001b[39m][\u001b[39m-\u001b[39m\u001b[39m1\u001b[39m]\u001b[39m}\u001b[39;00m\u001b[39m|\u001b[39m\u001b[39m\\\u001b[39;00m\n\u001b[0;32m    237\u001b[0m \u001b[39m                Validation Loss \u001b[39m\u001b[39m{\u001b[39;00m\u001b[39mself\u001b[39m\u001b[39m.\u001b[39mhistory[\u001b[39m\"\u001b[39m\u001b[39mval_loss\u001b[39m\u001b[39m\"\u001b[39m][\u001b[39m-\u001b[39m\u001b[39m1\u001b[39m]\u001b[39m}\u001b[39;00m\u001b[39m'\u001b[39m)\n",
      "File \u001b[1;32mc:\\Users\\Lenovo\\DataspellProjects\\PyTorch2\\my_helper.py:250\u001b[0m, in \u001b[0;36mTrainer.fit_epoch\u001b[1;34m(self)\u001b[0m\n\u001b[0;32m    248\u001b[0m     \u001b[39mprint\u001b[39m(\u001b[39mf\u001b[39m\u001b[39m\"\u001b[39m\u001b[39m[INFO] Start Fitting per epoch\u001b[39m\u001b[39m\"\u001b[39m)\n\u001b[0;32m    249\u001b[0m \u001b[39m# do the training step\u001b[39;00m\n\u001b[1;32m--> 250\u001b[0m \u001b[39mself\u001b[39;49m\u001b[39m.\u001b[39;49mtrain_step()\n\u001b[0;32m    251\u001b[0m \u001b[39mif\u001b[39;00m \u001b[39mself\u001b[39m\u001b[39m.\u001b[39mval_dataloader \u001b[39mis\u001b[39;00m \u001b[39mNone\u001b[39;00m:\n\u001b[0;32m    252\u001b[0m     \u001b[39mreturn\u001b[39;00m\n",
      "File \u001b[1;32mc:\\Users\\Lenovo\\DataspellProjects\\PyTorch2\\my_helper.py:272\u001b[0m, in \u001b[0;36mTrainer.train_step\u001b[1;34m(self)\u001b[0m\n\u001b[0;32m    269\u001b[0m \u001b[39mself\u001b[39m\u001b[39m.\u001b[39moptim\u001b[39m.\u001b[39mzero_grad()\n\u001b[0;32m    270\u001b[0m \u001b[39mwith\u001b[39;00m torch\u001b[39m.\u001b[39mno_grad():\n\u001b[0;32m    271\u001b[0m     \u001b[39m# back propagate the loss\u001b[39;00m\n\u001b[1;32m--> 272\u001b[0m     loss\u001b[39m.\u001b[39;49mbackward()\n\u001b[0;32m    273\u001b[0m     \u001b[39mself\u001b[39m\u001b[39m.\u001b[39moptim\u001b[39m.\u001b[39mstep()\n\u001b[0;32m    274\u001b[0m \u001b[39mif\u001b[39;00m \u001b[39mself\u001b[39m\u001b[39m.\u001b[39mverbose \u001b[39mand\u001b[39;00m batch_idx \u001b[39m%\u001b[39m (\u001b[39mself\u001b[39m\u001b[39m.\u001b[39mnum_train_batches\u001b[39m/\u001b[39m\u001b[39m/\u001b[39m\u001b[39m5\u001b[39m) \u001b[39m==\u001b[39m \u001b[39m0\u001b[39m:\n",
      "File \u001b[1;32mc:\\Users\\Lenovo\\anaconda3\\envs\\py310\\lib\\site-packages\\torch\\_tensor.py:396\u001b[0m, in \u001b[0;36mTensor.backward\u001b[1;34m(self, gradient, retain_graph, create_graph, inputs)\u001b[0m\n\u001b[0;32m    387\u001b[0m \u001b[39mif\u001b[39;00m has_torch_function_unary(\u001b[39mself\u001b[39m):\n\u001b[0;32m    388\u001b[0m     \u001b[39mreturn\u001b[39;00m handle_torch_function(\n\u001b[0;32m    389\u001b[0m         Tensor\u001b[39m.\u001b[39mbackward,\n\u001b[0;32m    390\u001b[0m         (\u001b[39mself\u001b[39m,),\n\u001b[1;32m   (...)\u001b[0m\n\u001b[0;32m    394\u001b[0m         create_graph\u001b[39m=\u001b[39mcreate_graph,\n\u001b[0;32m    395\u001b[0m         inputs\u001b[39m=\u001b[39minputs)\n\u001b[1;32m--> 396\u001b[0m torch\u001b[39m.\u001b[39;49mautograd\u001b[39m.\u001b[39;49mbackward(\u001b[39mself\u001b[39;49m, gradient, retain_graph, create_graph, inputs\u001b[39m=\u001b[39;49minputs)\n",
      "File \u001b[1;32mc:\\Users\\Lenovo\\anaconda3\\envs\\py310\\lib\\site-packages\\torch\\autograd\\__init__.py:173\u001b[0m, in \u001b[0;36mbackward\u001b[1;34m(tensors, grad_tensors, retain_graph, create_graph, grad_variables, inputs)\u001b[0m\n\u001b[0;32m    168\u001b[0m     retain_graph \u001b[39m=\u001b[39m create_graph\n\u001b[0;32m    170\u001b[0m \u001b[39m# The reason we repeat same the comment below is that\u001b[39;00m\n\u001b[0;32m    171\u001b[0m \u001b[39m# some Python versions print out the first line of a multi-line function\u001b[39;00m\n\u001b[0;32m    172\u001b[0m \u001b[39m# calls in the traceback and some print out the last line\u001b[39;00m\n\u001b[1;32m--> 173\u001b[0m Variable\u001b[39m.\u001b[39;49m_execution_engine\u001b[39m.\u001b[39;49mrun_backward(  \u001b[39m# Calls into the C++ engine to run the backward pass\u001b[39;49;00m\n\u001b[0;32m    174\u001b[0m     tensors, grad_tensors_, retain_graph, create_graph, inputs,\n\u001b[0;32m    175\u001b[0m     allow_unreachable\u001b[39m=\u001b[39;49m\u001b[39mTrue\u001b[39;49;00m, accumulate_grad\u001b[39m=\u001b[39;49m\u001b[39mTrue\u001b[39;49;00m)\n",
      "\u001b[1;31mKeyboardInterrupt\u001b[0m: "
     ]
    },
    {
     "data": {
      "image/png": "[encoded data removed]",
      "text/plain": [
       "<Figure size 800x300 with 2 Axes>"
      ]
     },
     "metadata": {},
     "output_type": "display_data"
    }
   ],
   "source": [
    "trainer.fit(model,data)"
   ]
  },
  {
   "cell_type": "code",
   "execution_count": null,
   "metadata": {},
   "outputs": [],
   "source": []
  }
 ],
 "metadata": {
  "kernelspec": {
   "display_name": "py310",
   "language": "python",
   "name": "python3"
  },
  "language_info": {
   "codemirror_mode": {
    "name": "ipython",
    "version": 3
   },
   "file_extension": ".py",
   "mimetype": "text/x-python",
   "name": "python",
   "nbconvert_exporter": "python",
   "pygments_lexer": "ipython3",
   "version": "3.10.6"
  },
  "orig_nbformat": 4,
  "vscode": {
   "interpreter": {
    "hash": "cf51ac970e033765f04eaa06b2d945d30ec4bd27f0fa0badbc17cd319e8357a7"
   }
  }
 },
 "nbformat": 4,
 "nbformat_minor": 2
}
