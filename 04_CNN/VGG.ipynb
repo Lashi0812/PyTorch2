{
 "cells": [
  {
   "cell_type": "code",
   "execution_count": 1,
   "metadata": {},
   "outputs": [],
   "source": [
    "# python libraries\n",
    "import os\n",
    "import sys\n",
    "from pathlib import Path\n",
    "from operator import methodcaller\n",
    "from collections import OrderedDict\n",
    "import dataclasses\n",
    "from dataclasses import dataclass\n",
    "from typing import (\n",
    "    List,\n",
    "    Tuple,\n",
    "    Dict,\n",
    "    Any,\n",
    "    Mapping\n",
    ")\n",
    "from enum import Enum\n",
    "# adding the path\n",
    "if not str(Path(os.getcwd()).parent) in sys.path:\n",
    "    sys.path.append(str(Path(os.getcwd()).parent))\n",
    "\n",
    "# numpy\n",
    "import numpy as np\n",
    "\n",
    "# torch\n",
    "import torch\n",
    "import torchvision\n",
    "from torch import nn\n",
    "from torchvision import (\n",
    "    transforms,\n",
    "    datasets\n",
    "    )\n",
    "from torch.utils.data import DataLoader\n",
    "\n",
    "try:\n",
    "    from torchmetrics import Accuracy\n",
    "except:\n",
    "    print(f\"[INFO] Installing the torchmetrics\")\n",
    "    %pip install torchmetrics\n",
    "    from torchmetrics import Accuracy\n",
    "\n",
    "# helper function\n",
    "try:\n",
    "    import my_helper as helper\n",
    "except:\n",
    "    print(\"[INFO] Downloading the helper function from github\")\n",
    "    import requests\n",
    "    response = requests.get(\"https://raw.githubusercontent.com/Lashi0812/PyTorch2/master/my_helper.py\")\n",
    "    with open(\"my_helper.py\" ,\"wb\") as f:\n",
    "        f.write(response.content)\n",
    "    import my_helper as helper"
   ]
  },
  {
   "attachments": {},
   "cell_type": "markdown",
   "metadata": {},
   "source": [
    "# VGG Network"
   ]
  },
  {
   "cell_type": "code",
   "execution_count": 16,
   "metadata": {},
   "outputs": [],
   "source": [
    "layer_arch = Tuple[int,int]\n",
    "\n",
    "@dataclass(eq=False)\n",
    "class VGG(helper.Classifier):\n",
    "    arch:Tuple[layer_arch]\n",
    "    lr:int = 0.01\n",
    "    num_classes:int =10\n",
    "\n",
    "    def  __post_init__(self):\n",
    "        super().__init__()\n",
    "        conv_blocks = []\n",
    "        for num_convs,out_channels in self.arch:\n",
    "            conv_blocks.append(self.vgg_block(num_convs,out_channels))\n",
    "        self.net = nn.Sequential(\n",
    "            *conv_blocks,nn.Flatten(),\n",
    "            nn.LazyLinear(4096),nn.ReLU(),nn.Dropout(0.5),\n",
    "            nn.LazyLinear(4096),nn.ReLU(),nn.Dropout(0.5),\n",
    "            nn.LazyLinear(self.num_classes)\n",
    "        )\n",
    "        \n",
    "\n",
    "    @staticmethod\n",
    "    def vgg_block(num_convs,out_channels):\n",
    "        layers = []\n",
    "        for _ in range(num_convs):\n",
    "            layers.append(nn.LazyConv2d(out_channels,kernel_size=3,padding=1))\n",
    "            layers.append(nn.ReLU())\n",
    "        layers.append(nn.MaxPool2d(kernel_size=2,stride=2))\n",
    "        return nn.Sequential(*layers)\n",
    "\n",
    "    \n",
    "    @staticmethod\n",
    "    def init_vgg(module):\n",
    "        if isinstance(module,nn.Linear|nn.Conv2d):\n",
    "            nn.init.kaiming_normal_(module.weight)\n"
   ]
  },
  {
   "cell_type": "code",
   "execution_count": 17,
   "metadata": {},
   "outputs": [
    {
     "name": "stdout",
     "output_type": "stream",
     "text": [
      "Sequential      output shape :(1, 64, 112, 112)\n",
      "Sequential      output shape :(1, 128, 56, 56)\n",
      "Sequential      output shape :(1, 256, 28, 28)\n",
      "Sequential      output shape :(1, 512, 14, 14)\n",
      "Sequential      output shape :(1, 512, 7, 7)\n",
      "Flatten         output shape :(1, 25088)\n",
      "Linear          output shape :(1, 4096)\n",
      "ReLU            output shape :(1, 4096)\n",
      "Dropout         output shape :(1, 4096)\n",
      "Linear          output shape :(1, 4096)\n",
      "ReLU            output shape :(1, 4096)\n",
      "Dropout         output shape :(1, 4096)\n",
      "Linear          output shape :(1, 10)\n"
     ]
    }
   ],
   "source": [
    "arch = ((1,64),(1,128),(2,256),(2,512),(2,512))\n",
    "VGG(arch).layer_summary((1,1,224,224))"
   ]
  },
  {
   "cell_type": "code",
   "execution_count": 25,
   "metadata": {},
   "outputs": [
    {
     "name": "stderr",
     "output_type": "stream",
     "text": [
      "c:\\Users\\Lenovo\\anaconda3\\envs\\py310\\lib\\site-packages\\torch\\nn\\modules\\lazy.py:178: UserWarning: Lazy modules are a new feature under heavy development so changes to the API or functionality can happen at any moment.\n",
      "  warnings.warn('Lazy modules are a new feature under heavy development '\n"
     ]
    },
    {
     "name": "stdout",
     "output_type": "stream",
     "text": [
      "Training the model in cpu\n"
     ]
    },
    {
     "data": {
      "application/vnd.jupyter.widget-view+json": {
       "model_id": "3d060bc747c34c8a9f1fcf90dca1f2a6",
       "version_major": 2,
       "version_minor": 0
      },
      "text/plain": [
       "  0%|          | 0/1 [00:00<?, ?it/s]"
      ]
     },
     "metadata": {},
     "output_type": "display_data"
    }
   ],
   "source": [
    "# Training process is not same as original paper\n",
    "\n",
    "#? they start 1st conv block with 64 here we start with 16\n",
    "arch = ((1,16),(1,32),(2,64),(2,128),(2,128))\n",
    "\n",
    "#? we use the same learning rate as in the original paper , \n",
    "#? we didn't use the momentum and weight decay\n",
    "model = VGG(arch,lr=0.01)\n",
    "\n",
    "#? data we use is Fashion mnist\n",
    "#? batch we reduce 128 original paper use the 256\n",
    "#? there is not transform such horizontal flip\n",
    "#? we didn't use the different scale for training image.\n",
    "data = helper.FashionMNIST(batch_size=128,resize=(224,224))\n",
    "\n",
    "#? training done with 10 epoch original they trained for 74 epoch\n",
    "trainer = helper.Trainer(max_epochs=1)\n",
    "\n",
    "#? Initialization is totally different \n",
    "#? original paper use the different initialization for mostly pertained from the shallow model\n",
    "model.apply_init([next(iter(data.train_dataloader()))[0]],model.init_vgg)\n",
    "\n",
    "trainer.fit(model,data)"
   ]
  },
  {
   "cell_type": "code",
   "execution_count": null,
   "metadata": {},
   "outputs": [],
   "source": []
  },
  {
   "cell_type": "code",
   "execution_count": null,
   "metadata": {},
   "outputs": [],
   "source": []
  },
  {
   "cell_type": "code",
   "execution_count": 18,
   "metadata": {},
   "outputs": [
    {
     "ename": "NameError",
     "evalue": "name 'model' is not defined",
     "output_type": "error",
     "traceback": [
      "\u001b[1;31m---------------------------------------------------------------------------\u001b[0m",
      "\u001b[1;31mNameError\u001b[0m                                 Traceback (most recent call last)",
      "Cell \u001b[1;32mIn [18], line 1\u001b[0m\n\u001b[1;32m----> 1\u001b[0m model\u001b[39m.\u001b[39minit_vgg\n",
      "\u001b[1;31mNameError\u001b[0m: name 'model' is not defined"
     ]
    }
   ],
   "source": []
  },
  {
   "cell_type": "code",
   "execution_count": null,
   "metadata": {},
   "outputs": [],
   "source": []
  }
 ],
 "metadata": {
  "kernelspec": {
   "display_name": "py310",
   "language": "python",
   "name": "python3"
  },
  "language_info": {
   "codemirror_mode": {
    "name": "ipython",
    "version": 3
   },
   "file_extension": ".py",
   "mimetype": "text/x-python",
   "name": "python",
   "nbconvert_exporter": "python",
   "pygments_lexer": "ipython3",
   "version": "3.10.6"
  },
  "orig_nbformat": 4,
  "vscode": {
   "interpreter": {
    "hash": "cf51ac970e033765f04eaa06b2d945d30ec4bd27f0fa0badbc17cd319e8357a7"
   }
  }
 },
 "nbformat": 4,
 "nbformat_minor": 2
}
