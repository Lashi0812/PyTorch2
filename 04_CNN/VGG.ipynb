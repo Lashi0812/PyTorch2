{
  "cells": [
    {
      "cell_type": "code",
      "execution_count": 21,
      "metadata": {
        "colab": {
          "base_uri": "https://localhost:8080/"
        },
        "id": "J2Z4ciVOFJqL",
        "outputId": "d7bbebe3-14ab-4a19-afe3-2743352c07e1"
      },
      "outputs": [],
      "source": [
        "# python libraries\n",
        "import os\n",
        "import sys\n",
        "import dataclasses\n",
        "import datetime\n",
        "from pathlib import Path\n",
        "from operator import methodcaller\n",
        "from collections import OrderedDict\n",
        "from dataclasses import dataclass\n",
        "from typing import (\n",
        "    List,\n",
        "    Tuple,\n",
        "    Dict,\n",
        "    Any,\n",
        "    Mapping\n",
        ")\n",
        "from enum import Enum\n",
        "# adding the path\n",
        "if not str(Path(os.getcwd()).parent) in sys.path:\n",
        "    sys.path.append(str(Path(os.getcwd()).parent))\n",
        "\n",
        "# numpy\n",
        "import numpy as np\n",
        "\n",
        "# torch\n",
        "import torch\n",
        "import torchvision\n",
        "from torch import nn\n",
        "from torchvision import (\n",
        "    transforms,\n",
        "    datasets\n",
        "    )\n",
        "from torch.utils.data import DataLoader\n",
        "\n",
        "try:\n",
        "    from torchmetrics import Accuracy\n",
        "except:\n",
        "    print(f\"[INFO] Installing the torchmetrics\")\n",
        "    %pip install torchmetrics\n",
        "    from torchmetrics import Accuracy\n",
        "\n",
        "try:\n",
        "    import torchsummary\n",
        "except:\n",
        "    print(f\"[INFO] Installing the torchsummary\")\n",
        "    %pip install torchsummary\n",
        "\n",
        "# helper function\n",
        "try:\n",
        "    import my_helper as helper\n",
        "except:\n",
        "    print(\"[INFO] Downloading the helper function from github\")\n",
        "    import requests\n",
        "    response = requests.get(\"https://raw.githubusercontent.com/Lashi0812/PyTorch2/master/my_helper.py\")\n",
        "    with open(\"my_helper.py\" ,\"wb\") as f:\n",
        "        f.write(response.content)\n",
        "    import my_helper as helper"
      ]
    },
    {
      "cell_type": "code",
      "execution_count": 22,
      "metadata": {
        "id": "C11UOmnzLapS"
      },
      "outputs": [],
      "source": [
        "## Connect Presistence memory\n",
        "try :\n",
        "    from google.colab import drive\n",
        "\n",
        "    # Paths\n",
        "    DRIVE_PATH = Path(\"/content/drive\")\n",
        "    MODEL_SAVE_PATH = Path(\"/content/drive/Othercomputers/My PC/drive/models\")\n",
        "\n",
        "    # mount drive\n",
        "    drive.mount(str(DRIVE_PATH))\n",
        "    WHERE_I_AM = \"colab\"\n",
        "except:\n",
        "    WHERE_I_AM = \"my_pc\"\n",
        "    MODEL_SAVE_PATH = Path(os.getcwd())/\"models\""
      ]
    },
    {
      "cell_type": "markdown",
      "metadata": {
        "id": "KIKnUcrXFJqU"
      },
      "source": [
        "# VGG Network"
      ]
    },
    {
      "cell_type": "code",
      "execution_count": 23,
      "metadata": {
        "id": "XKBSTJBlFJqZ"
      },
      "outputs": [],
      "source": [
        "layer_arch = Tuple[int,int]\n",
        "\n",
        "@dataclass(eq=False)\n",
        "class VGG(helper.Classifier):\n",
        "    arch:Tuple[layer_arch]\n",
        "    lr:int = 0.01\n",
        "    num_classes:int =10\n",
        "\n",
        "    def  __post_init__(self):\n",
        "        super().__init__()\n",
        "        conv_blocks = []\n",
        "        for num_convs,out_channels in self.arch:\n",
        "            conv_blocks.append(self.vgg_block(num_convs,out_channels))\n",
        "        self.net = nn.Sequential(\n",
        "            *conv_blocks,nn.Flatten(),\n",
        "            nn.LazyLinear(4096),nn.ReLU(),nn.Dropout(0.5),\n",
        "            nn.LazyLinear(4096),nn.ReLU(),nn.Dropout(0.5),\n",
        "            nn.LazyLinear(self.num_classes)\n",
        "        )\n",
        "        \n",
        "\n",
        "    @staticmethod\n",
        "    def vgg_block(num_convs,out_channels):\n",
        "        layers = []\n",
        "        for _ in range(num_convs):\n",
        "            layers.append(nn.LazyConv2d(out_channels,kernel_size=3,padding=1))\n",
        "            layers.append(nn.ReLU())\n",
        "        layers.append(nn.MaxPool2d(kernel_size=2,stride=2))\n",
        "        return nn.Sequential(*layers)\n",
        "\n",
        "    \n",
        "    @staticmethod\n",
        "    def init_vgg(module):\n",
        "        if isinstance(module,(nn.Linear,nn.Conv2d)):\n",
        "            nn.init.kaiming_normal_(module.weight)\n"
      ]
    },
    {
      "cell_type": "code",
      "execution_count": 24,
      "metadata": {
        "colab": {
          "base_uri": "https://localhost:8080/"
        },
        "id": "Vz02hno4FJqc",
        "outputId": "824d1663-d0ae-4d1d-9d83-c02ab3f3a109"
      },
      "outputs": [
        {
          "name": "stderr",
          "output_type": "stream",
          "text": [
            "c:\\Users\\Lenovo\\anaconda3\\envs\\py310\\lib\\site-packages\\torch\\nn\\modules\\lazy.py:178: UserWarning: Lazy modules are a new feature under heavy development so changes to the API or functionality can happen at any moment.\n",
            "  warnings.warn('Lazy modules are a new feature under heavy development '\n"
          ]
        },
        {
          "name": "stdout",
          "output_type": "stream",
          "text": [
            "Sequential      output shape :(1, 64, 112, 112)\n",
            "Sequential      output shape :(1, 128, 56, 56)\n",
            "Sequential      output shape :(1, 256, 28, 28)\n",
            "Sequential      output shape :(1, 512, 14, 14)\n",
            "Sequential      output shape :(1, 512, 7, 7)\n",
            "Flatten         output shape :(1, 25088)\n",
            "Linear          output shape :(1, 4096)\n",
            "ReLU            output shape :(1, 4096)\n",
            "Dropout         output shape :(1, 4096)\n",
            "Linear          output shape :(1, 4096)\n",
            "ReLU            output shape :(1, 4096)\n",
            "Dropout         output shape :(1, 4096)\n",
            "Linear          output shape :(1, 10)\n"
          ]
        }
      ],
      "source": [
        "arch = ((1,64),(1,128),(2,256),(2,512),(2,512))\n",
        "VGG(arch).layer_summary((1,1,224,224))"
      ]
    },
    {
      "cell_type": "code",
      "execution_count": 27,
      "metadata": {},
      "outputs": [
        {
          "name": "stdout",
          "output_type": "stream",
          "text": [
            "----------------------------------------------------------------\n",
            "        Layer (type)               Output Shape         Param #\n",
            "================================================================\n",
            "            Conv2d-1         [-1, 64, 224, 224]             640\n",
            "              ReLU-2         [-1, 64, 224, 224]               0\n",
            "         MaxPool2d-3         [-1, 64, 112, 112]               0\n",
            "            Conv2d-4        [-1, 128, 112, 112]          73,856\n",
            "              ReLU-5        [-1, 128, 112, 112]               0\n",
            "         MaxPool2d-6          [-1, 128, 56, 56]               0\n",
            "            Conv2d-7          [-1, 256, 56, 56]         295,168\n",
            "              ReLU-8          [-1, 256, 56, 56]               0\n",
            "            Conv2d-9          [-1, 256, 56, 56]         590,080\n",
            "             ReLU-10          [-1, 256, 56, 56]               0\n",
            "        MaxPool2d-11          [-1, 256, 28, 28]               0\n",
            "           Conv2d-12          [-1, 512, 28, 28]       1,180,160\n",
            "             ReLU-13          [-1, 512, 28, 28]               0\n",
            "           Conv2d-14          [-1, 512, 28, 28]       2,359,808\n",
            "             ReLU-15          [-1, 512, 28, 28]               0\n",
            "        MaxPool2d-16          [-1, 512, 14, 14]               0\n",
            "           Conv2d-17          [-1, 512, 14, 14]       2,359,808\n",
            "             ReLU-18          [-1, 512, 14, 14]               0\n",
            "           Conv2d-19          [-1, 512, 14, 14]       2,359,808\n",
            "             ReLU-20          [-1, 512, 14, 14]               0\n",
            "        MaxPool2d-21            [-1, 512, 7, 7]               0\n",
            "          Flatten-22                [-1, 25088]               0\n",
            "           Linear-23                 [-1, 4096]     102,764,544\n",
            "             ReLU-24                 [-1, 4096]               0\n",
            "          Dropout-25                 [-1, 4096]               0\n",
            "           Linear-26                 [-1, 4096]      16,781,312\n",
            "             ReLU-27                 [-1, 4096]               0\n",
            "          Dropout-28                 [-1, 4096]               0\n",
            "           Linear-29                   [-1, 10]          40,970\n",
            "================================================================\n",
            "Total params: 128,806,154\n",
            "Trainable params: 128,806,154\n",
            "Non-trainable params: 0\n",
            "----------------------------------------------------------------\n",
            "Input size (MB): 0.19\n",
            "Forward/backward pass size (MB): 125.37\n",
            "Params size (MB): 491.36\n",
            "Estimated Total Size (MB): 616.92\n",
            "----------------------------------------------------------------\n"
          ]
        }
      ],
      "source": [
        "torchsummary.summary(VGG(arch),input_size=(1,224,224))"
      ]
    },
    {
      "cell_type": "code",
      "execution_count": 35,
      "metadata": {
        "colab": {
          "base_uri": "https://localhost:8080/",
          "height": 290,
          "referenced_widgets": [
            "f1970d2864cf46e9b5bf43a1bce6df74",
            "389158b230ad4793952a77848a9ac409",
            "523789606a6b4de384c748c788a0ec78",
            "bebfede3b4894319a28cca579e02ec54",
            "985f794614ea48d2bea80131cee2bc1a",
            "7485e9a888c44ca0af64598161389ec5",
            "0c6fcc73f2f148eba8dc2dc681258581",
            "7341c639f31f4ade97ed1c9b6a6353bb",
            "049ce005d63a46938432c85696e3c691",
            "c7288cdcf0d04cf39388231af036eb5e",
            "45474e0c490147a6856d217fb3f1ebf5"
          ]
        },
        "id": "F3ltHoZRFJqg",
        "outputId": "1ed99323-19d0-4b2e-cc75-4ed0954a1004"
      },
      "outputs": [
        {
          "name": "stderr",
          "output_type": "stream",
          "text": [
            "c:\\Users\\Lenovo\\anaconda3\\envs\\py310\\lib\\site-packages\\torch\\nn\\modules\\lazy.py:178: UserWarning: Lazy modules are a new feature under heavy development so changes to the API or functionality can happen at any moment.\n",
            "  warnings.warn('Lazy modules are a new feature under heavy development '\n"
          ]
        },
        {
          "name": "stdout",
          "output_type": "stream",
          "text": [
            "Training the model in cpu\n"
          ]
        }
      ],
      "source": [
        "# Training process is not same as original paper\n",
        "\n",
        "#? they start 1st conv block with 64 here we start with 16\n",
        "arch = ((1,16),(1,32),(2,64),(2,128),(2,128))\n",
        "\n",
        "#? we use the same learning rate as in the original paper , \n",
        "#? we didn't use the momentum and weight decay\n",
        "vgg_1_model = VGG(arch,lr=0.01)\n",
        "\n",
        "#? data we use is Fashion mnist\n",
        "#? batch we reduce 128 original paper use the 256\n",
        "#? there is not transform such horizontal flip\n",
        "#? we didn't use the different scale for training image.\n",
        "data = helper.FashionMNIST(batch_size=128,resize=(224,224))\n",
        "\n",
        "#? training done with 10 epoch original they trained for 74 epoch\n",
        "trainer = helper.Trainer(max_epochs=10)\n",
        "\n",
        "#? Initialization is totally different \n",
        "#? original paper use the different initialization for mostly pertained from the shallow model\n",
        "vgg_1_model.apply_init([next(iter(data.train_dataloader()))[0]],vgg_1_model.init_vgg)"
      ]
    },
    {
      "cell_type": "code",
      "execution_count": 36,
      "metadata": {},
      "outputs": [
        {
          "name": "stdout",
          "output_type": "stream",
          "text": [
            "----------------------------------------------------------------\n",
            "        Layer (type)               Output Shape         Param #\n",
            "================================================================\n",
            "            Conv2d-1         [-1, 16, 224, 224]             160\n",
            "              ReLU-2         [-1, 16, 224, 224]               0\n",
            "         MaxPool2d-3         [-1, 16, 112, 112]               0\n",
            "            Conv2d-4         [-1, 32, 112, 112]           4,640\n",
            "              ReLU-5         [-1, 32, 112, 112]               0\n",
            "         MaxPool2d-6           [-1, 32, 56, 56]               0\n",
            "            Conv2d-7           [-1, 64, 56, 56]          18,496\n",
            "              ReLU-8           [-1, 64, 56, 56]               0\n",
            "            Conv2d-9           [-1, 64, 56, 56]          36,928\n",
            "             ReLU-10           [-1, 64, 56, 56]               0\n",
            "        MaxPool2d-11           [-1, 64, 28, 28]               0\n",
            "           Conv2d-12          [-1, 128, 28, 28]          73,856\n",
            "             ReLU-13          [-1, 128, 28, 28]               0\n",
            "           Conv2d-14          [-1, 128, 28, 28]         147,584\n",
            "             ReLU-15          [-1, 128, 28, 28]               0\n",
            "        MaxPool2d-16          [-1, 128, 14, 14]               0\n",
            "           Conv2d-17          [-1, 128, 14, 14]         147,584\n",
            "             ReLU-18          [-1, 128, 14, 14]               0\n",
            "           Conv2d-19          [-1, 128, 14, 14]         147,584\n",
            "             ReLU-20          [-1, 128, 14, 14]               0\n",
            "        MaxPool2d-21            [-1, 128, 7, 7]               0\n",
            "          Flatten-22                 [-1, 6272]               0\n",
            "           Linear-23                 [-1, 4096]      25,694,208\n",
            "             ReLU-24                 [-1, 4096]               0\n",
            "          Dropout-25                 [-1, 4096]               0\n",
            "           Linear-26                 [-1, 4096]      16,781,312\n",
            "             ReLU-27                 [-1, 4096]               0\n",
            "          Dropout-28                 [-1, 4096]               0\n",
            "           Linear-29                   [-1, 10]          40,970\n",
            "================================================================\n",
            "Total params: 43,093,322\n",
            "Trainable params: 43,093,322\n",
            "Non-trainable params: 0\n",
            "----------------------------------------------------------------\n",
            "Input size (MB): 0.19\n",
            "Forward/backward pass size (MB): 31.48\n",
            "Params size (MB): 164.39\n",
            "Estimated Total Size (MB): 196.06\n",
            "----------------------------------------------------------------\n"
          ]
        }
      ],
      "source": [
        "torchsummary.summary(vgg_1_model,input_size=(1,224,224))"
      ]
    },
    {
      "attachments": {},
      "cell_type": "markdown",
      "metadata": {},
      "source": [
        "# VGG_1 model"
      ]
    },
    {
      "attachments": {},
      "cell_type": "markdown",
      "metadata": {},
      "source": [
        "## Training"
      ]
    },
    {
      "cell_type": "code",
      "execution_count": null,
      "metadata": {},
      "outputs": [],
      "source": [
        "trainer.fit(vgg_1_model,data)"
      ]
    },
    {
      "attachments": {},
      "cell_type": "markdown",
      "metadata": {},
      "source": [
        "## Saving "
      ]
    },
    {
      "cell_type": "code",
      "execution_count": 11,
      "metadata": {
        "id": "HAeHZXrxKKJd"
      },
      "outputs": [],
      "source": [
        "# save the models\n",
        "MODEL_NAME = \"vgg-1.pth\"\n",
        "torch.save(vgg_1_model.state_dict(),MODEL_SAVE_PATH/MODEL_NAME)"
      ]
    },
    {
      "attachments": {},
      "cell_type": "markdown",
      "metadata": {},
      "source": [
        "# VGG_16 Model"
      ]
    },
    {
      "cell_type": "code",
      "execution_count": 38,
      "metadata": {},
      "outputs": [
        {
          "name": "stderr",
          "output_type": "stream",
          "text": [
            "c:\\Users\\Lenovo\\anaconda3\\envs\\py310\\lib\\site-packages\\torch\\nn\\modules\\lazy.py:178: UserWarning: Lazy modules are a new feature under heavy development so changes to the API or functionality can happen at any moment.\n",
            "  warnings.warn('Lazy modules are a new feature under heavy development '\n"
          ]
        },
        {
          "data": {
            "text/plain": [
              "<All keys matched successfully>"
            ]
          },
          "execution_count": 38,
          "metadata": {},
          "output_type": "execute_result"
        }
      ],
      "source": [
        "vgg_1_model = VGG(arch=arch,lr=0.01)\n",
        "vgg_1_model.load_state_dict(torch.load(MODEL_SAVE_PATH/\"vgg-1.pth\",map_location=\"cpu\"))"
      ]
    },
    {
      "cell_type": "code",
      "execution_count": null,
      "metadata": {},
      "outputs": [],
      "source": []
    }
  ],
  "metadata": {
    "accelerator": "GPU",
    "colab": {
      "provenance": []
    },
    "gpuClass": "standard",
    "kernelspec": {
      "display_name": "py310",
      "language": "python",
      "name": "python3"
    },
    "language_info": {
      "codemirror_mode": {
        "name": "ipython",
        "version": 3
      },
      "file_extension": ".py",
      "mimetype": "text/x-python",
      "name": "python",
      "nbconvert_exporter": "python",
      "pygments_lexer": "ipython3",
      "version": "3.10.6"
    },
    "orig_nbformat": 4,
    "vscode": {
      "interpreter": {
        "hash": "cf51ac970e033765f04eaa06b2d945d30ec4bd27f0fa0badbc17cd319e8357a7"
      }
    },
    "widgets": {
      "application/vnd.jupyter.widget-state+json": {
        "049ce005d63a46938432c85696e3c691": {
          "model_module": "@jupyter-widgets/controls",
          "model_module_version": "1.5.0",
          "model_name": "ProgressStyleModel",
          "state": {
            "_model_module": "@jupyter-widgets/controls",
            "_model_module_version": "1.5.0",
            "_model_name": "ProgressStyleModel",
            "_view_count": null,
            "_view_module": "@jupyter-widgets/base",
            "_view_module_version": "1.2.0",
            "_view_name": "StyleView",
            "bar_color": null,
            "description_width": ""
          }
        },
        "0c6fcc73f2f148eba8dc2dc681258581": {
          "model_module": "@jupyter-widgets/controls",
          "model_module_version": "1.5.0",
          "model_name": "DescriptionStyleModel",
          "state": {
            "_model_module": "@jupyter-widgets/controls",
            "_model_module_version": "1.5.0",
            "_model_name": "DescriptionStyleModel",
            "_view_count": null,
            "_view_module": "@jupyter-widgets/base",
            "_view_module_version": "1.2.0",
            "_view_name": "StyleView",
            "description_width": ""
          }
        },
        "389158b230ad4793952a77848a9ac409": {
          "model_module": "@jupyter-widgets/controls",
          "model_module_version": "1.5.0",
          "model_name": "HTMLModel",
          "state": {
            "_dom_classes": [],
            "_model_module": "@jupyter-widgets/controls",
            "_model_module_version": "1.5.0",
            "_model_name": "HTMLModel",
            "_view_count": null,
            "_view_module": "@jupyter-widgets/controls",
            "_view_module_version": "1.5.0",
            "_view_name": "HTMLView",
            "description": "",
            "description_tooltip": null,
            "layout": "IPY_MODEL_7485e9a888c44ca0af64598161389ec5",
            "placeholder": "​",
            "style": "IPY_MODEL_0c6fcc73f2f148eba8dc2dc681258581",
            "value": "100%"
          }
        },
        "45474e0c490147a6856d217fb3f1ebf5": {
          "model_module": "@jupyter-widgets/controls",
          "model_module_version": "1.5.0",
          "model_name": "DescriptionStyleModel",
          "state": {
            "_model_module": "@jupyter-widgets/controls",
            "_model_module_version": "1.5.0",
            "_model_name": "DescriptionStyleModel",
            "_view_count": null,
            "_view_module": "@jupyter-widgets/base",
            "_view_module_version": "1.2.0",
            "_view_name": "StyleView",
            "description_width": ""
          }
        },
        "523789606a6b4de384c748c788a0ec78": {
          "model_module": "@jupyter-widgets/controls",
          "model_module_version": "1.5.0",
          "model_name": "FloatProgressModel",
          "state": {
            "_dom_classes": [],
            "_model_module": "@jupyter-widgets/controls",
            "_model_module_version": "1.5.0",
            "_model_name": "FloatProgressModel",
            "_view_count": null,
            "_view_module": "@jupyter-widgets/controls",
            "_view_module_version": "1.5.0",
            "_view_name": "ProgressView",
            "bar_style": "success",
            "description": "",
            "description_tooltip": null,
            "layout": "IPY_MODEL_7341c639f31f4ade97ed1c9b6a6353bb",
            "max": 10,
            "min": 0,
            "orientation": "horizontal",
            "style": "IPY_MODEL_049ce005d63a46938432c85696e3c691",
            "value": 10
          }
        },
        "7341c639f31f4ade97ed1c9b6a6353bb": {
          "model_module": "@jupyter-widgets/base",
          "model_module_version": "1.2.0",
          "model_name": "LayoutModel",
          "state": {
            "_model_module": "@jupyter-widgets/base",
            "_model_module_version": "1.2.0",
            "_model_name": "LayoutModel",
            "_view_count": null,
            "_view_module": "@jupyter-widgets/base",
            "_view_module_version": "1.2.0",
            "_view_name": "LayoutView",
            "align_content": null,
            "align_items": null,
            "align_self": null,
            "border": null,
            "bottom": null,
            "display": null,
            "flex": null,
            "flex_flow": null,
            "grid_area": null,
            "grid_auto_columns": null,
            "grid_auto_flow": null,
            "grid_auto_rows": null,
            "grid_column": null,
            "grid_gap": null,
            "grid_row": null,
            "grid_template_areas": null,
            "grid_template_columns": null,
            "grid_template_rows": null,
            "height": null,
            "justify_content": null,
            "justify_items": null,
            "left": null,
            "margin": null,
            "max_height": null,
            "max_width": null,
            "min_height": null,
            "min_width": null,
            "object_fit": null,
            "object_position": null,
            "order": null,
            "overflow": null,
            "overflow_x": null,
            "overflow_y": null,
            "padding": null,
            "right": null,
            "top": null,
            "visibility": null,
            "width": null
          }
        },
        "7485e9a888c44ca0af64598161389ec5": {
          "model_module": "@jupyter-widgets/base",
          "model_module_version": "1.2.0",
          "model_name": "LayoutModel",
          "state": {
            "_model_module": "@jupyter-widgets/base",
            "_model_module_version": "1.2.0",
            "_model_name": "LayoutModel",
            "_view_count": null,
            "_view_module": "@jupyter-widgets/base",
            "_view_module_version": "1.2.0",
            "_view_name": "LayoutView",
            "align_content": null,
            "align_items": null,
            "align_self": null,
            "border": null,
            "bottom": null,
            "display": null,
            "flex": null,
            "flex_flow": null,
            "grid_area": null,
            "grid_auto_columns": null,
            "grid_auto_flow": null,
            "grid_auto_rows": null,
            "grid_column": null,
            "grid_gap": null,
            "grid_row": null,
            "grid_template_areas": null,
            "grid_template_columns": null,
            "grid_template_rows": null,
            "height": null,
            "justify_content": null,
            "justify_items": null,
            "left": null,
            "margin": null,
            "max_height": null,
            "max_width": null,
            "min_height": null,
            "min_width": null,
            "object_fit": null,
            "object_position": null,
            "order": null,
            "overflow": null,
            "overflow_x": null,
            "overflow_y": null,
            "padding": null,
            "right": null,
            "top": null,
            "visibility": null,
            "width": null
          }
        },
        "985f794614ea48d2bea80131cee2bc1a": {
          "model_module": "@jupyter-widgets/base",
          "model_module_version": "1.2.0",
          "model_name": "LayoutModel",
          "state": {
            "_model_module": "@jupyter-widgets/base",
            "_model_module_version": "1.2.0",
            "_model_name": "LayoutModel",
            "_view_count": null,
            "_view_module": "@jupyter-widgets/base",
            "_view_module_version": "1.2.0",
            "_view_name": "LayoutView",
            "align_content": null,
            "align_items": null,
            "align_self": null,
            "border": null,
            "bottom": null,
            "display": null,
            "flex": null,
            "flex_flow": null,
            "grid_area": null,
            "grid_auto_columns": null,
            "grid_auto_flow": null,
            "grid_auto_rows": null,
            "grid_column": null,
            "grid_gap": null,
            "grid_row": null,
            "grid_template_areas": null,
            "grid_template_columns": null,
            "grid_template_rows": null,
            "height": null,
            "justify_content": null,
            "justify_items": null,
            "left": null,
            "margin": null,
            "max_height": null,
            "max_width": null,
            "min_height": null,
            "min_width": null,
            "object_fit": null,
            "object_position": null,
            "order": null,
            "overflow": null,
            "overflow_x": null,
            "overflow_y": null,
            "padding": null,
            "right": null,
            "top": null,
            "visibility": null,
            "width": null
          }
        },
        "bebfede3b4894319a28cca579e02ec54": {
          "model_module": "@jupyter-widgets/controls",
          "model_module_version": "1.5.0",
          "model_name": "HTMLModel",
          "state": {
            "_dom_classes": [],
            "_model_module": "@jupyter-widgets/controls",
            "_model_module_version": "1.5.0",
            "_model_name": "HTMLModel",
            "_view_count": null,
            "_view_module": "@jupyter-widgets/controls",
            "_view_module_version": "1.5.0",
            "_view_name": "HTMLView",
            "description": "",
            "description_tooltip": null,
            "layout": "IPY_MODEL_c7288cdcf0d04cf39388231af036eb5e",
            "placeholder": "​",
            "style": "IPY_MODEL_45474e0c490147a6856d217fb3f1ebf5",
            "value": " 10/10 [14:18&lt;00:00, 86.19s/it]"
          }
        },
        "c7288cdcf0d04cf39388231af036eb5e": {
          "model_module": "@jupyter-widgets/base",
          "model_module_version": "1.2.0",
          "model_name": "LayoutModel",
          "state": {
            "_model_module": "@jupyter-widgets/base",
            "_model_module_version": "1.2.0",
            "_model_name": "LayoutModel",
            "_view_count": null,
            "_view_module": "@jupyter-widgets/base",
            "_view_module_version": "1.2.0",
            "_view_name": "LayoutView",
            "align_content": null,
            "align_items": null,
            "align_self": null,
            "border": null,
            "bottom": null,
            "display": null,
            "flex": null,
            "flex_flow": null,
            "grid_area": null,
            "grid_auto_columns": null,
            "grid_auto_flow": null,
            "grid_auto_rows": null,
            "grid_column": null,
            "grid_gap": null,
            "grid_row": null,
            "grid_template_areas": null,
            "grid_template_columns": null,
            "grid_template_rows": null,
            "height": null,
            "justify_content": null,
            "justify_items": null,
            "left": null,
            "margin": null,
            "max_height": null,
            "max_width": null,
            "min_height": null,
            "min_width": null,
            "object_fit": null,
            "object_position": null,
            "order": null,
            "overflow": null,
            "overflow_x": null,
            "overflow_y": null,
            "padding": null,
            "right": null,
            "top": null,
            "visibility": null,
            "width": null
          }
        },
        "f1970d2864cf46e9b5bf43a1bce6df74": {
          "model_module": "@jupyter-widgets/controls",
          "model_module_version": "1.5.0",
          "model_name": "HBoxModel",
          "state": {
            "_dom_classes": [],
            "_model_module": "@jupyter-widgets/controls",
            "_model_module_version": "1.5.0",
            "_model_name": "HBoxModel",
            "_view_count": null,
            "_view_module": "@jupyter-widgets/controls",
            "_view_module_version": "1.5.0",
            "_view_name": "HBoxView",
            "box_style": "",
            "children": [
              "IPY_MODEL_389158b230ad4793952a77848a9ac409",
              "IPY_MODEL_523789606a6b4de384c748c788a0ec78",
              "IPY_MODEL_bebfede3b4894319a28cca579e02ec54"
            ],
            "layout": "IPY_MODEL_985f794614ea48d2bea80131cee2bc1a"
          }
        }
      }
    }
  },
  "nbformat": 4,
  "nbformat_minor": 0
}
