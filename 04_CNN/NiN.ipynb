{
  "cells": [
    {
      "cell_type": "code",
      "execution_count": 1,
      "metadata": {
        "colab": {
          "base_uri": "https://localhost:8080/"
        },
        "id": "4VHE_CBkQVfr",
        "outputId": "a70c7458-f60d-42ac-ffa5-1ac6fad9858a"
      },
      "outputs": [],
      "source": [
        "# python libraries\n",
        "import os\n",
        "import sys\n",
        "import dataclasses\n",
        "from datetime import datetime\n",
        "from pathlib import Path\n",
        "from operator import methodcaller\n",
        "from collections import OrderedDict\n",
        "from dataclasses import dataclass\n",
        "from typing import (\n",
        "    List,\n",
        "    Tuple,\n",
        "    Dict,\n",
        "    Any,\n",
        "    Mapping,\n",
        "    Callable\n",
        ")\n",
        "from enum import Enum\n",
        "# adding the path\n",
        "if not str(Path(os.getcwd()).parent) in sys.path:\n",
        "    sys.path.append(str(Path(os.getcwd()).parent))\n",
        "\n",
        "# numpy\n",
        "import numpy as np\n",
        "\n",
        "# torch\n",
        "import torch\n",
        "import torchvision\n",
        "from torch import nn\n",
        "from torchvision import (\n",
        "    transforms,\n",
        "    datasets\n",
        "    )\n",
        "from torch.utils.data import DataLoader\n",
        "\n",
        "try:\n",
        "    from torchmetrics import Accuracy\n",
        "except:\n",
        "    print(f\"[INFO] Installing the torchmetrics\")\n",
        "    %pip install torchmetrics\n",
        "    from torchmetrics import Accuracy\n",
        "\n",
        "try:\n",
        "    import torchinfo\n",
        "except:\n",
        "    print(f\"[INFO] Installing the torchinfo\")\n",
        "    %pip install torchinfo\n",
        "    import torchinfo\n",
        "\n",
        "# helper function\n",
        "try:\n",
        "    import my_helper as helper\n",
        "except:\n",
        "    print(\"[INFO] Downloading the helper function from github\")\n",
        "    import requests\n",
        "    response = requests.get(\"https://raw.githubusercontent.com/Lashi0812/PyTorch2/master/my_helper.py\")\n",
        "    with open(\"my_helper.py\" ,\"wb\") as f:\n",
        "        f.write(response.content)\n",
        "    import my_helper as helper"
      ]
    },
    {
      "cell_type": "code",
      "execution_count": 2,
      "metadata": {
        "colab": {
          "base_uri": "https://localhost:8080/"
        },
        "id": "LgaKi1HcQVfy",
        "outputId": "f8ae628a-3cd3-487b-ccfe-c79af20dbad4"
      },
      "outputs": [],
      "source": [
        "## Connect Persistence memory\n",
        "try :\n",
        "    from google.colab import drive\n",
        "\n",
        "    # Paths\n",
        "    DRIVE_PATH = Path(\"/content/drive\")\n",
        "    MODEL_SAVE_PATH = Path(\"/content/drive/Othercomputers/My PC/drive/models\")\n",
        "\n",
        "    # mount drive\n",
        "    drive.mount(str(DRIVE_PATH))\n",
        "except:\n",
        "    MODEL_SAVE_PATH = Path(os.getcwd())/\"models\""
      ]
    },
    {
      "cell_type": "code",
      "execution_count": 3,
      "metadata": {
        "id": "X2HGfqgPQel7"
      },
      "outputs": [],
      "source": [
        "device = \"cuda\" if torch.cuda.is_available() else \"cpu\""
      ]
    },
    {
      "cell_type": "markdown",
      "metadata": {
        "id": "LTMlu0rBQVfz"
      },
      "source": [
        "# Network in Network"
      ]
    },
    {
      "cell_type": "code",
      "execution_count": 4,
      "metadata": {
        "id": "bRooC4y6QVf3"
      },
      "outputs": [],
      "source": [
        "@dataclass(eq=False)\n",
        "class NiN(helper.Classifier):\n",
        "    lr:int = 0.01\n",
        "    num_classes:int = 10\n",
        "\n",
        "    def __post_init__(self):\n",
        "        super().__init__()\n",
        "        self.net = nn.Sequential(\n",
        "            self.nin_block(96,kernel=11,stride=4,padding=0),\n",
        "            nn.MaxPool2d(kernel_size=3,stride=2),\n",
        "            self.nin_block(256,kernel=5,stride=1,padding=2),\n",
        "            nn.MaxPool2d(kernel_size=3,stride=2),\n",
        "            self.nin_block(384,kernel=3,stride=1,padding=1),\n",
        "            nn.MaxPool2d(kernel_size=3,stride=2),\n",
        "            nn.Dropout(0.5),\n",
        "            self.nin_block(self.num_classes,kernel=3,stride=1,padding=1),\n",
        "            nn.AdaptiveAvgPool2d((1,1)),\n",
        "            nn.Flatten()\n",
        "        )\n",
        "\n",
        "\n",
        "    @staticmethod\n",
        "    def nin_block(out_channels,kernel,stride,padding):\n",
        "        return nn.Sequential(\n",
        "            nn.LazyConv2d(out_channels,kernel_size=kernel,stride=stride,padding=padding),nn.ReLU(),\n",
        "            # this two layer will do job of FC , this will  increase the non linearity.\n",
        "            nn.LazyConv2d(out_channels,kernel_size=1),nn.ReLU(),\n",
        "            nn.LazyConv2d(out_channels,kernel_size=1),nn.ReLU()          \n",
        "        )\n",
        "    @staticmethod\n",
        "    def init_nin(module):\n",
        "        if isinstance(module,(nn.Linear,nn.Conv2d)):\n",
        "            nn.init.kaiming_normal_(module.weight)"
      ]
    },
    {
      "cell_type": "code",
      "execution_count": 5,
      "metadata": {
        "colab": {
          "base_uri": "https://localhost:8080/"
        },
        "id": "YZm-XGP9QVf6",
        "outputId": "8a5d8f97-122f-4d6d-a770-dff0f8e6587f"
      },
      "outputs": [
        {
          "name": "stdout",
          "output_type": "stream",
          "text": [
            "Sequential      output shape :(1, 96, 54, 54)\n",
            "MaxPool2d       output shape :(1, 96, 26, 26)\n",
            "Sequential      output shape :(1, 256, 26, 26)\n",
            "MaxPool2d       output shape :(1, 256, 12, 12)\n",
            "Sequential      output shape :(1, 384, 12, 12)\n",
            "MaxPool2d       output shape :(1, 384, 5, 5)\n",
            "Dropout         output shape :(1, 384, 5, 5)\n",
            "Sequential      output shape :(1, 10, 5, 5)\n",
            "AdaptiveAvgPool2d output shape :(1, 10, 1, 1)\n",
            "Flatten         output shape :(1, 10)\n"
          ]
        },
        {
          "name": "stderr",
          "output_type": "stream",
          "text": [
            "c:\\Users\\Lenovo\\anaconda3\\envs\\py310\\lib\\site-packages\\torch\\nn\\modules\\lazy.py:178: UserWarning: Lazy modules are a new feature under heavy development so changes to the API or functionality can happen at any moment.\n",
            "  warnings.warn('Lazy modules are a new feature under heavy development '\n"
          ]
        }
      ],
      "source": [
        "NiN().layer_summary((1,1,224,224))"
      ]
    },
    {
      "cell_type": "code",
      "execution_count": 6,
      "metadata": {
        "colab": {
          "base_uri": "https://localhost:8080/"
        },
        "id": "NsO-sZpSQVf8",
        "outputId": "7ea70d4b-81c0-47ed-ef3e-0c487bad6db4"
      },
      "outputs": [
        {
          "data": {
            "text/plain": [
              "================================================================================================\n",
              "Layer (type (var_name))                  Kernel Shape   Output Shape   Param #        Mult-Adds\n",
              "================================================================================================\n",
              "NiN (NiN)                                --             [10, 1]        --             --\n",
              "├─Sequential (net)                       --             [10, 1]        --             --\n",
              "│    └─Sequential (0)                    --             [96, 54, 54]   --             --\n",
              "│    │    └─Conv2d (0)                   [11, 11]       [96, 54, 54]   11,712         60,715,008\n",
              "│    │    └─ReLU (1)                     --             [96, 54, 54]   --             --\n",
              "│    │    └─Conv2d (2)                   [1, 1]         [96, 54, 54]   9,312          48,273,408\n",
              "│    │    └─ReLU (3)                     --             [96, 54, 54]   --             --\n",
              "│    │    └─Conv2d (4)                   [1, 1]         [96, 54, 54]   9,312          48,273,408\n",
              "│    │    └─ReLU (5)                     --             [96, 54, 54]   --             --\n",
              "│    └─MaxPool2d (1)                     3              [96, 26, 26]   --             --\n",
              "│    └─Sequential (2)                    --             [256, 26, 26]  --             --\n",
              "│    │    └─Conv2d (0)                   [5, 5]         [256, 26, 26]  614,656        4,091,150,336\n",
              "│    │    └─ReLU (1)                     --             [256, 26, 26]  --             --\n",
              "│    │    └─Conv2d (2)                   [1, 1]         [256, 26, 26]  65,792         437,911,552\n",
              "│    │    └─ReLU (3)                     --             [256, 26, 26]  --             --\n",
              "│    │    └─Conv2d (4)                   [1, 1]         [256, 26, 26]  65,792         437,911,552\n",
              "│    │    └─ReLU (5)                     --             [256, 26, 26]  --             --\n",
              "│    └─MaxPool2d (3)                     3              [256, 12, 12]  --             --\n",
              "│    └─Sequential (4)                    --             [384, 12, 12]  --             --\n",
              "│    │    └─Conv2d (0)                   [3, 3]         [384, 12, 12]  885,120        4,078,632,960\n",
              "│    │    └─ReLU (1)                     --             [384, 12, 12]  --             --\n",
              "│    │    └─Conv2d (2)                   [1, 1]         [384, 12, 12]  147,840        681,246,720\n",
              "│    │    └─ReLU (3)                     --             [384, 12, 12]  --             --\n",
              "│    │    └─Conv2d (4)                   [1, 1]         [384, 12, 12]  147,840        681,246,720\n",
              "│    │    └─ReLU (5)                     --             [384, 12, 12]  --             --\n",
              "│    └─MaxPool2d (5)                     3              [384, 5, 5]    --             --\n",
              "│    └─Dropout (6)                       --             [384, 5, 5]    --             --\n",
              "│    └─Sequential (7)                    --             [10, 5, 5]     --             --\n",
              "│    │    └─Conv2d (0)                   [3, 3]         [10, 5, 5]     34,570         1,728,500\n",
              "│    │    └─ReLU (1)                     --             [10, 5, 5]     --             --\n",
              "│    │    └─Conv2d (2)                   [1, 1]         [10, 5, 5]     110            5,500\n",
              "│    │    └─ReLU (3)                     --             [10, 5, 5]     --             --\n",
              "│    │    └─Conv2d (4)                   [1, 1]         [10, 5, 5]     110            5,500\n",
              "│    │    └─ReLU (5)                     --             [10, 5, 5]     --             --\n",
              "│    └─AdaptiveAvgPool2d (8)             --             [10, 1, 1]     --             --\n",
              "│    └─Flatten (9)                       --             [10, 1]        --             --\n",
              "================================================================================================\n",
              "Total params: 1,992,166\n",
              "Trainable params: 1,992,166\n",
              "Non-trainable params: 0\n",
              "Total mult-adds (G): 10.57\n",
              "================================================================================================\n",
              "Input size (MB): 0.20\n",
              "Forward/backward pass size (MB): 12.20\n",
              "Params size (MB): 7.97\n",
              "Estimated Total Size (MB): 20.37\n",
              "================================================================================================"
            ]
          },
          "execution_count": 6,
          "metadata": {},
          "output_type": "execute_result"
        }
      ],
      "source": [
        "torchinfo.summary(NiN(),input_size=(1,224,224)  ,  col_width=14,\n",
        "    col_names=[\"kernel_size\", \"output_size\", \"num_params\", \"mult_adds\"],\n",
        "    row_settings=[\"var_names\"],\n",
        ")"
      ]
    },
    {
      "cell_type": "markdown",
      "metadata": {
        "id": "16IAqLH1QVf9"
      },
      "source": [
        "The total parameter size is reduce compare to pervious architecture like AlexNet ,VGG , since they had the FC layer "
      ]
    },
    {
      "cell_type": "markdown",
      "metadata": {
        "id": "Pl-YhYDfQVf_"
      },
      "source": [
        "# Training"
      ]
    },
    {
      "cell_type": "code",
      "execution_count": 7,
      "metadata": {
        "colab": {
          "base_uri": "https://localhost:8080/",
          "height": 443,
          "referenced_widgets": [
            "2b1dea24e8324522a0b8db6a05a88291",
            "d26e872723444f98aafcfd330226163e",
            "8e60039998f645918b05c35c867d410e",
            "f9162370b7a94e26a73701d7bd82b337",
            "49e7031674274ff7bc033b06a276dec5",
            "00fe97a06c6a4b5395cf7c00762d775a",
            "24e35feac90f40ed9f92f9f4d2cd1798",
            "d07065d3795e4b279c41f0b4a342c639",
            "c11aa27b0b3c49579ea7df272d45c198",
            "2849dc1ec0044a5aa6077dafcb827143",
            "778da9c14773493dbec05f5b2aa95c96",
            "f462d48eebd7417d8bcc58cb2c4f1838",
            "c0e2b6e2e2f5447085f51b702acd627c",
            "44752a6ba0ec4ac1b1d022dcb67581fa",
            "6d909dd23f2448dc8db4dda22282a01b",
            "450b72180b974d9c9056a1d9f4b2d72a",
            "c60aa72bffaa434c81e1267df46d2e57",
            "caab5795c066475d8c4254a250a8cb25",
            "1256d8562b814f1cb207605a13aa3f95",
            "c783117addab4a66a47a3b35fca17fab",
            "5f33b7eaa69a4b5d9fd416ff72d28751",
            "059a545bb7824260ac8d965560e7381e",
            "9a5f9726893a43db8071908545ca3730",
            "3427a3e4b2914667b613284bd811e6ec",
            "d041e15a35944136bae76c244d37ec1c",
            "4ffc145056a742778cd77af9c9e89799",
            "925f34941a4c49b2ad02366c966ff982",
            "7754a3e9681d48a18ffb021e43909f87",
            "0b869075a5db425ba67f869dc07613eb",
            "319585d5a2104701954282b130744ad1",
            "cfd660fc27934ce085c109a95639ef7d",
            "705513e8dd3e4a90866da3c5ba086e67",
            "3223d2fad8164aa8999b34edf1178b5a",
            "cf1e865f9d5a4dbebc701055efa278c2",
            "511f4383a64f43fb99900d0278998d58",
            "64db5aa74f714ba69e8f546dd6c5f6ae",
            "cf6a4fc5b79b498cb35982be329982c7",
            "f0a2e9546f5f448c8b27768937012a36",
            "34394d1c54fc47c5a54a0af9d57d7d87",
            "b25def3a31134f1d8e97a2067531a877",
            "cc612b9434e741ffbd241dd2093ef0c5",
            "4879d948776e49a2969028f7f614d0f3",
            "3e444a7bce164e2e96aa97e9c104ee28",
            "73e23b4da7d74e04a9c43754fc27f477"
          ]
        },
        "id": "URNXcTyJQVgA",
        "outputId": "ab24b806-ecb1-4c00-ae19-97bdda3f498b"
      },
      "outputs": [
        {
          "name": "stdout",
          "output_type": "stream",
          "text": [
            "Training the model in cpu\n"
          ]
        }
      ],
      "source": [
        "model = NiN(lr=0.01)\n",
        "data = helper.FashionMNIST(batch_size=128,resize=(224,224))\n",
        "model.apply_init([(next(iter(data.train_dataloader())))[0]],model.init_nin)\n",
        "trainer =helper.Trainer(max_epochs=10,model_save_path=MODEL_SAVE_PATH)"
      ]
    },
    {
      "cell_type": "code",
      "execution_count": 8,
      "metadata": {
        "colab": {
          "base_uri": "https://localhost:8080/",
          "height": 308,
          "referenced_widgets": [
            "3679405fedba45d88f33f53424b6e568",
            "2a4229261c0044fe9e9774bdef3d4c26",
            "1ec8fb9810a54227b38113e23e797375",
            "57fd4a2ea7d34038a81d63d908cd223c",
            "ab91bce59c3a491d9ab743119a3ec6ba",
            "6a283d0cb3134f3b9770e5d63fb64cd7",
            "0cbc110367ab42db8a68f34119098020",
            "dfa096285fb34b29ab5a4732b7a0ef6b",
            "0984c1e677954759bd4cb38c99cba83e",
            "f4026c12cc7c4baf80546546fa5432d3",
            "3cde1c989a8f47838207dfa66765c140"
          ]
        },
        "id": "QSRrQ6sbQVgC",
        "outputId": "4bba6514-fd9d-47d6-ce88-7c87a4507ba9"
      },
      "outputs": [
        {
          "name": "stdout",
          "output_type": "stream",
          "text": [
            "Training the model in cuda\n"
          ]
        },
        {
          "data": {
            "application/vnd.jupyter.widget-view+json": {
              "model_id": "3679405fedba45d88f33f53424b6e568",
              "version_major": 2,
              "version_minor": 0
            },
            "text/plain": [
              "  0%|          | 0/10 [00:00<?, ?it/s]"
            ]
          },
          "metadata": {},
          "output_type": "display_data"
        },
        {
          "data": {
            "image/png": "[encoded data removed]",
            "text/plain": [
              "<Figure size 576x216 with 2 Axes>"
            ]
          },
          "metadata": {
            "needs_background": "light"
          },
          "output_type": "display_data"
        },
        {
          "name": "stdout",
          "output_type": "stream",
          "text": [
            "[Info] Saving the model at /content/drive/Othercomputers/My PC/drive/models/2023-02-04/NiN-12:16:43.pth\n"
          ]
        }
      ],
      "source": [
        "trainer.fit(model,data)"
      ]
    },
    {
      "attachments": {},
      "cell_type": "markdown",
      "metadata": {},
      "source": [
        "# Visual some output"
      ]
    },
    {
      "cell_type": "code",
      "execution_count": 11,
      "metadata": {},
      "outputs": [
        {
          "data": {
            "text/plain": [
              "<All keys matched successfully>"
            ]
          },
          "execution_count": 11,
          "metadata": {},
          "output_type": "execute_result"
        }
      ],
      "source": [
        "# load the trained model\n",
        "nin_model  = NiN()\n",
        "nin_model.load_state_dict(torch.load(str(MODEL_SAVE_PATH/\"2023-02-04/NiN-12 16 43.pth\"),\n",
        "map_location=device))"
      ]
    },
    {
      "cell_type": "code",
      "execution_count": 12,
      "metadata": {},
      "outputs": [
        {
          "name": "stdout",
          "output_type": "stream",
          "text": [
            "net.0.0.weight (96, 1, 11, 11)\n",
            "net.0.0.bias (96,)\n",
            "net.0.2.weight (96, 96, 1, 1)\n",
            "net.0.2.bias (96,)\n",
            "net.0.4.weight (96, 96, 1, 1)\n",
            "net.0.4.bias (96,)\n",
            "net.2.0.weight (256, 96, 5, 5)\n",
            "net.2.0.bias (256,)\n",
            "net.2.2.weight (256, 256, 1, 1)\n",
            "net.2.2.bias (256,)\n",
            "net.2.4.weight (256, 256, 1, 1)\n",
            "net.2.4.bias (256,)\n",
            "net.4.0.weight (384, 256, 3, 3)\n",
            "net.4.0.bias (384,)\n",
            "net.4.2.weight (384, 384, 1, 1)\n",
            "net.4.2.bias (384,)\n",
            "net.4.4.weight (384, 384, 1, 1)\n",
            "net.4.4.bias (384,)\n",
            "net.7.0.weight (10, 384, 3, 3)\n",
            "net.7.0.bias (10,)\n",
            "net.7.2.weight (10, 10, 1, 1)\n",
            "net.7.2.bias (10,)\n",
            "net.7.4.weight (10, 10, 1, 1)\n",
            "net.7.4.bias (10,)\n"
          ]
        }
      ],
      "source": [
        "for k,v in nin_model.named_parameters():\n",
        "    print(k,tuple(v.shape))"
      ]
    },
    {
      "cell_type": "code",
      "execution_count": 13,
      "metadata": {},
      "outputs": [
        {
          "data": {
            "text/plain": [
              "(torch.Size([128, 1, 224, 224]), torch.Size([128]))"
            ]
          },
          "execution_count": 13,
          "metadata": {},
          "output_type": "execute_result"
        }
      ],
      "source": [
        "X,y  = next(iter(data.train_dataloader()))\n",
        "X.shape,y.shape"
      ]
    },
    {
      "cell_type": "code",
      "execution_count": 14,
      "metadata": {},
      "outputs": [
        {
          "data": {
            "image/png": "[encoded data removed]",
            "text/plain": [
              "<Figure size 1200x150 with 8 Axes>"
            ]
          },
          "metadata": {},
          "output_type": "display_data"
        }
      ],
      "source": [
        "data.visualize(next(iter(data.train_dataloader())))"
      ]
    },
    {
      "cell_type": "code",
      "execution_count": 16,
      "metadata": {},
      "outputs": [
        {
          "data": {
            "image/png": "[encoded data removed]",
            "text/plain": [
              "<Figure size 1350x150 with 9 Axes>"
            ]
          },
          "metadata": {},
          "output_type": "display_data"
        },
        {
          "data": {
            "image/png": "[encoded data removed]",
            "text/plain": [
              "<Figure size 1350x150 with 9 Axes>"
            ]
          },
          "metadata": {},
          "output_type": "display_data"
        },
        {
          "data": {
            "image/png": "[encoded data removed]",
            "text/plain": [
              "<Figure size 1350x150 with 9 Axes>"
            ]
          },
          "metadata": {},
          "output_type": "display_data"
        },
        {
          "data": {
            "image/png": "[encoded data removed]",
            "text/plain": [
              "<Figure size 1350x150 with 9 Axes>"
            ]
          },
          "metadata": {},
          "output_type": "display_data"
        },
        {
          "data": {
            "image/png": "[encoded data removed]",
            "text/plain": [
              "<Figure size 1350x150 with 9 Axes>"
            ]
          },
          "metadata": {},
          "output_type": "display_data"
        }
      ],
      "source": [
        "helper.visual_block(X[0],nin_model,1,8,0,trainer)"
      ]
    },
    {
      "attachments": {},
      "cell_type": "markdown",
      "metadata": {},
      "source": [
        "# Some Experiment"
      ]
    },
    {
      "attachments": {},
      "cell_type": "markdown",
      "metadata": {},
      "source": [
        "## Changing the number of 1x1 conv in each nin block.\n",
        "1. Increase from two to three.\n",
        "2. Decrease from two to one."
      ]
    },
    {
      "cell_type": "code",
      "execution_count": 8,
      "metadata": {},
      "outputs": [],
      "source": [
        "@dataclass(eq=False)\n",
        "class NiNWithOne(helper.Classifier):\n",
        "    \"\"\"\n",
        "    Output channel number is taken from the sequence [A133572 Row sums of triangle A133571]\n",
        "    1, 4, 6, 16, 24, 64, 96, 256, 384, 1024......\n",
        "    refer : https://oeis.org/A133572\n",
        "    \"\"\"\n",
        "    lr:int = 0.01\n",
        "    num_classes:int = 10\n",
        "    \n",
        "\n",
        "    def __post_init__(self):\n",
        "        super().__init__()\n",
        "        self.net = nn.Sequential(\n",
        "            self.nin_block(96,11,4,0),\n",
        "            nn.MaxPool2d(kernel_size=3,stride=2),\n",
        "            self.nin_block(256,kernel=5,stride=1,padding=2),\n",
        "            nn.MaxPool2d(kernel_size=3,stride=2),\n",
        "            self.nin_block(384,3,1,2),\n",
        "            nn.MaxPool2d(kernel_size=3,stride=2),\n",
        "            nn.Dropout(0.5),\n",
        "            self.nin_block(self.num_classes,kernel=3,stride=1,padding=1),\n",
        "            nn.AdaptiveAvgPool2d((1,1)),\n",
        "            nn.Flatten()\n",
        "        )\n",
        "\n",
        "    @staticmethod\n",
        "    def nin_block(out_channels,kernel,stride,padding):\n",
        "        return nn.Sequential(\n",
        "            nn.LazyConv2d(out_channels,kernel_size=kernel,stride=stride,padding=padding),nn.ReLU(),\n",
        "            # modified to have one 1x1 conv\n",
        "            nn.LazyConv2d(out_channels,kernel_size=1),nn.ReLU()\n",
        "        )\n",
        "\n",
        "    @staticmethod\n",
        "    def init_nin(module):\n",
        "        if isinstance(module,(nn.Linear,nn.Conv2d)):\n",
        "            nn.init.kaiming_normal_(module.weight)"
      ]
    },
    {
      "cell_type": "code",
      "execution_count": 9,
      "metadata": {},
      "outputs": [
        {
          "name": "stdout",
          "output_type": "stream",
          "text": [
            "Sequential      output shape :(1, 96, 54, 54)\n",
            "MaxPool2d       output shape :(1, 96, 26, 26)\n",
            "Sequential      output shape :(1, 256, 26, 26)\n",
            "MaxPool2d       output shape :(1, 256, 12, 12)\n",
            "Sequential      output shape :(1, 384, 14, 14)\n",
            "MaxPool2d       output shape :(1, 384, 6, 6)\n",
            "Dropout         output shape :(1, 384, 6, 6)\n",
            "Sequential      output shape :(1, 10, 6, 6)\n",
            "AdaptiveAvgPool2d output shape :(1, 10, 1, 1)\n",
            "Flatten         output shape :(1, 10)\n"
          ]
        }
      ],
      "source": [
        "NiNWithOne().layer_summary((1,1,224,224))"
      ]
    },
    {
      "cell_type": "code",
      "execution_count": 10,
      "metadata": {},
      "outputs": [
        {
          "data": {
            "text/plain": [
              "================================================================================================\n",
              "Layer (type (var_name))                  Kernel Shape   Output Shape   Param #        Mult-Adds\n",
              "================================================================================================\n",
              "NiNWithOne (NiNWithOne)                  --             [10, 1]        --             --\n",
              "├─Sequential (net)                       --             [10, 1]        --             --\n",
              "│    └─Sequential (0)                    --             [96, 54, 54]   --             --\n",
              "│    │    └─Conv2d (0)                   [11, 11]       [96, 54, 54]   11,712         60,715,008\n",
              "│    │    └─ReLU (1)                     --             [96, 54, 54]   --             --\n",
              "│    │    └─Conv2d (2)                   [1, 1]         [96, 54, 54]   9,312          48,273,408\n",
              "│    │    └─ReLU (3)                     --             [96, 54, 54]   --             --\n",
              "│    └─MaxPool2d (1)                     3              [96, 26, 26]   --             --\n",
              "│    └─Sequential (2)                    --             [256, 26, 26]  --             --\n",
              "│    │    └─Conv2d (0)                   [5, 5]         [256, 26, 26]  614,656        4,091,150,336\n",
              "│    │    └─ReLU (1)                     --             [256, 26, 26]  --             --\n",
              "│    │    └─Conv2d (2)                   [1, 1]         [256, 26, 26]  65,792         437,911,552\n",
              "│    │    └─ReLU (3)                     --             [256, 26, 26]  --             --\n",
              "│    └─MaxPool2d (3)                     3              [256, 12, 12]  --             --\n",
              "│    └─Sequential (4)                    --             [384, 14, 14]  --             --\n",
              "│    │    └─Conv2d (0)                   [3, 3]         [384, 14, 14]  885,120        4,758,405,120\n",
              "│    │    └─ReLU (1)                     --             [384, 14, 14]  --             --\n",
              "│    │    └─Conv2d (2)                   [1, 1]         [384, 14, 14]  147,840        794,787,840\n",
              "│    │    └─ReLU (3)                     --             [384, 14, 14]  --             --\n",
              "│    └─MaxPool2d (5)                     3              [384, 6, 6]    --             --\n",
              "│    └─Dropout (6)                       --             [384, 6, 6]    --             --\n",
              "│    └─Sequential (7)                    --             [10, 6, 6]     --             --\n",
              "│    │    └─Conv2d (0)                   [3, 3]         [10, 6, 6]     34,570         2,074,200\n",
              "│    │    └─ReLU (1)                     --             [10, 6, 6]     --             --\n",
              "│    │    └─Conv2d (2)                   [1, 1]         [10, 6, 6]     110            6,600\n",
              "│    │    └─ReLU (3)                     --             [10, 6, 6]     --             --\n",
              "│    └─AdaptiveAvgPool2d (8)             --             [10, 1, 1]     --             --\n",
              "│    └─Flatten (9)                       --             [10, 1]        --             --\n",
              "================================================================================================\n",
              "Total params: 1,769,112\n",
              "Trainable params: 1,769,112\n",
              "Non-trainable params: 0\n",
              "Total mult-adds (G): 10.19\n",
              "================================================================================================\n",
              "Input size (MB): 0.20\n",
              "Forward/backward pass size (MB): 8.46\n",
              "Params size (MB): 7.08\n",
              "Estimated Total Size (MB): 15.74\n",
              "================================================================================================"
            ]
          },
          "execution_count": 10,
          "metadata": {},
          "output_type": "execute_result"
        }
      ],
      "source": [
        "torchinfo.summary(NiNWithOne(),input_size=(1,224,224)  ,  col_width=14,\n",
        "    col_names=[\"kernel_size\", \"output_size\", \"num_params\", \"mult_adds\"],\n",
        "    row_settings=[\"var_names\"],\n",
        ")"
      ]
    },
    {
      "attachments": {},
      "cell_type": "markdown",
      "metadata": {},
      "source": [
        "## Transferring the learned weight for nin_model to nin_with_one"
      ]
    },
    {
      "cell_type": "code",
      "execution_count": 17,
      "metadata": {},
      "outputs": [
        {
          "name": "stderr",
          "output_type": "stream",
          "text": [
            "c:\\Users\\Lenovo\\anaconda3\\envs\\py310\\lib\\site-packages\\torch\\nn\\modules\\lazy.py:178: UserWarning: Lazy modules are a new feature under heavy development so changes to the API or functionality can happen at any moment.\n",
            "  warnings.warn('Lazy modules are a new feature under heavy development '\n"
          ]
        }
      ],
      "source": [
        "nin_with_one =  NiNWithOne()"
      ]
    },
    {
      "cell_type": "code",
      "execution_count": 20,
      "metadata": {},
      "outputs": [
        {
          "name": "stdout",
          "output_type": "stream",
          "text": [
            "net.0.0.weight <UninitializedParameter>\n",
            "net.0.0.bias <UninitializedParameter>\n",
            "net.0.2.weight <UninitializedParameter>\n",
            "net.0.2.bias <UninitializedParameter>\n",
            "net.2.0.weight <UninitializedParameter>\n",
            "net.2.0.bias <UninitializedParameter>\n",
            "net.2.2.weight <UninitializedParameter>\n",
            "net.2.2.bias <UninitializedParameter>\n",
            "net.4.0.weight <UninitializedParameter>\n",
            "net.4.0.bias <UninitializedParameter>\n",
            "net.4.2.weight <UninitializedParameter>\n",
            "net.4.2.bias <UninitializedParameter>\n",
            "net.7.0.weight <UninitializedParameter>\n",
            "net.7.0.bias <UninitializedParameter>\n",
            "net.7.2.weight <UninitializedParameter>\n",
            "net.7.2.bias <UninitializedParameter>\n"
          ]
        }
      ],
      "source": [
        "for k,v in nin_with_one.named_parameters():\n",
        "    print(k,v)"
      ]
    },
    {
      "cell_type": "code",
      "execution_count": 25,
      "metadata": {},
      "outputs": [],
      "source": [
        "nin_with_one.apply_init([next(iter(data.train_dataloader()))[0]],nin_with_one.init_nin)"
      ]
    },
    {
      "cell_type": "code",
      "execution_count": 31,
      "metadata": {},
      "outputs": [
        {
          "name": "stdout",
          "output_type": "stream",
          "text": [
            "net.0.0.weight torch.Size([96, 1, 11, 11]) 0.0007471214048564434\n",
            "net.0.0.bias torch.Size([96]) 0.001544881146401167\n",
            "net.0.2.weight torch.Size([96, 96, 1, 1]) 0.0017147852340713143\n",
            "net.0.2.bias torch.Size([96]) -0.005607240367680788\n",
            "net.2.0.weight torch.Size([256, 96, 5, 5]) 5.292867626849329e-06\n",
            "net.2.0.bias torch.Size([256]) -0.0007017883472144604\n",
            "net.2.2.weight torch.Size([256, 256, 1, 1]) 0.00015884012100286782\n",
            "net.2.2.bias torch.Size([256]) 0.0016850304091349244\n",
            "net.4.0.weight torch.Size([384, 256, 3, 3]) 2.6725530915427953e-05\n",
            "net.4.0.bias torch.Size([384]) 0.00010854180436581373\n",
            "net.4.2.weight torch.Size([384, 384, 1, 1]) 4.628216993296519e-05\n",
            "net.4.2.bias torch.Size([384]) 0.0009158540633507073\n",
            "net.7.0.weight torch.Size([10, 384, 3, 3]) -1.3041813872405328e-05\n",
            "net.7.0.bias torch.Size([10]) -0.000655248761177063\n",
            "net.7.2.weight torch.Size([10, 10, 1, 1]) 0.016010986641049385\n",
            "net.7.2.bias torch.Size([10]) 0.005873654969036579\n"
          ]
        }
      ],
      "source": [
        "for k,v in nin_with_one.named_parameters():\n",
        "    print(k,v.shape,torch.mean(v).item())"
      ]
    },
    {
      "cell_type": "code",
      "execution_count": 33,
      "metadata": {},
      "outputs": [
        {
          "name": "stdout",
          "output_type": "stream",
          "text": [
            "net.0.0.weight torch.Size([96, 1, 11, 11]) 0.0037587641272693872\n",
            "net.0.0.bias torch.Size([96]) 0.015867237001657486\n",
            "net.0.2.weight torch.Size([96, 96, 1, 1]) 0.0026520767714828253\n",
            "net.0.2.bias torch.Size([96]) -0.00018765653658192605\n",
            "net.0.4.weight torch.Size([96, 96, 1, 1]) 0.0002983227022923529\n",
            "net.0.4.bias torch.Size([96]) 0.008395412005484104\n",
            "net.2.0.weight torch.Size([256, 96, 5, 5]) 4.5128883357392624e-05\n",
            "net.2.0.bias torch.Size([256]) 0.00130382739007473\n",
            "net.2.2.weight torch.Size([256, 256, 1, 1]) 0.0003626644902396947\n",
            "net.2.2.bias torch.Size([256]) 0.004320668056607246\n",
            "net.2.4.weight torch.Size([256, 256, 1, 1]) -0.0006316113867796957\n",
            "net.2.4.bias torch.Size([256]) 0.0002043702406808734\n",
            "net.4.0.weight torch.Size([384, 256, 3, 3]) -7.330872904276475e-05\n",
            "net.4.0.bias torch.Size([384]) 0.0019519954221323133\n",
            "net.4.2.weight torch.Size([384, 384, 1, 1]) -0.00015233020531013608\n",
            "net.4.2.bias torch.Size([384]) 0.00045333290472626686\n",
            "net.4.4.weight torch.Size([384, 384, 1, 1]) -0.0015371183399111032\n",
            "net.4.4.bias torch.Size([384]) -0.0008202938479371369\n",
            "net.7.0.weight torch.Size([10, 384, 3, 3]) 0.0005188440554775298\n",
            "net.7.0.bias torch.Size([10]) 0.01394121628254652\n",
            "net.7.2.weight torch.Size([10, 10, 1, 1]) 0.015937888994812965\n",
            "net.7.2.bias torch.Size([10]) -0.0007953137392178178\n",
            "net.7.4.weight torch.Size([10, 10, 1, 1]) 0.06721363961696625\n",
            "net.7.4.bias torch.Size([10]) -0.0014014809858053923\n"
          ]
        }
      ],
      "source": [
        "for k,v in nin_model.named_parameters():\n",
        "    print(k,v.shape,torch.mean(v).item())"
      ]
    },
    {
      "cell_type": "code",
      "execution_count": 40,
      "metadata": {},
      "outputs": [],
      "source": [
        "nin_with_one_params_name_set = set(dict(nin_with_one.named_parameters()).keys())\n",
        "nin_model_params_name_set = set(dict(nin_model.named_parameters()).keys())"
      ]
    },
    {
      "cell_type": "code",
      "execution_count": 43,
      "metadata": {},
      "outputs": [
        {
          "name": "stdout",
          "output_type": "stream",
          "text": [
            "{'net.2.2.weight', 'net.4.0.weight', 'net.4.4.bias', 'net.0.0.bias', 'net.2.2.bias', 'net.2.4.bias', 'net.0.2.weight', 'net.4.2.bias', 'net.2.0.weight', 'net.0.4.weight', 'net.7.0.bias', 'net.7.4.weight', 'net.2.4.weight', 'net.7.0.weight', 'net.4.2.weight', 'net.4.4.weight', 'net.7.2.weight', 'net.7.2.bias', 'net.0.4.bias', 'net.0.2.bias', 'net.0.0.weight', 'net.4.0.bias', 'net.7.4.bias', 'net.2.0.bias'} {'net.2.2.weight', 'net.4.0.weight', 'net.2.0.weight', 'net.7.2.weight', 'net.7.2.bias', 'net.4.2.weight', 'net.0.0.bias', 'net.7.0.bias', 'net.0.2.bias', 'net.0.0.weight', 'net.4.0.bias', 'net.2.2.bias', 'net.0.2.weight', 'net.4.2.bias', 'net.2.0.bias', 'net.7.0.weight'}\n"
          ]
        }
      ],
      "source": [
        "print(nin_model_params_name_set,nin_with_one_params_name_set)"
      ]
    },
    {
      "cell_type": "code",
      "execution_count": 45,
      "metadata": {},
      "outputs": [
        {
          "data": {
            "text/plain": [
              "True"
            ]
          },
          "execution_count": 45,
          "metadata": {},
          "output_type": "execute_result"
        }
      ],
      "source": [
        "nin_with_one_params_name_set.intersection(nin_model_params_name_set) ==  nin_with_one_params_name_set"
      ]
    },
    {
      "cell_type": "code",
      "execution_count": 49,
      "metadata": {},
      "outputs": [
        {
          "data": {
            "text/plain": [
              "{'net.0.4.bias',\n",
              " 'net.0.4.weight',\n",
              " 'net.2.4.bias',\n",
              " 'net.2.4.weight',\n",
              " 'net.4.4.bias',\n",
              " 'net.4.4.weight',\n",
              " 'net.7.4.bias',\n",
              " 'net.7.4.weight'}"
            ]
          },
          "execution_count": 49,
          "metadata": {},
          "output_type": "execute_result"
        }
      ],
      "source": [
        "to_remove = nin_model_params_name_set.difference(nin_with_one_params_name_set)\n",
        "to_remove"
      ]
    },
    {
      "cell_type": "code",
      "execution_count": 46,
      "metadata": {},
      "outputs": [],
      "source": [
        "nin_model_trained_state = torch.load(str(MODEL_SAVE_PATH/\"2023-02-04/NiN-12 16 43.pth\"),\n",
        "map_location=device)"
      ]
    },
    {
      "cell_type": "code",
      "execution_count": 50,
      "metadata": {},
      "outputs": [
        {
          "data": {
            "text/plain": [
              "odict_keys(['net.0.0.weight', 'net.0.0.bias', 'net.0.2.weight', 'net.0.2.bias', 'net.0.4.weight', 'net.0.4.bias', 'net.2.0.weight', 'net.2.0.bias', 'net.2.2.weight', 'net.2.2.bias', 'net.2.4.weight', 'net.2.4.bias', 'net.4.0.weight', 'net.4.0.bias', 'net.4.2.weight', 'net.4.2.bias', 'net.4.4.weight', 'net.4.4.bias', 'net.7.0.weight', 'net.7.0.bias', 'net.7.2.weight', 'net.7.2.bias', 'net.7.4.weight', 'net.7.4.bias'])"
            ]
          },
          "execution_count": 50,
          "metadata": {},
          "output_type": "execute_result"
        }
      ],
      "source": [
        "nin_model_trained_state.keys()"
      ]
    },
    {
      "cell_type": "code",
      "execution_count": 51,
      "metadata": {},
      "outputs": [],
      "source": [
        "for k in to_remove:\n",
        "    nin_model_trained_state.pop(k,None)"
      ]
    },
    {
      "cell_type": "code",
      "execution_count": 53,
      "metadata": {},
      "outputs": [
        {
          "data": {
            "text/plain": [
              "True"
            ]
          },
          "execution_count": 53,
          "metadata": {},
          "output_type": "execute_result"
        }
      ],
      "source": [
        "nin_model_trained_state.keys() == nin_with_one_params_name_set"
      ]
    },
    {
      "cell_type": "code",
      "execution_count": 54,
      "metadata": {},
      "outputs": [
        {
          "data": {
            "text/plain": [
              "<All keys matched successfully>"
            ]
          },
          "execution_count": 54,
          "metadata": {},
          "output_type": "execute_result"
        }
      ],
      "source": [
        "nin_with_one.load_state_dict(nin_model_trained_state)"
      ]
    },
    {
      "cell_type": "code",
      "execution_count": 55,
      "metadata": {},
      "outputs": [
        {
          "name": "stdout",
          "output_type": "stream",
          "text": [
            "net.0.0.weight 0.0037587641272693872\n",
            "net.0.0.bias 0.015867237001657486\n",
            "net.0.2.weight 0.0026520767714828253\n",
            "net.0.2.bias -0.00018765653658192605\n",
            "net.2.0.weight 4.5128883357392624e-05\n",
            "net.2.0.bias 0.00130382739007473\n",
            "net.2.2.weight 0.0003626644902396947\n",
            "net.2.2.bias 0.004320668056607246\n",
            "net.4.0.weight -7.330872904276475e-05\n",
            "net.4.0.bias 0.0019519954221323133\n",
            "net.4.2.weight -0.00015233020531013608\n",
            "net.4.2.bias 0.00045333290472626686\n",
            "net.7.0.weight 0.0005188440554775298\n",
            "net.7.0.bias 0.01394121628254652\n",
            "net.7.2.weight 0.015937888994812965\n",
            "net.7.2.bias -0.0007953137392178178\n"
          ]
        }
      ],
      "source": [
        "for k,v in nin_with_one.named_parameters():\n",
        "    print(k,torch.mean(v).item())"
      ]
    },
    {
      "attachments": {},
      "cell_type": "markdown",
      "metadata": {},
      "source": [
        "## Training the model"
      ]
    },
    {
      "cell_type": "code",
      "execution_count": 56,
      "metadata": {},
      "outputs": [
        {
          "name": "stdout",
          "output_type": "stream",
          "text": [
            "Training the model in cpu\n"
          ]
        }
      ],
      "source": [
        "trainer = helper.Trainer(max_epochs=10,model_save_path=MODEL_SAVE_PATH)"
      ]
    },
    {
      "cell_type": "code",
      "execution_count": 57,
      "metadata": {},
      "outputs": [
        {
          "data": {
            "application/vnd.jupyter.widget-view+json": {
              "model_id": "9f89a589e22b4f74808db2b3886215c4",
              "version_major": 2,
              "version_minor": 0
            },
            "text/plain": [
              "  0%|          | 0/10 [00:00<?, ?it/s]"
            ]
          },
          "metadata": {},
          "output_type": "display_data"
        },
        {
          "ename": "KeyboardInterrupt",
          "evalue": "",
          "output_type": "error",
          "traceback": [
            "\u001b[1;31m---------------------------------------------------------------------------\u001b[0m",
            "\u001b[1;31mKeyboardInterrupt\u001b[0m                         Traceback (most recent call last)",
            "Cell \u001b[1;32mIn [57], line 1\u001b[0m\n\u001b[1;32m----> 1\u001b[0m trainer\u001b[39m.\u001b[39;49mfit(nin_with_one,data)\n",
            "File \u001b[1;32mc:\\Users\\Lenovo\\DataspellProjects\\PyTorch2\\my_helper.py:234\u001b[0m, in \u001b[0;36mTrainer.fit\u001b[1;34m(self, model, data)\u001b[0m\n\u001b[0;32m    232\u001b[0m \u001b[39melse\u001b[39;00m:\n\u001b[0;32m    233\u001b[0m     \u001b[39mfor\u001b[39;00m epoch \u001b[39min\u001b[39;00m tqdm(\u001b[39mrange\u001b[39m(\u001b[39mself\u001b[39m\u001b[39m.\u001b[39mmax_epochs)):\n\u001b[1;32m--> 234\u001b[0m         \u001b[39mself\u001b[39;49m\u001b[39m.\u001b[39;49mfit_epoch()\n\u001b[0;32m    235\u001b[0m     \u001b[39mself\u001b[39m\u001b[39m.\u001b[39mani_plot\u001b[39m.\u001b[39mupdate(\u001b[39mself\u001b[39m\u001b[39m.\u001b[39mmax_epochs)\n\u001b[0;32m    237\u001b[0m     plt\u001b[39m.\u001b[39mshow()\n",
            "File \u001b[1;32mc:\\Users\\Lenovo\\DataspellProjects\\PyTorch2\\my_helper.py:246\u001b[0m, in \u001b[0;36mTrainer.fit_epoch\u001b[1;34m(self)\u001b[0m\n\u001b[0;32m    244\u001b[0m     \u001b[39mprint\u001b[39m(\u001b[39mf\u001b[39m\u001b[39m\"\u001b[39m\u001b[39m[INFO] Start Fitting per epoch\u001b[39m\u001b[39m\"\u001b[39m)\n\u001b[0;32m    245\u001b[0m \u001b[39m# do the training step\u001b[39;00m\n\u001b[1;32m--> 246\u001b[0m \u001b[39mself\u001b[39;49m\u001b[39m.\u001b[39;49mtrain_step()\n\u001b[0;32m    247\u001b[0m \u001b[39mif\u001b[39;00m \u001b[39mself\u001b[39m\u001b[39m.\u001b[39mval_dataloader \u001b[39mis\u001b[39;00m \u001b[39mNone\u001b[39;00m:\n\u001b[0;32m    248\u001b[0m     \u001b[39mreturn\u001b[39;00m\n",
            "File \u001b[1;32mc:\\Users\\Lenovo\\DataspellProjects\\PyTorch2\\my_helper.py:270\u001b[0m, in \u001b[0;36mTrainer.train_step\u001b[1;34m(self)\u001b[0m\n\u001b[0;32m    267\u001b[0m     \u001b[39mself\u001b[39m\u001b[39m.\u001b[39moptim\u001b[39m.\u001b[39mzero_grad()\n\u001b[0;32m    268\u001b[0m     \u001b[39mwith\u001b[39;00m torch\u001b[39m.\u001b[39mno_grad():\n\u001b[0;32m    269\u001b[0m         \u001b[39m# back propagate the loss\u001b[39;00m\n\u001b[1;32m--> 270\u001b[0m         loss\u001b[39m.\u001b[39;49mbackward()\n\u001b[0;32m    271\u001b[0m         \u001b[39mself\u001b[39m\u001b[39m.\u001b[39moptim\u001b[39m.\u001b[39mstep()\n\u001b[0;32m    272\u001b[0m \u001b[39m# print(batch_dict.keys())\u001b[39;00m\n",
            "File \u001b[1;32mc:\\Users\\Lenovo\\anaconda3\\envs\\py310\\lib\\site-packages\\torch\\_tensor.py:396\u001b[0m, in \u001b[0;36mTensor.backward\u001b[1;34m(self, gradient, retain_graph, create_graph, inputs)\u001b[0m\n\u001b[0;32m    387\u001b[0m \u001b[39mif\u001b[39;00m has_torch_function_unary(\u001b[39mself\u001b[39m):\n\u001b[0;32m    388\u001b[0m     \u001b[39mreturn\u001b[39;00m handle_torch_function(\n\u001b[0;32m    389\u001b[0m         Tensor\u001b[39m.\u001b[39mbackward,\n\u001b[0;32m    390\u001b[0m         (\u001b[39mself\u001b[39m,),\n\u001b[1;32m   (...)\u001b[0m\n\u001b[0;32m    394\u001b[0m         create_graph\u001b[39m=\u001b[39mcreate_graph,\n\u001b[0;32m    395\u001b[0m         inputs\u001b[39m=\u001b[39minputs)\n\u001b[1;32m--> 396\u001b[0m torch\u001b[39m.\u001b[39;49mautograd\u001b[39m.\u001b[39;49mbackward(\u001b[39mself\u001b[39;49m, gradient, retain_graph, create_graph, inputs\u001b[39m=\u001b[39;49minputs)\n",
            "File \u001b[1;32mc:\\Users\\Lenovo\\anaconda3\\envs\\py310\\lib\\site-packages\\torch\\autograd\\__init__.py:173\u001b[0m, in \u001b[0;36mbackward\u001b[1;34m(tensors, grad_tensors, retain_graph, create_graph, grad_variables, inputs)\u001b[0m\n\u001b[0;32m    168\u001b[0m     retain_graph \u001b[39m=\u001b[39m create_graph\n\u001b[0;32m    170\u001b[0m \u001b[39m# The reason we repeat same the comment below is that\u001b[39;00m\n\u001b[0;32m    171\u001b[0m \u001b[39m# some Python versions print out the first line of a multi-line function\u001b[39;00m\n\u001b[0;32m    172\u001b[0m \u001b[39m# calls in the traceback and some print out the last line\u001b[39;00m\n\u001b[1;32m--> 173\u001b[0m Variable\u001b[39m.\u001b[39;49m_execution_engine\u001b[39m.\u001b[39;49mrun_backward(  \u001b[39m# Calls into the C++ engine to run the backward pass\u001b[39;49;00m\n\u001b[0;32m    174\u001b[0m     tensors, grad_tensors_, retain_graph, create_graph, inputs,\n\u001b[0;32m    175\u001b[0m     allow_unreachable\u001b[39m=\u001b[39;49m\u001b[39mTrue\u001b[39;49;00m, accumulate_grad\u001b[39m=\u001b[39;49m\u001b[39mTrue\u001b[39;49;00m)\n",
            "\u001b[1;31mKeyboardInterrupt\u001b[0m: "
          ]
        },
        {
          "data": {
            "image/png": "[encoded data removed]",
            "text/plain": [
              "<Figure size 800x300 with 2 Axes>"
            ]
          },
          "metadata": {},
          "output_type": "display_data"
        }
      ],
      "source": [
        "trainer.fit(nin_with_one,data)"
      ]
    },
    {
      "cell_type": "code",
      "execution_count": null,
      "metadata": {},
      "outputs": [],
      "source": []
    }
  ],
  "metadata": {
    "accelerator": "GPU",
    "colab": {
      "provenance": []
    },
    "gpuClass": "standard",
    "kernelspec": {
      "display_name": "py310",
      "language": "python",
      "name": "python3"
    },
    "language_info": {
      "codemirror_mode": {
        "name": "ipython",
        "version": 3
      },
      "file_extension": ".py",
      "mimetype": "text/x-python",
      "name": "python",
      "nbconvert_exporter": "python",
      "pygments_lexer": "ipython3",
      "version": "3.10.6"
    },
    "orig_nbformat": 4,
    "vscode": {
      "interpreter": {
        "hash": "cf51ac970e033765f04eaa06b2d945d30ec4bd27f0fa0badbc17cd319e8357a7"
      }
    },
    "widgets": {
      "application/vnd.jupyter.widget-state+json": {
        "00fe97a06c6a4b5395cf7c00762d775a": {
          "model_module": "@jupyter-widgets/base",
          "model_module_version": "1.2.0",
          "model_name": "LayoutModel",
          "state": {
            "_model_module": "@jupyter-widgets/base",
            "_model_module_version": "1.2.0",
            "_model_name": "LayoutModel",
            "_view_count": null,
            "_view_module": "@jupyter-widgets/base",
            "_view_module_version": "1.2.0",
            "_view_name": "LayoutView",
            "align_content": null,
            "align_items": null,
            "align_self": null,
            "border": null,
            "bottom": null,
            "display": null,
            "flex": null,
            "flex_flow": null,
            "grid_area": null,
            "grid_auto_columns": null,
            "grid_auto_flow": null,
            "grid_auto_rows": null,
            "grid_column": null,
            "grid_gap": null,
            "grid_row": null,
            "grid_template_areas": null,
            "grid_template_columns": null,
            "grid_template_rows": null,
            "height": null,
            "justify_content": null,
            "justify_items": null,
            "left": null,
            "margin": null,
            "max_height": null,
            "max_width": null,
            "min_height": null,
            "min_width": null,
            "object_fit": null,
            "object_position": null,
            "order": null,
            "overflow": null,
            "overflow_x": null,
            "overflow_y": null,
            "padding": null,
            "right": null,
            "top": null,
            "visibility": null,
            "width": null
          }
        },
        "059a545bb7824260ac8d965560e7381e": {
          "model_module": "@jupyter-widgets/controls",
          "model_module_version": "1.5.0",
          "model_name": "DescriptionStyleModel",
          "state": {
            "_model_module": "@jupyter-widgets/controls",
            "_model_module_version": "1.5.0",
            "_model_name": "DescriptionStyleModel",
            "_view_count": null,
            "_view_module": "@jupyter-widgets/base",
            "_view_module_version": "1.2.0",
            "_view_name": "StyleView",
            "description_width": ""
          }
        },
        "0984c1e677954759bd4cb38c99cba83e": {
          "model_module": "@jupyter-widgets/controls",
          "model_module_version": "1.5.0",
          "model_name": "ProgressStyleModel",
          "state": {
            "_model_module": "@jupyter-widgets/controls",
            "_model_module_version": "1.5.0",
            "_model_name": "ProgressStyleModel",
            "_view_count": null,
            "_view_module": "@jupyter-widgets/base",
            "_view_module_version": "1.2.0",
            "_view_name": "StyleView",
            "bar_color": null,
            "description_width": ""
          }
        },
        "0b869075a5db425ba67f869dc07613eb": {
          "model_module": "@jupyter-widgets/controls",
          "model_module_version": "1.5.0",
          "model_name": "DescriptionStyleModel",
          "state": {
            "_model_module": "@jupyter-widgets/controls",
            "_model_module_version": "1.5.0",
            "_model_name": "DescriptionStyleModel",
            "_view_count": null,
            "_view_module": "@jupyter-widgets/base",
            "_view_module_version": "1.2.0",
            "_view_name": "StyleView",
            "description_width": ""
          }
        },
        "0cbc110367ab42db8a68f34119098020": {
          "model_module": "@jupyter-widgets/controls",
          "model_module_version": "1.5.0",
          "model_name": "DescriptionStyleModel",
          "state": {
            "_model_module": "@jupyter-widgets/controls",
            "_model_module_version": "1.5.0",
            "_model_name": "DescriptionStyleModel",
            "_view_count": null,
            "_view_module": "@jupyter-widgets/base",
            "_view_module_version": "1.2.0",
            "_view_name": "StyleView",
            "description_width": ""
          }
        },
        "1256d8562b814f1cb207605a13aa3f95": {
          "model_module": "@jupyter-widgets/base",
          "model_module_version": "1.2.0",
          "model_name": "LayoutModel",
          "state": {
            "_model_module": "@jupyter-widgets/base",
            "_model_module_version": "1.2.0",
            "_model_name": "LayoutModel",
            "_view_count": null,
            "_view_module": "@jupyter-widgets/base",
            "_view_module_version": "1.2.0",
            "_view_name": "LayoutView",
            "align_content": null,
            "align_items": null,
            "align_self": null,
            "border": null,
            "bottom": null,
            "display": null,
            "flex": null,
            "flex_flow": null,
            "grid_area": null,
            "grid_auto_columns": null,
            "grid_auto_flow": null,
            "grid_auto_rows": null,
            "grid_column": null,
            "grid_gap": null,
            "grid_row": null,
            "grid_template_areas": null,
            "grid_template_columns": null,
            "grid_template_rows": null,
            "height": null,
            "justify_content": null,
            "justify_items": null,
            "left": null,
            "margin": null,
            "max_height": null,
            "max_width": null,
            "min_height": null,
            "min_width": null,
            "object_fit": null,
            "object_position": null,
            "order": null,
            "overflow": null,
            "overflow_x": null,
            "overflow_y": null,
            "padding": null,
            "right": null,
            "top": null,
            "visibility": null,
            "width": null
          }
        },
        "1ec8fb9810a54227b38113e23e797375": {
          "model_module": "@jupyter-widgets/controls",
          "model_module_version": "1.5.0",
          "model_name": "FloatProgressModel",
          "state": {
            "_dom_classes": [],
            "_model_module": "@jupyter-widgets/controls",
            "_model_module_version": "1.5.0",
            "_model_name": "FloatProgressModel",
            "_view_count": null,
            "_view_module": "@jupyter-widgets/controls",
            "_view_module_version": "1.5.0",
            "_view_name": "ProgressView",
            "bar_style": "success",
            "description": "",
            "description_tooltip": null,
            "layout": "IPY_MODEL_dfa096285fb34b29ab5a4732b7a0ef6b",
            "max": 10,
            "min": 0,
            "orientation": "horizontal",
            "style": "IPY_MODEL_0984c1e677954759bd4cb38c99cba83e",
            "value": 10
          }
        },
        "24e35feac90f40ed9f92f9f4d2cd1798": {
          "model_module": "@jupyter-widgets/controls",
          "model_module_version": "1.5.0",
          "model_name": "DescriptionStyleModel",
          "state": {
            "_model_module": "@jupyter-widgets/controls",
            "_model_module_version": "1.5.0",
            "_model_name": "DescriptionStyleModel",
            "_view_count": null,
            "_view_module": "@jupyter-widgets/base",
            "_view_module_version": "1.2.0",
            "_view_name": "StyleView",
            "description_width": ""
          }
        },
        "2849dc1ec0044a5aa6077dafcb827143": {
          "model_module": "@jupyter-widgets/base",
          "model_module_version": "1.2.0",
          "model_name": "LayoutModel",
          "state": {
            "_model_module": "@jupyter-widgets/base",
            "_model_module_version": "1.2.0",
            "_model_name": "LayoutModel",
            "_view_count": null,
            "_view_module": "@jupyter-widgets/base",
            "_view_module_version": "1.2.0",
            "_view_name": "LayoutView",
            "align_content": null,
            "align_items": null,
            "align_self": null,
            "border": null,
            "bottom": null,
            "display": null,
            "flex": null,
            "flex_flow": null,
            "grid_area": null,
            "grid_auto_columns": null,
            "grid_auto_flow": null,
            "grid_auto_rows": null,
            "grid_column": null,
            "grid_gap": null,
            "grid_row": null,
            "grid_template_areas": null,
            "grid_template_columns": null,
            "grid_template_rows": null,
            "height": null,
            "justify_content": null,
            "justify_items": null,
            "left": null,
            "margin": null,
            "max_height": null,
            "max_width": null,
            "min_height": null,
            "min_width": null,
            "object_fit": null,
            "object_position": null,
            "order": null,
            "overflow": null,
            "overflow_x": null,
            "overflow_y": null,
            "padding": null,
            "right": null,
            "top": null,
            "visibility": null,
            "width": null
          }
        },
        "2a4229261c0044fe9e9774bdef3d4c26": {
          "model_module": "@jupyter-widgets/controls",
          "model_module_version": "1.5.0",
          "model_name": "HTMLModel",
          "state": {
            "_dom_classes": [],
            "_model_module": "@jupyter-widgets/controls",
            "_model_module_version": "1.5.0",
            "_model_name": "HTMLModel",
            "_view_count": null,
            "_view_module": "@jupyter-widgets/controls",
            "_view_module_version": "1.5.0",
            "_view_name": "HTMLView",
            "description": "",
            "description_tooltip": null,
            "layout": "IPY_MODEL_6a283d0cb3134f3b9770e5d63fb64cd7",
            "placeholder": "​",
            "style": "IPY_MODEL_0cbc110367ab42db8a68f34119098020",
            "value": "100%"
          }
        },
        "2b1dea24e8324522a0b8db6a05a88291": {
          "model_module": "@jupyter-widgets/controls",
          "model_module_version": "1.5.0",
          "model_name": "HBoxModel",
          "state": {
            "_dom_classes": [],
            "_model_module": "@jupyter-widgets/controls",
            "_model_module_version": "1.5.0",
            "_model_name": "HBoxModel",
            "_view_count": null,
            "_view_module": "@jupyter-widgets/controls",
            "_view_module_version": "1.5.0",
            "_view_name": "HBoxView",
            "box_style": "",
            "children": [
              "IPY_MODEL_d26e872723444f98aafcfd330226163e",
              "IPY_MODEL_8e60039998f645918b05c35c867d410e",
              "IPY_MODEL_f9162370b7a94e26a73701d7bd82b337"
            ],
            "layout": "IPY_MODEL_49e7031674274ff7bc033b06a276dec5"
          }
        },
        "319585d5a2104701954282b130744ad1": {
          "model_module": "@jupyter-widgets/base",
          "model_module_version": "1.2.0",
          "model_name": "LayoutModel",
          "state": {
            "_model_module": "@jupyter-widgets/base",
            "_model_module_version": "1.2.0",
            "_model_name": "LayoutModel",
            "_view_count": null,
            "_view_module": "@jupyter-widgets/base",
            "_view_module_version": "1.2.0",
            "_view_name": "LayoutView",
            "align_content": null,
            "align_items": null,
            "align_self": null,
            "border": null,
            "bottom": null,
            "display": null,
            "flex": null,
            "flex_flow": null,
            "grid_area": null,
            "grid_auto_columns": null,
            "grid_auto_flow": null,
            "grid_auto_rows": null,
            "grid_column": null,
            "grid_gap": null,
            "grid_row": null,
            "grid_template_areas": null,
            "grid_template_columns": null,
            "grid_template_rows": null,
            "height": null,
            "justify_content": null,
            "justify_items": null,
            "left": null,
            "margin": null,
            "max_height": null,
            "max_width": null,
            "min_height": null,
            "min_width": null,
            "object_fit": null,
            "object_position": null,
            "order": null,
            "overflow": null,
            "overflow_x": null,
            "overflow_y": null,
            "padding": null,
            "right": null,
            "top": null,
            "visibility": null,
            "width": null
          }
        },
        "3223d2fad8164aa8999b34edf1178b5a": {
          "model_module": "@jupyter-widgets/controls",
          "model_module_version": "1.5.0",
          "model_name": "DescriptionStyleModel",
          "state": {
            "_model_module": "@jupyter-widgets/controls",
            "_model_module_version": "1.5.0",
            "_model_name": "DescriptionStyleModel",
            "_view_count": null,
            "_view_module": "@jupyter-widgets/base",
            "_view_module_version": "1.2.0",
            "_view_name": "StyleView",
            "description_width": ""
          }
        },
        "3427a3e4b2914667b613284bd811e6ec": {
          "model_module": "@jupyter-widgets/controls",
          "model_module_version": "1.5.0",
          "model_name": "HTMLModel",
          "state": {
            "_dom_classes": [],
            "_model_module": "@jupyter-widgets/controls",
            "_model_module_version": "1.5.0",
            "_model_name": "HTMLModel",
            "_view_count": null,
            "_view_module": "@jupyter-widgets/controls",
            "_view_module_version": "1.5.0",
            "_view_name": "HTMLView",
            "description": "",
            "description_tooltip": null,
            "layout": "IPY_MODEL_7754a3e9681d48a18ffb021e43909f87",
            "placeholder": "​",
            "style": "IPY_MODEL_0b869075a5db425ba67f869dc07613eb",
            "value": "100%"
          }
        },
        "34394d1c54fc47c5a54a0af9d57d7d87": {
          "model_module": "@jupyter-widgets/base",
          "model_module_version": "1.2.0",
          "model_name": "LayoutModel",
          "state": {
            "_model_module": "@jupyter-widgets/base",
            "_model_module_version": "1.2.0",
            "_model_name": "LayoutModel",
            "_view_count": null,
            "_view_module": "@jupyter-widgets/base",
            "_view_module_version": "1.2.0",
            "_view_name": "LayoutView",
            "align_content": null,
            "align_items": null,
            "align_self": null,
            "border": null,
            "bottom": null,
            "display": null,
            "flex": null,
            "flex_flow": null,
            "grid_area": null,
            "grid_auto_columns": null,
            "grid_auto_flow": null,
            "grid_auto_rows": null,
            "grid_column": null,
            "grid_gap": null,
            "grid_row": null,
            "grid_template_areas": null,
            "grid_template_columns": null,
            "grid_template_rows": null,
            "height": null,
            "justify_content": null,
            "justify_items": null,
            "left": null,
            "margin": null,
            "max_height": null,
            "max_width": null,
            "min_height": null,
            "min_width": null,
            "object_fit": null,
            "object_position": null,
            "order": null,
            "overflow": null,
            "overflow_x": null,
            "overflow_y": null,
            "padding": null,
            "right": null,
            "top": null,
            "visibility": null,
            "width": null
          }
        },
        "3679405fedba45d88f33f53424b6e568": {
          "model_module": "@jupyter-widgets/controls",
          "model_module_version": "1.5.0",
          "model_name": "HBoxModel",
          "state": {
            "_dom_classes": [],
            "_model_module": "@jupyter-widgets/controls",
            "_model_module_version": "1.5.0",
            "_model_name": "HBoxModel",
            "_view_count": null,
            "_view_module": "@jupyter-widgets/controls",
            "_view_module_version": "1.5.0",
            "_view_name": "HBoxView",
            "box_style": "",
            "children": [
              "IPY_MODEL_2a4229261c0044fe9e9774bdef3d4c26",
              "IPY_MODEL_1ec8fb9810a54227b38113e23e797375",
              "IPY_MODEL_57fd4a2ea7d34038a81d63d908cd223c"
            ],
            "layout": "IPY_MODEL_ab91bce59c3a491d9ab743119a3ec6ba"
          }
        },
        "3cde1c989a8f47838207dfa66765c140": {
          "model_module": "@jupyter-widgets/controls",
          "model_module_version": "1.5.0",
          "model_name": "DescriptionStyleModel",
          "state": {
            "_model_module": "@jupyter-widgets/controls",
            "_model_module_version": "1.5.0",
            "_model_name": "DescriptionStyleModel",
            "_view_count": null,
            "_view_module": "@jupyter-widgets/base",
            "_view_module_version": "1.2.0",
            "_view_name": "StyleView",
            "description_width": ""
          }
        },
        "3e444a7bce164e2e96aa97e9c104ee28": {
          "model_module": "@jupyter-widgets/base",
          "model_module_version": "1.2.0",
          "model_name": "LayoutModel",
          "state": {
            "_model_module": "@jupyter-widgets/base",
            "_model_module_version": "1.2.0",
            "_model_name": "LayoutModel",
            "_view_count": null,
            "_view_module": "@jupyter-widgets/base",
            "_view_module_version": "1.2.0",
            "_view_name": "LayoutView",
            "align_content": null,
            "align_items": null,
            "align_self": null,
            "border": null,
            "bottom": null,
            "display": null,
            "flex": null,
            "flex_flow": null,
            "grid_area": null,
            "grid_auto_columns": null,
            "grid_auto_flow": null,
            "grid_auto_rows": null,
            "grid_column": null,
            "grid_gap": null,
            "grid_row": null,
            "grid_template_areas": null,
            "grid_template_columns": null,
            "grid_template_rows": null,
            "height": null,
            "justify_content": null,
            "justify_items": null,
            "left": null,
            "margin": null,
            "max_height": null,
            "max_width": null,
            "min_height": null,
            "min_width": null,
            "object_fit": null,
            "object_position": null,
            "order": null,
            "overflow": null,
            "overflow_x": null,
            "overflow_y": null,
            "padding": null,
            "right": null,
            "top": null,
            "visibility": null,
            "width": null
          }
        },
        "44752a6ba0ec4ac1b1d022dcb67581fa": {
          "model_module": "@jupyter-widgets/controls",
          "model_module_version": "1.5.0",
          "model_name": "FloatProgressModel",
          "state": {
            "_dom_classes": [],
            "_model_module": "@jupyter-widgets/controls",
            "_model_module_version": "1.5.0",
            "_model_name": "FloatProgressModel",
            "_view_count": null,
            "_view_module": "@jupyter-widgets/controls",
            "_view_module_version": "1.5.0",
            "_view_name": "ProgressView",
            "bar_style": "success",
            "description": "",
            "description_tooltip": null,
            "layout": "IPY_MODEL_1256d8562b814f1cb207605a13aa3f95",
            "max": 29515,
            "min": 0,
            "orientation": "horizontal",
            "style": "IPY_MODEL_c783117addab4a66a47a3b35fca17fab",
            "value": 29515
          }
        },
        "450b72180b974d9c9056a1d9f4b2d72a": {
          "model_module": "@jupyter-widgets/base",
          "model_module_version": "1.2.0",
          "model_name": "LayoutModel",
          "state": {
            "_model_module": "@jupyter-widgets/base",
            "_model_module_version": "1.2.0",
            "_model_name": "LayoutModel",
            "_view_count": null,
            "_view_module": "@jupyter-widgets/base",
            "_view_module_version": "1.2.0",
            "_view_name": "LayoutView",
            "align_content": null,
            "align_items": null,
            "align_self": null,
            "border": null,
            "bottom": null,
            "display": null,
            "flex": null,
            "flex_flow": null,
            "grid_area": null,
            "grid_auto_columns": null,
            "grid_auto_flow": null,
            "grid_auto_rows": null,
            "grid_column": null,
            "grid_gap": null,
            "grid_row": null,
            "grid_template_areas": null,
            "grid_template_columns": null,
            "grid_template_rows": null,
            "height": null,
            "justify_content": null,
            "justify_items": null,
            "left": null,
            "margin": null,
            "max_height": null,
            "max_width": null,
            "min_height": null,
            "min_width": null,
            "object_fit": null,
            "object_position": null,
            "order": null,
            "overflow": null,
            "overflow_x": null,
            "overflow_y": null,
            "padding": null,
            "right": null,
            "top": null,
            "visibility": null,
            "width": null
          }
        },
        "4879d948776e49a2969028f7f614d0f3": {
          "model_module": "@jupyter-widgets/controls",
          "model_module_version": "1.5.0",
          "model_name": "ProgressStyleModel",
          "state": {
            "_model_module": "@jupyter-widgets/controls",
            "_model_module_version": "1.5.0",
            "_model_name": "ProgressStyleModel",
            "_view_count": null,
            "_view_module": "@jupyter-widgets/base",
            "_view_module_version": "1.2.0",
            "_view_name": "StyleView",
            "bar_color": null,
            "description_width": ""
          }
        },
        "49e7031674274ff7bc033b06a276dec5": {
          "model_module": "@jupyter-widgets/base",
          "model_module_version": "1.2.0",
          "model_name": "LayoutModel",
          "state": {
            "_model_module": "@jupyter-widgets/base",
            "_model_module_version": "1.2.0",
            "_model_name": "LayoutModel",
            "_view_count": null,
            "_view_module": "@jupyter-widgets/base",
            "_view_module_version": "1.2.0",
            "_view_name": "LayoutView",
            "align_content": null,
            "align_items": null,
            "align_self": null,
            "border": null,
            "bottom": null,
            "display": null,
            "flex": null,
            "flex_flow": null,
            "grid_area": null,
            "grid_auto_columns": null,
            "grid_auto_flow": null,
            "grid_auto_rows": null,
            "grid_column": null,
            "grid_gap": null,
            "grid_row": null,
            "grid_template_areas": null,
            "grid_template_columns": null,
            "grid_template_rows": null,
            "height": null,
            "justify_content": null,
            "justify_items": null,
            "left": null,
            "margin": null,
            "max_height": null,
            "max_width": null,
            "min_height": null,
            "min_width": null,
            "object_fit": null,
            "object_position": null,
            "order": null,
            "overflow": null,
            "overflow_x": null,
            "overflow_y": null,
            "padding": null,
            "right": null,
            "top": null,
            "visibility": null,
            "width": null
          }
        },
        "4ffc145056a742778cd77af9c9e89799": {
          "model_module": "@jupyter-widgets/controls",
          "model_module_version": "1.5.0",
          "model_name": "HTMLModel",
          "state": {
            "_dom_classes": [],
            "_model_module": "@jupyter-widgets/controls",
            "_model_module_version": "1.5.0",
            "_model_name": "HTMLModel",
            "_view_count": null,
            "_view_module": "@jupyter-widgets/controls",
            "_view_module_version": "1.5.0",
            "_view_name": "HTMLView",
            "description": "",
            "description_tooltip": null,
            "layout": "IPY_MODEL_705513e8dd3e4a90866da3c5ba086e67",
            "placeholder": "​",
            "style": "IPY_MODEL_3223d2fad8164aa8999b34edf1178b5a",
            "value": " 4422102/4422102 [00:00&lt;00:00, 52299910.07it/s]"
          }
        },
        "511f4383a64f43fb99900d0278998d58": {
          "model_module": "@jupyter-widgets/controls",
          "model_module_version": "1.5.0",
          "model_name": "HTMLModel",
          "state": {
            "_dom_classes": [],
            "_model_module": "@jupyter-widgets/controls",
            "_model_module_version": "1.5.0",
            "_model_name": "HTMLModel",
            "_view_count": null,
            "_view_module": "@jupyter-widgets/controls",
            "_view_module_version": "1.5.0",
            "_view_name": "HTMLView",
            "description": "",
            "description_tooltip": null,
            "layout": "IPY_MODEL_34394d1c54fc47c5a54a0af9d57d7d87",
            "placeholder": "​",
            "style": "IPY_MODEL_b25def3a31134f1d8e97a2067531a877",
            "value": "100%"
          }
        },
        "57fd4a2ea7d34038a81d63d908cd223c": {
          "model_module": "@jupyter-widgets/controls",
          "model_module_version": "1.5.0",
          "model_name": "HTMLModel",
          "state": {
            "_dom_classes": [],
            "_model_module": "@jupyter-widgets/controls",
            "_model_module_version": "1.5.0",
            "_model_name": "HTMLModel",
            "_view_count": null,
            "_view_module": "@jupyter-widgets/controls",
            "_view_module_version": "1.5.0",
            "_view_name": "HTMLView",
            "description": "",
            "description_tooltip": null,
            "layout": "IPY_MODEL_f4026c12cc7c4baf80546546fa5432d3",
            "placeholder": "​",
            "style": "IPY_MODEL_3cde1c989a8f47838207dfa66765c140",
            "value": " 10/10 [11:18&lt;00:00, 68.47s/it]"
          }
        },
        "5f33b7eaa69a4b5d9fd416ff72d28751": {
          "model_module": "@jupyter-widgets/base",
          "model_module_version": "1.2.0",
          "model_name": "LayoutModel",
          "state": {
            "_model_module": "@jupyter-widgets/base",
            "_model_module_version": "1.2.0",
            "_model_name": "LayoutModel",
            "_view_count": null,
            "_view_module": "@jupyter-widgets/base",
            "_view_module_version": "1.2.0",
            "_view_name": "LayoutView",
            "align_content": null,
            "align_items": null,
            "align_self": null,
            "border": null,
            "bottom": null,
            "display": null,
            "flex": null,
            "flex_flow": null,
            "grid_area": null,
            "grid_auto_columns": null,
            "grid_auto_flow": null,
            "grid_auto_rows": null,
            "grid_column": null,
            "grid_gap": null,
            "grid_row": null,
            "grid_template_areas": null,
            "grid_template_columns": null,
            "grid_template_rows": null,
            "height": null,
            "justify_content": null,
            "justify_items": null,
            "left": null,
            "margin": null,
            "max_height": null,
            "max_width": null,
            "min_height": null,
            "min_width": null,
            "object_fit": null,
            "object_position": null,
            "order": null,
            "overflow": null,
            "overflow_x": null,
            "overflow_y": null,
            "padding": null,
            "right": null,
            "top": null,
            "visibility": null,
            "width": null
          }
        },
        "64db5aa74f714ba69e8f546dd6c5f6ae": {
          "model_module": "@jupyter-widgets/controls",
          "model_module_version": "1.5.0",
          "model_name": "FloatProgressModel",
          "state": {
            "_dom_classes": [],
            "_model_module": "@jupyter-widgets/controls",
            "_model_module_version": "1.5.0",
            "_model_name": "FloatProgressModel",
            "_view_count": null,
            "_view_module": "@jupyter-widgets/controls",
            "_view_module_version": "1.5.0",
            "_view_name": "ProgressView",
            "bar_style": "success",
            "description": "",
            "description_tooltip": null,
            "layout": "IPY_MODEL_cc612b9434e741ffbd241dd2093ef0c5",
            "max": 5148,
            "min": 0,
            "orientation": "horizontal",
            "style": "IPY_MODEL_4879d948776e49a2969028f7f614d0f3",
            "value": 5148
          }
        },
        "6a283d0cb3134f3b9770e5d63fb64cd7": {
          "model_module": "@jupyter-widgets/base",
          "model_module_version": "1.2.0",
          "model_name": "LayoutModel",
          "state": {
            "_model_module": "@jupyter-widgets/base",
            "_model_module_version": "1.2.0",
            "_model_name": "LayoutModel",
            "_view_count": null,
            "_view_module": "@jupyter-widgets/base",
            "_view_module_version": "1.2.0",
            "_view_name": "LayoutView",
            "align_content": null,
            "align_items": null,
            "align_self": null,
            "border": null,
            "bottom": null,
            "display": null,
            "flex": null,
            "flex_flow": null,
            "grid_area": null,
            "grid_auto_columns": null,
            "grid_auto_flow": null,
            "grid_auto_rows": null,
            "grid_column": null,
            "grid_gap": null,
            "grid_row": null,
            "grid_template_areas": null,
            "grid_template_columns": null,
            "grid_template_rows": null,
            "height": null,
            "justify_content": null,
            "justify_items": null,
            "left": null,
            "margin": null,
            "max_height": null,
            "max_width": null,
            "min_height": null,
            "min_width": null,
            "object_fit": null,
            "object_position": null,
            "order": null,
            "overflow": null,
            "overflow_x": null,
            "overflow_y": null,
            "padding": null,
            "right": null,
            "top": null,
            "visibility": null,
            "width": null
          }
        },
        "6d909dd23f2448dc8db4dda22282a01b": {
          "model_module": "@jupyter-widgets/controls",
          "model_module_version": "1.5.0",
          "model_name": "HTMLModel",
          "state": {
            "_dom_classes": [],
            "_model_module": "@jupyter-widgets/controls",
            "_model_module_version": "1.5.0",
            "_model_name": "HTMLModel",
            "_view_count": null,
            "_view_module": "@jupyter-widgets/controls",
            "_view_module_version": "1.5.0",
            "_view_name": "HTMLView",
            "description": "",
            "description_tooltip": null,
            "layout": "IPY_MODEL_5f33b7eaa69a4b5d9fd416ff72d28751",
            "placeholder": "​",
            "style": "IPY_MODEL_059a545bb7824260ac8d965560e7381e",
            "value": " 29515/29515 [00:00&lt;00:00, 1062671.75it/s]"
          }
        },
        "705513e8dd3e4a90866da3c5ba086e67": {
          "model_module": "@jupyter-widgets/base",
          "model_module_version": "1.2.0",
          "model_name": "LayoutModel",
          "state": {
            "_model_module": "@jupyter-widgets/base",
            "_model_module_version": "1.2.0",
            "_model_name": "LayoutModel",
            "_view_count": null,
            "_view_module": "@jupyter-widgets/base",
            "_view_module_version": "1.2.0",
            "_view_name": "LayoutView",
            "align_content": null,
            "align_items": null,
            "align_self": null,
            "border": null,
            "bottom": null,
            "display": null,
            "flex": null,
            "flex_flow": null,
            "grid_area": null,
            "grid_auto_columns": null,
            "grid_auto_flow": null,
            "grid_auto_rows": null,
            "grid_column": null,
            "grid_gap": null,
            "grid_row": null,
            "grid_template_areas": null,
            "grid_template_columns": null,
            "grid_template_rows": null,
            "height": null,
            "justify_content": null,
            "justify_items": null,
            "left": null,
            "margin": null,
            "max_height": null,
            "max_width": null,
            "min_height": null,
            "min_width": null,
            "object_fit": null,
            "object_position": null,
            "order": null,
            "overflow": null,
            "overflow_x": null,
            "overflow_y": null,
            "padding": null,
            "right": null,
            "top": null,
            "visibility": null,
            "width": null
          }
        },
        "73e23b4da7d74e04a9c43754fc27f477": {
          "model_module": "@jupyter-widgets/controls",
          "model_module_version": "1.5.0",
          "model_name": "DescriptionStyleModel",
          "state": {
            "_model_module": "@jupyter-widgets/controls",
            "_model_module_version": "1.5.0",
            "_model_name": "DescriptionStyleModel",
            "_view_count": null,
            "_view_module": "@jupyter-widgets/base",
            "_view_module_version": "1.2.0",
            "_view_name": "StyleView",
            "description_width": ""
          }
        },
        "7754a3e9681d48a18ffb021e43909f87": {
          "model_module": "@jupyter-widgets/base",
          "model_module_version": "1.2.0",
          "model_name": "LayoutModel",
          "state": {
            "_model_module": "@jupyter-widgets/base",
            "_model_module_version": "1.2.0",
            "_model_name": "LayoutModel",
            "_view_count": null,
            "_view_module": "@jupyter-widgets/base",
            "_view_module_version": "1.2.0",
            "_view_name": "LayoutView",
            "align_content": null,
            "align_items": null,
            "align_self": null,
            "border": null,
            "bottom": null,
            "display": null,
            "flex": null,
            "flex_flow": null,
            "grid_area": null,
            "grid_auto_columns": null,
            "grid_auto_flow": null,
            "grid_auto_rows": null,
            "grid_column": null,
            "grid_gap": null,
            "grid_row": null,
            "grid_template_areas": null,
            "grid_template_columns": null,
            "grid_template_rows": null,
            "height": null,
            "justify_content": null,
            "justify_items": null,
            "left": null,
            "margin": null,
            "max_height": null,
            "max_width": null,
            "min_height": null,
            "min_width": null,
            "object_fit": null,
            "object_position": null,
            "order": null,
            "overflow": null,
            "overflow_x": null,
            "overflow_y": null,
            "padding": null,
            "right": null,
            "top": null,
            "visibility": null,
            "width": null
          }
        },
        "778da9c14773493dbec05f5b2aa95c96": {
          "model_module": "@jupyter-widgets/controls",
          "model_module_version": "1.5.0",
          "model_name": "DescriptionStyleModel",
          "state": {
            "_model_module": "@jupyter-widgets/controls",
            "_model_module_version": "1.5.0",
            "_model_name": "DescriptionStyleModel",
            "_view_count": null,
            "_view_module": "@jupyter-widgets/base",
            "_view_module_version": "1.2.0",
            "_view_name": "StyleView",
            "description_width": ""
          }
        },
        "8e60039998f645918b05c35c867d410e": {
          "model_module": "@jupyter-widgets/controls",
          "model_module_version": "1.5.0",
          "model_name": "FloatProgressModel",
          "state": {
            "_dom_classes": [],
            "_model_module": "@jupyter-widgets/controls",
            "_model_module_version": "1.5.0",
            "_model_name": "FloatProgressModel",
            "_view_count": null,
            "_view_module": "@jupyter-widgets/controls",
            "_view_module_version": "1.5.0",
            "_view_name": "ProgressView",
            "bar_style": "success",
            "description": "",
            "description_tooltip": null,
            "layout": "IPY_MODEL_d07065d3795e4b279c41f0b4a342c639",
            "max": 26421880,
            "min": 0,
            "orientation": "horizontal",
            "style": "IPY_MODEL_c11aa27b0b3c49579ea7df272d45c198",
            "value": 26421880
          }
        },
        "925f34941a4c49b2ad02366c966ff982": {
          "model_module": "@jupyter-widgets/base",
          "model_module_version": "1.2.0",
          "model_name": "LayoutModel",
          "state": {
            "_model_module": "@jupyter-widgets/base",
            "_model_module_version": "1.2.0",
            "_model_name": "LayoutModel",
            "_view_count": null,
            "_view_module": "@jupyter-widgets/base",
            "_view_module_version": "1.2.0",
            "_view_name": "LayoutView",
            "align_content": null,
            "align_items": null,
            "align_self": null,
            "border": null,
            "bottom": null,
            "display": null,
            "flex": null,
            "flex_flow": null,
            "grid_area": null,
            "grid_auto_columns": null,
            "grid_auto_flow": null,
            "grid_auto_rows": null,
            "grid_column": null,
            "grid_gap": null,
            "grid_row": null,
            "grid_template_areas": null,
            "grid_template_columns": null,
            "grid_template_rows": null,
            "height": null,
            "justify_content": null,
            "justify_items": null,
            "left": null,
            "margin": null,
            "max_height": null,
            "max_width": null,
            "min_height": null,
            "min_width": null,
            "object_fit": null,
            "object_position": null,
            "order": null,
            "overflow": null,
            "overflow_x": null,
            "overflow_y": null,
            "padding": null,
            "right": null,
            "top": null,
            "visibility": null,
            "width": null
          }
        },
        "9a5f9726893a43db8071908545ca3730": {
          "model_module": "@jupyter-widgets/controls",
          "model_module_version": "1.5.0",
          "model_name": "HBoxModel",
          "state": {
            "_dom_classes": [],
            "_model_module": "@jupyter-widgets/controls",
            "_model_module_version": "1.5.0",
            "_model_name": "HBoxModel",
            "_view_count": null,
            "_view_module": "@jupyter-widgets/controls",
            "_view_module_version": "1.5.0",
            "_view_name": "HBoxView",
            "box_style": "",
            "children": [
              "IPY_MODEL_3427a3e4b2914667b613284bd811e6ec",
              "IPY_MODEL_d041e15a35944136bae76c244d37ec1c",
              "IPY_MODEL_4ffc145056a742778cd77af9c9e89799"
            ],
            "layout": "IPY_MODEL_925f34941a4c49b2ad02366c966ff982"
          }
        },
        "ab91bce59c3a491d9ab743119a3ec6ba": {
          "model_module": "@jupyter-widgets/base",
          "model_module_version": "1.2.0",
          "model_name": "LayoutModel",
          "state": {
            "_model_module": "@jupyter-widgets/base",
            "_model_module_version": "1.2.0",
            "_model_name": "LayoutModel",
            "_view_count": null,
            "_view_module": "@jupyter-widgets/base",
            "_view_module_version": "1.2.0",
            "_view_name": "LayoutView",
            "align_content": null,
            "align_items": null,
            "align_self": null,
            "border": null,
            "bottom": null,
            "display": null,
            "flex": null,
            "flex_flow": null,
            "grid_area": null,
            "grid_auto_columns": null,
            "grid_auto_flow": null,
            "grid_auto_rows": null,
            "grid_column": null,
            "grid_gap": null,
            "grid_row": null,
            "grid_template_areas": null,
            "grid_template_columns": null,
            "grid_template_rows": null,
            "height": null,
            "justify_content": null,
            "justify_items": null,
            "left": null,
            "margin": null,
            "max_height": null,
            "max_width": null,
            "min_height": null,
            "min_width": null,
            "object_fit": null,
            "object_position": null,
            "order": null,
            "overflow": null,
            "overflow_x": null,
            "overflow_y": null,
            "padding": null,
            "right": null,
            "top": null,
            "visibility": null,
            "width": null
          }
        },
        "b25def3a31134f1d8e97a2067531a877": {
          "model_module": "@jupyter-widgets/controls",
          "model_module_version": "1.5.0",
          "model_name": "DescriptionStyleModel",
          "state": {
            "_model_module": "@jupyter-widgets/controls",
            "_model_module_version": "1.5.0",
            "_model_name": "DescriptionStyleModel",
            "_view_count": null,
            "_view_module": "@jupyter-widgets/base",
            "_view_module_version": "1.2.0",
            "_view_name": "StyleView",
            "description_width": ""
          }
        },
        "c0e2b6e2e2f5447085f51b702acd627c": {
          "model_module": "@jupyter-widgets/controls",
          "model_module_version": "1.5.0",
          "model_name": "HTMLModel",
          "state": {
            "_dom_classes": [],
            "_model_module": "@jupyter-widgets/controls",
            "_model_module_version": "1.5.0",
            "_model_name": "HTMLModel",
            "_view_count": null,
            "_view_module": "@jupyter-widgets/controls",
            "_view_module_version": "1.5.0",
            "_view_name": "HTMLView",
            "description": "",
            "description_tooltip": null,
            "layout": "IPY_MODEL_c60aa72bffaa434c81e1267df46d2e57",
            "placeholder": "​",
            "style": "IPY_MODEL_caab5795c066475d8c4254a250a8cb25",
            "value": "100%"
          }
        },
        "c11aa27b0b3c49579ea7df272d45c198": {
          "model_module": "@jupyter-widgets/controls",
          "model_module_version": "1.5.0",
          "model_name": "ProgressStyleModel",
          "state": {
            "_model_module": "@jupyter-widgets/controls",
            "_model_module_version": "1.5.0",
            "_model_name": "ProgressStyleModel",
            "_view_count": null,
            "_view_module": "@jupyter-widgets/base",
            "_view_module_version": "1.2.0",
            "_view_name": "StyleView",
            "bar_color": null,
            "description_width": ""
          }
        },
        "c60aa72bffaa434c81e1267df46d2e57": {
          "model_module": "@jupyter-widgets/base",
          "model_module_version": "1.2.0",
          "model_name": "LayoutModel",
          "state": {
            "_model_module": "@jupyter-widgets/base",
            "_model_module_version": "1.2.0",
            "_model_name": "LayoutModel",
            "_view_count": null,
            "_view_module": "@jupyter-widgets/base",
            "_view_module_version": "1.2.0",
            "_view_name": "LayoutView",
            "align_content": null,
            "align_items": null,
            "align_self": null,
            "border": null,
            "bottom": null,
            "display": null,
            "flex": null,
            "flex_flow": null,
            "grid_area": null,
            "grid_auto_columns": null,
            "grid_auto_flow": null,
            "grid_auto_rows": null,
            "grid_column": null,
            "grid_gap": null,
            "grid_row": null,
            "grid_template_areas": null,
            "grid_template_columns": null,
            "grid_template_rows": null,
            "height": null,
            "justify_content": null,
            "justify_items": null,
            "left": null,
            "margin": null,
            "max_height": null,
            "max_width": null,
            "min_height": null,
            "min_width": null,
            "object_fit": null,
            "object_position": null,
            "order": null,
            "overflow": null,
            "overflow_x": null,
            "overflow_y": null,
            "padding": null,
            "right": null,
            "top": null,
            "visibility": null,
            "width": null
          }
        },
        "c783117addab4a66a47a3b35fca17fab": {
          "model_module": "@jupyter-widgets/controls",
          "model_module_version": "1.5.0",
          "model_name": "ProgressStyleModel",
          "state": {
            "_model_module": "@jupyter-widgets/controls",
            "_model_module_version": "1.5.0",
            "_model_name": "ProgressStyleModel",
            "_view_count": null,
            "_view_module": "@jupyter-widgets/base",
            "_view_module_version": "1.2.0",
            "_view_name": "StyleView",
            "bar_color": null,
            "description_width": ""
          }
        },
        "caab5795c066475d8c4254a250a8cb25": {
          "model_module": "@jupyter-widgets/controls",
          "model_module_version": "1.5.0",
          "model_name": "DescriptionStyleModel",
          "state": {
            "_model_module": "@jupyter-widgets/controls",
            "_model_module_version": "1.5.0",
            "_model_name": "DescriptionStyleModel",
            "_view_count": null,
            "_view_module": "@jupyter-widgets/base",
            "_view_module_version": "1.2.0",
            "_view_name": "StyleView",
            "description_width": ""
          }
        },
        "cc612b9434e741ffbd241dd2093ef0c5": {
          "model_module": "@jupyter-widgets/base",
          "model_module_version": "1.2.0",
          "model_name": "LayoutModel",
          "state": {
            "_model_module": "@jupyter-widgets/base",
            "_model_module_version": "1.2.0",
            "_model_name": "LayoutModel",
            "_view_count": null,
            "_view_module": "@jupyter-widgets/base",
            "_view_module_version": "1.2.0",
            "_view_name": "LayoutView",
            "align_content": null,
            "align_items": null,
            "align_self": null,
            "border": null,
            "bottom": null,
            "display": null,
            "flex": null,
            "flex_flow": null,
            "grid_area": null,
            "grid_auto_columns": null,
            "grid_auto_flow": null,
            "grid_auto_rows": null,
            "grid_column": null,
            "grid_gap": null,
            "grid_row": null,
            "grid_template_areas": null,
            "grid_template_columns": null,
            "grid_template_rows": null,
            "height": null,
            "justify_content": null,
            "justify_items": null,
            "left": null,
            "margin": null,
            "max_height": null,
            "max_width": null,
            "min_height": null,
            "min_width": null,
            "object_fit": null,
            "object_position": null,
            "order": null,
            "overflow": null,
            "overflow_x": null,
            "overflow_y": null,
            "padding": null,
            "right": null,
            "top": null,
            "visibility": null,
            "width": null
          }
        },
        "cf1e865f9d5a4dbebc701055efa278c2": {
          "model_module": "@jupyter-widgets/controls",
          "model_module_version": "1.5.0",
          "model_name": "HBoxModel",
          "state": {
            "_dom_classes": [],
            "_model_module": "@jupyter-widgets/controls",
            "_model_module_version": "1.5.0",
            "_model_name": "HBoxModel",
            "_view_count": null,
            "_view_module": "@jupyter-widgets/controls",
            "_view_module_version": "1.5.0",
            "_view_name": "HBoxView",
            "box_style": "",
            "children": [
              "IPY_MODEL_511f4383a64f43fb99900d0278998d58",
              "IPY_MODEL_64db5aa74f714ba69e8f546dd6c5f6ae",
              "IPY_MODEL_cf6a4fc5b79b498cb35982be329982c7"
            ],
            "layout": "IPY_MODEL_f0a2e9546f5f448c8b27768937012a36"
          }
        },
        "cf6a4fc5b79b498cb35982be329982c7": {
          "model_module": "@jupyter-widgets/controls",
          "model_module_version": "1.5.0",
          "model_name": "HTMLModel",
          "state": {
            "_dom_classes": [],
            "_model_module": "@jupyter-widgets/controls",
            "_model_module_version": "1.5.0",
            "_model_name": "HTMLModel",
            "_view_count": null,
            "_view_module": "@jupyter-widgets/controls",
            "_view_module_version": "1.5.0",
            "_view_name": "HTMLView",
            "description": "",
            "description_tooltip": null,
            "layout": "IPY_MODEL_3e444a7bce164e2e96aa97e9c104ee28",
            "placeholder": "​",
            "style": "IPY_MODEL_73e23b4da7d74e04a9c43754fc27f477",
            "value": " 5148/5148 [00:00&lt;00:00, 86315.59it/s]"
          }
        },
        "cfd660fc27934ce085c109a95639ef7d": {
          "model_module": "@jupyter-widgets/controls",
          "model_module_version": "1.5.0",
          "model_name": "ProgressStyleModel",
          "state": {
            "_model_module": "@jupyter-widgets/controls",
            "_model_module_version": "1.5.0",
            "_model_name": "ProgressStyleModel",
            "_view_count": null,
            "_view_module": "@jupyter-widgets/base",
            "_view_module_version": "1.2.0",
            "_view_name": "StyleView",
            "bar_color": null,
            "description_width": ""
          }
        },
        "d041e15a35944136bae76c244d37ec1c": {
          "model_module": "@jupyter-widgets/controls",
          "model_module_version": "1.5.0",
          "model_name": "FloatProgressModel",
          "state": {
            "_dom_classes": [],
            "_model_module": "@jupyter-widgets/controls",
            "_model_module_version": "1.5.0",
            "_model_name": "FloatProgressModel",
            "_view_count": null,
            "_view_module": "@jupyter-widgets/controls",
            "_view_module_version": "1.5.0",
            "_view_name": "ProgressView",
            "bar_style": "success",
            "description": "",
            "description_tooltip": null,
            "layout": "IPY_MODEL_319585d5a2104701954282b130744ad1",
            "max": 4422102,
            "min": 0,
            "orientation": "horizontal",
            "style": "IPY_MODEL_cfd660fc27934ce085c109a95639ef7d",
            "value": 4422102
          }
        },
        "d07065d3795e4b279c41f0b4a342c639": {
          "model_module": "@jupyter-widgets/base",
          "model_module_version": "1.2.0",
          "model_name": "LayoutModel",
          "state": {
            "_model_module": "@jupyter-widgets/base",
            "_model_module_version": "1.2.0",
            "_model_name": "LayoutModel",
            "_view_count": null,
            "_view_module": "@jupyter-widgets/base",
            "_view_module_version": "1.2.0",
            "_view_name": "LayoutView",
            "align_content": null,
            "align_items": null,
            "align_self": null,
            "border": null,
            "bottom": null,
            "display": null,
            "flex": null,
            "flex_flow": null,
            "grid_area": null,
            "grid_auto_columns": null,
            "grid_auto_flow": null,
            "grid_auto_rows": null,
            "grid_column": null,
            "grid_gap": null,
            "grid_row": null,
            "grid_template_areas": null,
            "grid_template_columns": null,
            "grid_template_rows": null,
            "height": null,
            "justify_content": null,
            "justify_items": null,
            "left": null,
            "margin": null,
            "max_height": null,
            "max_width": null,
            "min_height": null,
            "min_width": null,
            "object_fit": null,
            "object_position": null,
            "order": null,
            "overflow": null,
            "overflow_x": null,
            "overflow_y": null,
            "padding": null,
            "right": null,
            "top": null,
            "visibility": null,
            "width": null
          }
        },
        "d26e872723444f98aafcfd330226163e": {
          "model_module": "@jupyter-widgets/controls",
          "model_module_version": "1.5.0",
          "model_name": "HTMLModel",
          "state": {
            "_dom_classes": [],
            "_model_module": "@jupyter-widgets/controls",
            "_model_module_version": "1.5.0",
            "_model_name": "HTMLModel",
            "_view_count": null,
            "_view_module": "@jupyter-widgets/controls",
            "_view_module_version": "1.5.0",
            "_view_name": "HTMLView",
            "description": "",
            "description_tooltip": null,
            "layout": "IPY_MODEL_00fe97a06c6a4b5395cf7c00762d775a",
            "placeholder": "​",
            "style": "IPY_MODEL_24e35feac90f40ed9f92f9f4d2cd1798",
            "value": "100%"
          }
        },
        "dfa096285fb34b29ab5a4732b7a0ef6b": {
          "model_module": "@jupyter-widgets/base",
          "model_module_version": "1.2.0",
          "model_name": "LayoutModel",
          "state": {
            "_model_module": "@jupyter-widgets/base",
            "_model_module_version": "1.2.0",
            "_model_name": "LayoutModel",
            "_view_count": null,
            "_view_module": "@jupyter-widgets/base",
            "_view_module_version": "1.2.0",
            "_view_name": "LayoutView",
            "align_content": null,
            "align_items": null,
            "align_self": null,
            "border": null,
            "bottom": null,
            "display": null,
            "flex": null,
            "flex_flow": null,
            "grid_area": null,
            "grid_auto_columns": null,
            "grid_auto_flow": null,
            "grid_auto_rows": null,
            "grid_column": null,
            "grid_gap": null,
            "grid_row": null,
            "grid_template_areas": null,
            "grid_template_columns": null,
            "grid_template_rows": null,
            "height": null,
            "justify_content": null,
            "justify_items": null,
            "left": null,
            "margin": null,
            "max_height": null,
            "max_width": null,
            "min_height": null,
            "min_width": null,
            "object_fit": null,
            "object_position": null,
            "order": null,
            "overflow": null,
            "overflow_x": null,
            "overflow_y": null,
            "padding": null,
            "right": null,
            "top": null,
            "visibility": null,
            "width": null
          }
        },
        "f0a2e9546f5f448c8b27768937012a36": {
          "model_module": "@jupyter-widgets/base",
          "model_module_version": "1.2.0",
          "model_name": "LayoutModel",
          "state": {
            "_model_module": "@jupyter-widgets/base",
            "_model_module_version": "1.2.0",
            "_model_name": "LayoutModel",
            "_view_count": null,
            "_view_module": "@jupyter-widgets/base",
            "_view_module_version": "1.2.0",
            "_view_name": "LayoutView",
            "align_content": null,
            "align_items": null,
            "align_self": null,
            "border": null,
            "bottom": null,
            "display": null,
            "flex": null,
            "flex_flow": null,
            "grid_area": null,
            "grid_auto_columns": null,
            "grid_auto_flow": null,
            "grid_auto_rows": null,
            "grid_column": null,
            "grid_gap": null,
            "grid_row": null,
            "grid_template_areas": null,
            "grid_template_columns": null,
            "grid_template_rows": null,
            "height": null,
            "justify_content": null,
            "justify_items": null,
            "left": null,
            "margin": null,
            "max_height": null,
            "max_width": null,
            "min_height": null,
            "min_width": null,
            "object_fit": null,
            "object_position": null,
            "order": null,
            "overflow": null,
            "overflow_x": null,
            "overflow_y": null,
            "padding": null,
            "right": null,
            "top": null,
            "visibility": null,
            "width": null
          }
        },
        "f4026c12cc7c4baf80546546fa5432d3": {
          "model_module": "@jupyter-widgets/base",
          "model_module_version": "1.2.0",
          "model_name": "LayoutModel",
          "state": {
            "_model_module": "@jupyter-widgets/base",
            "_model_module_version": "1.2.0",
            "_model_name": "LayoutModel",
            "_view_count": null,
            "_view_module": "@jupyter-widgets/base",
            "_view_module_version": "1.2.0",
            "_view_name": "LayoutView",
            "align_content": null,
            "align_items": null,
            "align_self": null,
            "border": null,
            "bottom": null,
            "display": null,
            "flex": null,
            "flex_flow": null,
            "grid_area": null,
            "grid_auto_columns": null,
            "grid_auto_flow": null,
            "grid_auto_rows": null,
            "grid_column": null,
            "grid_gap": null,
            "grid_row": null,
            "grid_template_areas": null,
            "grid_template_columns": null,
            "grid_template_rows": null,
            "height": null,
            "justify_content": null,
            "justify_items": null,
            "left": null,
            "margin": null,
            "max_height": null,
            "max_width": null,
            "min_height": null,
            "min_width": null,
            "object_fit": null,
            "object_position": null,
            "order": null,
            "overflow": null,
            "overflow_x": null,
            "overflow_y": null,
            "padding": null,
            "right": null,
            "top": null,
            "visibility": null,
            "width": null
          }
        },
        "f462d48eebd7417d8bcc58cb2c4f1838": {
          "model_module": "@jupyter-widgets/controls",
          "model_module_version": "1.5.0",
          "model_name": "HBoxModel",
          "state": {
            "_dom_classes": [],
            "_model_module": "@jupyter-widgets/controls",
            "_model_module_version": "1.5.0",
            "_model_name": "HBoxModel",
            "_view_count": null,
            "_view_module": "@jupyter-widgets/controls",
            "_view_module_version": "1.5.0",
            "_view_name": "HBoxView",
            "box_style": "",
            "children": [
              "IPY_MODEL_c0e2b6e2e2f5447085f51b702acd627c",
              "IPY_MODEL_44752a6ba0ec4ac1b1d022dcb67581fa",
              "IPY_MODEL_6d909dd23f2448dc8db4dda22282a01b"
            ],
            "layout": "IPY_MODEL_450b72180b974d9c9056a1d9f4b2d72a"
          }
        },
        "f9162370b7a94e26a73701d7bd82b337": {
          "model_module": "@jupyter-widgets/controls",
          "model_module_version": "1.5.0",
          "model_name": "HTMLModel",
          "state": {
            "_dom_classes": [],
            "_model_module": "@jupyter-widgets/controls",
            "_model_module_version": "1.5.0",
            "_model_name": "HTMLModel",
            "_view_count": null,
            "_view_module": "@jupyter-widgets/controls",
            "_view_module_version": "1.5.0",
            "_view_name": "HTMLView",
            "description": "",
            "description_tooltip": null,
            "layout": "IPY_MODEL_2849dc1ec0044a5aa6077dafcb827143",
            "placeholder": "​",
            "style": "IPY_MODEL_778da9c14773493dbec05f5b2aa95c96",
            "value": " 26421880/26421880 [00:00&lt;00:00, 120330444.82it/s]"
          }
        }
      }
    }
  },
  "nbformat": 4,
  "nbformat_minor": 0
}
