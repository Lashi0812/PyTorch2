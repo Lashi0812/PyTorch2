{
  "cells": [
    {
      "cell_type": "code",
      "execution_count": 1,
      "metadata": {
        "colab": {
          "base_uri": "https://localhost:8080/"
        },
        "id": "4VHE_CBkQVfr",
        "outputId": "d64e7386-0675-44ed-f4c3-0761c74c8ce8"
      },
      "outputs": [
        {
          "output_type": "stream",
          "name": "stdout",
          "text": [
            "[INFO] Installing the torchmetrics\n",
            "Looking in indexes: https://pypi.org/simple, https://us-python.pkg.dev/colab-wheels/public/simple/\n",
            "Collecting torchmetrics\n",
            "  Downloading torchmetrics-0.11.1-py3-none-any.whl (517 kB)\n",
            "\u001b[2K     \u001b[90m━━━━━━━━━━━━━━━━━━━━━━━━━━━━━━━━━━━━━━━\u001b[0m \u001b[32m517.2/517.2 KB\u001b[0m \u001b[31m4.9 MB/s\u001b[0m eta \u001b[36m0:00:00\u001b[0m\n",
            "\u001b[?25hRequirement already satisfied: numpy>=1.17.2 in /usr/local/lib/python3.8/dist-packages (from torchmetrics) (1.21.6)\n",
            "Requirement already satisfied: packaging in /usr/local/lib/python3.8/dist-packages (from torchmetrics) (23.0)\n",
            "Requirement already satisfied: torch>=1.8.1 in /usr/local/lib/python3.8/dist-packages (from torchmetrics) (1.13.1+cu116)\n",
            "Requirement already satisfied: typing-extensions in /usr/local/lib/python3.8/dist-packages (from torchmetrics) (4.4.0)\n",
            "Installing collected packages: torchmetrics\n",
            "Successfully installed torchmetrics-0.11.1\n",
            "[INFO] Installing the torchinfo\n",
            "Looking in indexes: https://pypi.org/simple, https://us-python.pkg.dev/colab-wheels/public/simple/\n",
            "Collecting torchinfo\n",
            "  Downloading torchinfo-1.7.1-py3-none-any.whl (22 kB)\n",
            "Installing collected packages: torchinfo\n",
            "Successfully installed torchinfo-1.7.1\n",
            "[INFO] Downloading the helper function from github\n"
          ]
        }
      ],
      "source": [
        "# python libraries\n",
        "import os\n",
        "import sys\n",
        "import dataclasses\n",
        "from datetime import datetime\n",
        "from pathlib import Path\n",
        "from operator import methodcaller\n",
        "from collections import OrderedDict\n",
        "from dataclasses import dataclass\n",
        "from typing import (\n",
        "    List,\n",
        "    Tuple,\n",
        "    Dict,\n",
        "    Any,\n",
        "    Mapping,\n",
        "    Callable\n",
        ")\n",
        "from enum import Enum\n",
        "# adding the path\n",
        "if not str(Path(os.getcwd()).parent) in sys.path:\n",
        "    sys.path.append(str(Path(os.getcwd()).parent))\n",
        "\n",
        "# numpy\n",
        "import numpy as np\n",
        "\n",
        "# torch\n",
        "import torch\n",
        "import torchvision\n",
        "from torch import nn\n",
        "from torchvision import (\n",
        "    transforms,\n",
        "    datasets\n",
        "    )\n",
        "from torch.utils.data import DataLoader\n",
        "\n",
        "try:\n",
        "    from torchmetrics import Accuracy\n",
        "except:\n",
        "    print(f\"[INFO] Installing the torchmetrics\")\n",
        "    %pip install torchmetrics\n",
        "    from torchmetrics import Accuracy\n",
        "\n",
        "try:\n",
        "    import torchinfo\n",
        "except:\n",
        "    print(f\"[INFO] Installing the torchinfo\")\n",
        "    %pip install torchinfo\n",
        "    import torchinfo\n",
        "\n",
        "# helper function\n",
        "try:\n",
        "    import my_helper as helper\n",
        "except:\n",
        "    print(\"[INFO] Downloading the helper function from github\")\n",
        "    import requests\n",
        "    response = requests.get(\"https://raw.githubusercontent.com/Lashi0812/PyTorch2/master/my_helper.py\")\n",
        "    with open(\"my_helper.py\" ,\"wb\") as f:\n",
        "        f.write(response.content)\n",
        "    import my_helper as helper"
      ]
    },
    {
      "cell_type": "code",
      "execution_count": 2,
      "metadata": {
        "colab": {
          "base_uri": "https://localhost:8080/"
        },
        "id": "LgaKi1HcQVfy",
        "outputId": "159a30f4-369d-4910-fa59-ae32b8d60202"
      },
      "outputs": [
        {
          "output_type": "stream",
          "name": "stdout",
          "text": [
            "Mounted at /content/drive\n"
          ]
        }
      ],
      "source": [
        "## Connect Persistence memory\n",
        "try :\n",
        "    from google.colab import drive\n",
        "\n",
        "    # Paths\n",
        "    DRIVE_PATH = Path(\"/content/drive\")\n",
        "    MODEL_SAVE_PATH = Path(\"/content/drive/Othercomputers/My PC/drive/models\")\n",
        "\n",
        "    # mount drive\n",
        "    drive.mount(str(DRIVE_PATH))\n",
        "except:\n",
        "    MODEL_SAVE_PATH = Path(os.getcwd())/\"models\""
      ]
    },
    {
      "cell_type": "code",
      "execution_count": 3,
      "metadata": {
        "id": "X2HGfqgPQel7"
      },
      "outputs": [],
      "source": [
        "device = \"cuda\" if torch.cuda.is_available() else \"cpu\""
      ]
    },
    {
      "cell_type": "markdown",
      "metadata": {
        "id": "LTMlu0rBQVfz"
      },
      "source": [
        "# Network in Network"
      ]
    },
    {
      "cell_type": "code",
      "execution_count": 4,
      "metadata": {
        "id": "bRooC4y6QVf3"
      },
      "outputs": [],
      "source": [
        "@dataclass(eq=False)\n",
        "class NiN(helper.Classifier):\n",
        "    lr:int = 0.01\n",
        "    num_classes:int = 10\n",
        "\n",
        "    def __post_init__(self):\n",
        "        super().__init__()\n",
        "        self.net = nn.Sequential(\n",
        "            self.nin_block(96,kernel=11,stride=4,padding=0),\n",
        "            nn.MaxPool2d(kernel_size=3,stride=2),\n",
        "            self.nin_block(256,kernel=5,stride=1,padding=2),\n",
        "            nn.MaxPool2d(kernel_size=3,stride=2),\n",
        "            self.nin_block(384,kernel=3,stride=1,padding=1),\n",
        "            nn.MaxPool2d(kernel_size=3,stride=2),\n",
        "            nn.Dropout(0.5),\n",
        "            self.nin_block(self.num_classes,kernel=3,stride=1,padding=1),\n",
        "            nn.AdaptiveAvgPool2d((1,1)),\n",
        "            nn.Flatten()\n",
        "        )\n",
        "\n",
        "\n",
        "    @staticmethod\n",
        "    def nin_block(out_channels,kernel,stride,padding):\n",
        "        return nn.Sequential(\n",
        "            nn.LazyConv2d(out_channels,kernel_size=kernel,stride=stride,padding=padding),nn.ReLU(),\n",
        "            # this two layer will do job of FC , this will  increase the non linearity.\n",
        "            nn.LazyConv2d(out_channels,kernel_size=1),nn.ReLU(),\n",
        "            nn.LazyConv2d(out_channels,kernel_size=1),nn.ReLU()          \n",
        "        )\n",
        "    @staticmethod\n",
        "    def init_nin(module):\n",
        "        if isinstance(module,(nn.Linear,nn.Conv2d)):\n",
        "            nn.init.kaiming_normal_(module.weight)"
      ]
    },
    {
      "cell_type": "code",
      "execution_count": 5,
      "metadata": {
        "colab": {
          "base_uri": "https://localhost:8080/"
        },
        "id": "YZm-XGP9QVf6",
        "outputId": "a7545340-05fb-4266-a8cf-4ecd0fe5c1ba"
      },
      "outputs": [
        {
          "output_type": "stream",
          "name": "stderr",
          "text": [
            "/usr/local/lib/python3.8/dist-packages/torch/nn/modules/lazy.py:180: UserWarning: Lazy modules are a new feature under heavy development so changes to the API or functionality can happen at any moment.\n",
            "  warnings.warn('Lazy modules are a new feature under heavy development '\n"
          ]
        },
        {
          "output_type": "stream",
          "name": "stdout",
          "text": [
            "Sequential      output shape :(1, 96, 54, 54)\n",
            "MaxPool2d       output shape :(1, 96, 26, 26)\n",
            "Sequential      output shape :(1, 256, 26, 26)\n",
            "MaxPool2d       output shape :(1, 256, 12, 12)\n",
            "Sequential      output shape :(1, 384, 12, 12)\n",
            "MaxPool2d       output shape :(1, 384, 5, 5)\n",
            "Dropout         output shape :(1, 384, 5, 5)\n",
            "Sequential      output shape :(1, 10, 5, 5)\n",
            "AdaptiveAvgPool2d output shape :(1, 10, 1, 1)\n",
            "Flatten         output shape :(1, 10)\n"
          ]
        }
      ],
      "source": [
        "NiN().layer_summary((1,1,224,224))"
      ]
    },
    {
      "cell_type": "code",
      "execution_count": 6,
      "metadata": {
        "colab": {
          "base_uri": "https://localhost:8080/"
        },
        "id": "NsO-sZpSQVf8",
        "outputId": "6db198df-662f-4773-ce94-6c5a0320d861"
      },
      "outputs": [
        {
          "output_type": "execute_result",
          "data": {
            "text/plain": [
              "================================================================================================\n",
              "Layer (type (var_name))                  Kernel Shape   Output Shape   Param #        Mult-Adds\n",
              "================================================================================================\n",
              "NiN (NiN)                                --             [10, 1]        --             --\n",
              "├─Sequential (net)                       --             [10, 1]        --             --\n",
              "│    └─Sequential (0)                    --             [96, 54, 54]   --             --\n",
              "│    │    └─Conv2d (0)                   [11, 11]       [96, 54, 54]   11,712         60,715,008\n",
              "│    │    └─ReLU (1)                     --             [96, 54, 54]   --             --\n",
              "│    │    └─Conv2d (2)                   [1, 1]         [96, 54, 54]   9,312          48,273,408\n",
              "│    │    └─ReLU (3)                     --             [96, 54, 54]   --             --\n",
              "│    │    └─Conv2d (4)                   [1, 1]         [96, 54, 54]   9,312          48,273,408\n",
              "│    │    └─ReLU (5)                     --             [96, 54, 54]   --             --\n",
              "│    └─MaxPool2d (1)                     3              [96, 26, 26]   --             --\n",
              "│    └─Sequential (2)                    --             [256, 26, 26]  --             --\n",
              "│    │    └─Conv2d (0)                   [5, 5]         [256, 26, 26]  614,656        4,091,150,336\n",
              "│    │    └─ReLU (1)                     --             [256, 26, 26]  --             --\n",
              "│    │    └─Conv2d (2)                   [1, 1]         [256, 26, 26]  65,792         437,911,552\n",
              "│    │    └─ReLU (3)                     --             [256, 26, 26]  --             --\n",
              "│    │    └─Conv2d (4)                   [1, 1]         [256, 26, 26]  65,792         437,911,552\n",
              "│    │    └─ReLU (5)                     --             [256, 26, 26]  --             --\n",
              "│    └─MaxPool2d (3)                     3              [256, 12, 12]  --             --\n",
              "│    └─Sequential (4)                    --             [384, 12, 12]  --             --\n",
              "│    │    └─Conv2d (0)                   [3, 3]         [384, 12, 12]  885,120        4,078,632,960\n",
              "│    │    └─ReLU (1)                     --             [384, 12, 12]  --             --\n",
              "│    │    └─Conv2d (2)                   [1, 1]         [384, 12, 12]  147,840        681,246,720\n",
              "│    │    └─ReLU (3)                     --             [384, 12, 12]  --             --\n",
              "│    │    └─Conv2d (4)                   [1, 1]         [384, 12, 12]  147,840        681,246,720\n",
              "│    │    └─ReLU (5)                     --             [384, 12, 12]  --             --\n",
              "│    └─MaxPool2d (5)                     3              [384, 5, 5]    --             --\n",
              "│    └─Dropout (6)                       --             [384, 5, 5]    --             --\n",
              "│    └─Sequential (7)                    --             [10, 5, 5]     --             --\n",
              "│    │    └─Conv2d (0)                   [3, 3]         [10, 5, 5]     34,570         1,728,500\n",
              "│    │    └─ReLU (1)                     --             [10, 5, 5]     --             --\n",
              "│    │    └─Conv2d (2)                   [1, 1]         [10, 5, 5]     110            5,500\n",
              "│    │    └─ReLU (3)                     --             [10, 5, 5]     --             --\n",
              "│    │    └─Conv2d (4)                   [1, 1]         [10, 5, 5]     110            5,500\n",
              "│    │    └─ReLU (5)                     --             [10, 5, 5]     --             --\n",
              "│    └─AdaptiveAvgPool2d (8)             --             [10, 1, 1]     --             --\n",
              "│    └─Flatten (9)                       --             [10, 1]        --             --\n",
              "================================================================================================\n",
              "Total params: 1,992,166\n",
              "Trainable params: 1,992,166\n",
              "Non-trainable params: 0\n",
              "Total mult-adds (G): 10.57\n",
              "================================================================================================\n",
              "Input size (MB): 0.20\n",
              "Forward/backward pass size (MB): 12.20\n",
              "Params size (MB): 7.97\n",
              "Estimated Total Size (MB): 20.37\n",
              "================================================================================================"
            ]
          },
          "metadata": {},
          "execution_count": 6
        }
      ],
      "source": [
        "torchinfo.summary(NiN(),input_size=(1,224,224)  ,  col_width=14,\n",
        "    col_names=[\"kernel_size\", \"output_size\", \"num_params\", \"mult_adds\"],\n",
        "    row_settings=[\"var_names\"],\n",
        ")"
      ]
    },
    {
      "cell_type": "markdown",
      "metadata": {
        "id": "16IAqLH1QVf9"
      },
      "source": [
        "The total parameter size is reduce compare to pervious architecture like AlexNet ,VGG , since they had the FC layer "
      ]
    },
    {
      "cell_type": "markdown",
      "metadata": {
        "id": "Pl-YhYDfQVf_"
      },
      "source": [
        "# Training"
      ]
    },
    {
      "cell_type": "code",
      "execution_count": 7,
      "metadata": {
        "colab": {
          "base_uri": "https://localhost:8080/",
          "height": 440,
          "referenced_widgets": [
            "a2a75c2ac81e4bb2bdde2de32b8fffea",
            "daf99f7d3b4347edbfd0120b460bcbde",
            "d97affc3c050413a8e01a7259f7f8c7f",
            "f6199e766e2a4bcaacf33bb15eb9cbc9",
            "75caa8738b0244928374160979e09241",
            "52ea8a5364674c229ccc1df0dc03274b",
            "551a30215ef947699f237b5535af8362",
            "b36a787193b1471b96163182de4c88e0",
            "8c5c1f6bd89b47c3a398cde4d900f1de",
            "5c7fb1e0864a4ac6ae7bbcaa69ff6a5b",
            "adfa877617a442a0b60a80764dde85d1",
            "c1fb2e069ea44a5486d952a0f74b52de",
            "2b5d93cf15154487af53b82c8af2ff12",
            "8357237fbcec4f8b888f6ccd5dc796f2",
            "0bd203a9d65e46c183cec912c2514e13",
            "987450bdc74d477fb61ab96f7200a716",
            "2c578bd2ae5149b29535e5052a3c7fe5",
            "9f098c933595448294dc09c7a99dc1da",
            "1e2bcbb4b4254efcad0f763277a06a58",
            "89c6f315067f4a2a8bf7274b912f60ba",
            "0cf0a0306e4344b8b20ac9d7b39a73f4",
            "68f79541fdcb4c7faca210b02d2804d3",
            "b2c0d5ebbfb2401e8f7a81d021324e42",
            "6f2edd9dc6d0493e8c1d0bd7b28b946f",
            "ae7c78c01f8640ce92e5734a96cc2c0b",
            "7ad1fba0b8f04304b9111c3395c066dd",
            "0fbb06aae24540c4aa07d1df10934c57",
            "eb612d52f4aa4e10bbb0b0657a9e4f7c",
            "0c9a78d1142c4a23910fb933d04470f7",
            "088daf56b12d47de82e8ab25003d104d",
            "2c9c5d0026674f6b999c7b9baacad324",
            "0890f190b4214a3eb2267fd67eb9072d",
            "c3c5aa7ad609402d97026c094a97464f",
            "2c827c75c2e34292bb3198a3b07e427a",
            "17ce7bd1518f4e779b2ec93baf0084e2",
            "95f1a0daa39a41de9baed82f369a5b93",
            "1e4e679f83dd4364b35132fbb9ae8380",
            "e68ee74720204b7aa98a1c4a938e3c76",
            "1c1533cb5adf4b36b0d15f9d8399d690",
            "28237e4ce7524e0096e92a7f36e02760",
            "2bd03f35c4154b03bd054fd01f333458",
            "08d6a90804854a829f56bea7aaad18c2",
            "54a3139258d0495b81546c350d190725",
            "51daf66dd0c444f9acd957d6a026161d"
          ]
        },
        "id": "URNXcTyJQVgA",
        "outputId": "905fb0d9-389d-404b-a3a8-3326a7aefefc"
      },
      "outputs": [
        {
          "output_type": "stream",
          "name": "stdout",
          "text": [
            "Downloading http://fashion-mnist.s3-website.eu-central-1.amazonaws.com/train-images-idx3-ubyte.gz\n",
            "Downloading http://fashion-mnist.s3-website.eu-central-1.amazonaws.com/train-images-idx3-ubyte.gz to ../data/FashionMNIST/raw/train-images-idx3-ubyte.gz\n"
          ]
        },
        {
          "output_type": "display_data",
          "data": {
            "text/plain": [
              "  0%|          | 0/26421880 [00:00<?, ?it/s]"
            ],
            "application/vnd.jupyter.widget-view+json": {
              "version_major": 2,
              "version_minor": 0,
              "model_id": "a2a75c2ac81e4bb2bdde2de32b8fffea"
            }
          },
          "metadata": {}
        },
        {
          "output_type": "stream",
          "name": "stdout",
          "text": [
            "Extracting ../data/FashionMNIST/raw/train-images-idx3-ubyte.gz to ../data/FashionMNIST/raw\n",
            "\n",
            "Downloading http://fashion-mnist.s3-website.eu-central-1.amazonaws.com/train-labels-idx1-ubyte.gz\n",
            "Downloading http://fashion-mnist.s3-website.eu-central-1.amazonaws.com/train-labels-idx1-ubyte.gz to ../data/FashionMNIST/raw/train-labels-idx1-ubyte.gz\n"
          ]
        },
        {
          "output_type": "display_data",
          "data": {
            "text/plain": [
              "  0%|          | 0/29515 [00:00<?, ?it/s]"
            ],
            "application/vnd.jupyter.widget-view+json": {
              "version_major": 2,
              "version_minor": 0,
              "model_id": "c1fb2e069ea44a5486d952a0f74b52de"
            }
          },
          "metadata": {}
        },
        {
          "output_type": "stream",
          "name": "stdout",
          "text": [
            "Extracting ../data/FashionMNIST/raw/train-labels-idx1-ubyte.gz to ../data/FashionMNIST/raw\n",
            "\n",
            "Downloading http://fashion-mnist.s3-website.eu-central-1.amazonaws.com/t10k-images-idx3-ubyte.gz\n",
            "Downloading http://fashion-mnist.s3-website.eu-central-1.amazonaws.com/t10k-images-idx3-ubyte.gz to ../data/FashionMNIST/raw/t10k-images-idx3-ubyte.gz\n"
          ]
        },
        {
          "output_type": "display_data",
          "data": {
            "text/plain": [
              "  0%|          | 0/4422102 [00:00<?, ?it/s]"
            ],
            "application/vnd.jupyter.widget-view+json": {
              "version_major": 2,
              "version_minor": 0,
              "model_id": "b2c0d5ebbfb2401e8f7a81d021324e42"
            }
          },
          "metadata": {}
        },
        {
          "output_type": "stream",
          "name": "stdout",
          "text": [
            "Extracting ../data/FashionMNIST/raw/t10k-images-idx3-ubyte.gz to ../data/FashionMNIST/raw\n",
            "\n",
            "Downloading http://fashion-mnist.s3-website.eu-central-1.amazonaws.com/t10k-labels-idx1-ubyte.gz\n",
            "Downloading http://fashion-mnist.s3-website.eu-central-1.amazonaws.com/t10k-labels-idx1-ubyte.gz to ../data/FashionMNIST/raw/t10k-labels-idx1-ubyte.gz\n"
          ]
        },
        {
          "output_type": "display_data",
          "data": {
            "text/plain": [
              "  0%|          | 0/5148 [00:00<?, ?it/s]"
            ],
            "application/vnd.jupyter.widget-view+json": {
              "version_major": 2,
              "version_minor": 0,
              "model_id": "2c827c75c2e34292bb3198a3b07e427a"
            }
          },
          "metadata": {}
        },
        {
          "output_type": "stream",
          "name": "stdout",
          "text": [
            "Extracting ../data/FashionMNIST/raw/t10k-labels-idx1-ubyte.gz to ../data/FashionMNIST/raw\n",
            "\n",
            "Training the model in cuda\n"
          ]
        }
      ],
      "source": [
        "nin_model = NiN(lr=0.01)\n",
        "data = helper.FashionMNIST(batch_size=128,resize=(224,224))\n",
        "nin_model.apply_init([(next(iter(data.train_dataloader())))[0]],nin_model.init_nin)\n",
        "nin_trainer =helper.Trainer(max_epochs=10,model_save_path=MODEL_SAVE_PATH)"
      ]
    },
    {
      "cell_type": "code",
      "execution_count": 8,
      "metadata": {
        "colab": {
          "base_uri": "https://localhost:8080/",
          "height": 290,
          "referenced_widgets": [
            "a930283087404c15b68b0b5e9f1e44f6",
            "6f4fdb63c1d149f8990afaef3583116b",
            "57d59bdfe8ec4d27bb82a74722e0b419",
            "7c8e97da79634b24bb322800bcf7b56a",
            "a53732c390e14b9e9154d0be570f1819",
            "cffe12655a0342c8a8a425a5d928c5ca",
            "d17fce1b44354244b03d131fa5681916",
            "8e0f6091e3a74b2586b0bbdb53304e82",
            "79433c02a42c4fe4a7f04cac74650b94",
            "20d512c79e374bfebd4cd2c58389af50",
            "e13d91a940744485834374b7bfa3669f"
          ]
        },
        "id": "QSRrQ6sbQVgC",
        "outputId": "a3ac980c-e954-4b8c-b2a4-312193506a5b"
      },
      "outputs": [
        {
          "output_type": "display_data",
          "data": {
            "text/plain": [
              "  0%|          | 0/10 [00:00<?, ?it/s]"
            ],
            "application/vnd.jupyter.widget-view+json": {
              "version_major": 2,
              "version_minor": 0,
              "model_id": "a930283087404c15b68b0b5e9f1e44f6"
            }
          },
          "metadata": {}
        },
        {
          "output_type": "display_data",
          "data": {
            "text/plain": [
              "<Figure size 576x216 with 2 Axes>"
            ],
            "image/png": "[encoded data removed]"
          },
          "metadata": {
            "needs_background": "light"
          }
        },
        {
          "output_type": "stream",
          "name": "stdout",
          "text": [
            "[Info] Saving the model at /content/drive/Othercomputers/My PC/drive/models/2023-02-05/NiN-060646.pth\n"
          ]
        }
      ],
      "source": [
        "nin_trainer.fit(nin_model,data)"
      ]
    },
    {
      "cell_type": "markdown",
      "metadata": {
        "id": "fykYgohzIybC"
      },
      "source": [
        "# Why 1x1 conv is same as FC layer ?\n",
        "\n",
        "This concept is introduce in the  NiN paper.\n",
        "\n",
        "[Refer this for the below example](https://sebastianraschka.com/faq/docs/fc-to-conv.html)\n",
        "\n",
        "![image.png](attachment:image.png)"
      ]
    },
    {
      "cell_type": "code",
      "execution_count": 9,
      "metadata": {
        "id": "6ToLhGaNIybC",
        "outputId": "cfabf6d0-eea7-4f2d-dd45-4c538cb1e316",
        "colab": {
          "base_uri": "https://localhost:8080/"
        }
      },
      "outputs": [
        {
          "output_type": "execute_result",
          "data": {
            "text/plain": [
              "tensor([[[[0.8989, 0.8290],\n",
              "          [0.4802, 0.0786]]]])"
            ]
          },
          "metadata": {},
          "execution_count": 9
        }
      ],
      "source": [
        "#? take the random tensor of shape [1,1,2,2] ---> [b,c,h,w]\n",
        "inputs = torch.rand(size=(1,1,2,2),dtype=torch.float)\n",
        "inputs"
      ]
    },
    {
      "cell_type": "markdown",
      "metadata": {
        "id": "uu82aEBqIybD"
      },
      "source": [
        "## Fully connected layer"
      ]
    },
    {
      "cell_type": "code",
      "execution_count": 10,
      "metadata": {
        "id": "3t9CtlA5IybG"
      },
      "outputs": [],
      "source": [
        "# consider we have 4 input neuron and 2 output neuron\n",
        "weights = torch.rand(size=(2,4),dtype=torch.float)\n",
        "bias = torch.rand(size=(2,),dtype=torch.float)"
      ]
    },
    {
      "cell_type": "code",
      "execution_count": 11,
      "metadata": {
        "id": "09e69tqlIybH"
      },
      "outputs": [],
      "source": [
        "fc = nn.Linear(in_features=4,out_features=2)"
      ]
    },
    {
      "cell_type": "code",
      "execution_count": 12,
      "metadata": {
        "id": "EYE7enucIybI"
      },
      "outputs": [],
      "source": [
        "# fix the weights \n",
        "fc.weight.data = weights\n",
        "fc.bias.data = bias"
      ]
    },
    {
      "cell_type": "code",
      "execution_count": 13,
      "metadata": {
        "id": "a0YuKNHmIybI",
        "outputId": "5b59b2fe-9ba8-4bb4-b6a2-f54975006a49",
        "colab": {
          "base_uri": "https://localhost:8080/"
        }
      },
      "outputs": [
        {
          "output_type": "execute_result",
          "data": {
            "text/plain": [
              "tensor([[2.9685, 1.3028]], grad_fn=<ReluBackward0>)"
            ]
          },
          "metadata": {},
          "execution_count": 13
        }
      ],
      "source": [
        "# pass the input to FC layer and then pass them to relu activation units\n",
        "torch.relu(fc(nn.Flatten()(inputs)))"
      ]
    },
    {
      "cell_type": "markdown",
      "metadata": {
        "id": "IYRNTzJPIybJ"
      },
      "source": [
        "## 1x1 Conv"
      ]
    },
    {
      "cell_type": "code",
      "execution_count": 14,
      "metadata": {
        "id": "Vq69w7f4IybJ"
      },
      "outputs": [],
      "source": [
        "conv = nn.Conv2d(in_channels=4,out_channels=2,kernel_size=1,stride=1,padding=0)\n",
        "#? kernel shape [out_chan,in_chan,1,1]\n",
        "conv.weight.data = weights.reshape((2,4,1,1))\n",
        "conv.bias.data = bias"
      ]
    },
    {
      "cell_type": "code",
      "execution_count": 15,
      "metadata": {
        "id": "SaO7vfH-IybK",
        "outputId": "67bbbfe1-7bab-416b-8bb6-df69b9464df8",
        "colab": {
          "base_uri": "https://localhost:8080/"
        }
      },
      "outputs": [
        {
          "output_type": "execute_result",
          "data": {
            "text/plain": [
              "tensor([[[[2.9685]],\n",
              "\n",
              "         [[1.3028]]]], grad_fn=<ReluBackward0>)"
            ]
          },
          "metadata": {},
          "execution_count": 15
        }
      ],
      "source": [
        "torch.relu(conv(inputs.reshape(1,4,1,1)))"
      ]
    },
    {
      "cell_type": "markdown",
      "metadata": {
        "id": "Wqo0BZUjIybK"
      },
      "source": [
        "Output of the 1x1 conv is same as the FC layer,"
      ]
    },
    {
      "cell_type": "markdown",
      "metadata": {
        "id": "ErMgwH3IIybL"
      },
      "source": [
        "# Visual some output"
      ]
    },
    {
      "cell_type": "code",
      "execution_count": 16,
      "metadata": {
        "id": "iJlT5wY1IybL",
        "outputId": "6cf08a8a-b44d-4e04-c13d-234d273c27f8",
        "colab": {
          "base_uri": "https://localhost:8080/"
        }
      },
      "outputs": [
        {
          "output_type": "execute_result",
          "data": {
            "text/plain": [
              "<All keys matched successfully>"
            ]
          },
          "metadata": {},
          "execution_count": 16
        }
      ],
      "source": [
        "# load the trained model\n",
        "nin_model  = NiN().to(device)\n",
        "nin_model.load_state_dict(torch.load(nin_trainer.save_path,map_location=device))"
      ]
    },
    {
      "cell_type": "code",
      "execution_count": 17,
      "metadata": {
        "id": "TGb08WO8IybM",
        "outputId": "cf5a1ade-778f-4abb-d3a6-55feadd39b63",
        "colab": {
          "base_uri": "https://localhost:8080/"
        }
      },
      "outputs": [
        {
          "output_type": "stream",
          "name": "stdout",
          "text": [
            "net.0.0.weight (96, 1, 11, 11)\n",
            "net.0.0.bias (96,)\n",
            "net.0.2.weight (96, 96, 1, 1)\n",
            "net.0.2.bias (96,)\n",
            "net.0.4.weight (96, 96, 1, 1)\n",
            "net.0.4.bias (96,)\n",
            "net.2.0.weight (256, 96, 5, 5)\n",
            "net.2.0.bias (256,)\n",
            "net.2.2.weight (256, 256, 1, 1)\n",
            "net.2.2.bias (256,)\n",
            "net.2.4.weight (256, 256, 1, 1)\n",
            "net.2.4.bias (256,)\n",
            "net.4.0.weight (384, 256, 3, 3)\n",
            "net.4.0.bias (384,)\n",
            "net.4.2.weight (384, 384, 1, 1)\n",
            "net.4.2.bias (384,)\n",
            "net.4.4.weight (384, 384, 1, 1)\n",
            "net.4.4.bias (384,)\n",
            "net.7.0.weight (10, 384, 3, 3)\n",
            "net.7.0.bias (10,)\n",
            "net.7.2.weight (10, 10, 1, 1)\n",
            "net.7.2.bias (10,)\n",
            "net.7.4.weight (10, 10, 1, 1)\n",
            "net.7.4.bias (10,)\n"
          ]
        }
      ],
      "source": [
        "for k,v in nin_model.named_parameters():\n",
        "    print(k,tuple(v.shape))"
      ]
    },
    {
      "cell_type": "code",
      "execution_count": 18,
      "metadata": {
        "id": "PcdDjrToIybM",
        "outputId": "7ac0d0cc-4bd1-4e34-9f0b-8cf77a9da424",
        "colab": {
          "base_uri": "https://localhost:8080/"
        }
      },
      "outputs": [
        {
          "output_type": "execute_result",
          "data": {
            "text/plain": [
              "(torch.Size([128, 1, 224, 224]), torch.Size([128]))"
            ]
          },
          "metadata": {},
          "execution_count": 18
        }
      ],
      "source": [
        "X,y  = next(iter(data.train_dataloader()))\n",
        "X.shape,y.shape"
      ]
    },
    {
      "cell_type": "code",
      "execution_count": 19,
      "metadata": {
        "id": "yRy6euMYIybN",
        "outputId": "f951d059-253b-426d-a18b-2f4f94920dce",
        "colab": {
          "base_uri": "https://localhost:8080/",
          "height": 133
        }
      },
      "outputs": [
        {
          "output_type": "display_data",
          "data": {
            "text/plain": [
              "<Figure size 864x108 with 8 Axes>"
            ],
            "image/png": "[encoded data removed]"
          },
          "metadata": {
            "needs_background": "light"
          }
        }
      ],
      "source": [
        "data.visualize(next(iter(data.train_dataloader())))"
      ]
    },
    {
      "cell_type": "code",
      "execution_count": 21,
      "metadata": {
        "id": "xKOqGXa5IybN",
        "outputId": "45e76212-5af3-404d-fe94-199c48dd85dd",
        "colab": {
          "base_uri": "https://localhost:8080/",
          "height": 597
        }
      },
      "outputs": [
        {
          "output_type": "display_data",
          "data": {
            "text/plain": [
              "<Figure size 972x108 with 9 Axes>"
            ],
            "image/png": "[encoded data removed]"
          },
          "metadata": {
            "needs_background": "light"
          }
        },
        {
          "output_type": "display_data",
          "data": {
            "text/plain": [
              "<Figure size 972x108 with 9 Axes>"
            ],
            "image/png": "[encoded data removed]"
          },
          "metadata": {
            "needs_background": "light"
          }
        },
        {
          "output_type": "display_data",
          "data": {
            "text/plain": [
              "<Figure size 972x108 with 9 Axes>"
            ],
            "image/png": "[encoded data removed]"
          },
          "metadata": {
            "needs_background": "light"
          }
        },
        {
          "output_type": "display_data",
          "data": {
            "text/plain": [
              "<Figure size 972x108 with 9 Axes>"
            ],
            "image/png": "[encoded data removed]"
          },
          "metadata": {
            "needs_background": "light"
          }
        },
        {
          "output_type": "display_data",
          "data": {
            "text/plain": [
              "<Figure size 972x108 with 9 Axes>"
            ],
            "image/png": "[encoded data removed]"
          },
          "metadata": {
            "needs_background": "light"
          }
        }
      ],
      "source": [
        "helper.visual_block(X[0],nin_model,1,8,0,nin_trainer)"
      ]
    },
    {
      "cell_type": "markdown",
      "metadata": {
        "id": "wHfZx3x5IybN"
      },
      "source": [
        "# Some Experiment"
      ]
    },
    {
      "cell_type": "markdown",
      "metadata": {
        "id": "rxKxRWHKIybO"
      },
      "source": [
        "## Changing the number of 1x1 conv in each nin block.\n",
        "1. Increase from two to three.\n",
        "2. Decrease from two to one."
      ]
    },
    {
      "cell_type": "code",
      "execution_count": 22,
      "metadata": {
        "id": "7nGkEufdIybO"
      },
      "outputs": [],
      "source": [
        "@dataclass(eq=False)\n",
        "class NiNWithOne(helper.Classifier):\n",
        "    \"\"\"\n",
        "    Output channel number is taken from the sequence [A133572 Row sums of triangle A133571]\n",
        "    1, 4, 6, 16, 24, 64, 96, 256, 384, 1024......\n",
        "    refer : https://oeis.org/A133572\n",
        "    \"\"\"\n",
        "    lr:int = 0.01\n",
        "    num_classes:int = 10\n",
        "    \n",
        "\n",
        "    def __post_init__(self):\n",
        "        super().__init__()\n",
        "        self.net = nn.Sequential(\n",
        "            self.nin_block(96,11,4,0),\n",
        "            nn.MaxPool2d(kernel_size=3,stride=2),\n",
        "            self.nin_block(256,kernel=5,stride=1,padding=2),\n",
        "            nn.MaxPool2d(kernel_size=3,stride=2),\n",
        "            self.nin_block(384,3,1,2),\n",
        "            nn.MaxPool2d(kernel_size=3,stride=2),\n",
        "            nn.Dropout(0.5),\n",
        "            self.nin_block(self.num_classes,kernel=3,stride=1,padding=1),\n",
        "            nn.AdaptiveAvgPool2d((1,1)),\n",
        "            nn.Flatten()\n",
        "        )\n",
        "\n",
        "    @staticmethod\n",
        "    def nin_block(out_channels,kernel,stride,padding):\n",
        "        return nn.Sequential(\n",
        "            nn.LazyConv2d(out_channels,kernel_size=kernel,stride=stride,padding=padding),nn.ReLU(),\n",
        "            # modified to have one 1x1 conv\n",
        "            nn.LazyConv2d(out_channels,kernel_size=1),nn.ReLU()\n",
        "        )\n",
        "\n",
        "    @staticmethod\n",
        "    def init_nin(module):\n",
        "        if isinstance(module,(nn.Linear,nn.Conv2d)):\n",
        "            nn.init.kaiming_normal_(module.weight)"
      ]
    },
    {
      "cell_type": "code",
      "execution_count": 23,
      "metadata": {
        "id": "RdhuSTtcIybO",
        "outputId": "b6268b13-eb72-434e-a368-e771ba12c4f1",
        "colab": {
          "base_uri": "https://localhost:8080/"
        }
      },
      "outputs": [
        {
          "output_type": "stream",
          "name": "stdout",
          "text": [
            "Sequential      output shape :(1, 96, 54, 54)\n",
            "MaxPool2d       output shape :(1, 96, 26, 26)\n",
            "Sequential      output shape :(1, 256, 26, 26)\n",
            "MaxPool2d       output shape :(1, 256, 12, 12)\n",
            "Sequential      output shape :(1, 384, 14, 14)\n",
            "MaxPool2d       output shape :(1, 384, 6, 6)\n",
            "Dropout         output shape :(1, 384, 6, 6)\n",
            "Sequential      output shape :(1, 10, 6, 6)\n",
            "AdaptiveAvgPool2d output shape :(1, 10, 1, 1)\n",
            "Flatten         output shape :(1, 10)\n"
          ]
        }
      ],
      "source": [
        "NiNWithOne().layer_summary((1,1,224,224))"
      ]
    },
    {
      "cell_type": "code",
      "execution_count": 24,
      "metadata": {
        "id": "O9vhKYpKIybP",
        "outputId": "c25ee581-cd15-4d7d-9c36-b1c5c08f5fb8",
        "colab": {
          "base_uri": "https://localhost:8080/"
        }
      },
      "outputs": [
        {
          "output_type": "execute_result",
          "data": {
            "text/plain": [
              "================================================================================================\n",
              "Layer (type (var_name))                  Kernel Shape   Output Shape   Param #        Mult-Adds\n",
              "================================================================================================\n",
              "NiNWithOne (NiNWithOne)                  --             [10, 1]        --             --\n",
              "├─Sequential (net)                       --             [10, 1]        --             --\n",
              "│    └─Sequential (0)                    --             [96, 54, 54]   --             --\n",
              "│    │    └─Conv2d (0)                   [11, 11]       [96, 54, 54]   11,712         60,715,008\n",
              "│    │    └─ReLU (1)                     --             [96, 54, 54]   --             --\n",
              "│    │    └─Conv2d (2)                   [1, 1]         [96, 54, 54]   9,312          48,273,408\n",
              "│    │    └─ReLU (3)                     --             [96, 54, 54]   --             --\n",
              "│    └─MaxPool2d (1)                     3              [96, 26, 26]   --             --\n",
              "│    └─Sequential (2)                    --             [256, 26, 26]  --             --\n",
              "│    │    └─Conv2d (0)                   [5, 5]         [256, 26, 26]  614,656        4,091,150,336\n",
              "│    │    └─ReLU (1)                     --             [256, 26, 26]  --             --\n",
              "│    │    └─Conv2d (2)                   [1, 1]         [256, 26, 26]  65,792         437,911,552\n",
              "│    │    └─ReLU (3)                     --             [256, 26, 26]  --             --\n",
              "│    └─MaxPool2d (3)                     3              [256, 12, 12]  --             --\n",
              "│    └─Sequential (4)                    --             [384, 14, 14]  --             --\n",
              "│    │    └─Conv2d (0)                   [3, 3]         [384, 14, 14]  885,120        4,758,405,120\n",
              "│    │    └─ReLU (1)                     --             [384, 14, 14]  --             --\n",
              "│    │    └─Conv2d (2)                   [1, 1]         [384, 14, 14]  147,840        794,787,840\n",
              "│    │    └─ReLU (3)                     --             [384, 14, 14]  --             --\n",
              "│    └─MaxPool2d (5)                     3              [384, 6, 6]    --             --\n",
              "│    └─Dropout (6)                       --             [384, 6, 6]    --             --\n",
              "│    └─Sequential (7)                    --             [10, 6, 6]     --             --\n",
              "│    │    └─Conv2d (0)                   [3, 3]         [10, 6, 6]     34,570         2,074,200\n",
              "│    │    └─ReLU (1)                     --             [10, 6, 6]     --             --\n",
              "│    │    └─Conv2d (2)                   [1, 1]         [10, 6, 6]     110            6,600\n",
              "│    │    └─ReLU (3)                     --             [10, 6, 6]     --             --\n",
              "│    └─AdaptiveAvgPool2d (8)             --             [10, 1, 1]     --             --\n",
              "│    └─Flatten (9)                       --             [10, 1]        --             --\n",
              "================================================================================================\n",
              "Total params: 1,769,112\n",
              "Trainable params: 1,769,112\n",
              "Non-trainable params: 0\n",
              "Total mult-adds (G): 10.19\n",
              "================================================================================================\n",
              "Input size (MB): 0.20\n",
              "Forward/backward pass size (MB): 8.46\n",
              "Params size (MB): 7.08\n",
              "Estimated Total Size (MB): 15.74\n",
              "================================================================================================"
            ]
          },
          "metadata": {},
          "execution_count": 24
        }
      ],
      "source": [
        "torchinfo.summary(NiNWithOne(),input_size=(1,224,224)  ,  col_width=14,\n",
        "    col_names=[\"kernel_size\", \"output_size\", \"num_params\", \"mult_adds\"],\n",
        "    row_settings=[\"var_names\"],\n",
        ")"
      ]
    },
    {
      "cell_type": "markdown",
      "metadata": {
        "id": "otlFgMkZIybP"
      },
      "source": [
        "### Transferring the learned weight for nin_model to nin_with_one"
      ]
    },
    {
      "cell_type": "code",
      "execution_count": 25,
      "metadata": {
        "id": "wUR29nD6IybP"
      },
      "outputs": [],
      "source": [
        "nin_with_one =  NiNWithOne().to(device)"
      ]
    },
    {
      "cell_type": "code",
      "execution_count": 26,
      "metadata": {
        "id": "sSmwUrvgIybP",
        "outputId": "af3d6a64-e9c3-428c-d95e-27ade05f3b8a",
        "colab": {
          "base_uri": "https://localhost:8080/"
        }
      },
      "outputs": [
        {
          "output_type": "stream",
          "name": "stdout",
          "text": [
            "net.0.0.weight <UninitializedParameter>\n",
            "net.0.0.bias <UninitializedParameter>\n",
            "net.0.2.weight <UninitializedParameter>\n",
            "net.0.2.bias <UninitializedParameter>\n",
            "net.2.0.weight <UninitializedParameter>\n",
            "net.2.0.bias <UninitializedParameter>\n",
            "net.2.2.weight <UninitializedParameter>\n",
            "net.2.2.bias <UninitializedParameter>\n",
            "net.4.0.weight <UninitializedParameter>\n",
            "net.4.0.bias <UninitializedParameter>\n",
            "net.4.2.weight <UninitializedParameter>\n",
            "net.4.2.bias <UninitializedParameter>\n",
            "net.7.0.weight <UninitializedParameter>\n",
            "net.7.0.bias <UninitializedParameter>\n",
            "net.7.2.weight <UninitializedParameter>\n",
            "net.7.2.bias <UninitializedParameter>\n"
          ]
        }
      ],
      "source": [
        "for k,v in nin_with_one.named_parameters():\n",
        "    print(k,v)"
      ]
    },
    {
      "cell_type": "code",
      "execution_count": 27,
      "metadata": {
        "id": "aEx6A0pxIybQ"
      },
      "outputs": [],
      "source": [
        "nin_with_one.apply_init([next(iter(data.train_dataloader()))[0].to(device)],nin_with_one.init_nin)"
      ]
    },
    {
      "cell_type": "code",
      "execution_count": 28,
      "metadata": {
        "id": "8-gs8ZVlIybQ",
        "outputId": "57230cbb-d78a-495d-b2ac-d4322f4491db",
        "colab": {
          "base_uri": "https://localhost:8080/"
        }
      },
      "outputs": [
        {
          "output_type": "stream",
          "name": "stdout",
          "text": [
            "net.0.0.weight torch.Size([96, 1, 11, 11]) -0.002286304719746113\n",
            "net.0.0.bias torch.Size([96]) -0.0020106325391680002\n",
            "net.0.2.weight torch.Size([96, 96, 1, 1]) 0.0003214972384739667\n",
            "net.0.2.bias torch.Size([96]) 0.0009639430791139603\n",
            "net.2.0.weight torch.Size([256, 96, 5, 5]) -1.7161723008030094e-05\n",
            "net.2.0.bias torch.Size([256]) -0.0010349205695092678\n",
            "net.2.2.weight torch.Size([256, 256, 1, 1]) -0.0003122214402537793\n",
            "net.2.2.bias torch.Size([256]) -0.0018470458453521132\n",
            "net.4.0.weight torch.Size([384, 256, 3, 3]) -3.0192750273272395e-06\n",
            "net.4.0.bias torch.Size([384]) 5.964442152617266e-06\n",
            "net.4.2.weight torch.Size([384, 384, 1, 1]) 0.00010057874897029251\n",
            "net.4.2.bias torch.Size([384]) -0.0024376106448471546\n",
            "net.7.0.weight torch.Size([10, 384, 3, 3]) -0.00010602709517115727\n",
            "net.7.0.bias torch.Size([10]) -0.003270224202424288\n",
            "net.7.2.weight torch.Size([10, 10, 1, 1]) 0.03577032312750816\n",
            "net.7.2.bias torch.Size([10]) -0.10210614651441574\n"
          ]
        }
      ],
      "source": [
        "for k,v in nin_with_one.named_parameters():\n",
        "    print(k,v.shape,torch.mean(v).item())"
      ]
    },
    {
      "cell_type": "code",
      "execution_count": 29,
      "metadata": {
        "id": "cI6GDprFIybR",
        "outputId": "dc748812-16c0-4c83-afb5-67448fdeced4",
        "colab": {
          "base_uri": "https://localhost:8080/"
        }
      },
      "outputs": [
        {
          "output_type": "stream",
          "name": "stdout",
          "text": [
            "net.0.0.weight torch.Size([96, 1, 11, 11]) 0.002518415218219161\n",
            "net.0.0.bias torch.Size([96]) 0.014686170034110546\n",
            "net.0.2.weight torch.Size([96, 96, 1, 1]) 0.0024608594831079245\n",
            "net.0.2.bias torch.Size([96]) 0.007570400834083557\n",
            "net.0.4.weight torch.Size([96, 96, 1, 1]) 0.0029407686088234186\n",
            "net.0.4.bias torch.Size([96]) 0.00958086084574461\n",
            "net.2.0.weight torch.Size([256, 96, 5, 5]) 4.9067857617046684e-05\n",
            "net.2.0.bias torch.Size([256]) 0.002403360093012452\n",
            "net.2.2.weight torch.Size([256, 256, 1, 1]) -4.880559572484344e-06\n",
            "net.2.2.bias torch.Size([256]) -0.0004151491157244891\n",
            "net.2.4.weight torch.Size([256, 256, 1, 1]) -0.000734619505237788\n",
            "net.2.4.bias torch.Size([256]) -0.002193798776715994\n",
            "net.4.0.weight torch.Size([384, 256, 3, 3]) -1.2274877008167095e-05\n",
            "net.4.0.bias torch.Size([384]) -0.00033259447081945837\n",
            "net.4.2.weight torch.Size([384, 384, 1, 1]) -0.0003919734444934875\n",
            "net.4.2.bias torch.Size([384]) -0.0008917622035369277\n",
            "net.4.4.weight torch.Size([384, 384, 1, 1]) -0.001556986360810697\n",
            "net.4.4.bias torch.Size([384]) 0.0007221900741569698\n",
            "net.7.0.weight torch.Size([10, 384, 3, 3]) 0.0008794186869636178\n",
            "net.7.0.bias torch.Size([10]) 0.006715375930070877\n",
            "net.7.2.weight torch.Size([10, 10, 1, 1]) -0.01515054702758789\n",
            "net.7.2.bias torch.Size([10]) -0.04992469772696495\n",
            "net.7.4.weight torch.Size([10, 10, 1, 1]) -0.004677244927734137\n",
            "net.7.4.bias torch.Size([10]) 0.024594495072960854\n"
          ]
        }
      ],
      "source": [
        "for k,v in nin_model.named_parameters():\n",
        "    print(k,v.shape,torch.mean(v).item())"
      ]
    },
    {
      "cell_type": "code",
      "execution_count": 30,
      "metadata": {
        "id": "ul7H5c9RIybR"
      },
      "outputs": [],
      "source": [
        "nin_with_one_params_name_set = set(dict(nin_with_one.named_parameters()).keys())\n",
        "nin_model_params_name_set = set(dict(nin_model.named_parameters()).keys())"
      ]
    },
    {
      "cell_type": "code",
      "execution_count": 31,
      "metadata": {
        "id": "5EErUmknIybR",
        "outputId": "601f85ca-6cd6-473e-ae21-9ffdecbd0583",
        "colab": {
          "base_uri": "https://localhost:8080/"
        }
      },
      "outputs": [
        {
          "output_type": "stream",
          "name": "stdout",
          "text": [
            "{'net.2.0.weight', 'net.4.4.bias', 'net.2.4.weight', 'net.2.4.bias', 'net.4.0.bias', 'net.7.4.weight', 'net.4.0.weight', 'net.4.2.bias', 'net.0.2.weight', 'net.2.0.bias', 'net.0.4.bias', 'net.4.2.weight', 'net.2.2.weight', 'net.0.2.bias', 'net.7.0.weight', 'net.4.4.weight', 'net.7.4.bias', 'net.0.0.bias', 'net.0.4.weight', 'net.7.2.weight', 'net.7.0.bias', 'net.0.0.weight', 'net.7.2.bias', 'net.2.2.bias'} {'net.4.2.weight', 'net.2.2.bias', 'net.2.0.weight', 'net.0.0.bias', 'net.2.2.weight', 'net.7.2.weight', 'net.7.0.bias', 'net.0.0.weight', 'net.0.2.weight', 'net.4.0.weight', 'net.4.2.bias', 'net.7.2.bias', 'net.0.2.bias', 'net.2.0.bias', 'net.7.0.weight', 'net.4.0.bias'}\n"
          ]
        }
      ],
      "source": [
        "print(nin_model_params_name_set,nin_with_one_params_name_set)"
      ]
    },
    {
      "cell_type": "code",
      "execution_count": 32,
      "metadata": {
        "id": "2KbbcN9dIybS",
        "outputId": "8ff35722-ed4c-4f79-aabc-d5dcf7aac9b9",
        "colab": {
          "base_uri": "https://localhost:8080/"
        }
      },
      "outputs": [
        {
          "output_type": "execute_result",
          "data": {
            "text/plain": [
              "True"
            ]
          },
          "metadata": {},
          "execution_count": 32
        }
      ],
      "source": [
        "nin_with_one_params_name_set.intersection(nin_model_params_name_set) ==  nin_with_one_params_name_set"
      ]
    },
    {
      "cell_type": "code",
      "execution_count": 33,
      "metadata": {
        "id": "w91ZRFUzIybS",
        "outputId": "5156e33e-b1bd-4c5c-bddd-d17b3c0f0777",
        "colab": {
          "base_uri": "https://localhost:8080/"
        }
      },
      "outputs": [
        {
          "output_type": "execute_result",
          "data": {
            "text/plain": [
              "{'net.0.4.bias',\n",
              " 'net.0.4.weight',\n",
              " 'net.2.4.bias',\n",
              " 'net.2.4.weight',\n",
              " 'net.4.4.bias',\n",
              " 'net.4.4.weight',\n",
              " 'net.7.4.bias',\n",
              " 'net.7.4.weight'}"
            ]
          },
          "metadata": {},
          "execution_count": 33
        }
      ],
      "source": [
        "to_remove = nin_model_params_name_set.difference(nin_with_one_params_name_set)\n",
        "to_remove"
      ]
    },
    {
      "cell_type": "code",
      "execution_count": 34,
      "metadata": {
        "id": "42nJfx7bIybS"
      },
      "outputs": [],
      "source": [
        "nin_model_trained_state = torch.load(nin_trainer.save_path,map_location=device)"
      ]
    },
    {
      "cell_type": "code",
      "execution_count": 35,
      "metadata": {
        "id": "4x0KhZtFIybT",
        "outputId": "c00baf95-852a-4ea4-a967-7e06b61fe500",
        "colab": {
          "base_uri": "https://localhost:8080/"
        }
      },
      "outputs": [
        {
          "output_type": "execute_result",
          "data": {
            "text/plain": [
              "odict_keys(['net.0.0.weight', 'net.0.0.bias', 'net.0.2.weight', 'net.0.2.bias', 'net.0.4.weight', 'net.0.4.bias', 'net.2.0.weight', 'net.2.0.bias', 'net.2.2.weight', 'net.2.2.bias', 'net.2.4.weight', 'net.2.4.bias', 'net.4.0.weight', 'net.4.0.bias', 'net.4.2.weight', 'net.4.2.bias', 'net.4.4.weight', 'net.4.4.bias', 'net.7.0.weight', 'net.7.0.bias', 'net.7.2.weight', 'net.7.2.bias', 'net.7.4.weight', 'net.7.4.bias'])"
            ]
          },
          "metadata": {},
          "execution_count": 35
        }
      ],
      "source": [
        "nin_model_trained_state.keys()"
      ]
    },
    {
      "cell_type": "code",
      "execution_count": 36,
      "metadata": {
        "id": "ARmkTo5wIybT"
      },
      "outputs": [],
      "source": [
        "for k in to_remove:\n",
        "    nin_model_trained_state.pop(k,None)"
      ]
    },
    {
      "cell_type": "code",
      "execution_count": 37,
      "metadata": {
        "id": "9Y38gVbJIybT",
        "outputId": "35c89a3e-151a-4c7d-a56a-33510320392f",
        "colab": {
          "base_uri": "https://localhost:8080/"
        }
      },
      "outputs": [
        {
          "output_type": "execute_result",
          "data": {
            "text/plain": [
              "True"
            ]
          },
          "metadata": {},
          "execution_count": 37
        }
      ],
      "source": [
        "nin_model_trained_state.keys() == nin_with_one_params_name_set"
      ]
    },
    {
      "cell_type": "code",
      "execution_count": 38,
      "metadata": {
        "id": "pi3Wc6auIybT",
        "outputId": "5a51bfba-65fa-4bf7-fbab-06f0005efebb",
        "colab": {
          "base_uri": "https://localhost:8080/"
        }
      },
      "outputs": [
        {
          "output_type": "execute_result",
          "data": {
            "text/plain": [
              "<All keys matched successfully>"
            ]
          },
          "metadata": {},
          "execution_count": 38
        }
      ],
      "source": [
        "nin_with_one.load_state_dict(nin_model_trained_state)"
      ]
    },
    {
      "cell_type": "code",
      "execution_count": 39,
      "metadata": {
        "id": "N5LHynUNIybU",
        "outputId": "a7a0c6b0-adc0-4397-b5fe-40334a662d23",
        "colab": {
          "base_uri": "https://localhost:8080/"
        }
      },
      "outputs": [
        {
          "output_type": "stream",
          "name": "stdout",
          "text": [
            "net.0.0.weight 0.002518415218219161\n",
            "net.0.0.bias 0.014686170034110546\n",
            "net.0.2.weight 0.0024608594831079245\n",
            "net.0.2.bias 0.007570400834083557\n",
            "net.2.0.weight 4.9067857617046684e-05\n",
            "net.2.0.bias 0.002403360093012452\n",
            "net.2.2.weight -4.880559572484344e-06\n",
            "net.2.2.bias -0.0004151491157244891\n",
            "net.4.0.weight -1.2274877008167095e-05\n",
            "net.4.0.bias -0.00033259447081945837\n",
            "net.4.2.weight -0.0003919734444934875\n",
            "net.4.2.bias -0.0008917622035369277\n",
            "net.7.0.weight 0.0008794186869636178\n",
            "net.7.0.bias 0.006715375930070877\n",
            "net.7.2.weight -0.01515054702758789\n",
            "net.7.2.bias -0.04992469772696495\n"
          ]
        }
      ],
      "source": [
        "for k,v in nin_with_one.named_parameters():\n",
        "    print(k,torch.mean(v).item())"
      ]
    },
    {
      "cell_type": "markdown",
      "metadata": {
        "id": "0SLBqKAOIybU"
      },
      "source": [
        "### Training the model with one 1x1"
      ]
    },
    {
      "cell_type": "code",
      "execution_count": 40,
      "metadata": {
        "id": "eWsQ1B_BIybU",
        "outputId": "113591c4-4164-4041-a94e-d36f01895d59",
        "colab": {
          "base_uri": "https://localhost:8080/"
        }
      },
      "outputs": [
        {
          "output_type": "stream",
          "name": "stdout",
          "text": [
            "Training the model in cuda\n"
          ]
        }
      ],
      "source": [
        "nin_with_one_trainer = helper.Trainer(max_epochs=10,model_save_path=MODEL_SAVE_PATH)"
      ]
    },
    {
      "cell_type": "code",
      "execution_count": 41,
      "metadata": {
        "id": "jPLHSGtgIybV",
        "outputId": "752d8eef-b761-45f2-d414-346393463995",
        "colab": {
          "base_uri": "https://localhost:8080/",
          "height": 290,
          "referenced_widgets": [
            "0519daaf39804281bb5434be92d4a355",
            "886252e879b24f99905eed15db2a2950",
            "c887f9a9dbfd41e1865dfc0b9edd58ad",
            "986e31a6a28b4113ba809e79372535f0",
            "426df7ad0b2a4d0d932ccc7dc0badd5a",
            "cf5ba9bf27fc429e820bed0f24312dea",
            "32611c41b8d54e1388ff11135ac38612",
            "b98514ff0f13417b88b8da5a56b5deaf",
            "9c35f583d30e4024945182dc5aa7cb79",
            "3c33bdd4350240feb9f0234cd3d34307",
            "dd14c4b1aaed49bf9ef63cc6dbfdd805"
          ]
        }
      },
      "outputs": [
        {
          "output_type": "display_data",
          "data": {
            "text/plain": [
              "  0%|          | 0/10 [00:00<?, ?it/s]"
            ],
            "application/vnd.jupyter.widget-view+json": {
              "version_major": 2,
              "version_minor": 0,
              "model_id": "0519daaf39804281bb5434be92d4a355"
            }
          },
          "metadata": {}
        },
        {
          "output_type": "display_data",
          "data": {
            "text/plain": [
              "<Figure size 576x216 with 2 Axes>"
            ],
            "image/png": "[encoded data removed]"
          },
          "metadata": {
            "needs_background": "light"
          }
        },
        {
          "output_type": "stream",
          "name": "stdout",
          "text": [
            "[Info] Saving the model at /content/drive/Othercomputers/My PC/drive/models/2023-02-05/NiNWithOne-061712.pth\n"
          ]
        }
      ],
      "source": [
        "nin_with_one_trainer.fit(nin_with_one,data)"
      ]
    },
    {
      "cell_type": "markdown",
      "metadata": {
        "id": "WuCQ4_08IybV"
      },
      "source": [
        "### 1x1 conv with three layer"
      ]
    },
    {
      "cell_type": "code",
      "execution_count": 42,
      "metadata": {
        "id": "hLIuB2qOIybV"
      },
      "outputs": [],
      "source": [
        "def set_seed():\n",
        "    torch.manual_seed(42)\n",
        "    torch.cuda.manual_seed(42)"
      ]
    },
    {
      "cell_type": "code",
      "execution_count": 43,
      "metadata": {
        "id": "GyOv-BhUIybV"
      },
      "outputs": [],
      "source": [
        "@dataclass(eq=False)\n",
        "class NiNWithThree(helper.Classifier):\n",
        "    \"\"\"\n",
        "    Output channel number is taken from the sequence [A133572 Row sums of triangle A133571]\n",
        "    1, 4, 6, 16, 24, 64, 96, 256, 384, 1024......\n",
        "    refer : https://oeis.org/A133572\n",
        "    \"\"\"\n",
        "    lr:int = 0.01\n",
        "    num_classes:int = 10\n",
        "    \n",
        "\n",
        "    def __post_init__(self):\n",
        "        super().__init__()\n",
        "        self.net = nn.Sequential(\n",
        "            self.nin_block(96,11,4,0),\n",
        "            nn.MaxPool2d(kernel_size=3,stride=2),\n",
        "            self.nin_block(256,kernel=5,stride=1,padding=2),\n",
        "            nn.MaxPool2d(kernel_size=3,stride=2),\n",
        "            self.nin_block(384,3,1,2),\n",
        "            nn.MaxPool2d(kernel_size=3,stride=2),\n",
        "            nn.Dropout(0.5),\n",
        "            self.nin_block(self.num_classes,kernel=3,stride=1,padding=1),\n",
        "            nn.AdaptiveAvgPool2d((1,1)),\n",
        "            nn.Flatten()\n",
        "        )\n",
        "\n",
        "    @staticmethod\n",
        "    def nin_block(out_channels,kernel,stride,padding):\n",
        "        return nn.Sequential(\n",
        "            nn.LazyConv2d(out_channels,kernel_size=kernel,stride=stride,padding=padding),nn.ReLU(),\n",
        "            #? modified to have three 1x1 conv\n",
        "            nn.LazyConv2d(out_channels,kernel_size=1),nn.ReLU(),\n",
        "            nn.LazyConv2d(out_channels,kernel_size=1),nn.ReLU(),\n",
        "            nn.LazyConv2d(out_channels,kernel_size=1),nn.ReLU()\n",
        "        )\n",
        "\n",
        "    @staticmethod\n",
        "    def init_nin(module):\n",
        "        if isinstance(module,(nn.Linear,nn.Conv2d)):\n",
        "            nn.init.kaiming_normal_(module.weight)"
      ]
    },
    {
      "cell_type": "code",
      "execution_count": 44,
      "metadata": {
        "id": "cfWylmhWIybX"
      },
      "outputs": [],
      "source": [
        "nin_with_three = NiNWithThree().to(device)\n",
        "nin_with_three.apply_init([next(iter(data.train_dataloader()))[0].to(device)],nin_with_three.init_nin)"
      ]
    },
    {
      "cell_type": "code",
      "execution_count": 45,
      "metadata": {
        "id": "k9PD-UgBIybY",
        "outputId": "ff57cf90-1d2f-4d8d-913d-c2bd506939c0",
        "colab": {
          "base_uri": "https://localhost:8080/"
        }
      },
      "outputs": [
        {
          "output_type": "execute_result",
          "data": {
            "text/plain": [
              "==========================================================================================\n",
              "Layer (type:depth-idx)                   Output Shape              Param #\n",
              "==========================================================================================\n",
              "NiNWithThree                             [10, 1]                   --\n",
              "├─Sequential: 1-1                        [10, 1]                   --\n",
              "│    └─Sequential: 2-1                   [96, 54, 54]              --\n",
              "│    │    └─Conv2d: 3-1                  [96, 54, 54]              11,712\n",
              "│    │    └─ReLU: 3-2                    [96, 54, 54]              --\n",
              "│    │    └─Conv2d: 3-3                  [96, 54, 54]              9,312\n",
              "│    │    └─ReLU: 3-4                    [96, 54, 54]              --\n",
              "│    │    └─Conv2d: 3-5                  [96, 54, 54]              9,312\n",
              "│    │    └─ReLU: 3-6                    [96, 54, 54]              --\n",
              "│    │    └─Conv2d: 3-7                  [96, 54, 54]              9,312\n",
              "│    │    └─ReLU: 3-8                    [96, 54, 54]              --\n",
              "│    └─MaxPool2d: 2-2                    [96, 26, 26]              --\n",
              "│    └─Sequential: 2-3                   [256, 26, 26]             --\n",
              "│    │    └─Conv2d: 3-9                  [256, 26, 26]             614,656\n",
              "│    │    └─ReLU: 3-10                   [256, 26, 26]             --\n",
              "│    │    └─Conv2d: 3-11                 [256, 26, 26]             65,792\n",
              "│    │    └─ReLU: 3-12                   [256, 26, 26]             --\n",
              "│    │    └─Conv2d: 3-13                 [256, 26, 26]             65,792\n",
              "│    │    └─ReLU: 3-14                   [256, 26, 26]             --\n",
              "│    │    └─Conv2d: 3-15                 [256, 26, 26]             65,792\n",
              "│    │    └─ReLU: 3-16                   [256, 26, 26]             --\n",
              "│    └─MaxPool2d: 2-4                    [256, 12, 12]             --\n",
              "│    └─Sequential: 2-5                   [384, 14, 14]             --\n",
              "│    │    └─Conv2d: 3-17                 [384, 14, 14]             885,120\n",
              "│    │    └─ReLU: 3-18                   [384, 14, 14]             --\n",
              "│    │    └─Conv2d: 3-19                 [384, 14, 14]             147,840\n",
              "│    │    └─ReLU: 3-20                   [384, 14, 14]             --\n",
              "│    │    └─Conv2d: 3-21                 [384, 14, 14]             147,840\n",
              "│    │    └─ReLU: 3-22                   [384, 14, 14]             --\n",
              "│    │    └─Conv2d: 3-23                 [384, 14, 14]             147,840\n",
              "│    │    └─ReLU: 3-24                   [384, 14, 14]             --\n",
              "│    └─MaxPool2d: 2-6                    [384, 6, 6]               --\n",
              "│    └─Dropout: 2-7                      [384, 6, 6]               --\n",
              "│    └─Sequential: 2-8                   [10, 6, 6]                --\n",
              "│    │    └─Conv2d: 3-25                 [10, 6, 6]                34,570\n",
              "│    │    └─ReLU: 3-26                   [10, 6, 6]                --\n",
              "│    │    └─Conv2d: 3-27                 [10, 6, 6]                110\n",
              "│    │    └─ReLU: 3-28                   [10, 6, 6]                --\n",
              "│    │    └─Conv2d: 3-29                 [10, 6, 6]                110\n",
              "│    │    └─ReLU: 3-30                   [10, 6, 6]                --\n",
              "│    │    └─Conv2d: 3-31                 [10, 6, 6]                110\n",
              "│    │    └─ReLU: 3-32                   [10, 6, 6]                --\n",
              "│    └─AdaptiveAvgPool2d: 2-9            [10, 1, 1]                --\n",
              "│    └─Flatten: 2-10                     [10, 1]                   --\n",
              "==========================================================================================\n",
              "Total params: 2,215,220\n",
              "Trainable params: 2,215,220\n",
              "Non-trainable params: 0\n",
              "Total mult-adds (G): 12.76\n",
              "==========================================================================================\n",
              "Input size (MB): 0.20\n",
              "Forward/backward pass size (MB): 16.92\n",
              "Params size (MB): 8.86\n",
              "Estimated Total Size (MB): 25.98\n",
              "=========================================================================================="
            ]
          },
          "metadata": {},
          "execution_count": 45
        }
      ],
      "source": [
        "torchinfo.summary(nin_with_three,input_size=(1,224,224))"
      ]
    },
    {
      "cell_type": "code",
      "execution_count": 46,
      "metadata": {
        "id": "v4SlSRVFIybY",
        "outputId": "f4df2fd3-a1d9-432d-bc2e-5dee6187f618",
        "colab": {
          "base_uri": "https://localhost:8080/"
        }
      },
      "outputs": [
        {
          "output_type": "stream",
          "name": "stdout",
          "text": [
            "Training the model in cuda\n"
          ]
        }
      ],
      "source": [
        "nin_with_three_trainer = helper.Trainer(max_epochs=10,model_save_path=MODEL_SAVE_PATH)"
      ]
    },
    {
      "cell_type": "code",
      "execution_count": 47,
      "metadata": {
        "id": "-Y-4NjufIybY",
        "outputId": "74047787-ab91-4eed-c765-b616a7cd587c",
        "colab": {
          "base_uri": "https://localhost:8080/",
          "height": 290,
          "referenced_widgets": [
            "9e2da32cd153420b8c7122aba38ca401",
            "9a411582d234423a820ea7ce40c18bc0",
            "cbe15e8f9a2d4b3ba043239c77555b7f",
            "df53f91bfea5427f802a488e37e6c326",
            "21e695e1ee8d459ebc9987f9bf939b89",
            "6f1abda5cd1348888947e23b4f665001",
            "30b3690fc80a48d48716365c248752a6",
            "17af3a718dc2491f813553a434b9213e",
            "b207c70b789d45d181c5f845a6125296",
            "80e2e7d978ac4c63bc0355adb3f2cb07",
            "e344b3e1af7f453890e583cc1d5cf5f5"
          ]
        }
      },
      "outputs": [
        {
          "output_type": "display_data",
          "data": {
            "text/plain": [
              "  0%|          | 0/10 [00:00<?, ?it/s]"
            ],
            "application/vnd.jupyter.widget-view+json": {
              "version_major": 2,
              "version_minor": 0,
              "model_id": "9e2da32cd153420b8c7122aba38ca401"
            }
          },
          "metadata": {}
        },
        {
          "output_type": "display_data",
          "data": {
            "text/plain": [
              "<Figure size 576x216 with 2 Axes>"
            ],
            "image/png": "[encoded data removed]"
          },
          "metadata": {
            "needs_background": "light"
          }
        },
        {
          "output_type": "stream",
          "name": "stdout",
          "text": [
            "[Info] Saving the model at /content/drive/Othercomputers/My PC/drive/models/2023-02-05/NiNWithThree-063210.pth\n"
          ]
        }
      ],
      "source": [
        "nin_with_three_trainer.fit(nin_with_three,data)"
      ]
    }
  ],
  "metadata": {
    "accelerator": "GPU",
    "colab": {
      "provenance": []
    },
    "gpuClass": "standard",
    "kernelspec": {
      "display_name": "py310",
      "language": "python",
      "name": "python3"
    },
    "language_info": {
      "codemirror_mode": {
        "name": "ipython",
        "version": 3
      },
      "file_extension": ".py",
      "mimetype": "text/x-python",
      "name": "python",
      "nbconvert_exporter": "python",
      "pygments_lexer": "ipython3",
      "version": "3.10.6"
    },
    "orig_nbformat": 4,
    "vscode": {
      "interpreter": {
        "hash": "cf51ac970e033765f04eaa06b2d945d30ec4bd27f0fa0badbc17cd319e8357a7"
      }
    },
    "widgets": {
      "application/vnd.jupyter.widget-state+json": {
        "a2a75c2ac81e4bb2bdde2de32b8fffea": {
          "model_module": "@jupyter-widgets/controls",
          "model_name": "HBoxModel",
          "model_module_version": "1.5.0",
          "state": {
            "_dom_classes": [],
            "_model_module": "@jupyter-widgets/controls",
            "_model_module_version": "1.5.0",
            "_model_name": "HBoxModel",
            "_view_count": null,
            "_view_module": "@jupyter-widgets/controls",
            "_view_module_version": "1.5.0",
            "_view_name": "HBoxView",
            "box_style": "",
            "children": [
              "IPY_MODEL_daf99f7d3b4347edbfd0120b460bcbde",
              "IPY_MODEL_d97affc3c050413a8e01a7259f7f8c7f",
              "IPY_MODEL_f6199e766e2a4bcaacf33bb15eb9cbc9"
            ],
            "layout": "IPY_MODEL_75caa8738b0244928374160979e09241"
          }
        },
        "daf99f7d3b4347edbfd0120b460bcbde": {
          "model_module": "@jupyter-widgets/controls",
          "model_name": "HTMLModel",
          "model_module_version": "1.5.0",
          "state": {
            "_dom_classes": [],
            "_model_module": "@jupyter-widgets/controls",
            "_model_module_version": "1.5.0",
            "_model_name": "HTMLModel",
            "_view_count": null,
            "_view_module": "@jupyter-widgets/controls",
            "_view_module_version": "1.5.0",
            "_view_name": "HTMLView",
            "description": "",
            "description_tooltip": null,
            "layout": "IPY_MODEL_52ea8a5364674c229ccc1df0dc03274b",
            "placeholder": "​",
            "style": "IPY_MODEL_551a30215ef947699f237b5535af8362",
            "value": "100%"
          }
        },
        "d97affc3c050413a8e01a7259f7f8c7f": {
          "model_module": "@jupyter-widgets/controls",
          "model_name": "FloatProgressModel",
          "model_module_version": "1.5.0",
          "state": {
            "_dom_classes": [],
            "_model_module": "@jupyter-widgets/controls",
            "_model_module_version": "1.5.0",
            "_model_name": "FloatProgressModel",
            "_view_count": null,
            "_view_module": "@jupyter-widgets/controls",
            "_view_module_version": "1.5.0",
            "_view_name": "ProgressView",
            "bar_style": "success",
            "description": "",
            "description_tooltip": null,
            "layout": "IPY_MODEL_b36a787193b1471b96163182de4c88e0",
            "max": 26421880,
            "min": 0,
            "orientation": "horizontal",
            "style": "IPY_MODEL_8c5c1f6bd89b47c3a398cde4d900f1de",
            "value": 26421880
          }
        },
        "f6199e766e2a4bcaacf33bb15eb9cbc9": {
          "model_module": "@jupyter-widgets/controls",
          "model_name": "HTMLModel",
          "model_module_version": "1.5.0",
          "state": {
            "_dom_classes": [],
            "_model_module": "@jupyter-widgets/controls",
            "_model_module_version": "1.5.0",
            "_model_name": "HTMLModel",
            "_view_count": null,
            "_view_module": "@jupyter-widgets/controls",
            "_view_module_version": "1.5.0",
            "_view_name": "HTMLView",
            "description": "",
            "description_tooltip": null,
            "layout": "IPY_MODEL_5c7fb1e0864a4ac6ae7bbcaa69ff6a5b",
            "placeholder": "​",
            "style": "IPY_MODEL_adfa877617a442a0b60a80764dde85d1",
            "value": " 26421880/26421880 [00:01&lt;00:00, 25836864.56it/s]"
          }
        },
        "75caa8738b0244928374160979e09241": {
          "model_module": "@jupyter-widgets/base",
          "model_name": "LayoutModel",
          "model_module_version": "1.2.0",
          "state": {
            "_model_module": "@jupyter-widgets/base",
            "_model_module_version": "1.2.0",
            "_model_name": "LayoutModel",
            "_view_count": null,
            "_view_module": "@jupyter-widgets/base",
            "_view_module_version": "1.2.0",
            "_view_name": "LayoutView",
            "align_content": null,
            "align_items": null,
            "align_self": null,
            "border": null,
            "bottom": null,
            "display": null,
            "flex": null,
            "flex_flow": null,
            "grid_area": null,
            "grid_auto_columns": null,
            "grid_auto_flow": null,
            "grid_auto_rows": null,
            "grid_column": null,
            "grid_gap": null,
            "grid_row": null,
            "grid_template_areas": null,
            "grid_template_columns": null,
            "grid_template_rows": null,
            "height": null,
            "justify_content": null,
            "justify_items": null,
            "left": null,
            "margin": null,
            "max_height": null,
            "max_width": null,
            "min_height": null,
            "min_width": null,
            "object_fit": null,
            "object_position": null,
            "order": null,
            "overflow": null,
            "overflow_x": null,
            "overflow_y": null,
            "padding": null,
            "right": null,
            "top": null,
            "visibility": null,
            "width": null
          }
        },
        "52ea8a5364674c229ccc1df0dc03274b": {
          "model_module": "@jupyter-widgets/base",
          "model_name": "LayoutModel",
          "model_module_version": "1.2.0",
          "state": {
            "_model_module": "@jupyter-widgets/base",
            "_model_module_version": "1.2.0",
            "_model_name": "LayoutModel",
            "_view_count": null,
            "_view_module": "@jupyter-widgets/base",
            "_view_module_version": "1.2.0",
            "_view_name": "LayoutView",
            "align_content": null,
            "align_items": null,
            "align_self": null,
            "border": null,
            "bottom": null,
            "display": null,
            "flex": null,
            "flex_flow": null,
            "grid_area": null,
            "grid_auto_columns": null,
            "grid_auto_flow": null,
            "grid_auto_rows": null,
            "grid_column": null,
            "grid_gap": null,
            "grid_row": null,
            "grid_template_areas": null,
            "grid_template_columns": null,
            "grid_template_rows": null,
            "height": null,
            "justify_content": null,
            "justify_items": null,
            "left": null,
            "margin": null,
            "max_height": null,
            "max_width": null,
            "min_height": null,
            "min_width": null,
            "object_fit": null,
            "object_position": null,
            "order": null,
            "overflow": null,
            "overflow_x": null,
            "overflow_y": null,
            "padding": null,
            "right": null,
            "top": null,
            "visibility": null,
            "width": null
          }
        },
        "551a30215ef947699f237b5535af8362": {
          "model_module": "@jupyter-widgets/controls",
          "model_name": "DescriptionStyleModel",
          "model_module_version": "1.5.0",
          "state": {
            "_model_module": "@jupyter-widgets/controls",
            "_model_module_version": "1.5.0",
            "_model_name": "DescriptionStyleModel",
            "_view_count": null,
            "_view_module": "@jupyter-widgets/base",
            "_view_module_version": "1.2.0",
            "_view_name": "StyleView",
            "description_width": ""
          }
        },
        "b36a787193b1471b96163182de4c88e0": {
          "model_module": "@jupyter-widgets/base",
          "model_name": "LayoutModel",
          "model_module_version": "1.2.0",
          "state": {
            "_model_module": "@jupyter-widgets/base",
            "_model_module_version": "1.2.0",
            "_model_name": "LayoutModel",
            "_view_count": null,
            "_view_module": "@jupyter-widgets/base",
            "_view_module_version": "1.2.0",
            "_view_name": "LayoutView",
            "align_content": null,
            "align_items": null,
            "align_self": null,
            "border": null,
            "bottom": null,
            "display": null,
            "flex": null,
            "flex_flow": null,
            "grid_area": null,
            "grid_auto_columns": null,
            "grid_auto_flow": null,
            "grid_auto_rows": null,
            "grid_column": null,
            "grid_gap": null,
            "grid_row": null,
            "grid_template_areas": null,
            "grid_template_columns": null,
            "grid_template_rows": null,
            "height": null,
            "justify_content": null,
            "justify_items": null,
            "left": null,
            "margin": null,
            "max_height": null,
            "max_width": null,
            "min_height": null,
            "min_width": null,
            "object_fit": null,
            "object_position": null,
            "order": null,
            "overflow": null,
            "overflow_x": null,
            "overflow_y": null,
            "padding": null,
            "right": null,
            "top": null,
            "visibility": null,
            "width": null
          }
        },
        "8c5c1f6bd89b47c3a398cde4d900f1de": {
          "model_module": "@jupyter-widgets/controls",
          "model_name": "ProgressStyleModel",
          "model_module_version": "1.5.0",
          "state": {
            "_model_module": "@jupyter-widgets/controls",
            "_model_module_version": "1.5.0",
            "_model_name": "ProgressStyleModel",
            "_view_count": null,
            "_view_module": "@jupyter-widgets/base",
            "_view_module_version": "1.2.0",
            "_view_name": "StyleView",
            "bar_color": null,
            "description_width": ""
          }
        },
        "5c7fb1e0864a4ac6ae7bbcaa69ff6a5b": {
          "model_module": "@jupyter-widgets/base",
          "model_name": "LayoutModel",
          "model_module_version": "1.2.0",
          "state": {
            "_model_module": "@jupyter-widgets/base",
            "_model_module_version": "1.2.0",
            "_model_name": "LayoutModel",
            "_view_count": null,
            "_view_module": "@jupyter-widgets/base",
            "_view_module_version": "1.2.0",
            "_view_name": "LayoutView",
            "align_content": null,
            "align_items": null,
            "align_self": null,
            "border": null,
            "bottom": null,
            "display": null,
            "flex": null,
            "flex_flow": null,
            "grid_area": null,
            "grid_auto_columns": null,
            "grid_auto_flow": null,
            "grid_auto_rows": null,
            "grid_column": null,
            "grid_gap": null,
            "grid_row": null,
            "grid_template_areas": null,
            "grid_template_columns": null,
            "grid_template_rows": null,
            "height": null,
            "justify_content": null,
            "justify_items": null,
            "left": null,
            "margin": null,
            "max_height": null,
            "max_width": null,
            "min_height": null,
            "min_width": null,
            "object_fit": null,
            "object_position": null,
            "order": null,
            "overflow": null,
            "overflow_x": null,
            "overflow_y": null,
            "padding": null,
            "right": null,
            "top": null,
            "visibility": null,
            "width": null
          }
        },
        "adfa877617a442a0b60a80764dde85d1": {
          "model_module": "@jupyter-widgets/controls",
          "model_name": "DescriptionStyleModel",
          "model_module_version": "1.5.0",
          "state": {
            "_model_module": "@jupyter-widgets/controls",
            "_model_module_version": "1.5.0",
            "_model_name": "DescriptionStyleModel",
            "_view_count": null,
            "_view_module": "@jupyter-widgets/base",
            "_view_module_version": "1.2.0",
            "_view_name": "StyleView",
            "description_width": ""
          }
        },
        "c1fb2e069ea44a5486d952a0f74b52de": {
          "model_module": "@jupyter-widgets/controls",
          "model_name": "HBoxModel",
          "model_module_version": "1.5.0",
          "state": {
            "_dom_classes": [],
            "_model_module": "@jupyter-widgets/controls",
            "_model_module_version": "1.5.0",
            "_model_name": "HBoxModel",
            "_view_count": null,
            "_view_module": "@jupyter-widgets/controls",
            "_view_module_version": "1.5.0",
            "_view_name": "HBoxView",
            "box_style": "",
            "children": [
              "IPY_MODEL_2b5d93cf15154487af53b82c8af2ff12",
              "IPY_MODEL_8357237fbcec4f8b888f6ccd5dc796f2",
              "IPY_MODEL_0bd203a9d65e46c183cec912c2514e13"
            ],
            "layout": "IPY_MODEL_987450bdc74d477fb61ab96f7200a716"
          }
        },
        "2b5d93cf15154487af53b82c8af2ff12": {
          "model_module": "@jupyter-widgets/controls",
          "model_name": "HTMLModel",
          "model_module_version": "1.5.0",
          "state": {
            "_dom_classes": [],
            "_model_module": "@jupyter-widgets/controls",
            "_model_module_version": "1.5.0",
            "_model_name": "HTMLModel",
            "_view_count": null,
            "_view_module": "@jupyter-widgets/controls",
            "_view_module_version": "1.5.0",
            "_view_name": "HTMLView",
            "description": "",
            "description_tooltip": null,
            "layout": "IPY_MODEL_2c578bd2ae5149b29535e5052a3c7fe5",
            "placeholder": "​",
            "style": "IPY_MODEL_9f098c933595448294dc09c7a99dc1da",
            "value": "100%"
          }
        },
        "8357237fbcec4f8b888f6ccd5dc796f2": {
          "model_module": "@jupyter-widgets/controls",
          "model_name": "FloatProgressModel",
          "model_module_version": "1.5.0",
          "state": {
            "_dom_classes": [],
            "_model_module": "@jupyter-widgets/controls",
            "_model_module_version": "1.5.0",
            "_model_name": "FloatProgressModel",
            "_view_count": null,
            "_view_module": "@jupyter-widgets/controls",
            "_view_module_version": "1.5.0",
            "_view_name": "ProgressView",
            "bar_style": "success",
            "description": "",
            "description_tooltip": null,
            "layout": "IPY_MODEL_1e2bcbb4b4254efcad0f763277a06a58",
            "max": 29515,
            "min": 0,
            "orientation": "horizontal",
            "style": "IPY_MODEL_89c6f315067f4a2a8bf7274b912f60ba",
            "value": 29515
          }
        },
        "0bd203a9d65e46c183cec912c2514e13": {
          "model_module": "@jupyter-widgets/controls",
          "model_name": "HTMLModel",
          "model_module_version": "1.5.0",
          "state": {
            "_dom_classes": [],
            "_model_module": "@jupyter-widgets/controls",
            "_model_module_version": "1.5.0",
            "_model_name": "HTMLModel",
            "_view_count": null,
            "_view_module": "@jupyter-widgets/controls",
            "_view_module_version": "1.5.0",
            "_view_name": "HTMLView",
            "description": "",
            "description_tooltip": null,
            "layout": "IPY_MODEL_0cf0a0306e4344b8b20ac9d7b39a73f4",
            "placeholder": "​",
            "style": "IPY_MODEL_68f79541fdcb4c7faca210b02d2804d3",
            "value": " 29515/29515 [00:00&lt;00:00, 270945.84it/s]"
          }
        },
        "987450bdc74d477fb61ab96f7200a716": {
          "model_module": "@jupyter-widgets/base",
          "model_name": "LayoutModel",
          "model_module_version": "1.2.0",
          "state": {
            "_model_module": "@jupyter-widgets/base",
            "_model_module_version": "1.2.0",
            "_model_name": "LayoutModel",
            "_view_count": null,
            "_view_module": "@jupyter-widgets/base",
            "_view_module_version": "1.2.0",
            "_view_name": "LayoutView",
            "align_content": null,
            "align_items": null,
            "align_self": null,
            "border": null,
            "bottom": null,
            "display": null,
            "flex": null,
            "flex_flow": null,
            "grid_area": null,
            "grid_auto_columns": null,
            "grid_auto_flow": null,
            "grid_auto_rows": null,
            "grid_column": null,
            "grid_gap": null,
            "grid_row": null,
            "grid_template_areas": null,
            "grid_template_columns": null,
            "grid_template_rows": null,
            "height": null,
            "justify_content": null,
            "justify_items": null,
            "left": null,
            "margin": null,
            "max_height": null,
            "max_width": null,
            "min_height": null,
            "min_width": null,
            "object_fit": null,
            "object_position": null,
            "order": null,
            "overflow": null,
            "overflow_x": null,
            "overflow_y": null,
            "padding": null,
            "right": null,
            "top": null,
            "visibility": null,
            "width": null
          }
        },
        "2c578bd2ae5149b29535e5052a3c7fe5": {
          "model_module": "@jupyter-widgets/base",
          "model_name": "LayoutModel",
          "model_module_version": "1.2.0",
          "state": {
            "_model_module": "@jupyter-widgets/base",
            "_model_module_version": "1.2.0",
            "_model_name": "LayoutModel",
            "_view_count": null,
            "_view_module": "@jupyter-widgets/base",
            "_view_module_version": "1.2.0",
            "_view_name": "LayoutView",
            "align_content": null,
            "align_items": null,
            "align_self": null,
            "border": null,
            "bottom": null,
            "display": null,
            "flex": null,
            "flex_flow": null,
            "grid_area": null,
            "grid_auto_columns": null,
            "grid_auto_flow": null,
            "grid_auto_rows": null,
            "grid_column": null,
            "grid_gap": null,
            "grid_row": null,
            "grid_template_areas": null,
            "grid_template_columns": null,
            "grid_template_rows": null,
            "height": null,
            "justify_content": null,
            "justify_items": null,
            "left": null,
            "margin": null,
            "max_height": null,
            "max_width": null,
            "min_height": null,
            "min_width": null,
            "object_fit": null,
            "object_position": null,
            "order": null,
            "overflow": null,
            "overflow_x": null,
            "overflow_y": null,
            "padding": null,
            "right": null,
            "top": null,
            "visibility": null,
            "width": null
          }
        },
        "9f098c933595448294dc09c7a99dc1da": {
          "model_module": "@jupyter-widgets/controls",
          "model_name": "DescriptionStyleModel",
          "model_module_version": "1.5.0",
          "state": {
            "_model_module": "@jupyter-widgets/controls",
            "_model_module_version": "1.5.0",
            "_model_name": "DescriptionStyleModel",
            "_view_count": null,
            "_view_module": "@jupyter-widgets/base",
            "_view_module_version": "1.2.0",
            "_view_name": "StyleView",
            "description_width": ""
          }
        },
        "1e2bcbb4b4254efcad0f763277a06a58": {
          "model_module": "@jupyter-widgets/base",
          "model_name": "LayoutModel",
          "model_module_version": "1.2.0",
          "state": {
            "_model_module": "@jupyter-widgets/base",
            "_model_module_version": "1.2.0",
            "_model_name": "LayoutModel",
            "_view_count": null,
            "_view_module": "@jupyter-widgets/base",
            "_view_module_version": "1.2.0",
            "_view_name": "LayoutView",
            "align_content": null,
            "align_items": null,
            "align_self": null,
            "border": null,
            "bottom": null,
            "display": null,
            "flex": null,
            "flex_flow": null,
            "grid_area": null,
            "grid_auto_columns": null,
            "grid_auto_flow": null,
            "grid_auto_rows": null,
            "grid_column": null,
            "grid_gap": null,
            "grid_row": null,
            "grid_template_areas": null,
            "grid_template_columns": null,
            "grid_template_rows": null,
            "height": null,
            "justify_content": null,
            "justify_items": null,
            "left": null,
            "margin": null,
            "max_height": null,
            "max_width": null,
            "min_height": null,
            "min_width": null,
            "object_fit": null,
            "object_position": null,
            "order": null,
            "overflow": null,
            "overflow_x": null,
            "overflow_y": null,
            "padding": null,
            "right": null,
            "top": null,
            "visibility": null,
            "width": null
          }
        },
        "89c6f315067f4a2a8bf7274b912f60ba": {
          "model_module": "@jupyter-widgets/controls",
          "model_name": "ProgressStyleModel",
          "model_module_version": "1.5.0",
          "state": {
            "_model_module": "@jupyter-widgets/controls",
            "_model_module_version": "1.5.0",
            "_model_name": "ProgressStyleModel",
            "_view_count": null,
            "_view_module": "@jupyter-widgets/base",
            "_view_module_version": "1.2.0",
            "_view_name": "StyleView",
            "bar_color": null,
            "description_width": ""
          }
        },
        "0cf0a0306e4344b8b20ac9d7b39a73f4": {
          "model_module": "@jupyter-widgets/base",
          "model_name": "LayoutModel",
          "model_module_version": "1.2.0",
          "state": {
            "_model_module": "@jupyter-widgets/base",
            "_model_module_version": "1.2.0",
            "_model_name": "LayoutModel",
            "_view_count": null,
            "_view_module": "@jupyter-widgets/base",
            "_view_module_version": "1.2.0",
            "_view_name": "LayoutView",
            "align_content": null,
            "align_items": null,
            "align_self": null,
            "border": null,
            "bottom": null,
            "display": null,
            "flex": null,
            "flex_flow": null,
            "grid_area": null,
            "grid_auto_columns": null,
            "grid_auto_flow": null,
            "grid_auto_rows": null,
            "grid_column": null,
            "grid_gap": null,
            "grid_row": null,
            "grid_template_areas": null,
            "grid_template_columns": null,
            "grid_template_rows": null,
            "height": null,
            "justify_content": null,
            "justify_items": null,
            "left": null,
            "margin": null,
            "max_height": null,
            "max_width": null,
            "min_height": null,
            "min_width": null,
            "object_fit": null,
            "object_position": null,
            "order": null,
            "overflow": null,
            "overflow_x": null,
            "overflow_y": null,
            "padding": null,
            "right": null,
            "top": null,
            "visibility": null,
            "width": null
          }
        },
        "68f79541fdcb4c7faca210b02d2804d3": {
          "model_module": "@jupyter-widgets/controls",
          "model_name": "DescriptionStyleModel",
          "model_module_version": "1.5.0",
          "state": {
            "_model_module": "@jupyter-widgets/controls",
            "_model_module_version": "1.5.0",
            "_model_name": "DescriptionStyleModel",
            "_view_count": null,
            "_view_module": "@jupyter-widgets/base",
            "_view_module_version": "1.2.0",
            "_view_name": "StyleView",
            "description_width": ""
          }
        },
        "b2c0d5ebbfb2401e8f7a81d021324e42": {
          "model_module": "@jupyter-widgets/controls",
          "model_name": "HBoxModel",
          "model_module_version": "1.5.0",
          "state": {
            "_dom_classes": [],
            "_model_module": "@jupyter-widgets/controls",
            "_model_module_version": "1.5.0",
            "_model_name": "HBoxModel",
            "_view_count": null,
            "_view_module": "@jupyter-widgets/controls",
            "_view_module_version": "1.5.0",
            "_view_name": "HBoxView",
            "box_style": "",
            "children": [
              "IPY_MODEL_6f2edd9dc6d0493e8c1d0bd7b28b946f",
              "IPY_MODEL_ae7c78c01f8640ce92e5734a96cc2c0b",
              "IPY_MODEL_7ad1fba0b8f04304b9111c3395c066dd"
            ],
            "layout": "IPY_MODEL_0fbb06aae24540c4aa07d1df10934c57"
          }
        },
        "6f2edd9dc6d0493e8c1d0bd7b28b946f": {
          "model_module": "@jupyter-widgets/controls",
          "model_name": "HTMLModel",
          "model_module_version": "1.5.0",
          "state": {
            "_dom_classes": [],
            "_model_module": "@jupyter-widgets/controls",
            "_model_module_version": "1.5.0",
            "_model_name": "HTMLModel",
            "_view_count": null,
            "_view_module": "@jupyter-widgets/controls",
            "_view_module_version": "1.5.0",
            "_view_name": "HTMLView",
            "description": "",
            "description_tooltip": null,
            "layout": "IPY_MODEL_eb612d52f4aa4e10bbb0b0657a9e4f7c",
            "placeholder": "​",
            "style": "IPY_MODEL_0c9a78d1142c4a23910fb933d04470f7",
            "value": "100%"
          }
        },
        "ae7c78c01f8640ce92e5734a96cc2c0b": {
          "model_module": "@jupyter-widgets/controls",
          "model_name": "FloatProgressModel",
          "model_module_version": "1.5.0",
          "state": {
            "_dom_classes": [],
            "_model_module": "@jupyter-widgets/controls",
            "_model_module_version": "1.5.0",
            "_model_name": "FloatProgressModel",
            "_view_count": null,
            "_view_module": "@jupyter-widgets/controls",
            "_view_module_version": "1.5.0",
            "_view_name": "ProgressView",
            "bar_style": "success",
            "description": "",
            "description_tooltip": null,
            "layout": "IPY_MODEL_088daf56b12d47de82e8ab25003d104d",
            "max": 4422102,
            "min": 0,
            "orientation": "horizontal",
            "style": "IPY_MODEL_2c9c5d0026674f6b999c7b9baacad324",
            "value": 4422102
          }
        },
        "7ad1fba0b8f04304b9111c3395c066dd": {
          "model_module": "@jupyter-widgets/controls",
          "model_name": "HTMLModel",
          "model_module_version": "1.5.0",
          "state": {
            "_dom_classes": [],
            "_model_module": "@jupyter-widgets/controls",
            "_model_module_version": "1.5.0",
            "_model_name": "HTMLModel",
            "_view_count": null,
            "_view_module": "@jupyter-widgets/controls",
            "_view_module_version": "1.5.0",
            "_view_name": "HTMLView",
            "description": "",
            "description_tooltip": null,
            "layout": "IPY_MODEL_0890f190b4214a3eb2267fd67eb9072d",
            "placeholder": "​",
            "style": "IPY_MODEL_c3c5aa7ad609402d97026c094a97464f",
            "value": " 4422102/4422102 [00:00&lt;00:00, 8494887.54it/s]"
          }
        },
        "0fbb06aae24540c4aa07d1df10934c57": {
          "model_module": "@jupyter-widgets/base",
          "model_name": "LayoutModel",
          "model_module_version": "1.2.0",
          "state": {
            "_model_module": "@jupyter-widgets/base",
            "_model_module_version": "1.2.0",
            "_model_name": "LayoutModel",
            "_view_count": null,
            "_view_module": "@jupyter-widgets/base",
            "_view_module_version": "1.2.0",
            "_view_name": "LayoutView",
            "align_content": null,
            "align_items": null,
            "align_self": null,
            "border": null,
            "bottom": null,
            "display": null,
            "flex": null,
            "flex_flow": null,
            "grid_area": null,
            "grid_auto_columns": null,
            "grid_auto_flow": null,
            "grid_auto_rows": null,
            "grid_column": null,
            "grid_gap": null,
            "grid_row": null,
            "grid_template_areas": null,
            "grid_template_columns": null,
            "grid_template_rows": null,
            "height": null,
            "justify_content": null,
            "justify_items": null,
            "left": null,
            "margin": null,
            "max_height": null,
            "max_width": null,
            "min_height": null,
            "min_width": null,
            "object_fit": null,
            "object_position": null,
            "order": null,
            "overflow": null,
            "overflow_x": null,
            "overflow_y": null,
            "padding": null,
            "right": null,
            "top": null,
            "visibility": null,
            "width": null
          }
        },
        "eb612d52f4aa4e10bbb0b0657a9e4f7c": {
          "model_module": "@jupyter-widgets/base",
          "model_name": "LayoutModel",
          "model_module_version": "1.2.0",
          "state": {
            "_model_module": "@jupyter-widgets/base",
            "_model_module_version": "1.2.0",
            "_model_name": "LayoutModel",
            "_view_count": null,
            "_view_module": "@jupyter-widgets/base",
            "_view_module_version": "1.2.0",
            "_view_name": "LayoutView",
            "align_content": null,
            "align_items": null,
            "align_self": null,
            "border": null,
            "bottom": null,
            "display": null,
            "flex": null,
            "flex_flow": null,
            "grid_area": null,
            "grid_auto_columns": null,
            "grid_auto_flow": null,
            "grid_auto_rows": null,
            "grid_column": null,
            "grid_gap": null,
            "grid_row": null,
            "grid_template_areas": null,
            "grid_template_columns": null,
            "grid_template_rows": null,
            "height": null,
            "justify_content": null,
            "justify_items": null,
            "left": null,
            "margin": null,
            "max_height": null,
            "max_width": null,
            "min_height": null,
            "min_width": null,
            "object_fit": null,
            "object_position": null,
            "order": null,
            "overflow": null,
            "overflow_x": null,
            "overflow_y": null,
            "padding": null,
            "right": null,
            "top": null,
            "visibility": null,
            "width": null
          }
        },
        "0c9a78d1142c4a23910fb933d04470f7": {
          "model_module": "@jupyter-widgets/controls",
          "model_name": "DescriptionStyleModel",
          "model_module_version": "1.5.0",
          "state": {
            "_model_module": "@jupyter-widgets/controls",
            "_model_module_version": "1.5.0",
            "_model_name": "DescriptionStyleModel",
            "_view_count": null,
            "_view_module": "@jupyter-widgets/base",
            "_view_module_version": "1.2.0",
            "_view_name": "StyleView",
            "description_width": ""
          }
        },
        "088daf56b12d47de82e8ab25003d104d": {
          "model_module": "@jupyter-widgets/base",
          "model_name": "LayoutModel",
          "model_module_version": "1.2.0",
          "state": {
            "_model_module": "@jupyter-widgets/base",
            "_model_module_version": "1.2.0",
            "_model_name": "LayoutModel",
            "_view_count": null,
            "_view_module": "@jupyter-widgets/base",
            "_view_module_version": "1.2.0",
            "_view_name": "LayoutView",
            "align_content": null,
            "align_items": null,
            "align_self": null,
            "border": null,
            "bottom": null,
            "display": null,
            "flex": null,
            "flex_flow": null,
            "grid_area": null,
            "grid_auto_columns": null,
            "grid_auto_flow": null,
            "grid_auto_rows": null,
            "grid_column": null,
            "grid_gap": null,
            "grid_row": null,
            "grid_template_areas": null,
            "grid_template_columns": null,
            "grid_template_rows": null,
            "height": null,
            "justify_content": null,
            "justify_items": null,
            "left": null,
            "margin": null,
            "max_height": null,
            "max_width": null,
            "min_height": null,
            "min_width": null,
            "object_fit": null,
            "object_position": null,
            "order": null,
            "overflow": null,
            "overflow_x": null,
            "overflow_y": null,
            "padding": null,
            "right": null,
            "top": null,
            "visibility": null,
            "width": null
          }
        },
        "2c9c5d0026674f6b999c7b9baacad324": {
          "model_module": "@jupyter-widgets/controls",
          "model_name": "ProgressStyleModel",
          "model_module_version": "1.5.0",
          "state": {
            "_model_module": "@jupyter-widgets/controls",
            "_model_module_version": "1.5.0",
            "_model_name": "ProgressStyleModel",
            "_view_count": null,
            "_view_module": "@jupyter-widgets/base",
            "_view_module_version": "1.2.0",
            "_view_name": "StyleView",
            "bar_color": null,
            "description_width": ""
          }
        },
        "0890f190b4214a3eb2267fd67eb9072d": {
          "model_module": "@jupyter-widgets/base",
          "model_name": "LayoutModel",
          "model_module_version": "1.2.0",
          "state": {
            "_model_module": "@jupyter-widgets/base",
            "_model_module_version": "1.2.0",
            "_model_name": "LayoutModel",
            "_view_count": null,
            "_view_module": "@jupyter-widgets/base",
            "_view_module_version": "1.2.0",
            "_view_name": "LayoutView",
            "align_content": null,
            "align_items": null,
            "align_self": null,
            "border": null,
            "bottom": null,
            "display": null,
            "flex": null,
            "flex_flow": null,
            "grid_area": null,
            "grid_auto_columns": null,
            "grid_auto_flow": null,
            "grid_auto_rows": null,
            "grid_column": null,
            "grid_gap": null,
            "grid_row": null,
            "grid_template_areas": null,
            "grid_template_columns": null,
            "grid_template_rows": null,
            "height": null,
            "justify_content": null,
            "justify_items": null,
            "left": null,
            "margin": null,
            "max_height": null,
            "max_width": null,
            "min_height": null,
            "min_width": null,
            "object_fit": null,
            "object_position": null,
            "order": null,
            "overflow": null,
            "overflow_x": null,
            "overflow_y": null,
            "padding": null,
            "right": null,
            "top": null,
            "visibility": null,
            "width": null
          }
        },
        "c3c5aa7ad609402d97026c094a97464f": {
          "model_module": "@jupyter-widgets/controls",
          "model_name": "DescriptionStyleModel",
          "model_module_version": "1.5.0",
          "state": {
            "_model_module": "@jupyter-widgets/controls",
            "_model_module_version": "1.5.0",
            "_model_name": "DescriptionStyleModel",
            "_view_count": null,
            "_view_module": "@jupyter-widgets/base",
            "_view_module_version": "1.2.0",
            "_view_name": "StyleView",
            "description_width": ""
          }
        },
        "2c827c75c2e34292bb3198a3b07e427a": {
          "model_module": "@jupyter-widgets/controls",
          "model_name": "HBoxModel",
          "model_module_version": "1.5.0",
          "state": {
            "_dom_classes": [],
            "_model_module": "@jupyter-widgets/controls",
            "_model_module_version": "1.5.0",
            "_model_name": "HBoxModel",
            "_view_count": null,
            "_view_module": "@jupyter-widgets/controls",
            "_view_module_version": "1.5.0",
            "_view_name": "HBoxView",
            "box_style": "",
            "children": [
              "IPY_MODEL_17ce7bd1518f4e779b2ec93baf0084e2",
              "IPY_MODEL_95f1a0daa39a41de9baed82f369a5b93",
              "IPY_MODEL_1e4e679f83dd4364b35132fbb9ae8380"
            ],
            "layout": "IPY_MODEL_e68ee74720204b7aa98a1c4a938e3c76"
          }
        },
        "17ce7bd1518f4e779b2ec93baf0084e2": {
          "model_module": "@jupyter-widgets/controls",
          "model_name": "HTMLModel",
          "model_module_version": "1.5.0",
          "state": {
            "_dom_classes": [],
            "_model_module": "@jupyter-widgets/controls",
            "_model_module_version": "1.5.0",
            "_model_name": "HTMLModel",
            "_view_count": null,
            "_view_module": "@jupyter-widgets/controls",
            "_view_module_version": "1.5.0",
            "_view_name": "HTMLView",
            "description": "",
            "description_tooltip": null,
            "layout": "IPY_MODEL_1c1533cb5adf4b36b0d15f9d8399d690",
            "placeholder": "​",
            "style": "IPY_MODEL_28237e4ce7524e0096e92a7f36e02760",
            "value": "100%"
          }
        },
        "95f1a0daa39a41de9baed82f369a5b93": {
          "model_module": "@jupyter-widgets/controls",
          "model_name": "FloatProgressModel",
          "model_module_version": "1.5.0",
          "state": {
            "_dom_classes": [],
            "_model_module": "@jupyter-widgets/controls",
            "_model_module_version": "1.5.0",
            "_model_name": "FloatProgressModel",
            "_view_count": null,
            "_view_module": "@jupyter-widgets/controls",
            "_view_module_version": "1.5.0",
            "_view_name": "ProgressView",
            "bar_style": "success",
            "description": "",
            "description_tooltip": null,
            "layout": "IPY_MODEL_2bd03f35c4154b03bd054fd01f333458",
            "max": 5148,
            "min": 0,
            "orientation": "horizontal",
            "style": "IPY_MODEL_08d6a90804854a829f56bea7aaad18c2",
            "value": 5148
          }
        },
        "1e4e679f83dd4364b35132fbb9ae8380": {
          "model_module": "@jupyter-widgets/controls",
          "model_name": "HTMLModel",
          "model_module_version": "1.5.0",
          "state": {
            "_dom_classes": [],
            "_model_module": "@jupyter-widgets/controls",
            "_model_module_version": "1.5.0",
            "_model_name": "HTMLModel",
            "_view_count": null,
            "_view_module": "@jupyter-widgets/controls",
            "_view_module_version": "1.5.0",
            "_view_name": "HTMLView",
            "description": "",
            "description_tooltip": null,
            "layout": "IPY_MODEL_54a3139258d0495b81546c350d190725",
            "placeholder": "​",
            "style": "IPY_MODEL_51daf66dd0c444f9acd957d6a026161d",
            "value": " 5148/5148 [00:00&lt;00:00, 364475.83it/s]"
          }
        },
        "e68ee74720204b7aa98a1c4a938e3c76": {
          "model_module": "@jupyter-widgets/base",
          "model_name": "LayoutModel",
          "model_module_version": "1.2.0",
          "state": {
            "_model_module": "@jupyter-widgets/base",
            "_model_module_version": "1.2.0",
            "_model_name": "LayoutModel",
            "_view_count": null,
            "_view_module": "@jupyter-widgets/base",
            "_view_module_version": "1.2.0",
            "_view_name": "LayoutView",
            "align_content": null,
            "align_items": null,
            "align_self": null,
            "border": null,
            "bottom": null,
            "display": null,
            "flex": null,
            "flex_flow": null,
            "grid_area": null,
            "grid_auto_columns": null,
            "grid_auto_flow": null,
            "grid_auto_rows": null,
            "grid_column": null,
            "grid_gap": null,
            "grid_row": null,
            "grid_template_areas": null,
            "grid_template_columns": null,
            "grid_template_rows": null,
            "height": null,
            "justify_content": null,
            "justify_items": null,
            "left": null,
            "margin": null,
            "max_height": null,
            "max_width": null,
            "min_height": null,
            "min_width": null,
            "object_fit": null,
            "object_position": null,
            "order": null,
            "overflow": null,
            "overflow_x": null,
            "overflow_y": null,
            "padding": null,
            "right": null,
            "top": null,
            "visibility": null,
            "width": null
          }
        },
        "1c1533cb5adf4b36b0d15f9d8399d690": {
          "model_module": "@jupyter-widgets/base",
          "model_name": "LayoutModel",
          "model_module_version": "1.2.0",
          "state": {
            "_model_module": "@jupyter-widgets/base",
            "_model_module_version": "1.2.0",
            "_model_name": "LayoutModel",
            "_view_count": null,
            "_view_module": "@jupyter-widgets/base",
            "_view_module_version": "1.2.0",
            "_view_name": "LayoutView",
            "align_content": null,
            "align_items": null,
            "align_self": null,
            "border": null,
            "bottom": null,
            "display": null,
            "flex": null,
            "flex_flow": null,
            "grid_area": null,
            "grid_auto_columns": null,
            "grid_auto_flow": null,
            "grid_auto_rows": null,
            "grid_column": null,
            "grid_gap": null,
            "grid_row": null,
            "grid_template_areas": null,
            "grid_template_columns": null,
            "grid_template_rows": null,
            "height": null,
            "justify_content": null,
            "justify_items": null,
            "left": null,
            "margin": null,
            "max_height": null,
            "max_width": null,
            "min_height": null,
            "min_width": null,
            "object_fit": null,
            "object_position": null,
            "order": null,
            "overflow": null,
            "overflow_x": null,
            "overflow_y": null,
            "padding": null,
            "right": null,
            "top": null,
            "visibility": null,
            "width": null
          }
        },
        "28237e4ce7524e0096e92a7f36e02760": {
          "model_module": "@jupyter-widgets/controls",
          "model_name": "DescriptionStyleModel",
          "model_module_version": "1.5.0",
          "state": {
            "_model_module": "@jupyter-widgets/controls",
            "_model_module_version": "1.5.0",
            "_model_name": "DescriptionStyleModel",
            "_view_count": null,
            "_view_module": "@jupyter-widgets/base",
            "_view_module_version": "1.2.0",
            "_view_name": "StyleView",
            "description_width": ""
          }
        },
        "2bd03f35c4154b03bd054fd01f333458": {
          "model_module": "@jupyter-widgets/base",
          "model_name": "LayoutModel",
          "model_module_version": "1.2.0",
          "state": {
            "_model_module": "@jupyter-widgets/base",
            "_model_module_version": "1.2.0",
            "_model_name": "LayoutModel",
            "_view_count": null,
            "_view_module": "@jupyter-widgets/base",
            "_view_module_version": "1.2.0",
            "_view_name": "LayoutView",
            "align_content": null,
            "align_items": null,
            "align_self": null,
            "border": null,
            "bottom": null,
            "display": null,
            "flex": null,
            "flex_flow": null,
            "grid_area": null,
            "grid_auto_columns": null,
            "grid_auto_flow": null,
            "grid_auto_rows": null,
            "grid_column": null,
            "grid_gap": null,
            "grid_row": null,
            "grid_template_areas": null,
            "grid_template_columns": null,
            "grid_template_rows": null,
            "height": null,
            "justify_content": null,
            "justify_items": null,
            "left": null,
            "margin": null,
            "max_height": null,
            "max_width": null,
            "min_height": null,
            "min_width": null,
            "object_fit": null,
            "object_position": null,
            "order": null,
            "overflow": null,
            "overflow_x": null,
            "overflow_y": null,
            "padding": null,
            "right": null,
            "top": null,
            "visibility": null,
            "width": null
          }
        },
        "08d6a90804854a829f56bea7aaad18c2": {
          "model_module": "@jupyter-widgets/controls",
          "model_name": "ProgressStyleModel",
          "model_module_version": "1.5.0",
          "state": {
            "_model_module": "@jupyter-widgets/controls",
            "_model_module_version": "1.5.0",
            "_model_name": "ProgressStyleModel",
            "_view_count": null,
            "_view_module": "@jupyter-widgets/base",
            "_view_module_version": "1.2.0",
            "_view_name": "StyleView",
            "bar_color": null,
            "description_width": ""
          }
        },
        "54a3139258d0495b81546c350d190725": {
          "model_module": "@jupyter-widgets/base",
          "model_name": "LayoutModel",
          "model_module_version": "1.2.0",
          "state": {
            "_model_module": "@jupyter-widgets/base",
            "_model_module_version": "1.2.0",
            "_model_name": "LayoutModel",
            "_view_count": null,
            "_view_module": "@jupyter-widgets/base",
            "_view_module_version": "1.2.0",
            "_view_name": "LayoutView",
            "align_content": null,
            "align_items": null,
            "align_self": null,
            "border": null,
            "bottom": null,
            "display": null,
            "flex": null,
            "flex_flow": null,
            "grid_area": null,
            "grid_auto_columns": null,
            "grid_auto_flow": null,
            "grid_auto_rows": null,
            "grid_column": null,
            "grid_gap": null,
            "grid_row": null,
            "grid_template_areas": null,
            "grid_template_columns": null,
            "grid_template_rows": null,
            "height": null,
            "justify_content": null,
            "justify_items": null,
            "left": null,
            "margin": null,
            "max_height": null,
            "max_width": null,
            "min_height": null,
            "min_width": null,
            "object_fit": null,
            "object_position": null,
            "order": null,
            "overflow": null,
            "overflow_x": null,
            "overflow_y": null,
            "padding": null,
            "right": null,
            "top": null,
            "visibility": null,
            "width": null
          }
        },
        "51daf66dd0c444f9acd957d6a026161d": {
          "model_module": "@jupyter-widgets/controls",
          "model_name": "DescriptionStyleModel",
          "model_module_version": "1.5.0",
          "state": {
            "_model_module": "@jupyter-widgets/controls",
            "_model_module_version": "1.5.0",
            "_model_name": "DescriptionStyleModel",
            "_view_count": null,
            "_view_module": "@jupyter-widgets/base",
            "_view_module_version": "1.2.0",
            "_view_name": "StyleView",
            "description_width": ""
          }
        },
        "a930283087404c15b68b0b5e9f1e44f6": {
          "model_module": "@jupyter-widgets/controls",
          "model_name": "HBoxModel",
          "model_module_version": "1.5.0",
          "state": {
            "_dom_classes": [],
            "_model_module": "@jupyter-widgets/controls",
            "_model_module_version": "1.5.0",
            "_model_name": "HBoxModel",
            "_view_count": null,
            "_view_module": "@jupyter-widgets/controls",
            "_view_module_version": "1.5.0",
            "_view_name": "HBoxView",
            "box_style": "",
            "children": [
              "IPY_MODEL_6f4fdb63c1d149f8990afaef3583116b",
              "IPY_MODEL_57d59bdfe8ec4d27bb82a74722e0b419",
              "IPY_MODEL_7c8e97da79634b24bb322800bcf7b56a"
            ],
            "layout": "IPY_MODEL_a53732c390e14b9e9154d0be570f1819"
          }
        },
        "6f4fdb63c1d149f8990afaef3583116b": {
          "model_module": "@jupyter-widgets/controls",
          "model_name": "HTMLModel",
          "model_module_version": "1.5.0",
          "state": {
            "_dom_classes": [],
            "_model_module": "@jupyter-widgets/controls",
            "_model_module_version": "1.5.0",
            "_model_name": "HTMLModel",
            "_view_count": null,
            "_view_module": "@jupyter-widgets/controls",
            "_view_module_version": "1.5.0",
            "_view_name": "HTMLView",
            "description": "",
            "description_tooltip": null,
            "layout": "IPY_MODEL_cffe12655a0342c8a8a425a5d928c5ca",
            "placeholder": "​",
            "style": "IPY_MODEL_d17fce1b44354244b03d131fa5681916",
            "value": "100%"
          }
        },
        "57d59bdfe8ec4d27bb82a74722e0b419": {
          "model_module": "@jupyter-widgets/controls",
          "model_name": "FloatProgressModel",
          "model_module_version": "1.5.0",
          "state": {
            "_dom_classes": [],
            "_model_module": "@jupyter-widgets/controls",
            "_model_module_version": "1.5.0",
            "_model_name": "FloatProgressModel",
            "_view_count": null,
            "_view_module": "@jupyter-widgets/controls",
            "_view_module_version": "1.5.0",
            "_view_name": "ProgressView",
            "bar_style": "success",
            "description": "",
            "description_tooltip": null,
            "layout": "IPY_MODEL_8e0f6091e3a74b2586b0bbdb53304e82",
            "max": 10,
            "min": 0,
            "orientation": "horizontal",
            "style": "IPY_MODEL_79433c02a42c4fe4a7f04cac74650b94",
            "value": 10
          }
        },
        "7c8e97da79634b24bb322800bcf7b56a": {
          "model_module": "@jupyter-widgets/controls",
          "model_name": "HTMLModel",
          "model_module_version": "1.5.0",
          "state": {
            "_dom_classes": [],
            "_model_module": "@jupyter-widgets/controls",
            "_model_module_version": "1.5.0",
            "_model_name": "HTMLModel",
            "_view_count": null,
            "_view_module": "@jupyter-widgets/controls",
            "_view_module_version": "1.5.0",
            "_view_name": "HTMLView",
            "description": "",
            "description_tooltip": null,
            "layout": "IPY_MODEL_20d512c79e374bfebd4cd2c58389af50",
            "placeholder": "​",
            "style": "IPY_MODEL_e13d91a940744485834374b7bfa3669f",
            "value": " 10/10 [11:04&lt;00:00, 66.60s/it]"
          }
        },
        "a53732c390e14b9e9154d0be570f1819": {
          "model_module": "@jupyter-widgets/base",
          "model_name": "LayoutModel",
          "model_module_version": "1.2.0",
          "state": {
            "_model_module": "@jupyter-widgets/base",
            "_model_module_version": "1.2.0",
            "_model_name": "LayoutModel",
            "_view_count": null,
            "_view_module": "@jupyter-widgets/base",
            "_view_module_version": "1.2.0",
            "_view_name": "LayoutView",
            "align_content": null,
            "align_items": null,
            "align_self": null,
            "border": null,
            "bottom": null,
            "display": null,
            "flex": null,
            "flex_flow": null,
            "grid_area": null,
            "grid_auto_columns": null,
            "grid_auto_flow": null,
            "grid_auto_rows": null,
            "grid_column": null,
            "grid_gap": null,
            "grid_row": null,
            "grid_template_areas": null,
            "grid_template_columns": null,
            "grid_template_rows": null,
            "height": null,
            "justify_content": null,
            "justify_items": null,
            "left": null,
            "margin": null,
            "max_height": null,
            "max_width": null,
            "min_height": null,
            "min_width": null,
            "object_fit": null,
            "object_position": null,
            "order": null,
            "overflow": null,
            "overflow_x": null,
            "overflow_y": null,
            "padding": null,
            "right": null,
            "top": null,
            "visibility": null,
            "width": null
          }
        },
        "cffe12655a0342c8a8a425a5d928c5ca": {
          "model_module": "@jupyter-widgets/base",
          "model_name": "LayoutModel",
          "model_module_version": "1.2.0",
          "state": {
            "_model_module": "@jupyter-widgets/base",
            "_model_module_version": "1.2.0",
            "_model_name": "LayoutModel",
            "_view_count": null,
            "_view_module": "@jupyter-widgets/base",
            "_view_module_version": "1.2.0",
            "_view_name": "LayoutView",
            "align_content": null,
            "align_items": null,
            "align_self": null,
            "border": null,
            "bottom": null,
            "display": null,
            "flex": null,
            "flex_flow": null,
            "grid_area": null,
            "grid_auto_columns": null,
            "grid_auto_flow": null,
            "grid_auto_rows": null,
            "grid_column": null,
            "grid_gap": null,
            "grid_row": null,
            "grid_template_areas": null,
            "grid_template_columns": null,
            "grid_template_rows": null,
            "height": null,
            "justify_content": null,
            "justify_items": null,
            "left": null,
            "margin": null,
            "max_height": null,
            "max_width": null,
            "min_height": null,
            "min_width": null,
            "object_fit": null,
            "object_position": null,
            "order": null,
            "overflow": null,
            "overflow_x": null,
            "overflow_y": null,
            "padding": null,
            "right": null,
            "top": null,
            "visibility": null,
            "width": null
          }
        },
        "d17fce1b44354244b03d131fa5681916": {
          "model_module": "@jupyter-widgets/controls",
          "model_name": "DescriptionStyleModel",
          "model_module_version": "1.5.0",
          "state": {
            "_model_module": "@jupyter-widgets/controls",
            "_model_module_version": "1.5.0",
            "_model_name": "DescriptionStyleModel",
            "_view_count": null,
            "_view_module": "@jupyter-widgets/base",
            "_view_module_version": "1.2.0",
            "_view_name": "StyleView",
            "description_width": ""
          }
        },
        "8e0f6091e3a74b2586b0bbdb53304e82": {
          "model_module": "@jupyter-widgets/base",
          "model_name": "LayoutModel",
          "model_module_version": "1.2.0",
          "state": {
            "_model_module": "@jupyter-widgets/base",
            "_model_module_version": "1.2.0",
            "_model_name": "LayoutModel",
            "_view_count": null,
            "_view_module": "@jupyter-widgets/base",
            "_view_module_version": "1.2.0",
            "_view_name": "LayoutView",
            "align_content": null,
            "align_items": null,
            "align_self": null,
            "border": null,
            "bottom": null,
            "display": null,
            "flex": null,
            "flex_flow": null,
            "grid_area": null,
            "grid_auto_columns": null,
            "grid_auto_flow": null,
            "grid_auto_rows": null,
            "grid_column": null,
            "grid_gap": null,
            "grid_row": null,
            "grid_template_areas": null,
            "grid_template_columns": null,
            "grid_template_rows": null,
            "height": null,
            "justify_content": null,
            "justify_items": null,
            "left": null,
            "margin": null,
            "max_height": null,
            "max_width": null,
            "min_height": null,
            "min_width": null,
            "object_fit": null,
            "object_position": null,
            "order": null,
            "overflow": null,
            "overflow_x": null,
            "overflow_y": null,
            "padding": null,
            "right": null,
            "top": null,
            "visibility": null,
            "width": null
          }
        },
        "79433c02a42c4fe4a7f04cac74650b94": {
          "model_module": "@jupyter-widgets/controls",
          "model_name": "ProgressStyleModel",
          "model_module_version": "1.5.0",
          "state": {
            "_model_module": "@jupyter-widgets/controls",
            "_model_module_version": "1.5.0",
            "_model_name": "ProgressStyleModel",
            "_view_count": null,
            "_view_module": "@jupyter-widgets/base",
            "_view_module_version": "1.2.0",
            "_view_name": "StyleView",
            "bar_color": null,
            "description_width": ""
          }
        },
        "20d512c79e374bfebd4cd2c58389af50": {
          "model_module": "@jupyter-widgets/base",
          "model_name": "LayoutModel",
          "model_module_version": "1.2.0",
          "state": {
            "_model_module": "@jupyter-widgets/base",
            "_model_module_version": "1.2.0",
            "_model_name": "LayoutModel",
            "_view_count": null,
            "_view_module": "@jupyter-widgets/base",
            "_view_module_version": "1.2.0",
            "_view_name": "LayoutView",
            "align_content": null,
            "align_items": null,
            "align_self": null,
            "border": null,
            "bottom": null,
            "display": null,
            "flex": null,
            "flex_flow": null,
            "grid_area": null,
            "grid_auto_columns": null,
            "grid_auto_flow": null,
            "grid_auto_rows": null,
            "grid_column": null,
            "grid_gap": null,
            "grid_row": null,
            "grid_template_areas": null,
            "grid_template_columns": null,
            "grid_template_rows": null,
            "height": null,
            "justify_content": null,
            "justify_items": null,
            "left": null,
            "margin": null,
            "max_height": null,
            "max_width": null,
            "min_height": null,
            "min_width": null,
            "object_fit": null,
            "object_position": null,
            "order": null,
            "overflow": null,
            "overflow_x": null,
            "overflow_y": null,
            "padding": null,
            "right": null,
            "top": null,
            "visibility": null,
            "width": null
          }
        },
        "e13d91a940744485834374b7bfa3669f": {
          "model_module": "@jupyter-widgets/controls",
          "model_name": "DescriptionStyleModel",
          "model_module_version": "1.5.0",
          "state": {
            "_model_module": "@jupyter-widgets/controls",
            "_model_module_version": "1.5.0",
            "_model_name": "DescriptionStyleModel",
            "_view_count": null,
            "_view_module": "@jupyter-widgets/base",
            "_view_module_version": "1.2.0",
            "_view_name": "StyleView",
            "description_width": ""
          }
        },
        "0519daaf39804281bb5434be92d4a355": {
          "model_module": "@jupyter-widgets/controls",
          "model_name": "HBoxModel",
          "model_module_version": "1.5.0",
          "state": {
            "_dom_classes": [],
            "_model_module": "@jupyter-widgets/controls",
            "_model_module_version": "1.5.0",
            "_model_name": "HBoxModel",
            "_view_count": null,
            "_view_module": "@jupyter-widgets/controls",
            "_view_module_version": "1.5.0",
            "_view_name": "HBoxView",
            "box_style": "",
            "children": [
              "IPY_MODEL_886252e879b24f99905eed15db2a2950",
              "IPY_MODEL_c887f9a9dbfd41e1865dfc0b9edd58ad",
              "IPY_MODEL_986e31a6a28b4113ba809e79372535f0"
            ],
            "layout": "IPY_MODEL_426df7ad0b2a4d0d932ccc7dc0badd5a"
          }
        },
        "886252e879b24f99905eed15db2a2950": {
          "model_module": "@jupyter-widgets/controls",
          "model_name": "HTMLModel",
          "model_module_version": "1.5.0",
          "state": {
            "_dom_classes": [],
            "_model_module": "@jupyter-widgets/controls",
            "_model_module_version": "1.5.0",
            "_model_name": "HTMLModel",
            "_view_count": null,
            "_view_module": "@jupyter-widgets/controls",
            "_view_module_version": "1.5.0",
            "_view_name": "HTMLView",
            "description": "",
            "description_tooltip": null,
            "layout": "IPY_MODEL_cf5ba9bf27fc429e820bed0f24312dea",
            "placeholder": "​",
            "style": "IPY_MODEL_32611c41b8d54e1388ff11135ac38612",
            "value": "100%"
          }
        },
        "c887f9a9dbfd41e1865dfc0b9edd58ad": {
          "model_module": "@jupyter-widgets/controls",
          "model_name": "FloatProgressModel",
          "model_module_version": "1.5.0",
          "state": {
            "_dom_classes": [],
            "_model_module": "@jupyter-widgets/controls",
            "_model_module_version": "1.5.0",
            "_model_name": "FloatProgressModel",
            "_view_count": null,
            "_view_module": "@jupyter-widgets/controls",
            "_view_module_version": "1.5.0",
            "_view_name": "ProgressView",
            "bar_style": "success",
            "description": "",
            "description_tooltip": null,
            "layout": "IPY_MODEL_b98514ff0f13417b88b8da5a56b5deaf",
            "max": 10,
            "min": 0,
            "orientation": "horizontal",
            "style": "IPY_MODEL_9c35f583d30e4024945182dc5aa7cb79",
            "value": 10
          }
        },
        "986e31a6a28b4113ba809e79372535f0": {
          "model_module": "@jupyter-widgets/controls",
          "model_name": "HTMLModel",
          "model_module_version": "1.5.0",
          "state": {
            "_dom_classes": [],
            "_model_module": "@jupyter-widgets/controls",
            "_model_module_version": "1.5.0",
            "_model_name": "HTMLModel",
            "_view_count": null,
            "_view_module": "@jupyter-widgets/controls",
            "_view_module_version": "1.5.0",
            "_view_name": "HTMLView",
            "description": "",
            "description_tooltip": null,
            "layout": "IPY_MODEL_3c33bdd4350240feb9f0234cd3d34307",
            "placeholder": "​",
            "style": "IPY_MODEL_dd14c4b1aaed49bf9ef63cc6dbfdd805",
            "value": " 10/10 [08:54&lt;00:00, 53.44s/it]"
          }
        },
        "426df7ad0b2a4d0d932ccc7dc0badd5a": {
          "model_module": "@jupyter-widgets/base",
          "model_name": "LayoutModel",
          "model_module_version": "1.2.0",
          "state": {
            "_model_module": "@jupyter-widgets/base",
            "_model_module_version": "1.2.0",
            "_model_name": "LayoutModel",
            "_view_count": null,
            "_view_module": "@jupyter-widgets/base",
            "_view_module_version": "1.2.0",
            "_view_name": "LayoutView",
            "align_content": null,
            "align_items": null,
            "align_self": null,
            "border": null,
            "bottom": null,
            "display": null,
            "flex": null,
            "flex_flow": null,
            "grid_area": null,
            "grid_auto_columns": null,
            "grid_auto_flow": null,
            "grid_auto_rows": null,
            "grid_column": null,
            "grid_gap": null,
            "grid_row": null,
            "grid_template_areas": null,
            "grid_template_columns": null,
            "grid_template_rows": null,
            "height": null,
            "justify_content": null,
            "justify_items": null,
            "left": null,
            "margin": null,
            "max_height": null,
            "max_width": null,
            "min_height": null,
            "min_width": null,
            "object_fit": null,
            "object_position": null,
            "order": null,
            "overflow": null,
            "overflow_x": null,
            "overflow_y": null,
            "padding": null,
            "right": null,
            "top": null,
            "visibility": null,
            "width": null
          }
        },
        "cf5ba9bf27fc429e820bed0f24312dea": {
          "model_module": "@jupyter-widgets/base",
          "model_name": "LayoutModel",
          "model_module_version": "1.2.0",
          "state": {
            "_model_module": "@jupyter-widgets/base",
            "_model_module_version": "1.2.0",
            "_model_name": "LayoutModel",
            "_view_count": null,
            "_view_module": "@jupyter-widgets/base",
            "_view_module_version": "1.2.0",
            "_view_name": "LayoutView",
            "align_content": null,
            "align_items": null,
            "align_self": null,
            "border": null,
            "bottom": null,
            "display": null,
            "flex": null,
            "flex_flow": null,
            "grid_area": null,
            "grid_auto_columns": null,
            "grid_auto_flow": null,
            "grid_auto_rows": null,
            "grid_column": null,
            "grid_gap": null,
            "grid_row": null,
            "grid_template_areas": null,
            "grid_template_columns": null,
            "grid_template_rows": null,
            "height": null,
            "justify_content": null,
            "justify_items": null,
            "left": null,
            "margin": null,
            "max_height": null,
            "max_width": null,
            "min_height": null,
            "min_width": null,
            "object_fit": null,
            "object_position": null,
            "order": null,
            "overflow": null,
            "overflow_x": null,
            "overflow_y": null,
            "padding": null,
            "right": null,
            "top": null,
            "visibility": null,
            "width": null
          }
        },
        "32611c41b8d54e1388ff11135ac38612": {
          "model_module": "@jupyter-widgets/controls",
          "model_name": "DescriptionStyleModel",
          "model_module_version": "1.5.0",
          "state": {
            "_model_module": "@jupyter-widgets/controls",
            "_model_module_version": "1.5.0",
            "_model_name": "DescriptionStyleModel",
            "_view_count": null,
            "_view_module": "@jupyter-widgets/base",
            "_view_module_version": "1.2.0",
            "_view_name": "StyleView",
            "description_width": ""
          }
        },
        "b98514ff0f13417b88b8da5a56b5deaf": {
          "model_module": "@jupyter-widgets/base",
          "model_name": "LayoutModel",
          "model_module_version": "1.2.0",
          "state": {
            "_model_module": "@jupyter-widgets/base",
            "_model_module_version": "1.2.0",
            "_model_name": "LayoutModel",
            "_view_count": null,
            "_view_module": "@jupyter-widgets/base",
            "_view_module_version": "1.2.0",
            "_view_name": "LayoutView",
            "align_content": null,
            "align_items": null,
            "align_self": null,
            "border": null,
            "bottom": null,
            "display": null,
            "flex": null,
            "flex_flow": null,
            "grid_area": null,
            "grid_auto_columns": null,
            "grid_auto_flow": null,
            "grid_auto_rows": null,
            "grid_column": null,
            "grid_gap": null,
            "grid_row": null,
            "grid_template_areas": null,
            "grid_template_columns": null,
            "grid_template_rows": null,
            "height": null,
            "justify_content": null,
            "justify_items": null,
            "left": null,
            "margin": null,
            "max_height": null,
            "max_width": null,
            "min_height": null,
            "min_width": null,
            "object_fit": null,
            "object_position": null,
            "order": null,
            "overflow": null,
            "overflow_x": null,
            "overflow_y": null,
            "padding": null,
            "right": null,
            "top": null,
            "visibility": null,
            "width": null
          }
        },
        "9c35f583d30e4024945182dc5aa7cb79": {
          "model_module": "@jupyter-widgets/controls",
          "model_name": "ProgressStyleModel",
          "model_module_version": "1.5.0",
          "state": {
            "_model_module": "@jupyter-widgets/controls",
            "_model_module_version": "1.5.0",
            "_model_name": "ProgressStyleModel",
            "_view_count": null,
            "_view_module": "@jupyter-widgets/base",
            "_view_module_version": "1.2.0",
            "_view_name": "StyleView",
            "bar_color": null,
            "description_width": ""
          }
        },
        "3c33bdd4350240feb9f0234cd3d34307": {
          "model_module": "@jupyter-widgets/base",
          "model_name": "LayoutModel",
          "model_module_version": "1.2.0",
          "state": {
            "_model_module": "@jupyter-widgets/base",
            "_model_module_version": "1.2.0",
            "_model_name": "LayoutModel",
            "_view_count": null,
            "_view_module": "@jupyter-widgets/base",
            "_view_module_version": "1.2.0",
            "_view_name": "LayoutView",
            "align_content": null,
            "align_items": null,
            "align_self": null,
            "border": null,
            "bottom": null,
            "display": null,
            "flex": null,
            "flex_flow": null,
            "grid_area": null,
            "grid_auto_columns": null,
            "grid_auto_flow": null,
            "grid_auto_rows": null,
            "grid_column": null,
            "grid_gap": null,
            "grid_row": null,
            "grid_template_areas": null,
            "grid_template_columns": null,
            "grid_template_rows": null,
            "height": null,
            "justify_content": null,
            "justify_items": null,
            "left": null,
            "margin": null,
            "max_height": null,
            "max_width": null,
            "min_height": null,
            "min_width": null,
            "object_fit": null,
            "object_position": null,
            "order": null,
            "overflow": null,
            "overflow_x": null,
            "overflow_y": null,
            "padding": null,
            "right": null,
            "top": null,
            "visibility": null,
            "width": null
          }
        },
        "dd14c4b1aaed49bf9ef63cc6dbfdd805": {
          "model_module": "@jupyter-widgets/controls",
          "model_name": "DescriptionStyleModel",
          "model_module_version": "1.5.0",
          "state": {
            "_model_module": "@jupyter-widgets/controls",
            "_model_module_version": "1.5.0",
            "_model_name": "DescriptionStyleModel",
            "_view_count": null,
            "_view_module": "@jupyter-widgets/base",
            "_view_module_version": "1.2.0",
            "_view_name": "StyleView",
            "description_width": ""
          }
        },
        "9e2da32cd153420b8c7122aba38ca401": {
          "model_module": "@jupyter-widgets/controls",
          "model_name": "HBoxModel",
          "model_module_version": "1.5.0",
          "state": {
            "_dom_classes": [],
            "_model_module": "@jupyter-widgets/controls",
            "_model_module_version": "1.5.0",
            "_model_name": "HBoxModel",
            "_view_count": null,
            "_view_module": "@jupyter-widgets/controls",
            "_view_module_version": "1.5.0",
            "_view_name": "HBoxView",
            "box_style": "",
            "children": [
              "IPY_MODEL_9a411582d234423a820ea7ce40c18bc0",
              "IPY_MODEL_cbe15e8f9a2d4b3ba043239c77555b7f",
              "IPY_MODEL_df53f91bfea5427f802a488e37e6c326"
            ],
            "layout": "IPY_MODEL_21e695e1ee8d459ebc9987f9bf939b89"
          }
        },
        "9a411582d234423a820ea7ce40c18bc0": {
          "model_module": "@jupyter-widgets/controls",
          "model_name": "HTMLModel",
          "model_module_version": "1.5.0",
          "state": {
            "_dom_classes": [],
            "_model_module": "@jupyter-widgets/controls",
            "_model_module_version": "1.5.0",
            "_model_name": "HTMLModel",
            "_view_count": null,
            "_view_module": "@jupyter-widgets/controls",
            "_view_module_version": "1.5.0",
            "_view_name": "HTMLView",
            "description": "",
            "description_tooltip": null,
            "layout": "IPY_MODEL_6f1abda5cd1348888947e23b4f665001",
            "placeholder": "​",
            "style": "IPY_MODEL_30b3690fc80a48d48716365c248752a6",
            "value": "100%"
          }
        },
        "cbe15e8f9a2d4b3ba043239c77555b7f": {
          "model_module": "@jupyter-widgets/controls",
          "model_name": "FloatProgressModel",
          "model_module_version": "1.5.0",
          "state": {
            "_dom_classes": [],
            "_model_module": "@jupyter-widgets/controls",
            "_model_module_version": "1.5.0",
            "_model_name": "FloatProgressModel",
            "_view_count": null,
            "_view_module": "@jupyter-widgets/controls",
            "_view_module_version": "1.5.0",
            "_view_name": "ProgressView",
            "bar_style": "success",
            "description": "",
            "description_tooltip": null,
            "layout": "IPY_MODEL_17af3a718dc2491f813553a434b9213e",
            "max": 10,
            "min": 0,
            "orientation": "horizontal",
            "style": "IPY_MODEL_b207c70b789d45d181c5f845a6125296",
            "value": 10
          }
        },
        "df53f91bfea5427f802a488e37e6c326": {
          "model_module": "@jupyter-widgets/controls",
          "model_name": "HTMLModel",
          "model_module_version": "1.5.0",
          "state": {
            "_dom_classes": [],
            "_model_module": "@jupyter-widgets/controls",
            "_model_module_version": "1.5.0",
            "_model_name": "HTMLModel",
            "_view_count": null,
            "_view_module": "@jupyter-widgets/controls",
            "_view_module_version": "1.5.0",
            "_view_name": "HTMLView",
            "description": "",
            "description_tooltip": null,
            "layout": "IPY_MODEL_80e2e7d978ac4c63bc0355adb3f2cb07",
            "placeholder": "​",
            "style": "IPY_MODEL_e344b3e1af7f453890e583cc1d5cf5f5",
            "value": " 10/10 [14:57&lt;00:00, 89.70s/it]"
          }
        },
        "21e695e1ee8d459ebc9987f9bf939b89": {
          "model_module": "@jupyter-widgets/base",
          "model_name": "LayoutModel",
          "model_module_version": "1.2.0",
          "state": {
            "_model_module": "@jupyter-widgets/base",
            "_model_module_version": "1.2.0",
            "_model_name": "LayoutModel",
            "_view_count": null,
            "_view_module": "@jupyter-widgets/base",
            "_view_module_version": "1.2.0",
            "_view_name": "LayoutView",
            "align_content": null,
            "align_items": null,
            "align_self": null,
            "border": null,
            "bottom": null,
            "display": null,
            "flex": null,
            "flex_flow": null,
            "grid_area": null,
            "grid_auto_columns": null,
            "grid_auto_flow": null,
            "grid_auto_rows": null,
            "grid_column": null,
            "grid_gap": null,
            "grid_row": null,
            "grid_template_areas": null,
            "grid_template_columns": null,
            "grid_template_rows": null,
            "height": null,
            "justify_content": null,
            "justify_items": null,
            "left": null,
            "margin": null,
            "max_height": null,
            "max_width": null,
            "min_height": null,
            "min_width": null,
            "object_fit": null,
            "object_position": null,
            "order": null,
            "overflow": null,
            "overflow_x": null,
            "overflow_y": null,
            "padding": null,
            "right": null,
            "top": null,
            "visibility": null,
            "width": null
          }
        },
        "6f1abda5cd1348888947e23b4f665001": {
          "model_module": "@jupyter-widgets/base",
          "model_name": "LayoutModel",
          "model_module_version": "1.2.0",
          "state": {
            "_model_module": "@jupyter-widgets/base",
            "_model_module_version": "1.2.0",
            "_model_name": "LayoutModel",
            "_view_count": null,
            "_view_module": "@jupyter-widgets/base",
            "_view_module_version": "1.2.0",
            "_view_name": "LayoutView",
            "align_content": null,
            "align_items": null,
            "align_self": null,
            "border": null,
            "bottom": null,
            "display": null,
            "flex": null,
            "flex_flow": null,
            "grid_area": null,
            "grid_auto_columns": null,
            "grid_auto_flow": null,
            "grid_auto_rows": null,
            "grid_column": null,
            "grid_gap": null,
            "grid_row": null,
            "grid_template_areas": null,
            "grid_template_columns": null,
            "grid_template_rows": null,
            "height": null,
            "justify_content": null,
            "justify_items": null,
            "left": null,
            "margin": null,
            "max_height": null,
            "max_width": null,
            "min_height": null,
            "min_width": null,
            "object_fit": null,
            "object_position": null,
            "order": null,
            "overflow": null,
            "overflow_x": null,
            "overflow_y": null,
            "padding": null,
            "right": null,
            "top": null,
            "visibility": null,
            "width": null
          }
        },
        "30b3690fc80a48d48716365c248752a6": {
          "model_module": "@jupyter-widgets/controls",
          "model_name": "DescriptionStyleModel",
          "model_module_version": "1.5.0",
          "state": {
            "_model_module": "@jupyter-widgets/controls",
            "_model_module_version": "1.5.0",
            "_model_name": "DescriptionStyleModel",
            "_view_count": null,
            "_view_module": "@jupyter-widgets/base",
            "_view_module_version": "1.2.0",
            "_view_name": "StyleView",
            "description_width": ""
          }
        },
        "17af3a718dc2491f813553a434b9213e": {
          "model_module": "@jupyter-widgets/base",
          "model_name": "LayoutModel",
          "model_module_version": "1.2.0",
          "state": {
            "_model_module": "@jupyter-widgets/base",
            "_model_module_version": "1.2.0",
            "_model_name": "LayoutModel",
            "_view_count": null,
            "_view_module": "@jupyter-widgets/base",
            "_view_module_version": "1.2.0",
            "_view_name": "LayoutView",
            "align_content": null,
            "align_items": null,
            "align_self": null,
            "border": null,
            "bottom": null,
            "display": null,
            "flex": null,
            "flex_flow": null,
            "grid_area": null,
            "grid_auto_columns": null,
            "grid_auto_flow": null,
            "grid_auto_rows": null,
            "grid_column": null,
            "grid_gap": null,
            "grid_row": null,
            "grid_template_areas": null,
            "grid_template_columns": null,
            "grid_template_rows": null,
            "height": null,
            "justify_content": null,
            "justify_items": null,
            "left": null,
            "margin": null,
            "max_height": null,
            "max_width": null,
            "min_height": null,
            "min_width": null,
            "object_fit": null,
            "object_position": null,
            "order": null,
            "overflow": null,
            "overflow_x": null,
            "overflow_y": null,
            "padding": null,
            "right": null,
            "top": null,
            "visibility": null,
            "width": null
          }
        },
        "b207c70b789d45d181c5f845a6125296": {
          "model_module": "@jupyter-widgets/controls",
          "model_name": "ProgressStyleModel",
          "model_module_version": "1.5.0",
          "state": {
            "_model_module": "@jupyter-widgets/controls",
            "_model_module_version": "1.5.0",
            "_model_name": "ProgressStyleModel",
            "_view_count": null,
            "_view_module": "@jupyter-widgets/base",
            "_view_module_version": "1.2.0",
            "_view_name": "StyleView",
            "bar_color": null,
            "description_width": ""
          }
        },
        "80e2e7d978ac4c63bc0355adb3f2cb07": {
          "model_module": "@jupyter-widgets/base",
          "model_name": "LayoutModel",
          "model_module_version": "1.2.0",
          "state": {
            "_model_module": "@jupyter-widgets/base",
            "_model_module_version": "1.2.0",
            "_model_name": "LayoutModel",
            "_view_count": null,
            "_view_module": "@jupyter-widgets/base",
            "_view_module_version": "1.2.0",
            "_view_name": "LayoutView",
            "align_content": null,
            "align_items": null,
            "align_self": null,
            "border": null,
            "bottom": null,
            "display": null,
            "flex": null,
            "flex_flow": null,
            "grid_area": null,
            "grid_auto_columns": null,
            "grid_auto_flow": null,
            "grid_auto_rows": null,
            "grid_column": null,
            "grid_gap": null,
            "grid_row": null,
            "grid_template_areas": null,
            "grid_template_columns": null,
            "grid_template_rows": null,
            "height": null,
            "justify_content": null,
            "justify_items": null,
            "left": null,
            "margin": null,
            "max_height": null,
            "max_width": null,
            "min_height": null,
            "min_width": null,
            "object_fit": null,
            "object_position": null,
            "order": null,
            "overflow": null,
            "overflow_x": null,
            "overflow_y": null,
            "padding": null,
            "right": null,
            "top": null,
            "visibility": null,
            "width": null
          }
        },
        "e344b3e1af7f453890e583cc1d5cf5f5": {
          "model_module": "@jupyter-widgets/controls",
          "model_name": "DescriptionStyleModel",
          "model_module_version": "1.5.0",
          "state": {
            "_model_module": "@jupyter-widgets/controls",
            "_model_module_version": "1.5.0",
            "_model_name": "DescriptionStyleModel",
            "_view_count": null,
            "_view_module": "@jupyter-widgets/base",
            "_view_module_version": "1.2.0",
            "_view_name": "StyleView",
            "description_width": ""
          }
        }
      }
    }
  },
  "nbformat": 4,
  "nbformat_minor": 0
}