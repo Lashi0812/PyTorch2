{
 "cells": [
  {
   "cell_type": "code",
   "execution_count": 1,
   "metadata": {},
   "outputs": [],
   "source": [
    "# python libraries\n",
    "import os\n",
    "import sys\n",
    "from pathlib import Path\n",
    "from operator import methodcaller\n",
    "from collections import OrderedDict\n",
    "import dataclasses\n",
    "from dataclasses import dataclass\n",
    "from typing import (\n",
    "    List,\n",
    "    Tuple,\n",
    "    Dict,\n",
    "    Any,\n",
    "    Mapping\n",
    ")\n",
    "from enum import Enum\n",
    "# adding the path\n",
    "if not str(Path(os.getcwd()).parent) in sys.path:\n",
    "    sys.path.append(str(Path(os.getcwd()).parent))\n",
    "\n",
    "# torch\n",
    "import torch\n",
    "import torchvision\n",
    "from torch import nn\n",
    "from torchvision import (\n",
    "    transforms,\n",
    "    datasets\n",
    "    )\n",
    "from torch.utils.data import DataLoader\n",
    "\n",
    "try:\n",
    "    from torchmetrics import Accuracy\n",
    "except:\n",
    "    print(f\"[INFO] Installing the torchmetrics\")\n",
    "    %pip install torchmetrics\n",
    "    from torchmetrics import Accuracy\n",
    "\n",
    "# helper function\n",
    "try:\n",
    "    import my_helper as helper\n",
    "except:\n",
    "    print(\"[INFO] Downloading the helper function from github\")\n",
    "    import requests\n",
    "    response = requests.get(\"https://raw.githubusercontent.com/Lashi0812/PyTorch2/master/my_helper.py\")\n",
    "    with open(\"my_helper.py\" ,\"wb\") as f:\n",
    "        f.write(response.content)\n",
    "    import my_helper as helper"
   ]
  },
  {
   "attachments": {},
   "cell_type": "markdown",
   "metadata": {},
   "source": [
    "# LeNet"
   ]
  },
  {
   "cell_type": "code",
   "execution_count": null,
   "metadata": {},
   "outputs": [],
   "source": [
    "class LeNet(helper.Classifier):\n",
    "    def __init__(self,lr,num_classes) -> None:\n",
    "        super().__init__()\n",
    "        self.lr = lr\n",
    "        self.num_classes = num_classes\n",
    "        self.net = nn.Sequential(OrderedDict([\n",
    "            (\"Conv2d_1\",nn.LazyConv2d(out_channels=6,kernel_size=(5,5),padding=2)),\n",
    "            (\"Sigmoid_Conv2d_1\",nn.Sigmoid()),\n",
    "            (\"AvgPool2d_1\",nn.AvgPool2d(kernel_size=2,stride=2)),\n",
    "            (\"Conv2d_2\",nn.LazyConv2d(out_channels=16,kernel_size=5)), #! There is no padding done 2nd conv layer\n",
    "            (\"Sigmoid_Conv2d_2\",nn.Sigmoid()),\n",
    "            (\"AvgPool2d_1\",nn.AvgPool2d(kernel_size=2,stride=2)),\n",
    "            (\"Flatten\",nn.Flatten()),\n",
    "            (\"Linear_1\",nn.LazyLinear(out_features=120)),\n",
    "            (\"Sigmoid_Linear_1\",nn.Sigmoid()),\n",
    "            (\"Linear_2\",nn.LazyLinear(out_features=84)),\n",
    "            (\"Sigmoid_Linear_2\",nn.Sigmoid()),\n",
    "            (\"Linear_2\",nn.LazyLinear(out_features=self.num_classes))\n",
    "        ]))"
   ]
  },
  {
   "cell_type": "code",
   "execution_count": null,
   "metadata": {},
   "outputs": [],
   "source": [
    "lenet = LeNet(lr=0.01,num_classes=10)"
   ]
  },
  {
   "cell_type": "code",
   "execution_count": null,
   "metadata": {},
   "outputs": [],
   "source": [
    "lenet.layer_summary(input_shape=(1,1,28,28))"
   ]
  },
  {
   "cell_type": "code",
   "execution_count": null,
   "metadata": {},
   "outputs": [],
   "source": [
    "def init_cnn(module):\n",
    "    if isinstance(module,(nn.Linear,nn.Conv2d)):\n",
    "        nn.init.xavier_uniform_(module.weight)"
   ]
  },
  {
   "attachments": {},
   "cell_type": "markdown",
   "metadata": {},
   "source": [
    "# Data"
   ]
  },
  {
   "cell_type": "code",
   "execution_count": null,
   "metadata": {},
   "outputs": [],
   "source": [
    "class FashionMNIST(helper.DataModule):\n",
    "    def __init__(self, batch_size: int = 64, resize=(28, 28)) -> None:\n",
    "        super().__init__()\n",
    "        self.batch_size = batch_size\n",
    "        self.resize = resize\n",
    "\n",
    "        transform = transforms.Compose(\n",
    "            [transforms.Resize(resize), transforms.ToTensor()]\n",
    "        )\n",
    "\n",
    "        self.train = datasets.FashionMNIST(\n",
    "            root=self.root, train=True, transform=transform,download=True\n",
    "        )\n",
    "        self.val = datasets.FashionMNIST(\n",
    "            root=self.root, train=False, transform=transform,download=True\n",
    "        )\n",
    "        self.classes = self.train.classes\n",
    "        self.class_to_idx = self.train.class_to_idx\n",
    "\n",
    "    def text_labels(self, indices: List):\n",
    "        return [self.classes[a] for a in indices]\n",
    "\n",
    "    def get_dataloader(self, train: bool):\n",
    "        data = self.train if train else self.val\n",
    "        return DataLoader(\n",
    "            dataset=data,\n",
    "            batch_size=self.batch_size,\n",
    "            num_workers=self.num_workers,\n",
    "            shuffle=train,\n",
    "        )\n",
    "    \n",
    "    def visualize(self,batch:Tuple,num_rows=1,num_cols=8):\n",
    "        X,y = batch\n",
    "        labels = self.text_labels(y)\n",
    "        helper.show_images(X.squeeze(1),num_rows=num_rows,num_cols=num_cols,titles=labels)"
   ]
  },
  {
   "attachments": {},
   "cell_type": "markdown",
   "metadata": {},
   "source": [
    "# Training the model"
   ]
  },
  {
   "cell_type": "code",
   "execution_count": null,
   "metadata": {},
   "outputs": [],
   "source": [
    "data = FashionMNIST(batch_size=128)\n",
    "model = LeNet(lr=0.1,num_classes=len(data.classes))\n",
    "model.apply_init([next(iter(data.get_dataloader(True)))[0]],init_cnn)\n"
   ]
  },
  {
   "cell_type": "code",
   "execution_count": null,
   "metadata": {},
   "outputs": [],
   "source": [
    "trainer = helper.Trainer(max_epochs=3)\n",
    "trainer.fit(model,data)"
   ]
  },
  {
   "attachments": {},
   "cell_type": "markdown",
   "metadata": {},
   "source": [
    "# Experiments\n"
   ]
  },
  {
   "attachments": {},
   "cell_type": "markdown",
   "metadata": {},
   "source": [
    "## Exp 1\n",
    "1. Replace the average pooling with max-pooling.\n",
    "2. Replace the softmax layer with ReLU."
   ]
  },
  {
   "cell_type": "code",
   "execution_count": null,
   "metadata": {},
   "outputs": [],
   "source": [
    "list(model.net.named_children())"
   ]
  },
  {
   "cell_type": "code",
   "execution_count": null,
   "metadata": {},
   "outputs": [],
   "source": [
    "def modify_model(model, changes: Dict):\n",
    "    layers = nn.Sequential()\n",
    "    for name, layer in model.net.named_children():\n",
    "        layer_name = layer.__class__.__name__\n",
    "        if layer_name in changes.keys():\n",
    "            layers.add_module(\n",
    "                name=name,\n",
    "                module=methodcaller(changes[layer_name][0], **changes[layer_name][1])(nn),\n",
    "            )\n",
    "        else:\n",
    "            layers.add_module(name=name, module=layer)\n",
    "    return layers"
   ]
  },
  {
   "cell_type": "code",
   "execution_count": null,
   "metadata": {},
   "outputs": [],
   "source": [
    "change_dict = {\"AvgPool2d\":(\"MaxPool2d\",{\"kernel_size\":2,\"stride\":2}),\n",
    "               \"Sigmoid\":(\"ReLU\",{})}"
   ]
  },
  {
   "cell_type": "code",
   "execution_count": null,
   "metadata": {},
   "outputs": [],
   "source": [
    "model.net = modify_model(model,change_dict)"
   ]
  },
  {
   "cell_type": "code",
   "execution_count": null,
   "metadata": {},
   "outputs": [],
   "source": [
    "model.net"
   ]
  },
  {
   "cell_type": "code",
   "execution_count": null,
   "metadata": {},
   "outputs": [],
   "source": [
    "trainer = helper.Trainer(max_epochs=3)\n",
    "trainer.fit(model,data)"
   ]
  },
  {
   "cell_type": "code",
   "execution_count": null,
   "metadata": {},
   "outputs": [],
   "source": [
    "model.net"
   ]
  },
  {
   "attachments": {},
   "cell_type": "markdown",
   "metadata": {},
   "source": [
    "## Exp2 - Change the kernel size"
   ]
  },
  {
   "cell_type": "code",
   "execution_count": 158,
   "metadata": {
    "notebookRunGroups": {
     "groupValue": "1"
    }
   },
   "outputs": [],
   "source": [
    "@dataclass(slots=True)\n",
    "class A:\n",
    "    args:List\n",
    "    kwargs:Any\n",
    "\n",
    "    def __init__(self,*args,**kwargs) -> None:\n",
    "        self.args = args\n",
    "        self.kwargs = kwargs"
   ]
  },
  {
   "cell_type": "code",
   "execution_count": 159,
   "metadata": {
    "notebookRunGroups": {
     "groupValue": "1"
    }
   },
   "outputs": [],
   "source": [
    "a = A(Resize={\"size\":(28,28)},ToTensor={})"
   ]
  },
  {
   "cell_type": "code",
   "execution_count": 160,
   "metadata": {
    "notebookRunGroups": {
     "groupValue": "1"
    }
   },
   "outputs": [
    {
     "data": {
      "text/plain": [
       "{'Resize': {'size': (28, 28)}, 'ToTensor': {}}"
      ]
     },
     "execution_count": 160,
     "metadata": {},
     "output_type": "execute_result"
    }
   ],
   "source": [
    "a.kwargs"
   ]
  },
  {
   "cell_type": "code",
   "execution_count": 5,
   "metadata": {},
   "outputs": [],
   "source": [
    "b = A(**dict(Resize={\"size\":(28,28)},ToTensor={}))"
   ]
  },
  {
   "cell_type": "code",
   "execution_count": 6,
   "metadata": {},
   "outputs": [
    {
     "data": {
      "text/plain": [
       "{'Resize': {'size': (28, 28)}, 'ToTensor': {}}"
      ]
     },
     "execution_count": 6,
     "metadata": {},
     "output_type": "execute_result"
    }
   ],
   "source": [
    "b.kwargs"
   ]
  },
  {
   "cell_type": "code",
   "execution_count": 7,
   "metadata": {},
   "outputs": [
    {
     "data": {
      "text/plain": [
       "()"
      ]
     },
     "execution_count": 7,
     "metadata": {},
     "output_type": "execute_result"
    }
   ],
   "source": [
    "b.args"
   ]
  },
  {
   "cell_type": "code",
   "execution_count": 8,
   "metadata": {},
   "outputs": [],
   "source": [
    "@dataclass(init=True,slots=True)\n",
    "class DataSetting:\n",
    "    batch_size:int\n",
    "    data:helper.DataLoader\n",
    "    kwargs:Mapping[str,Dict]\n",
    "    def __init__(self,*,batch_size:int,data:helper.DataModule,**kwargs) -> None:\n",
    "        self.batch_size = batch_size\n",
    "        self.data = data\n",
    "        self.kwargs = kwargs\n",
    "    \n",
    "    def replace(self,**kwargs):\n",
    "        for k,v in kwargs:\n",
    "            pass\n",
    "            \n",
    "        \n",
    "        "
   ]
  },
  {
   "cell_type": "code",
   "execution_count": 9,
   "metadata": {},
   "outputs": [],
   "source": [
    "setting = DataSetting(batch_size=32,data=helper.FashionMNIST,Resize={\"size\":(28,28)},ToTensor={})"
   ]
  },
  {
   "cell_type": "code",
   "execution_count": 10,
   "metadata": {},
   "outputs": [
    {
     "data": {
      "text/plain": [
       "32"
      ]
     },
     "execution_count": 10,
     "metadata": {},
     "output_type": "execute_result"
    }
   ],
   "source": [
    "setting.batch_size"
   ]
  },
  {
   "cell_type": "code",
   "execution_count": 11,
   "metadata": {},
   "outputs": [
    {
     "data": {
      "text/plain": [
       "{'Resize': {'size': (28, 28)}, 'ToTensor': {}}"
      ]
     },
     "execution_count": 11,
     "metadata": {},
     "output_type": "execute_result"
    }
   ],
   "source": [
    "setting.kwargs"
   ]
  },
  {
   "cell_type": "code",
   "execution_count": 12,
   "metadata": {},
   "outputs": [
    {
     "name": "stdout",
     "output_type": "stream",
     "text": [
      "batch_size\n",
      "data\n",
      "kwargs\n"
     ]
    },
    {
     "data": {
      "text/plain": [
       "[None, None, None]"
      ]
     },
     "execution_count": 12,
     "metadata": {},
     "output_type": "execute_result"
    }
   ],
   "source": [
    "[print(field.name) for field in setting.__dataclass_fields__.values()]"
   ]
  },
  {
   "cell_type": "code",
   "execution_count": 13,
   "metadata": {},
   "outputs": [
    {
     "data": {
      "text/plain": [
       "{'batch_size': 32,\n",
       " 'data': my_helper.FashionMNIST,\n",
       " 'kwargs': {'kwargs': {'kwargs': {'Resize': {'size': (28, 28)},\n",
       "    'ToTensor': {}}}}}"
      ]
     },
     "execution_count": 13,
     "metadata": {},
     "output_type": "execute_result"
    }
   ],
   "source": [
    "dataclasses.asdict(dataclasses.replace(dataclasses.replace(setting)))"
   ]
  },
  {
   "cell_type": "code",
   "execution_count": 14,
   "metadata": {},
   "outputs": [
    {
     "data": {
      "text/plain": [
       "{'batch_size': 32,\n",
       " 'data': my_helper.FashionMNIST,\n",
       " 'kwargs': {'Resize': {'size': (28, 28)}, 'ToTensor': {}}}"
      ]
     },
     "execution_count": 14,
     "metadata": {},
     "output_type": "execute_result"
    }
   ],
   "source": [
    "dataclasses.asdict(setting)"
   ]
  },
  {
   "cell_type": "code",
   "execution_count": 15,
   "metadata": {},
   "outputs": [],
   "source": [
    "@dataclass(init=False)\n",
    "class ArgHolder:\n",
    "    args: List[Any]\n",
    "    kwargs: Mapping[Any, Any]\n",
    "\n",
    "    def __init__(self, *args, **kwargs):\n",
    "        self.args = args\n",
    "        self.kwargs = kwargs\n",
    "    \n",
    "    def replace(self, /, **changes):\n",
    "        return dataclasses.replace(self, **changes) \n",
    "\n",
    "a = ArgHolder(1, 2, three=3)"
   ]
  },
  {
   "cell_type": "code",
   "execution_count": 16,
   "metadata": {},
   "outputs": [
    {
     "data": {
      "text/plain": [
       "ArgHolder(args=(), kwargs={'a': 10, 'args': (), 'kwargs': {'args': (1, 2), 'kwargs': {'three': 3}}})"
      ]
     },
     "execution_count": 16,
     "metadata": {},
     "output_type": "execute_result"
    }
   ],
   "source": [
    "dataclasses.replace(dataclasses.replace(a),a=10)"
   ]
  },
  {
   "cell_type": "code",
   "execution_count": 17,
   "metadata": {},
   "outputs": [
    {
     "data": {
      "text/plain": [
       "ArgHolder(args=(), kwargs={'args': 10, 'kwargs': {'three': 3}})"
      ]
     },
     "execution_count": 17,
     "metadata": {},
     "output_type": "execute_result"
    }
   ],
   "source": [
    "a.replace(args=10)"
   ]
  },
  {
   "cell_type": "code",
   "execution_count": 18,
   "metadata": {},
   "outputs": [],
   "source": [
    "import inspect"
   ]
  },
  {
   "cell_type": "code",
   "execution_count": 19,
   "metadata": {},
   "outputs": [
    {
     "data": {
      "text/plain": [
       "FullArgSpec(args=['self', 'size', 'interpolation', 'max_size', 'antialias'], varargs=None, varkw=None, defaults=(<InterpolationMode.BILINEAR: 'bilinear'>, None, None), kwonlyargs=[], kwonlydefaults=None, annotations={})"
      ]
     },
     "execution_count": 19,
     "metadata": {},
     "output_type": "execute_result"
    }
   ],
   "source": [
    "inspect.getfullargspec(transforms.Resize)"
   ]
  },
  {
   "cell_type": "code",
   "execution_count": 20,
   "metadata": {},
   "outputs": [
    {
     "data": {
      "text/plain": [
       "['__class__',\n",
       " '__delattr__',\n",
       " '__dir__',\n",
       " '__doc__',\n",
       " '__eq__',\n",
       " '__format__',\n",
       " '__ge__',\n",
       " '__getattribute__',\n",
       " '__gt__',\n",
       " '__hash__',\n",
       " '__init__',\n",
       " '__init_subclass__',\n",
       " '__le__',\n",
       " '__lt__',\n",
       " '__module__',\n",
       " '__ne__',\n",
       " '__new__',\n",
       " '__reduce__',\n",
       " '__reduce_ex__',\n",
       " '__repr__',\n",
       " '__setattr__',\n",
       " '__setstate__',\n",
       " '__sizeof__',\n",
       " '__slots__',\n",
       " '__str__',\n",
       " '__subclasshook__',\n",
       " '_bind',\n",
       " '_bound_arguments_cls',\n",
       " '_hash_basis',\n",
       " '_parameter_cls',\n",
       " '_parameters',\n",
       " '_return_annotation',\n",
       " 'bind',\n",
       " 'bind_partial',\n",
       " 'empty',\n",
       " 'from_builtin',\n",
       " 'from_callable',\n",
       " 'from_function',\n",
       " 'parameters',\n",
       " 'replace',\n",
       " 'return_annotation']"
      ]
     },
     "execution_count": 20,
     "metadata": {},
     "output_type": "execute_result"
    }
   ],
   "source": [
    "dir(inspect.signature(transforms.Resize))"
   ]
  },
  {
   "cell_type": "code",
   "execution_count": 21,
   "metadata": {},
   "outputs": [
    {
     "data": {
      "text/plain": [
       "dict_values([<Parameter \"size\">, <Parameter \"interpolation=<InterpolationMode.BILINEAR: 'bilinear'>\">, <Parameter \"max_size=None\">, <Parameter \"antialias=None\">])"
      ]
     },
     "execution_count": 21,
     "metadata": {},
     "output_type": "execute_result"
    }
   ],
   "source": [
    "dict(inspect.signature(transforms.Resize).parameters).values()"
   ]
  },
  {
   "cell_type": "code",
   "execution_count": 22,
   "metadata": {},
   "outputs": [
    {
     "data": {
      "text/plain": [
       "<Signature (size, interpolation=<InterpolationMode.BILINEAR: 'bilinear'>, max_size=None, antialias=None)>"
      ]
     },
     "execution_count": 22,
     "metadata": {},
     "output_type": "execute_result"
    }
   ],
   "source": [
    "inspect.signature(transforms.Resize)"
   ]
  },
  {
   "cell_type": "code",
   "execution_count": 23,
   "metadata": {},
   "outputs": [
    {
     "data": {
      "text/plain": [
       "['__class__',\n",
       " '__delattr__',\n",
       " '__dir__',\n",
       " '__doc__',\n",
       " '__eq__',\n",
       " '__format__',\n",
       " '__ge__',\n",
       " '__getattribute__',\n",
       " '__gt__',\n",
       " '__hash__',\n",
       " '__init__',\n",
       " '__init_subclass__',\n",
       " '__le__',\n",
       " '__lt__',\n",
       " '__module__',\n",
       " '__ne__',\n",
       " '__new__',\n",
       " '__reduce__',\n",
       " '__reduce_ex__',\n",
       " '__repr__',\n",
       " '__setattr__',\n",
       " '__setstate__',\n",
       " '__sizeof__',\n",
       " '__slots__',\n",
       " '__str__',\n",
       " '__subclasshook__',\n",
       " '_bind',\n",
       " '_bound_arguments_cls',\n",
       " '_hash_basis',\n",
       " '_parameter_cls',\n",
       " '_parameters',\n",
       " '_return_annotation',\n",
       " 'bind',\n",
       " 'bind_partial',\n",
       " 'empty',\n",
       " 'from_builtin',\n",
       " 'from_callable',\n",
       " 'from_function',\n",
       " 'parameters',\n",
       " 'replace',\n",
       " 'return_annotation']"
      ]
     },
     "execution_count": 23,
     "metadata": {},
     "output_type": "execute_result"
    }
   ],
   "source": [
    "dir(inspect.signature(transforms.Resize))"
   ]
  },
  {
   "cell_type": "code",
   "execution_count": 24,
   "metadata": {},
   "outputs": [
    {
     "name": "stdout",
     "output_type": "stream",
     "text": [
      "size <class 'inspect._empty'> <class 'type'> False <class 'inspect._empty'>\n",
      "interpolation InterpolationMode.BILINEAR <enum 'InterpolationMode'> True <class 'inspect._empty'>\n",
      "bilinear\n",
      "max_size None <class 'NoneType'> False <class 'inspect._empty'>\n",
      "antialias None <class 'NoneType'> False <class 'inspect._empty'>\n"
     ]
    }
   ],
   "source": [
    "for params in inspect.signature(transforms.Resize).parameters.values():\n",
    "    print(params.name,params.default,type(params.default),isinstance(params.default,Enum),params.annotation)\n",
    "    if isinstance(params.default,Enum):\n",
    "        print(params.default.value)\n"
   ]
  },
  {
   "cell_type": "code",
   "execution_count": 25,
   "metadata": {},
   "outputs": [
    {
     "data": {
      "text/plain": [
       "<Parameter \"interpolation: torchvision.transforms.functional.InterpolationMode = <InterpolationMode.NEAREST: 'nearest'>\">"
      ]
     },
     "execution_count": 25,
     "metadata": {},
     "output_type": "execute_result"
    }
   ],
   "source": [
    "inspect.signature(transforms.AutoAugment).parameters[\"interpolation\"]"
   ]
  },
  {
   "cell_type": "code",
   "execution_count": 26,
   "metadata": {},
   "outputs": [
    {
     "data": {
      "text/plain": [
       "['KEYWORD_ONLY',\n",
       " 'POSITIONAL_ONLY',\n",
       " 'POSITIONAL_OR_KEYWORD',\n",
       " 'VAR_KEYWORD',\n",
       " 'VAR_POSITIONAL',\n",
       " '__class__',\n",
       " '__delattr__',\n",
       " '__dir__',\n",
       " '__doc__',\n",
       " '__eq__',\n",
       " '__format__',\n",
       " '__ge__',\n",
       " '__getattribute__',\n",
       " '__gt__',\n",
       " '__hash__',\n",
       " '__init__',\n",
       " '__init_subclass__',\n",
       " '__le__',\n",
       " '__lt__',\n",
       " '__module__',\n",
       " '__ne__',\n",
       " '__new__',\n",
       " '__reduce__',\n",
       " '__reduce_ex__',\n",
       " '__repr__',\n",
       " '__setattr__',\n",
       " '__setstate__',\n",
       " '__sizeof__',\n",
       " '__slots__',\n",
       " '__str__',\n",
       " '__subclasshook__',\n",
       " '_annotation',\n",
       " '_default',\n",
       " '_kind',\n",
       " '_name',\n",
       " 'annotation',\n",
       " 'default',\n",
       " 'empty',\n",
       " 'kind',\n",
       " 'name',\n",
       " 'replace']"
      ]
     },
     "execution_count": 26,
     "metadata": {},
     "output_type": "execute_result"
    }
   ],
   "source": [
    "dir(params)"
   ]
  },
  {
   "cell_type": "code",
   "execution_count": 27,
   "metadata": {},
   "outputs": [
    {
     "data": {
      "text/plain": [
       "<enum 'InterpolationMode'>"
      ]
     },
     "execution_count": 27,
     "metadata": {},
     "output_type": "execute_result"
    }
   ],
   "source": [
    "type(inspect.getfullargspec(transforms.Resize).defaults[0])"
   ]
  },
  {
   "cell_type": "code",
   "execution_count": 28,
   "metadata": {},
   "outputs": [],
   "source": [
    "@dataclass\n",
    "class Test:\n",
    "    name:str"
   ]
  },
  {
   "cell_type": "code",
   "execution_count": 29,
   "metadata": {},
   "outputs": [],
   "source": [
    "t = Test(\"sdf\")"
   ]
  },
  {
   "cell_type": "code",
   "execution_count": 30,
   "metadata": {},
   "outputs": [
    {
     "data": {
      "text/plain": [
       "{'name': 'sdf'}"
      ]
     },
     "execution_count": 30,
     "metadata": {},
     "output_type": "execute_result"
    }
   ],
   "source": [
    "dataclasses.asdict(t)"
   ]
  },
  {
   "cell_type": "code",
   "execution_count": 31,
   "metadata": {},
   "outputs": [],
   "source": [
    "t.age = 10"
   ]
  },
  {
   "cell_type": "code",
   "execution_count": 32,
   "metadata": {},
   "outputs": [
    {
     "data": {
      "text/plain": [
       "{'name': 'sdf'}"
      ]
     },
     "execution_count": 32,
     "metadata": {},
     "output_type": "execute_result"
    }
   ],
   "source": [
    "dataclasses.asdict(t)"
   ]
  },
  {
   "cell_type": "code",
   "execution_count": 33,
   "metadata": {},
   "outputs": [
    {
     "data": {
      "text/plain": [
       "['Compose',\n",
       " 'ToTensor',\n",
       " 'PILToTensor',\n",
       " 'ConvertImageDtype',\n",
       " 'ToPILImage',\n",
       " 'Normalize',\n",
       " 'Resize',\n",
       " 'CenterCrop',\n",
       " 'Pad',\n",
       " 'Lambda',\n",
       " 'RandomApply',\n",
       " 'RandomChoice',\n",
       " 'RandomOrder',\n",
       " 'RandomCrop',\n",
       " 'RandomHorizontalFlip',\n",
       " 'RandomVerticalFlip',\n",
       " 'RandomResizedCrop',\n",
       " 'FiveCrop',\n",
       " 'TenCrop',\n",
       " 'LinearTransformation',\n",
       " 'ColorJitter',\n",
       " 'RandomRotation',\n",
       " 'RandomAffine',\n",
       " 'Grayscale',\n",
       " 'RandomGrayscale',\n",
       " 'RandomPerspective',\n",
       " 'RandomErasing',\n",
       " 'GaussianBlur',\n",
       " 'InterpolationMode',\n",
       " 'RandomInvert',\n",
       " 'RandomPosterize',\n",
       " 'RandomSolarize',\n",
       " 'RandomAdjustSharpness',\n",
       " 'RandomAutocontrast',\n",
       " 'RandomEqualize']"
      ]
     },
     "execution_count": 33,
     "metadata": {},
     "output_type": "execute_result"
    }
   ],
   "source": [
    "transforms.transforms.__all__"
   ]
  },
  {
   "cell_type": "code",
   "execution_count": 34,
   "metadata": {},
   "outputs": [
    {
     "data": {
      "text/plain": [
       "['AutoAugmentPolicy',\n",
       " 'AutoAugment',\n",
       " 'RandAugment',\n",
       " 'TrivialAugmentWide',\n",
       " 'AugMix']"
      ]
     },
     "execution_count": 34,
     "metadata": {},
     "output_type": "execute_result"
    }
   ],
   "source": [
    "transforms.autoaugment.__all__"
   ]
  },
  {
   "cell_type": "code",
   "execution_count": 35,
   "metadata": {},
   "outputs": [
    {
     "name": "stdout",
     "output_type": "stream",
     "text": [
      "Compose has total 1 paramaters\n",
      "\tName  : transforms\n",
      "\tdefault  : <class 'inspect._empty'>\n",
      "ToTensor has total 0 paramaters\n",
      "PILToTensor has total 0 paramaters\n",
      "ConvertImageDtype has total 1 paramaters\n",
      "\tName  : dtype\n",
      "\tdefault  : <class 'inspect._empty'>\n",
      "ToPILImage has total 1 paramaters\n",
      "\tName  : mode\n",
      "\tdefault  : None\n"
     ]
    }
   ],
   "source": [
    "for trans in transforms.transforms.__all__[:5]:\n",
    "    if not issubclass(getattr(transforms,trans),Enum):\n",
    "        sig = inspect.signature(getattr(transforms,trans))\n",
    "        print(f\"{trans} has total {len(sig.parameters.values())} paramaters\")\n",
    "        for params in sig.parameters.values():\n",
    "            print(f\"\\tName  : {params.name}\")\n",
    "            print(f\"\\tdefault  : {params.default}\")\n",
    "    "
   ]
  },
  {
   "cell_type": "code",
   "execution_count": 36,
   "metadata": {},
   "outputs": [
    {
     "data": {
      "text/plain": [
       "torchvision.transforms.autoaugment.AutoAugment"
      ]
     },
     "execution_count": 36,
     "metadata": {},
     "output_type": "execute_result"
    }
   ],
   "source": [
    "getattr(transforms,\"AutoAugment\")"
   ]
  },
  {
   "cell_type": "code",
   "execution_count": 37,
   "metadata": {},
   "outputs": [
    {
     "name": "stdout",
     "output_type": "stream",
     "text": [
      "ToPILImage has total 4 parameters\n"
     ]
    }
   ],
   "source": [
    "sig = inspect.signature(getattr(transforms,\"Resize\"))\n",
    "print(f\"{trans} has total {len(sig.parameters.values())} parameters\")\n",
    "fields = []\n",
    "for params in sig.parameters.values():\n",
    "    if issubclass(type(params.default),Enum):\n",
    "        default = params.default.value\n",
    "    elif params.default is inspect._empty:\n",
    "        default = dataclasses.MISSING\n",
    "    else:\n",
    "        default = params.default\n",
    "        \n",
    "    fields.append((params.name,Any,dataclasses.field(default=default)))"
   ]
  },
  {
   "cell_type": "code",
   "execution_count": 38,
   "metadata": {},
   "outputs": [
    {
     "data": {
      "text/plain": [
       "[('size',\n",
       "  typing.Any,\n",
       "  Field(name=None,type=None,default=<dataclasses._MISSING_TYPE object at 0x000002826E0BD3C0>,default_factory=<dataclasses._MISSING_TYPE object at 0x000002826E0BD3C0>,init=True,repr=True,hash=None,compare=True,metadata=mappingproxy({}),kw_only=<dataclasses._MISSING_TYPE object at 0x000002826E0BD3C0>,_field_type=None)),\n",
       " ('interpolation',\n",
       "  typing.Any,\n",
       "  Field(name=None,type=None,default='bilinear',default_factory=<dataclasses._MISSING_TYPE object at 0x000002826E0BD3C0>,init=True,repr=True,hash=None,compare=True,metadata=mappingproxy({}),kw_only=<dataclasses._MISSING_TYPE object at 0x000002826E0BD3C0>,_field_type=None)),\n",
       " ('max_size',\n",
       "  typing.Any,\n",
       "  Field(name=None,type=None,default=None,default_factory=<dataclasses._MISSING_TYPE object at 0x000002826E0BD3C0>,init=True,repr=True,hash=None,compare=True,metadata=mappingproxy({}),kw_only=<dataclasses._MISSING_TYPE object at 0x000002826E0BD3C0>,_field_type=None)),\n",
       " ('antialias',\n",
       "  typing.Any,\n",
       "  Field(name=None,type=None,default=None,default_factory=<dataclasses._MISSING_TYPE object at 0x000002826E0BD3C0>,init=True,repr=True,hash=None,compare=True,metadata=mappingproxy({}),kw_only=<dataclasses._MISSING_TYPE object at 0x000002826E0BD3C0>,_field_type=None))]"
      ]
     },
     "execution_count": 38,
     "metadata": {},
     "output_type": "execute_result"
    }
   ],
   "source": [
    "fields"
   ]
  },
  {
   "cell_type": "code",
   "execution_count": 39,
   "metadata": {},
   "outputs": [
    {
     "data": {
      "text/plain": [
       "True"
      ]
     },
     "execution_count": 39,
     "metadata": {},
     "output_type": "execute_result"
    }
   ],
   "source": [
    "issubclass(transforms.AutoAugmentPolicy,Enum)"
   ]
  },
  {
   "cell_type": "code",
   "execution_count": 40,
   "metadata": {},
   "outputs": [
    {
     "data": {
      "text/plain": [
       "[('size',\n",
       "  typing.Any,\n",
       "  Field(name=None,type=None,default=<dataclasses._MISSING_TYPE object at 0x000002826E0BD3C0>,default_factory=<dataclasses._MISSING_TYPE object at 0x000002826E0BD3C0>,init=True,repr=True,hash=None,compare=True,metadata=mappingproxy({}),kw_only=<dataclasses._MISSING_TYPE object at 0x000002826E0BD3C0>,_field_type=None)),\n",
       " ('interpolation',\n",
       "  typing.Any,\n",
       "  Field(name=None,type=None,default='bilinear',default_factory=<dataclasses._MISSING_TYPE object at 0x000002826E0BD3C0>,init=True,repr=True,hash=None,compare=True,metadata=mappingproxy({}),kw_only=<dataclasses._MISSING_TYPE object at 0x000002826E0BD3C0>,_field_type=None)),\n",
       " ('max_size',\n",
       "  typing.Any,\n",
       "  Field(name=None,type=None,default=None,default_factory=<dataclasses._MISSING_TYPE object at 0x000002826E0BD3C0>,init=True,repr=True,hash=None,compare=True,metadata=mappingproxy({}),kw_only=<dataclasses._MISSING_TYPE object at 0x000002826E0BD3C0>,_field_type=None)),\n",
       " ('antialias',\n",
       "  typing.Any,\n",
       "  Field(name=None,type=None,default=None,default_factory=<dataclasses._MISSING_TYPE object at 0x000002826E0BD3C0>,init=True,repr=True,hash=None,compare=True,metadata=mappingproxy({}),kw_only=<dataclasses._MISSING_TYPE object at 0x000002826E0BD3C0>,_field_type=None))]"
      ]
     },
     "execution_count": 40,
     "metadata": {},
     "output_type": "execute_result"
    }
   ],
   "source": [
    "fields"
   ]
  },
  {
   "cell_type": "code",
   "execution_count": 41,
   "metadata": {},
   "outputs": [],
   "source": [
    "C = dataclasses.make_dataclass(\"C\",fields)"
   ]
  },
  {
   "cell_type": "code",
   "execution_count": 42,
   "metadata": {},
   "outputs": [
    {
     "data": {
      "text/plain": [
       "['size']"
      ]
     },
     "execution_count": 42,
     "metadata": {},
     "output_type": "execute_result"
    }
   ],
   "source": [
    "[t.name for t in dataclasses.fields(C) if t.default is dataclasses.MISSING]"
   ]
  },
  {
   "cell_type": "code",
   "execution_count": 43,
   "metadata": {},
   "outputs": [],
   "source": [
    "c = C(10)"
   ]
  },
  {
   "cell_type": "code",
   "execution_count": 44,
   "metadata": {},
   "outputs": [],
   "source": [
    "c.max_size"
   ]
  },
  {
   "cell_type": "code",
   "execution_count": 45,
   "metadata": {},
   "outputs": [
    {
     "data": {
      "text/plain": [
       "'bilinear'"
      ]
     },
     "execution_count": 45,
     "metadata": {},
     "output_type": "execute_result"
    }
   ],
   "source": [
    "c.interpolation"
   ]
  },
  {
   "cell_type": "code",
   "execution_count": 46,
   "metadata": {},
   "outputs": [
    {
     "data": {
      "text/plain": [
       "10"
      ]
     },
     "execution_count": 46,
     "metadata": {},
     "output_type": "execute_result"
    }
   ],
   "source": [
    "c.size"
   ]
  },
  {
   "cell_type": "code",
   "execution_count": 47,
   "metadata": {},
   "outputs": [
    {
     "data": {
      "text/plain": [
       "(Field(name='size',type=typing.Any,default=<dataclasses._MISSING_TYPE object at 0x000002826E0BD3C0>,default_factory=<dataclasses._MISSING_TYPE object at 0x000002826E0BD3C0>,init=True,repr=True,hash=None,compare=True,metadata=mappingproxy({}),kw_only=False,_field_type=_FIELD),\n",
       " Field(name='interpolation',type=typing.Any,default='bilinear',default_factory=<dataclasses._MISSING_TYPE object at 0x000002826E0BD3C0>,init=True,repr=True,hash=None,compare=True,metadata=mappingproxy({}),kw_only=False,_field_type=_FIELD),\n",
       " Field(name='max_size',type=typing.Any,default=None,default_factory=<dataclasses._MISSING_TYPE object at 0x000002826E0BD3C0>,init=True,repr=True,hash=None,compare=True,metadata=mappingproxy({}),kw_only=False,_field_type=_FIELD),\n",
       " Field(name='antialias',type=typing.Any,default=None,default_factory=<dataclasses._MISSING_TYPE object at 0x000002826E0BD3C0>,init=True,repr=True,hash=None,compare=True,metadata=mappingproxy({}),kw_only=False,_field_type=_FIELD))"
      ]
     },
     "execution_count": 47,
     "metadata": {},
     "output_type": "execute_result"
    }
   ],
   "source": [
    "dataclasses.fields(c)"
   ]
  },
  {
   "cell_type": "code",
   "execution_count": 48,
   "metadata": {},
   "outputs": [],
   "source": [
    "_original_create_fn = dataclasses._create_fn\n",
    "\n",
    "def _new_create_fn(name, args, body, **kwargs):\n",
    "    args_str = ', '.join(args)\n",
    "    body_str = '\\n'.join('  ' + l for l in body)\n",
    "    print(f'def {name}({args_str}):\\n{body_str}\\n')\n",
    "    return _original_create_fn(name, args, body, **kwargs)\n",
    "\n",
    "# dataclasses._create_fn = _new_create_fn"
   ]
  },
  {
   "cell_type": "code",
   "execution_count": 49,
   "metadata": {},
   "outputs": [],
   "source": [
    "C = dataclasses.make_dataclass(\"C\",fields)"
   ]
  },
  {
   "cell_type": "code",
   "execution_count": 50,
   "metadata": {},
   "outputs": [
    {
     "data": {
      "text/plain": [
       "type"
      ]
     },
     "execution_count": 50,
     "metadata": {},
     "output_type": "execute_result"
    }
   ],
   "source": [
    "type(C)"
   ]
  },
  {
   "cell_type": "code",
   "execution_count": 51,
   "metadata": {},
   "outputs": [],
   "source": [
    "c = C(10)"
   ]
  },
  {
   "cell_type": "code",
   "execution_count": 52,
   "metadata": {},
   "outputs": [
    {
     "data": {
      "text/plain": [
       "types.C"
      ]
     },
     "execution_count": 52,
     "metadata": {},
     "output_type": "execute_result"
    }
   ],
   "source": [
    "type(c)"
   ]
  },
  {
   "cell_type": "code",
   "execution_count": 53,
   "metadata": {},
   "outputs": [
    {
     "data": {
      "text/plain": [
       "int"
      ]
     },
     "execution_count": 53,
     "metadata": {},
     "output_type": "execute_result"
    }
   ],
   "source": [
    "type(c.size)"
   ]
  },
  {
   "cell_type": "code",
   "execution_count": 54,
   "metadata": {},
   "outputs": [
    {
     "data": {
      "text/plain": [
       "type"
      ]
     },
     "execution_count": 54,
     "metadata": {},
     "output_type": "execute_result"
    }
   ],
   "source": [
    "type(C)"
   ]
  },
  {
   "cell_type": "code",
   "execution_count": 55,
   "metadata": {},
   "outputs": [
    {
     "data": {
      "text/plain": [
       "types.C"
      ]
     },
     "execution_count": 55,
     "metadata": {},
     "output_type": "execute_result"
    }
   ],
   "source": [
    "type(C(1,1))"
   ]
  },
  {
   "cell_type": "code",
   "execution_count": 56,
   "metadata": {},
   "outputs": [
    {
     "data": {
      "text/plain": [
       "True"
      ]
     },
     "execution_count": 56,
     "metadata": {},
     "output_type": "execute_result"
    }
   ],
   "source": [
    "issubclass(type(c),C)"
   ]
  },
  {
   "cell_type": "code",
   "execution_count": 57,
   "metadata": {},
   "outputs": [
    {
     "data": {
      "text/plain": [
       "True"
      ]
     },
     "execution_count": 57,
     "metadata": {},
     "output_type": "execute_result"
    }
   ],
   "source": [
    "isinstance(c,C)"
   ]
  },
  {
   "cell_type": "code",
   "execution_count": 58,
   "metadata": {},
   "outputs": [],
   "source": [
    "def create_fields(class_name):\n",
    "    # getting the signature for the class\n",
    "    sig = inspect.signature(getattr(transforms,class_name))\n",
    "    fields = []\n",
    "    for params in sig.parameters.values():\n",
    "        # if issubclass(type(params.default),Enum):\n",
    "        #     default = params.default.value\n",
    "        if params.default is inspect._empty:\n",
    "            default = dataclasses.MISSING\n",
    "        else:\n",
    "            default = params.default\n",
    "        \n",
    "        fields.append((params.name,Any,dataclasses.field(default=default)))\n",
    "    return fields"
   ]
  },
  {
   "cell_type": "code",
   "execution_count": 59,
   "metadata": {},
   "outputs": [],
   "source": [
    "auto = dataclasses.make_dataclass(\"Auto\",create_fields(\"AutoAugment\"))"
   ]
  },
  {
   "cell_type": "code",
   "execution_count": 60,
   "metadata": {},
   "outputs": [
    {
     "data": {
      "text/plain": [
       "AutoAugment(policy=AutoAugmentPolicy.IMAGENET, fill=None)"
      ]
     },
     "execution_count": 60,
     "metadata": {},
     "output_type": "execute_result"
    }
   ],
   "source": [
    "transforms.AutoAugment(**dataclasses.asdict(auto()))"
   ]
  },
  {
   "cell_type": "code",
   "execution_count": 61,
   "metadata": {},
   "outputs": [],
   "source": [
    "trans_class = []\n",
    "for trans_name in transforms.transforms.__all__ + transforms.autoaugment.__all__:\n",
    "    trans_class.append((\n",
    "        trans_name,\n",
    "        trans_name,\n",
    "        dataclasses.field(\n",
    "            default=dataclasses.make_dataclass(\n",
    "                trans_name, create_fields(trans_name)\n",
    "            )\n",
    "        ),\n",
    "    ))\n"
   ]
  },
  {
   "cell_type": "code",
   "execution_count": 66,
   "metadata": {},
   "outputs": [],
   "source": [
    "AllTransformer = dataclasses.make_dataclass(\"AllTransformer\",trans_class,repr=False,eq=False,kw_only=True,slots=True)"
   ]
  },
  {
   "cell_type": "code",
   "execution_count": 67,
   "metadata": {},
   "outputs": [
    {
     "data": {
      "text/plain": [
       "['num_magnitude_bins', 'interpolation', 'fill']"
      ]
     },
     "execution_count": 67,
     "metadata": {},
     "output_type": "execute_result"
    }
   ],
   "source": [
    "[f.name for f in dataclasses.fields(AllTransformer().TrivialAugmentWide)]"
   ]
  },
  {
   "cell_type": "code",
   "execution_count": 68,
   "metadata": {},
   "outputs": [
    {
     "data": {
      "text/plain": [
       "Resize(size=10, interpolation=<InterpolationMode.BILINEAR: 'bilinear'>, max_size=None, antialias=None)"
      ]
     },
     "execution_count": 68,
     "metadata": {},
     "output_type": "execute_result"
    }
   ],
   "source": [
    "dataclasses.replace(AllTransformer().Resize(20),size=10)"
   ]
  },
  {
   "cell_type": "code",
   "execution_count": null,
   "metadata": {},
   "outputs": [
    {
     "data": {
      "text/plain": [
       "{'policy': 'imagenet', 'interpolation': 'nearest', 'fill': None}"
      ]
     },
     "execution_count": 116,
     "metadata": {},
     "output_type": "execute_result"
    }
   ],
   "source": [
    "dataclasses.asdict(AllTransformer().AutoAugment())"
   ]
  },
  {
   "cell_type": "code",
   "execution_count": 133,
   "metadata": {},
   "outputs": [],
   "source": [
    "class TransformSetting:\n",
    "    @staticmethod\n",
    "    def _get_all_transformer():\n",
    "        trans_class = []\n",
    "        for trans_name in (\n",
    "            transforms.transforms.__all__ + transforms.autoaugment.__all__\n",
    "        ):\n",
    "            trans_class.append(\n",
    "                (\n",
    "                    trans_name,\n",
    "                    trans_name,\n",
    "                    dataclasses.field(\n",
    "                        default=dataclasses.make_dataclass(\n",
    "                            trans_name, create_fields(trans_name)\n",
    "                        )\n",
    "                    ),\n",
    "                )\n",
    "            )\n",
    "        return dataclasses.make_dataclass(\n",
    "            \"AllTransformer\",\n",
    "            trans_class,\n",
    "            repr=False,\n",
    "            eq=False,\n",
    "            kw_only=True,\n",
    "            slots=True,\n",
    "        )\n",
    "\n",
    "    @staticmethod\n",
    "    def _create_fields(class_name):\n",
    "        # getting the signature for the class\n",
    "        sig = inspect.signature(getattr(transforms, class_name))\n",
    "        fields = []\n",
    "        for params in sig.parameters.values():\n",
    "            # if issubclass(type(params.default),Enum):\n",
    "            #     default = params.default.value\n",
    "            if params.default is inspect._empty:\n",
    "                default = dataclasses.MISSING\n",
    "            else:\n",
    "                default = params.default\n",
    "\n",
    "            fields.append((params.name, Any, dataclasses.field(default=default)))\n",
    "        return fields\n",
    "\n",
    "    all_transformer = _get_all_transformer.__func__()\n",
    "\n",
    "    def __init__(self, **kwargs) -> None:\n",
    "        self.transform_name = []\n",
    "        self.transform_arg = []\n",
    "        for k, v in kwargs.items():\n",
    "            if k in dir(self.__class__.all_transformer):\n",
    "                self.transform_name.append(k)\n",
    "                self.transform_arg.append(\n",
    "                    getattr(self.__class__.all_transformer(), k)(**v)\n",
    "                )\n"
   ]
  },
  {
   "cell_type": "code",
   "execution_count": 138,
   "metadata": {},
   "outputs": [],
   "source": [
    "base = TransformSetting(Resize={\"size\":10},ToTensor={})"
   ]
  },
  {
   "cell_type": "code",
   "execution_count": 136,
   "metadata": {},
   "outputs": [
    {
     "data": {
      "text/plain": [
       "Resize(size=20, interpolation=<InterpolationMode.BILINEAR: 'bilinear'>, max_size=None, antialias=None)"
      ]
     },
     "execution_count": 136,
     "metadata": {},
     "output_type": "execute_result"
    }
   ],
   "source": [
    "dataclasses.replace(base.transform_arg[0],size=20)"
   ]
  },
  {
   "cell_type": "code",
   "execution_count": 139,
   "metadata": {},
   "outputs": [
    {
     "data": {
      "text/plain": [
       "['Resize', 'ToTensor']"
      ]
     },
     "execution_count": 139,
     "metadata": {},
     "output_type": "execute_result"
    }
   ],
   "source": [
    "base.transform_name"
   ]
  },
  {
   "cell_type": "code",
   "execution_count": 140,
   "metadata": {},
   "outputs": [
    {
     "data": {
      "text/plain": [
       "[Resize(size=10, interpolation=<InterpolationMode.BILINEAR: 'bilinear'>, max_size=None, antialias=None),\n",
       " ToTensor()]"
      ]
     },
     "execution_count": 140,
     "metadata": {},
     "output_type": "execute_result"
    }
   ],
   "source": [
    "base.transform_arg"
   ]
  },
  {
   "cell_type": "code",
   "execution_count": 151,
   "metadata": {},
   "outputs": [],
   "source": [
    "@dataclass\n",
    "class BaseExperiment:\n",
    "    transform:TransformSetting"
   ]
  },
  {
   "cell_type": "code",
   "execution_count": 152,
   "metadata": {},
   "outputs": [],
   "source": [
    "base = BaseExperiment(TransformSetting(Resize={\"size\":(28,28)},ToTensor={}))"
   ]
  },
  {
   "cell_type": "code",
   "execution_count": 154,
   "metadata": {},
   "outputs": [
    {
     "data": {
      "text/plain": [
       "[Resize(size=(28, 28), interpolation=<InterpolationMode.BILINEAR: 'bilinear'>, max_size=None, antialias=None),\n",
       " ToTensor()]"
      ]
     },
     "execution_count": 154,
     "metadata": {},
     "output_type": "execute_result"
    }
   ],
   "source": [
    "base.transform.transform_arg"
   ]
  },
  {
   "cell_type": "code",
   "execution_count": 145,
   "metadata": {},
   "outputs": [],
   "source": [
    "@dataclass\n",
    "class Experiment:\n",
    "    base_setting:BaseExperiment\n",
    "    transform_changes:Dict[str,Dict]\n",
    "\n",
    "    def modify_base_transform(self):\n",
    "        modified_list = []\n",
    "        for trans in self.base_setting.transform.transform_name:\n",
    "            if self.transform_changes.get(trans) is None:\n",
    "                modified_list.append(trans)\n",
    "        "
   ]
  },
  {
   "cell_type": "code",
   "execution_count": 157,
   "metadata": {},
   "outputs": [],
   "source": [
    "if dict(hi=\"sdf\").get(\"hi\") is None:\n",
    "    print(\"sdf\")"
   ]
  },
  {
   "cell_type": "code",
   "execution_count": null,
   "metadata": {},
   "outputs": [],
   "source": []
  }
 ],
 "metadata": {
  "kernelspec": {
   "display_name": "py310",
   "language": "python",
   "name": "python3"
  },
  "language_info": {
   "codemirror_mode": {
    "name": "ipython",
    "version": 3
   },
   "file_extension": ".py",
   "mimetype": "text/x-python",
   "name": "python",
   "nbconvert_exporter": "python",
   "pygments_lexer": "ipython3",
   "version": "3.10.6"
  },
  "orig_nbformat": 4,
  "vscode": {
   "interpreter": {
    "hash": "cf51ac970e033765f04eaa06b2d945d30ec4bd27f0fa0badbc17cd319e8357a7"
   }
  }
 },
 "nbformat": 4,
 "nbformat_minor": 2
}
