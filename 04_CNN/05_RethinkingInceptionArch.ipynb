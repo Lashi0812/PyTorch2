{
 "cells": [
  {
   "cell_type": "code",
   "execution_count": 4,
   "metadata": {},
   "outputs": [],
   "source": [
    "# Torch\n",
    "import torch \n",
    "from torch import nn\n",
    "from torch.nn import functional as F\n",
    "\n",
    "# TorchInfo\n",
    "from torchinfo import summary"
   ]
  },
  {
   "attachments": {},
   "cell_type": "markdown",
   "metadata": {},
   "source": [
    "# Factorization into smaller convolutions"
   ]
  },
  {
   "attachments": {},
   "cell_type": "markdown",
   "metadata": {},
   "source": [
    "## Comparing the number of parameter in large filter"
   ]
  },
  {
   "cell_type": "code",
   "execution_count": 11,
   "metadata": {},
   "outputs": [],
   "source": [
    "class SimpleCNN(nn.Module):\n",
    "    def __init__(self,filter_size=3) -> None:\n",
    "        super().__init__()\n",
    "        self.conv1 = nn.Conv2d(in_channels=3,out_channels=32,kernel_size=filter_size,\n",
    "                               stride=1,padding=(filter_size-1)//2)\n",
    "        self.maxpool = nn.MaxPool2d(kernel_size=2,stride=2)\n",
    "        \n",
    "    def forward(self,x):\n",
    "        return self.maxpool(F.relu(self.conv1(x)))"
   ]
  },
  {
   "cell_type": "code",
   "execution_count": 12,
   "metadata": {},
   "outputs": [],
   "source": [
    "model3x3 = SimpleCNN(filter_size=3)\n",
    "model5x5 = SimpleCNN(filter_size=5)"
   ]
  },
  {
   "cell_type": "code",
   "execution_count": 13,
   "metadata": {},
   "outputs": [
    {
     "data": {
      "text/plain": [
       "================================================================================================\n",
       "Layer (type (var_name))                  Kernel Shape   Output Shape   Param #        Mult-Adds\n",
       "================================================================================================\n",
       "SimpleCNN (SimpleCNN)                    --             [1, 32, 16, 16] --             --\n",
       "├─Conv2d (conv1)                         [3, 3]         [1, 32, 32, 32] 896            917,504\n",
       "├─MaxPool2d (maxpool)                    2              [1, 32, 16, 16] --             --\n",
       "================================================================================================\n",
       "Total params: 896\n",
       "Trainable params: 896\n",
       "Non-trainable params: 0\n",
       "Total mult-adds (M): 0.92\n",
       "================================================================================================\n",
       "Input size (MB): 0.01\n",
       "Forward/backward pass size (MB): 0.26\n",
       "Params size (MB): 0.00\n",
       "Estimated Total Size (MB): 0.28\n",
       "================================================================================================"
      ]
     },
     "execution_count": 13,
     "metadata": {},
     "output_type": "execute_result"
    }
   ],
   "source": [
    "summary(model3x3,input_size=(1,3,32,32)  ,  col_width=14,depth=2,\n",
    "    col_names=[\"kernel_size\", \"output_size\", \"num_params\", \"mult_adds\"],\n",
    "    row_settings=[\"var_names\"],\n",
    ")"
   ]
  },
  {
   "cell_type": "code",
   "execution_count": 14,
   "metadata": {},
   "outputs": [
    {
     "data": {
      "text/plain": [
       "================================================================================================\n",
       "Layer (type (var_name))                  Kernel Shape   Output Shape   Param #        Mult-Adds\n",
       "================================================================================================\n",
       "SimpleCNN (SimpleCNN)                    --             [1, 32, 16, 16] --             --\n",
       "├─Conv2d (conv1)                         [5, 5]         [1, 32, 32, 32] 2,432          2,490,368\n",
       "├─MaxPool2d (maxpool)                    2              [1, 32, 16, 16] --             --\n",
       "================================================================================================\n",
       "Total params: 2,432\n",
       "Trainable params: 2,432\n",
       "Non-trainable params: 0\n",
       "Total mult-adds (M): 2.49\n",
       "================================================================================================\n",
       "Input size (MB): 0.01\n",
       "Forward/backward pass size (MB): 0.26\n",
       "Params size (MB): 0.01\n",
       "Estimated Total Size (MB): 0.28\n",
       "================================================================================================"
      ]
     },
     "execution_count": 14,
     "metadata": {},
     "output_type": "execute_result"
    }
   ],
   "source": [
    "summary(model5x5,input_size=(1,3,32,32)  ,  col_width=14,depth=2,\n",
    "    col_names=[\"kernel_size\", \"output_size\", \"num_params\", \"mult_adds\"],\n",
    "    row_settings=[\"var_names\"],\n",
    ")"
   ]
  },
  {
   "cell_type": "code",
   "execution_count": 15,
   "metadata": {},
   "outputs": [],
   "source": [
    "inputs = torch.rand((1,3,32,32))\n",
    "output3x3 =  model3x3(inputs)\n",
    "output5x5 = model5x5(inputs)"
   ]
  },
  {
   "cell_type": "code",
   "execution_count": 16,
   "metadata": {},
   "outputs": [
    {
     "name": "stdout",
     "output_type": "stream",
     "text": [
      "Number of parameter in the 3x3 model : 896\n",
      "Number of parameter in the 5x5 model : 2432\n"
     ]
    }
   ],
   "source": [
    "# Compare the number of parameter in the two models\n",
    "print(f\"Number of parameter in the 3x3 model : {sum(p.numel()for p in model3x3.parameters())}\")\n",
    "print(f\"Number of parameter in the 5x5 model : {sum(p.numel()for p in model5x5.parameters())}\")"
   ]
  },
  {
   "cell_type": "code",
   "execution_count": 17,
   "metadata": {},
   "outputs": [
    {
     "name": "stdout",
     "output_type": "stream",
     "text": [
      "Output shape of 3x3 model:  torch.Size([1, 32, 16, 16])\n",
      "Output shape of 5x5 model:  torch.Size([1, 32, 16, 16])\n"
     ]
    }
   ],
   "source": [
    "# Compare the shape of the output from the two models\n",
    "print(\"Output shape of 3x3 model: \", output3x3.shape)\n",
    "print(\"Output shape of 5x5 model: \", output5x5.shape)"
   ]
  },
  {
   "attachments": {},
   "cell_type": "markdown",
   "metadata": {},
   "source": [
    "As you can see, the number of parameters in the model with a 5x5 filter is significantly higher than the model with a 3x3 filter. This means that the computational cost of using a 5x5 filter is higher than a 3x3 filter. "
   ]
  },
  {
   "attachments": {},
   "cell_type": "markdown",
   "metadata": {},
   "source": [
    "## Replacing the large conv with smaller conv"
   ]
  },
  {
   "cell_type": "code",
   "execution_count": 32,
   "metadata": {},
   "outputs": [],
   "source": [
    "class Inception(nn.Module):\n",
    "    def __init__(self,in_channels,out_channels) -> None:\n",
    "        super().__init__()\n",
    "        \n",
    "        self.branch1 = nn.Conv2d(in_channels,out_channels,kernel_size=1,stride=1,padding=0)\n",
    "        \n",
    "        self.branch2 = nn.Sequential(\n",
    "            nn.Conv2d(in_channels,out_channels,kernel_size=1,stride=1,padding=0),nn.ReLU(),\n",
    "            nn.Conv2d(out_channels,out_channels,kernel_size=3,stride=1,padding=1),nn.ReLU()\n",
    "            )\n",
    "        \n",
    "        self.branch3 = nn.Sequential(\n",
    "            nn.Conv2d(in_channels,out_channels,kernel_size=1,stride=1,padding=0),nn.ReLU(),\n",
    "            nn.Conv2d(out_channels,out_channels,kernel_size=5,stride=1,padding=2),nn.ReLU()\n",
    "        )\n",
    "        \n",
    "        \n",
    "    def forward(self,x):\n",
    "        x1 = self.branch1(x)\n",
    "        x2 = self.branch2(x)\n",
    "        x3 = self.branch3(x)\n",
    "        \n",
    "        print(x1.shape,x2.shape,x3.shape)\n",
    "        \n",
    "        return torch.cat((x1,x2,x3),dim=1)"
   ]
  },
  {
   "cell_type": "code",
   "execution_count": 38,
   "metadata": {},
   "outputs": [],
   "source": [
    "inputs = torch.rand((1,3,32,32))"
   ]
  },
  {
   "cell_type": "code",
   "execution_count": 33,
   "metadata": {},
   "outputs": [
    {
     "name": "stdout",
     "output_type": "stream",
     "text": [
      "torch.Size([1, 32, 32, 32]) torch.Size([1, 32, 32, 32]) torch.Size([1, 32, 32, 32])\n"
     ]
    },
    {
     "data": {
      "text/plain": [
       "================================================================================================\n",
       "Layer (type (var_name))                  Kernel Shape   Output Shape   Param #        Mult-Adds\n",
       "================================================================================================\n",
       "Inception (Inception)                    --             [1, 96, 32, 32] --             --\n",
       "├─Conv2d (branch1)                       [1, 1]         [1, 32, 32, 32] 128            131,072\n",
       "├─Sequential (branch2)                   --             [1, 32, 32, 32] --             --\n",
       "│    └─Conv2d (0)                        [1, 1]         [1, 32, 32, 32] 128            131,072\n",
       "│    └─ReLU (1)                          --             [1, 32, 32, 32] --             --\n",
       "│    └─Conv2d (2)                        [3, 3]         [1, 32, 32, 32] 9,248          9,469,952\n",
       "│    └─ReLU (3)                          --             [1, 32, 32, 32] --             --\n",
       "├─Sequential (branch3)                   --             [1, 32, 32, 32] --             --\n",
       "│    └─Conv2d (0)                        [1, 1]         [1, 32, 32, 32] 128            131,072\n",
       "│    └─ReLU (1)                          --             [1, 32, 32, 32] --             --\n",
       "│    └─Conv2d (2)                        [5, 5]         [1, 32, 32, 32] 25,632         26,247,168\n",
       "│    └─ReLU (3)                          --             [1, 32, 32, 32] --             --\n",
       "================================================================================================\n",
       "Total params: 35,264\n",
       "Trainable params: 35,264\n",
       "Non-trainable params: 0\n",
       "Total mult-adds (M): 36.11\n",
       "================================================================================================\n",
       "Input size (MB): 0.01\n",
       "Forward/backward pass size (MB): 1.31\n",
       "Params size (MB): 0.14\n",
       "Estimated Total Size (MB): 1.46\n",
       "================================================================================================"
      ]
     },
     "execution_count": 33,
     "metadata": {},
     "output_type": "execute_result"
    }
   ],
   "source": [
    "summary(Inception(3,32),input_size=(1,3,32,32)  ,  col_width=14,depth=2,\n",
    "    col_names=[\"kernel_size\", \"output_size\", \"num_params\", \"mult_adds\"],\n",
    "    row_settings=[\"var_names\"],\n",
    ")"
   ]
  },
  {
   "cell_type": "code",
   "execution_count": 30,
   "metadata": {},
   "outputs": [],
   "source": [
    "class NewInception(nn.Module):\n",
    "    def __init__(self,in_channels,out_channels) -> None:\n",
    "        super().__init__()\n",
    "        \n",
    "        self.branch1 = nn.Conv2d(in_channels,out_channels,kernel_size=1,stride=1,padding=0)\n",
    "        \n",
    "        self.branch2 = nn.Sequential(\n",
    "            nn.Conv2d(in_channels,out_channels,kernel_size=1,stride=1,padding=0),nn.ReLU(),\n",
    "            nn.Conv2d(out_channels,out_channels,kernel_size=3,stride=1,padding=1),nn.ReLU()\n",
    "            )\n",
    "        \n",
    "        self.branch3 = nn.Sequential(\n",
    "            nn.Conv2d(in_channels,out_channels,kernel_size=1,stride=1,padding=0),nn.ReLU(),\n",
    "            nn.Conv2d(out_channels,out_channels,kernel_size=3,stride=1,padding=1),nn.ReLU(),\n",
    "            nn.Conv2d(out_channels,out_channels,kernel_size=3,stride=1,padding=1),nn.ReLU()\n",
    "        )\n",
    "        \n",
    "        \n",
    "    def forward(self,x):\n",
    "        x1 = self.branch1(x)\n",
    "        x2 = self.branch2(x)\n",
    "        x3 = self.branch3(x)\n",
    "        \n",
    "        print(x1.shape,x2.shape,x3.shape)\n",
    "        \n",
    "        return torch.cat((x1,x2,x3),dim=1)"
   ]
  },
  {
   "cell_type": "code",
   "execution_count": 31,
   "metadata": {},
   "outputs": [
    {
     "name": "stdout",
     "output_type": "stream",
     "text": [
      "torch.Size([1, 32, 32, 32]) torch.Size([1, 32, 32, 32]) torch.Size([1, 32, 32, 32])\n"
     ]
    },
    {
     "data": {
      "text/plain": [
       "================================================================================================\n",
       "Layer (type (var_name))                  Kernel Shape   Output Shape   Param #        Mult-Adds\n",
       "================================================================================================\n",
       "NewInception (NewInception)              --             [1, 96, 32, 32] --             --\n",
       "├─Conv2d (branch1)                       [1, 1]         [1, 32, 32, 32] 128            131,072\n",
       "├─Sequential (branch2)                   --             [1, 32, 32, 32] --             --\n",
       "│    └─Conv2d (0)                        [1, 1]         [1, 32, 32, 32] 128            131,072\n",
       "│    └─ReLU (1)                          --             [1, 32, 32, 32] --             --\n",
       "│    └─Conv2d (2)                        [3, 3]         [1, 32, 32, 32] 9,248          9,469,952\n",
       "│    └─ReLU (3)                          --             [1, 32, 32, 32] --             --\n",
       "├─Sequential (branch3)                   --             [1, 32, 32, 32] --             --\n",
       "│    └─Conv2d (0)                        [1, 1]         [1, 32, 32, 32] 128            131,072\n",
       "│    └─ReLU (1)                          --             [1, 32, 32, 32] --             --\n",
       "│    └─Conv2d (2)                        [3, 3]         [1, 32, 32, 32] 9,248          9,469,952\n",
       "│    └─ReLU (3)                          --             [1, 32, 32, 32] --             --\n",
       "│    └─Conv2d (4)                        [3, 3]         [1, 32, 32, 32] 9,248          9,469,952\n",
       "│    └─ReLU (5)                          --             [1, 32, 32, 32] --             --\n",
       "================================================================================================\n",
       "Total params: 28,128\n",
       "Trainable params: 28,128\n",
       "Non-trainable params: 0\n",
       "Total mult-adds (M): 28.80\n",
       "================================================================================================\n",
       "Input size (MB): 0.01\n",
       "Forward/backward pass size (MB): 1.57\n",
       "Params size (MB): 0.11\n",
       "Estimated Total Size (MB): 1.70\n",
       "================================================================================================"
      ]
     },
     "execution_count": 31,
     "metadata": {},
     "output_type": "execute_result"
    }
   ],
   "source": [
    "summary(NewInception(3,32),input_size=(1,3,32,32)  ,  col_width=14,depth=2,\n",
    "    col_names=[\"kernel_size\", \"output_size\", \"num_params\", \"mult_adds\"],\n",
    "    row_settings=[\"var_names\"],\n",
    ")"
   ]
  },
  {
   "attachments": {},
   "cell_type": "markdown",
   "metadata": {},
   "source": [
    " By using multiple smaller convolutional layers instead of one large 5x5 convolution, the network can achieve the same output depth while using fewer parameters"
   ]
  },
  {
   "cell_type": "code",
   "execution_count": 40,
   "metadata": {},
   "outputs": [],
   "source": [
    "old_inception = Inception(3,32)\n",
    "new_inception = NewInception(3,32)"
   ]
  },
  {
   "cell_type": "code",
   "execution_count": 43,
   "metadata": {},
   "outputs": [],
   "source": [
    "num_param_old = sum(p.numel() for p in  old_inception.parameters())  \n",
    "num_param_new = sum(p.numel() for p in  new_inception.parameters())  "
   ]
  },
  {
   "cell_type": "code",
   "execution_count": 46,
   "metadata": {},
   "outputs": [
    {
     "name": "stdout",
     "output_type": "stream",
     "text": [
      "reduction cost converting the 5x5 into two 3x3 :     20.24%\n"
     ]
    }
   ],
   "source": [
    "print(f\"reduction cost converting the 5x5 into two 3x3 : \\\n",
    "    {(num_param_old - num_param_new)/num_param_old:.2%}\")"
   ]
  },
  {
   "attachments": {},
   "cell_type": "markdown",
   "metadata": {},
   "source": [
    " # Spatial Factorization into Asymmetric Convolutions"
   ]
  },
  {
   "cell_type": "code",
   "execution_count": 58,
   "metadata": {},
   "outputs": [],
   "source": [
    "class AsymInception(nn.Module):\n",
    "    def __init__(self,in_channels,out_channels) -> None:\n",
    "        super().__init__()\n",
    "        \n",
    "        self.branch1 = nn.Conv2d(in_channels,out_channels,kernel_size=1,stride=1,padding=0)\n",
    "        \n",
    "        self.branch2 = nn.Sequential(\n",
    "            nn.Conv2d(in_channels,out_channels,kernel_size=1,stride=1,padding=0),nn.ReLU(),\n",
    "            nn.Conv2d(out_channels,out_channels,kernel_size=(3,1),stride=1,padding=(1,0)),nn.ReLU(),\n",
    "            nn.Conv2d(out_channels,out_channels,kernel_size=(1,3),stride=1,padding=(0,1)),nn.ReLU(),\n",
    "            )\n",
    "        \n",
    "        self.branch3 = nn.Sequential(\n",
    "            nn.Conv2d(in_channels,out_channels,kernel_size=1,stride=1,padding=0),nn.ReLU(),\n",
    "            nn.Conv2d(out_channels,out_channels,kernel_size=(3,1),stride=1,padding=(1,0)),nn.ReLU(),\n",
    "            nn.Conv2d(out_channels,out_channels,kernel_size=(1,3),stride=1,padding=(0,1)),nn.ReLU(),\n",
    "            nn.Conv2d(out_channels,out_channels,kernel_size=(3,1),stride=1,padding=(1,0)),nn.ReLU(),\n",
    "            nn.Conv2d(out_channels,out_channels,kernel_size=(1,3),stride=1,padding=(0,1)),nn.ReLU()\n",
    "        )\n",
    "        \n",
    "        \n",
    "    def forward(self,x):\n",
    "        x1 = self.branch1(x)\n",
    "        x2 = self.branch2(x)\n",
    "        x3 = self.branch3(x)\n",
    "        \n",
    "        print(x1.shape,x2.shape,x3.shape)\n",
    "        \n",
    "        return torch.cat((x1,x2,x3),dim=1)"
   ]
  },
  {
   "cell_type": "code",
   "execution_count": 59,
   "metadata": {},
   "outputs": [
    {
     "name": "stdout",
     "output_type": "stream",
     "text": [
      "torch.Size([1, 32, 32, 32]) torch.Size([1, 32, 32, 32]) torch.Size([1, 32, 32, 32])\n"
     ]
    },
    {
     "data": {
      "text/plain": [
       "================================================================================================\n",
       "Layer (type (var_name))                  Kernel Shape   Output Shape   Param #        Mult-Adds\n",
       "================================================================================================\n",
       "AsymInception (AsymInception)            --             [1, 96, 32, 32] --             --\n",
       "├─Conv2d (branch1)                       [1, 1]         [1, 32, 32, 32] 128            131,072\n",
       "├─Sequential (branch2)                   --             [1, 32, 32, 32] --             --\n",
       "│    └─Conv2d (0)                        [1, 1]         [1, 32, 32, 32] 128            131,072\n",
       "│    └─ReLU (1)                          --             [1, 32, 32, 32] --             --\n",
       "│    └─Conv2d (2)                        [3, 1]         [1, 32, 32, 32] 3,104          3,178,496\n",
       "│    └─ReLU (3)                          --             [1, 32, 32, 32] --             --\n",
       "│    └─Conv2d (4)                        [1, 3]         [1, 32, 32, 32] 3,104          3,178,496\n",
       "│    └─ReLU (5)                          --             [1, 32, 32, 32] --             --\n",
       "├─Sequential (branch3)                   --             [1, 32, 32, 32] --             --\n",
       "│    └─Conv2d (0)                        [1, 1]         [1, 32, 32, 32] 128            131,072\n",
       "│    └─ReLU (1)                          --             [1, 32, 32, 32] --             --\n",
       "│    └─Conv2d (2)                        [3, 1]         [1, 32, 32, 32] 3,104          3,178,496\n",
       "│    └─ReLU (3)                          --             [1, 32, 32, 32] --             --\n",
       "│    └─Conv2d (4)                        [1, 3]         [1, 32, 32, 32] 3,104          3,178,496\n",
       "│    └─ReLU (5)                          --             [1, 32, 32, 32] --             --\n",
       "│    └─Conv2d (6)                        [3, 1]         [1, 32, 32, 32] 3,104          3,178,496\n",
       "│    └─ReLU (7)                          --             [1, 32, 32, 32] --             --\n",
       "│    └─Conv2d (8)                        [1, 3]         [1, 32, 32, 32] 3,104          3,178,496\n",
       "│    └─ReLU (9)                          --             [1, 32, 32, 32] --             --\n",
       "================================================================================================\n",
       "Total params: 19,008\n",
       "Trainable params: 19,008\n",
       "Non-trainable params: 0\n",
       "Total mult-adds (M): 19.46\n",
       "================================================================================================\n",
       "Input size (MB): 0.01\n",
       "Forward/backward pass size (MB): 2.36\n",
       "Params size (MB): 0.08\n",
       "Estimated Total Size (MB): 2.45\n",
       "================================================================================================"
      ]
     },
     "execution_count": 59,
     "metadata": {},
     "output_type": "execute_result"
    }
   ],
   "source": [
    "summary(AsymInception(3,32),input_size=(1,3,32,32)  ,  col_width=14,depth=2,\n",
    "    col_names=[\"kernel_size\", \"output_size\", \"num_params\", \"mult_adds\"],\n",
    "    row_settings=[\"var_names\"],\n",
    ")"
   ]
  },
  {
   "cell_type": "code",
   "execution_count": 60,
   "metadata": {},
   "outputs": [
    {
     "data": {
      "text/plain": [
       "19008"
      ]
     },
     "execution_count": 60,
     "metadata": {},
     "output_type": "execute_result"
    }
   ],
   "source": [
    "asym_inception = AsymInception(3,32)\n",
    "\n",
    "num_param_asym = sum(p.numel() for p in asym_inception.parameters())\n",
    "num_param_asym"
   ]
  },
  {
   "cell_type": "code",
   "execution_count": 61,
   "metadata": {},
   "outputs": [
    {
     "data": {
      "text/plain": [
       "(35264, 28128, 19008)"
      ]
     },
     "execution_count": 61,
     "metadata": {},
     "output_type": "execute_result"
    }
   ],
   "source": [
    "num_param_old,num_param_new,num_param_asym"
   ]
  },
  {
   "cell_type": "code",
   "execution_count": 63,
   "metadata": {},
   "outputs": [
    {
     "name": "stdout",
     "output_type": "stream",
     "text": [
      "Relative gain for reduction converting the 5x5 into two 3x3 :     20.24%\n",
      "Relative gain for reduction converting the 5x5 using the asymmetric conv  :     46.10%\n"
     ]
    }
   ],
   "source": [
    "print(f\"Relative gain for reduction converting the 5x5 into two 3x3 : \\\n",
    "    {(num_param_old - num_param_new)/num_param_old:.2%}\")\n",
    "print(f\"Relative gain for reduction converting the 5x5 using the asymmetric conv  : \\\n",
    "    {(num_param_old - num_param_asym)/num_param_old:.2%}\")"
   ]
  },
  {
   "cell_type": "code",
   "execution_count": null,
   "metadata": {},
   "outputs": [],
   "source": []
  }
 ],
 "metadata": {
  "kernelspec": {
   "display_name": "py310",
   "language": "python",
   "name": "python3"
  },
  "language_info": {
   "codemirror_mode": {
    "name": "ipython",
    "version": 3
   },
   "file_extension": ".py",
   "mimetype": "text/x-python",
   "name": "python",
   "nbconvert_exporter": "python",
   "pygments_lexer": "ipython3",
   "version": "3.10.6"
  },
  "orig_nbformat": 4,
  "vscode": {
   "interpreter": {
    "hash": "cf51ac970e033765f04eaa06b2d945d30ec4bd27f0fa0badbc17cd319e8357a7"
   }
  }
 },
 "nbformat": 4,
 "nbformat_minor": 2
}
