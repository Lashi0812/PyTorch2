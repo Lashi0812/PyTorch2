{
  "cells": [
    {
      "cell_type": "code",
      "execution_count": 1,
      "metadata": {
        "id": "3o5FsGNSFETG",
        "outputId": "cf8b8f88-a2bf-451c-9606-f55863ec1428",
        "colab": {
          "base_uri": "https://localhost:8080/"
        }
      },
      "outputs": [
        {
          "output_type": "stream",
          "name": "stdout",
          "text": [
            "[INFO] Installing the torchmetrics\n",
            "Looking in indexes: https://pypi.org/simple, https://us-python.pkg.dev/colab-wheels/public/simple/\n",
            "Collecting torchmetrics\n",
            "  Downloading torchmetrics-0.11.1-py3-none-any.whl (517 kB)\n",
            "\u001b[2K     \u001b[90m━━━━━━━━━━━━━━━━━━━━━━━━━━━━━━━━━━━━━━\u001b[0m \u001b[32m517.2/517.2 KB\u001b[0m \u001b[31m10.8 MB/s\u001b[0m eta \u001b[36m0:00:00\u001b[0m\n",
            "\u001b[?25hRequirement already satisfied: numpy>=1.17.2 in /usr/local/lib/python3.8/dist-packages (from torchmetrics) (1.21.6)\n",
            "Requirement already satisfied: packaging in /usr/local/lib/python3.8/dist-packages (from torchmetrics) (23.0)\n",
            "Requirement already satisfied: typing-extensions in /usr/local/lib/python3.8/dist-packages (from torchmetrics) (4.4.0)\n",
            "Requirement already satisfied: torch>=1.8.1 in /usr/local/lib/python3.8/dist-packages (from torchmetrics) (1.13.1+cu116)\n",
            "Installing collected packages: torchmetrics\n",
            "Successfully installed torchmetrics-0.11.1\n",
            "[INFO] Installing the torchinfo\n",
            "Looking in indexes: https://pypi.org/simple, https://us-python.pkg.dev/colab-wheels/public/simple/\n",
            "Collecting torchinfo\n",
            "  Downloading torchinfo-1.7.2-py3-none-any.whl (22 kB)\n",
            "Installing collected packages: torchinfo\n",
            "Successfully installed torchinfo-1.7.2\n",
            "[INFO] Downloading the helper function from github\n"
          ]
        }
      ],
      "source": [
        "# python libraries\n",
        "import os\n",
        "import sys\n",
        "import dataclasses\n",
        "from datetime import datetime\n",
        "from pathlib import Path\n",
        "from operator import methodcaller\n",
        "from collections import OrderedDict\n",
        "from dataclasses import dataclass\n",
        "from typing import (\n",
        "    List,\n",
        "    Tuple,\n",
        "    Dict,\n",
        "    Any,\n",
        "    Mapping,\n",
        "    Callable\n",
        ")\n",
        "from enum import Enum\n",
        "# adding the path\n",
        "if not str(Path(os.getcwd()).parent) in sys.path:\n",
        "    sys.path.append(str(Path(os.getcwd()).parent))\n",
        "\n",
        "# numpy\n",
        "import numpy as np\n",
        "\n",
        "# torch\n",
        "import torch\n",
        "from torch import nn\n",
        "\n",
        "try:\n",
        "    from torchmetrics import Accuracy\n",
        "except:\n",
        "    print(f\"[INFO] Installing the torchmetrics\")\n",
        "    %pip install torchmetrics\n",
        "    from torchmetrics import Accuracy\n",
        "\n",
        "try:\n",
        "    import torchinfo\n",
        "except:\n",
        "    print(f\"[INFO] Installing the torchinfo\")\n",
        "    %pip install torchinfo\n",
        "    import torchinfo\n",
        "\n",
        "# helper function\n",
        "try:\n",
        "    import my_helper as helper\n",
        "except:\n",
        "    print(\"[INFO] Downloading the helper function from github\")\n",
        "    import requests\n",
        "    response = requests.get(\"https://raw.githubusercontent.com/Lashi0812/PyTorch2/master/my_helper.py\")\n",
        "    with open(\"my_helper.py\" ,\"wb\") as f:\n",
        "        f.write(response.content)\n",
        "    import my_helper as helper\n"
      ]
    },
    {
      "cell_type": "code",
      "execution_count": 2,
      "metadata": {
        "id": "BZWK80jTFETO",
        "outputId": "de2ebc40-3ff5-4f89-bb3a-db7057765715",
        "colab": {
          "base_uri": "https://localhost:8080/"
        }
      },
      "outputs": [
        {
          "output_type": "stream",
          "name": "stdout",
          "text": [
            "Mounted at /content/drive\n"
          ]
        }
      ],
      "source": [
        "## Connect Persistence memory\n",
        "try :\n",
        "    from google.colab import drive\n",
        "\n",
        "    # Paths\n",
        "    DRIVE_PATH = Path(\"/content/drive\")\n",
        "    MODEL_SAVE_PATH = Path(\"/content/drive/Othercomputers/My PC/drive/models\")\n",
        "\n",
        "    # mount drive\n",
        "    drive.mount(str(DRIVE_PATH))\n",
        "except:\n",
        "    MODEL_SAVE_PATH = Path(os.getcwd())/\"models\""
      ]
    },
    {
      "cell_type": "code",
      "execution_count": 3,
      "metadata": {
        "id": "J_yaD4n3FETQ"
      },
      "outputs": [],
      "source": [
        "device = \"cuda\" if torch.cuda.is_available() else \"cpu\""
      ]
    },
    {
      "cell_type": "markdown",
      "metadata": {
        "id": "lJDIAvsYFETR"
      },
      "source": [
        "# Network Setup"
      ]
    },
    {
      "cell_type": "markdown",
      "metadata": {
        "id": "Ycx_Kj-1FETV"
      },
      "source": [
        "## Conv + Relu"
      ]
    },
    {
      "cell_type": "code",
      "execution_count": 4,
      "metadata": {
        "id": "DKjztlCEFETW"
      },
      "outputs": [],
      "source": [
        "class BasicConv2d(nn.Module):\n",
        "    def __init__(self,out_channels,**kwargs) -> None:\n",
        "        super().__init__()\n",
        "        self.bc = nn.Sequential(\n",
        "            nn.LazyConv2d(out_channels,**kwargs),\n",
        "            nn.ReLU(inplace=True)\n",
        "        )\n",
        "    \n",
        "    def forward(self,x):\n",
        "        return self.bc(x)"
      ]
    },
    {
      "cell_type": "markdown",
      "metadata": {
        "id": "rMAT31ouFETX"
      },
      "source": [
        "## Auxillary Classifier Class"
      ]
    },
    {
      "cell_type": "code",
      "execution_count": 5,
      "metadata": {
        "id": "FlTnmezTFETY"
      },
      "outputs": [],
      "source": [
        "class InceptionAux(nn.Module):\n",
        "    def __init__(self,num_classes) -> None:\n",
        "        super().__init__()\n",
        "        self.aux = nn.Sequential(\n",
        "            nn.AvgPool2d(kernel_size=5,stride=2),\n",
        "            nn.LazyConv2d(128,kernel_size=1,stride=1,padding=0),\n",
        "            nn.Flatten(),\n",
        "            nn.Dropout2d(0.5),\n",
        "            nn.LazyLinear(1024),            \n",
        "            nn.ReLU(inplace=True),\n",
        "            nn.Dropout2d(0.5),\n",
        "            nn.Linear(1024,num_classes)\n",
        "            \n",
        "        )\n",
        "    def forward(self,x):\n",
        "        return self.aux(x)"
      ]
    },
    {
      "cell_type": "markdown",
      "metadata": {
        "id": "vxMxKpwrFETZ"
      },
      "source": [
        "## Inception Structure"
      ]
    },
    {
      "cell_type": "code",
      "execution_count": 6,
      "metadata": {
        "id": "_y_xbdDIFETa"
      },
      "outputs": [],
      "source": [
        "class Inception(nn.Module):\n",
        "    def __init__(self,ch1x1,ch3x3red,ch3x3,ch5x5red,ch5x5,pool_proj) -> None:\n",
        "        super().__init__()\n",
        "        \n",
        "        self.branch1 = BasicConv2d(ch1x1,kernel_size=1,stride=1,padding=0)\n",
        "        \n",
        "        self.branch2 = nn.Sequential(\n",
        "            BasicConv2d(ch3x3red,kernel_size=1,stride=1,padding=0),\n",
        "            BasicConv2d(ch3x3,kernel_size=3,stride=1,padding=1)\n",
        "        )\n",
        "        \n",
        "        self.branch3 = nn.Sequential(\n",
        "            BasicConv2d(ch5x5red,kernel_size=1,stride=1,padding=0),\n",
        "            BasicConv2d(ch5x5,kernel_size=5,stride=1,padding=2)\n",
        "        )\n",
        "\n",
        "        self.branch4 = nn.Sequential(\n",
        "            nn.MaxPool2d(kernel_size=3,stride=1,padding=1),\n",
        "            BasicConv2d(pool_proj,kernel_size=1,stride=1,padding=0)\n",
        "        )\n",
        "        \n",
        "    def forward(self,x):\n",
        "        b1 = self.branch1(x)\n",
        "        b2 = self.branch2(x)\n",
        "        b3 = self.branch3(x)\n",
        "        b4 = self.branch4(x)\n",
        "        \n",
        "        return torch.cat((b1,b2,b3,b4),dim=1)"
      ]
    },
    {
      "cell_type": "markdown",
      "metadata": {
        "id": "0FoFLgFyFETb"
      },
      "source": [
        "## GoogLeNet"
      ]
    },
    {
      "cell_type": "code",
      "execution_count": 40,
      "metadata": {
        "id": "udbuvi-tFETc"
      },
      "outputs": [],
      "source": [
        "class GoogLeNet(helper.Classifier):\n",
        "    def __init__(self,lr=0.01,num_classes=10) -> None:\n",
        "        super().__init__()\n",
        "        self.lr = lr\n",
        "        self.num_classes = num_classes\n",
        "        \n",
        "        self.main = nn.Sequential(\n",
        "            BasicConv2d(64,kernel_size=7,stride=2,padding=3),\n",
        "            nn.MaxPool2d(kernel_size=3,stride=2,ceil_mode=True),\n",
        "            \n",
        "            BasicConv2d(64,kernel_size=1,stride=1,padding=0),\n",
        "            BasicConv2d(192,kernel_size=3,stride=1,padding=1),\n",
        "            nn.MaxPool2d(kernel_size=3,stride=2,ceil_mode=True),\n",
        "            \n",
        "            Inception(64,96,128,16,32,32),\n",
        "            Inception(128,128,192,32,96,64),\n",
        "            nn.MaxPool2d(kernel_size=3,stride=2,ceil_mode=True),\n",
        "            Inception(192,96,208,16,48,64)\n",
        "        )\n",
        "        \n",
        "        self.main2 = nn.Sequential(\n",
        "            Inception(160, 112, 224, 24, 64, 64),\n",
        "            Inception(128, 128, 256, 24, 64, 64),\n",
        "            Inception(112, 144, 288, 32, 64, 64),\n",
        "        )\n",
        "        \n",
        "        self.main3 = nn.Sequential(\n",
        "            Inception(256,160,320,32,128,128),\n",
        "            nn.MaxPool2d(kernel_size=3,stride=2,ceil_mode=True),\n",
        "            Inception(256, 160, 320, 32, 128, 128),\n",
        "            Inception(384, 192, 384, 48, 128, 128),\n",
        "            \n",
        "            nn.AdaptiveAvgPool2d((1,1)),\n",
        "            nn.Flatten(),\n",
        "            nn.Dropout(0.4),\n",
        "            nn.LazyLinear(num_classes)\n",
        "        )\n",
        "        \n",
        "        self.aux1 = InceptionAux(num_classes)\n",
        "        self.aux2 = InceptionAux(num_classes)\n",
        "        \n",
        "        \n",
        "    def forward(self, x: torch.Tensor):\n",
        "        x = self.main(x)\n",
        "        aux1 = self.aux1(x)\n",
        "        x = self.main2(x)\n",
        "        aux2 = self.aux2(x)\n",
        "        x = self.main3(x)\n",
        "        \n",
        "        return x,aux1,aux2\n",
        "    \n",
        "    def apply_initialize_weight(self,inputs):\n",
        "        self.forward(*inputs)\n",
        "        for m in self.modules():\n",
        "            if isinstance(m,nn.Conv2d):\n",
        "                nn.init.kaiming_normal_(m.weight,mode=\"fan_out\",nonlinearity=\"relu\")\n",
        "                if m.bias is not None:\n",
        "                    nn.init.constant_(m.bias,0)\n",
        "            elif isinstance(m,nn.Linear):\n",
        "                nn.init.normal_(m.weight,0,0.01)\n",
        "                nn.init.constant_(m.bias,0)\n",
        "                \n",
        "        \n",
        "    def training_step(self, batch: List):\n",
        "        X,y = batch\n",
        "        \n",
        "        # compute the loss at main ,aux1,aux2\n",
        "        y_logits,aux1,aux2 = self(X)\n",
        "        loss0 = self.loss(y_logits,y)\n",
        "        loss1 = self.loss(aux1,y)\n",
        "        loss2 = self.loss(aux2,y)\n",
        "        # print(loss0.item(),loss1.item(),loss2.item())\n",
        "        \n",
        "        loss = loss0 + 0.3 * loss1 + 0.3 * loss2\n",
        "        acc = self.accuracy(y_logits,y)\n",
        "        return dict(loss=loss,acc=acc)   \n",
        "    \n",
        "    def validation_step(self, batch: List):\n",
        "        X,y = batch\n",
        "        \n",
        "        # forward pass \n",
        "        y_logits,aux1,aux2 = self(X)\n",
        "        \n",
        "        loss = self.loss(y_logits,y)\n",
        "        acc = self.accuracy(y_logits,y)\n",
        "        return dict(loss=loss,acc=acc)"
      ]
    },
    {
      "cell_type": "markdown",
      "metadata": {
        "id": "RcxiAT19FETe"
      },
      "source": [
        "# Summary"
      ]
    },
    {
      "cell_type": "code",
      "execution_count": 41,
      "metadata": {
        "id": "4lWRjwC6FETf",
        "outputId": "3935a761-a92c-4425-ecc2-3d52a6c99b51",
        "colab": {
          "base_uri": "https://localhost:8080/"
        }
      },
      "outputs": [
        {
          "output_type": "execute_result",
          "data": {
            "text/plain": [
              "=====================================================================================================\n",
              "Layer (type (var_name))                       Kernel Shape   Output Shape   Param #        Mult-Adds\n",
              "=====================================================================================================\n",
              "GoogLeNet (GoogLeNet)                         --             [1, 10]        --             --\n",
              "├─Sequential (main)                           --             [1, 512, 14, 14] --             --\n",
              "│    └─BasicConv2d (0)                        --             [1, 64, 112, 112] 3,200          40,140,800\n",
              "│    └─MaxPool2d (1)                          3              [1, 64, 56, 56] --             --\n",
              "│    └─BasicConv2d (2)                        --             [1, 64, 56, 56] 4,160          13,045,760\n",
              "│    └─BasicConv2d (3)                        --             [1, 192, 56, 56] 110,784        347,418,624\n",
              "│    └─MaxPool2d (4)                          3              [1, 192, 28, 28] --             --\n",
              "│    └─Inception (5)                          --             [1, 256, 28, 28] 163,696        128,337,664\n",
              "│    └─Inception (6)                          --             [1, 480, 28, 28] 388,736        304,769,024\n",
              "│    └─MaxPool2d (7)                          3              [1, 480, 14, 14] --             --\n",
              "│    └─Inception (8)                          --             [1, 512, 14, 14] 376,176        73,730,496\n",
              "├─InceptionAux (aux1)                         --             [1, 10]        --             --\n",
              "│    └─Sequential (aux)                       --             [1, 10]        3,353,738      4,929,674\n",
              "├─Sequential (main2)                          --             [1, 528, 14, 14] --             --\n",
              "│    └─Inception (0)                          --             [1, 512, 14, 14] 449,160        88,035,360\n",
              "│    └─Inception (1)                          --             [1, 512, 14, 14] 510,104        99,980,384\n",
              "│    └─Inception (2)                          --             [1, 528, 14, 14] 605,376        118,653,696\n",
              "├─InceptionAux (aux2)                         --             [1, 10]        --             --\n",
              "│    └─Sequential (aux)                       --             [1, 10]        3,355,786      4,980,874\n",
              "├─Sequential (main3)                          --             [1, 10]        --             --\n",
              "│    └─Inception (0)                          --             [1, 832, 14, 14] 868,352        170,196,992\n",
              "│    └─MaxPool2d (1)                          3              [1, 832, 7, 7] --             --\n",
              "│    └─Inception (2)                          --             [1, 832, 7, 7] 1,043,456      51,129,344\n",
              "│    └─Inception (3)                          --             [1, 1024, 7, 7] 1,444,080      70,759,920\n",
              "│    └─AdaptiveAvgPool2d (4)                  --             [1, 1024, 1, 1] --             --\n",
              "│    └─Flatten (5)                            --             [1, 1024]      --             --\n",
              "│    └─Dropout (6)                            --             [1, 1024]      --             --\n",
              "│    └─Linear (7)                             --             [1, 10]        10,250         10,250\n",
              "=====================================================================================================\n",
              "Total params: 12,687,054\n",
              "Trainable params: 12,687,054\n",
              "Non-trainable params: 0\n",
              "Total mult-adds (G): 1.52\n",
              "=====================================================================================================\n",
              "Input size (MB): 0.20\n",
              "Forward/backward pass size (MB): 25.88\n",
              "Params size (MB): 50.75\n",
              "Estimated Total Size (MB): 76.83\n",
              "====================================================================================================="
            ]
          },
          "metadata": {},
          "execution_count": 41
        }
      ],
      "source": [
        "torchinfo.summary(GoogLeNet(),input_size=(1,1,224,224)  ,  col_width=14,depth=2,\n",
        "    col_names=[\"kernel_size\", \"output_size\", \"num_params\", \"mult_adds\"],\n",
        "    row_settings=[\"var_names\"],\n",
        ")"
      ]
    },
    {
      "cell_type": "markdown",
      "metadata": {
        "id": "AMnwoA50FETh"
      },
      "source": [
        "# Training the model"
      ]
    },
    {
      "cell_type": "code",
      "execution_count": 42,
      "metadata": {
        "id": "8MmedfeVFETi"
      },
      "outputs": [],
      "source": [
        "data = helper.FashionMNIST(batch_size=64,resize=(224,224))\n",
        "model = GoogLeNet(num_classes=10,lr=0.001)"
      ]
    },
    {
      "cell_type": "code",
      "execution_count": 43,
      "metadata": {
        "id": "scBrhrMeFETi"
      },
      "outputs": [],
      "source": [
        "model.apply_initialize_weight([next(iter(data.train_dataloader()))[0]])"
      ]
    },
    {
      "cell_type": "code",
      "execution_count": 44,
      "metadata": {
        "id": "bvB_kAkFFETj",
        "outputId": "55b55f11-1ba6-49f4-9871-ae08b3833a0d",
        "colab": {
          "base_uri": "https://localhost:8080/"
        }
      },
      "outputs": [
        {
          "output_type": "stream",
          "name": "stdout",
          "text": [
            "Training the model in cuda\n"
          ]
        }
      ],
      "source": [
        "trainer = helper.Trainer(max_epochs=10,model_save_path=MODEL_SAVE_PATH,verbose=True)"
      ]
    },
    {
      "cell_type": "code",
      "execution_count": 45,
      "metadata": {
        "id": "xikDnnbiFETk",
        "outputId": "a4ca5f44-631d-4610-fb92-fef32a1e75c6",
        "colab": {
          "base_uri": "https://localhost:8080/",
          "height": 1000,
          "referenced_widgets": [
            "2cc664d647274db996b4028f205b0c80",
            "7543aff476cc474fade8f0949475c110",
            "da7fa63ffb4a41a789309abcafdefd88",
            "2d387b72e23b48a591714017f2fc7bb1",
            "7fa0459905234ac19e2283d3bafebd47",
            "988adffc87914efb83fe0c34f1280851",
            "734e5748e675443c9519b2558f93563e",
            "0ec73903184a475b95e01e2ef138b386",
            "ca2700d6ea2b438cbdd134380fa9d952",
            "a2df3f246fff47e28269f551d85725e7",
            "52c21bf730aa4482b6fea6a9b4902aee"
          ]
        }
      },
      "outputs": [
        {
          "metadata": {
            "tags": null
          },
          "name": "stdout",
          "output_type": "stream",
          "text": [
            "[INFO] Entering FIT\n",
            "[INFO] Entering Data Preparation\n",
            "[INFO] Entering Model Preparation\n",
            "[INFO] Entering Plot Preparation\n"
          ]
        },
        {
          "data": {
            "application/vnd.jupyter.widget-view+json": {
              "model_id": "2cc664d647274db996b4028f205b0c80",
              "version_major": 2,
              "version_minor": 0
            },
            "text/plain": [
              "  0%|          | 0/10 [00:00<?, ?it/s]"
            ]
          },
          "metadata": {},
          "output_type": "display_data"
        },
        {
          "output_type": "stream",
          "name": "stdout",
          "text": [
            "[INFO] Start Fitting per epoch\n",
            "\tBatch 0 - Training Loss 12.649665832519531\n",
            "\tBatch 187 - Training Loss 3.692282199859619\n",
            "\tBatch 374 - Training Loss 3.433600902557373\n",
            "\tBatch 561 - Training Loss 3.5823841094970703\n",
            "\tBatch 748 - Training Loss 3.602003574371338\n",
            "\tBatch 935 - Training Loss 3.3013968467712402\n",
            "\tBatch 0 - Validation Loss 1.9067912101745605\n",
            "At end 0 Epoch - Training Loss 3.4895102977752686|                         Training Loss 1.9686096906661987\n",
            "[INFO] Start Fitting per epoch\n",
            "\tBatch 0 - Training Loss 3.2469820976257324\n",
            "\tBatch 187 - Training Loss 3.4276158809661865\n",
            "\tBatch 374 - Training Loss 3.1577367782592773\n",
            "\tBatch 561 - Training Loss 2.9849417209625244\n",
            "\tBatch 748 - Training Loss 2.8936288356781006\n",
            "\tBatch 935 - Training Loss 2.742616653442383\n",
            "\tBatch 0 - Validation Loss 1.272193431854248\n",
            "At end 1 Epoch - Training Loss 3.0407402515411377|                         Training Loss 1.3201550245285034\n",
            "[INFO] Start Fitting per epoch\n",
            "\tBatch 0 - Training Loss 2.8694965839385986\n",
            "\tBatch 187 - Training Loss 2.6251718997955322\n",
            "\tBatch 374 - Training Loss 2.1962826251983643\n",
            "\tBatch 561 - Training Loss 2.063891887664795\n",
            "\tBatch 748 - Training Loss 2.106963872909546\n",
            "\tBatch 935 - Training Loss 1.8073259592056274\n",
            "\tBatch 0 - Validation Loss 0.6997430920600891\n",
            "At end 2 Epoch - Training Loss 2.2330524921417236|                         Training Loss 0.6727380752563477\n",
            "[INFO] Start Fitting per epoch\n",
            "\tBatch 0 - Training Loss 1.9810903072357178\n",
            "\tBatch 187 - Training Loss 1.7840898036956787\n",
            "\tBatch 374 - Training Loss 1.653563141822815\n",
            "\tBatch 561 - Training Loss 1.3844112157821655\n",
            "\tBatch 748 - Training Loss 1.586659550666809\n",
            "\tBatch 935 - Training Loss 1.7349114418029785\n",
            "\tBatch 0 - Validation Loss 0.7160775661468506\n",
            "At end 3 Epoch - Training Loss 1.6817097663879395|                         Training Loss 0.6872383952140808\n",
            "[INFO] Start Fitting per epoch\n",
            "\tBatch 0 - Training Loss 1.7040503025054932\n",
            "\tBatch 187 - Training Loss 1.4590709209442139\n",
            "\tBatch 374 - Training Loss 1.459040880203247\n",
            "\tBatch 561 - Training Loss 1.634962797164917\n",
            "\tBatch 748 - Training Loss 1.49076509475708\n",
            "\tBatch 935 - Training Loss 1.4693500995635986\n",
            "\tBatch 0 - Validation Loss 0.5873628258705139\n",
            "At end 4 Epoch - Training Loss 1.4523404836654663|                         Training Loss 0.4675290584564209\n",
            "[INFO] Start Fitting per epoch\n",
            "\tBatch 0 - Training Loss 1.2568039894104004\n",
            "\tBatch 374 - Training Loss 1.3040025234222412\n",
            "\tBatch 561 - Training Loss 1.6670050621032715\n",
            "\tBatch 748 - Training Loss 1.251359462738037\n",
            "\tBatch 935 - Training Loss 1.5463297367095947\n",
            "\tBatch 0 - Validation Loss 0.6251372694969177\n",
            "At end 5 Epoch - Training Loss 1.3340357542037964|                         Training Loss 0.46712610125541687\n",
            "[INFO] Start Fitting per epoch\n",
            "\tBatch 0 - Training Loss 1.1423447132110596\n",
            "\tBatch 187 - Training Loss 1.364896535873413\n",
            "\tBatch 374 - Training Loss 1.1266891956329346\n",
            "\tBatch 561 - Training Loss 1.3003942966461182\n",
            "\tBatch 748 - Training Loss 1.219090461730957\n",
            "\tBatch 935 - Training Loss 1.1939600706100464\n",
            "\tBatch 0 - Validation Loss 0.47486647963523865\n",
            "At end 6 Epoch - Training Loss 1.2424726486206055|                         Training Loss 0.41166749596595764\n",
            "[INFO] Start Fitting per epoch\n",
            "\tBatch 0 - Training Loss 1.3858228921890259\n",
            "\tBatch 187 - Training Loss 1.0290495157241821\n",
            "\tBatch 374 - Training Loss 1.1547458171844482\n",
            "\tBatch 561 - Training Loss 1.1166142225265503\n",
            "\tBatch 748 - Training Loss 0.9915599822998047\n",
            "\tBatch 935 - Training Loss 1.1487458944320679\n",
            "\tBatch 0 - Validation Loss 0.5359203219413757\n",
            "At end 7 Epoch - Training Loss 1.1209828853607178|                         Training Loss 0.42888933420181274\n",
            "[INFO] Start Fitting per epoch\n",
            "\tBatch 0 - Training Loss 1.0056713819503784\n",
            "\tBatch 187 - Training Loss 1.2498619556427002\n",
            "\tBatch 374 - Training Loss 0.8304424285888672\n",
            "\tBatch 561 - Training Loss 0.9634488821029663\n",
            "\tBatch 748 - Training Loss 1.1848247051239014\n",
            "\tBatch 935 - Training Loss 0.95018470287323\n",
            "\tBatch 0 - Validation Loss 0.5047546029090881\n",
            "At end 8 Epoch - Training Loss 0.9718676209449768|                         Training Loss 0.37357404828071594\n",
            "[INFO] Start Fitting per epoch\n",
            "\tBatch 0 - Training Loss 0.8913189172744751\n",
            "\tBatch 187 - Training Loss 0.8302843570709229\n",
            "\tBatch 374 - Training Loss 1.198027491569519\n",
            "\tBatch 561 - Training Loss 0.7293254137039185\n",
            "\tBatch 748 - Training Loss 0.6970916986465454\n",
            "\tBatch 935 - Training Loss 0.8859093189239502\n",
            "\tBatch 0 - Validation Loss 0.5129777789115906\n",
            "At end 9 Epoch - Training Loss 0.8615315556526184|                         Training Loss 0.35588347911834717\n",
            "[INFO] Entering Animate Update fit\n",
            "[INFO] Finished 10 epoch\n",
            "[INFO] Drawing the train_loss Line\n",
            "[INFO] Drawing the val_loss Line\n",
            "[INFO] Drawing the train_acc Line\n",
            "[INFO] Drawing the val_acc Line\n",
            "[INFO] Updating the axes limit\n",
            "[INFO] Updating the axes limit\n"
          ]
        },
        {
          "output_type": "display_data",
          "data": {
            "text/plain": [
              "<Figure size 576x216 with 2 Axes>"
            ],
            "image/png": "[encoded data removed]"
          },
          "metadata": {
            "needs_background": "light"
          }
        },
        {
          "output_type": "stream",
          "name": "stdout",
          "text": [
            "[Info] Saving the model at /content/drive/Othercomputers/My PC/drive/models/2023-02-06/GoogLeNet-194110.pth\n"
          ]
        }
      ],
      "source": [
        "trainer.fit(model,data)"
      ]
    }
  ],
  "metadata": {
    "kernelspec": {
      "display_name": "py310",
      "language": "python",
      "name": "python3"
    },
    "language_info": {
      "codemirror_mode": {
        "name": "ipython",
        "version": 3
      },
      "file_extension": ".py",
      "mimetype": "text/x-python",
      "name": "python",
      "nbconvert_exporter": "python",
      "pygments_lexer": "ipython3",
      "version": "3.10.6"
    },
    "orig_nbformat": 4,
    "vscode": {
      "interpreter": {
        "hash": "cf51ac970e033765f04eaa06b2d945d30ec4bd27f0fa0badbc17cd319e8357a7"
      }
    },
    "colab": {
      "provenance": []
    },
    "accelerator": "GPU",
    "gpuClass": "standard",
    "widgets": {
      "application/vnd.jupyter.widget-state+json": {
        "2cc664d647274db996b4028f205b0c80": {
          "model_module": "@jupyter-widgets/controls",
          "model_name": "HBoxModel",
          "model_module_version": "1.5.0",
          "state": {
            "_dom_classes": [],
            "_model_module": "@jupyter-widgets/controls",
            "_model_module_version": "1.5.0",
            "_model_name": "HBoxModel",
            "_view_count": null,
            "_view_module": "@jupyter-widgets/controls",
            "_view_module_version": "1.5.0",
            "_view_name": "HBoxView",
            "box_style": "",
            "children": [
              "IPY_MODEL_7543aff476cc474fade8f0949475c110",
              "IPY_MODEL_da7fa63ffb4a41a789309abcafdefd88",
              "IPY_MODEL_2d387b72e23b48a591714017f2fc7bb1"
            ],
            "layout": "IPY_MODEL_7fa0459905234ac19e2283d3bafebd47"
          }
        },
        "7543aff476cc474fade8f0949475c110": {
          "model_module": "@jupyter-widgets/controls",
          "model_name": "HTMLModel",
          "model_module_version": "1.5.0",
          "state": {
            "_dom_classes": [],
            "_model_module": "@jupyter-widgets/controls",
            "_model_module_version": "1.5.0",
            "_model_name": "HTMLModel",
            "_view_count": null,
            "_view_module": "@jupyter-widgets/controls",
            "_view_module_version": "1.5.0",
            "_view_name": "HTMLView",
            "description": "",
            "description_tooltip": null,
            "layout": "IPY_MODEL_988adffc87914efb83fe0c34f1280851",
            "placeholder": "​",
            "style": "IPY_MODEL_734e5748e675443c9519b2558f93563e",
            "value": "100%"
          }
        },
        "da7fa63ffb4a41a789309abcafdefd88": {
          "model_module": "@jupyter-widgets/controls",
          "model_name": "FloatProgressModel",
          "model_module_version": "1.5.0",
          "state": {
            "_dom_classes": [],
            "_model_module": "@jupyter-widgets/controls",
            "_model_module_version": "1.5.0",
            "_model_name": "FloatProgressModel",
            "_view_count": null,
            "_view_module": "@jupyter-widgets/controls",
            "_view_module_version": "1.5.0",
            "_view_name": "ProgressView",
            "bar_style": "success",
            "description": "",
            "description_tooltip": null,
            "layout": "IPY_MODEL_0ec73903184a475b95e01e2ef138b386",
            "max": 10,
            "min": 0,
            "orientation": "horizontal",
            "style": "IPY_MODEL_ca2700d6ea2b438cbdd134380fa9d952",
            "value": 10
          }
        },
        "2d387b72e23b48a591714017f2fc7bb1": {
          "model_module": "@jupyter-widgets/controls",
          "model_name": "HTMLModel",
          "model_module_version": "1.5.0",
          "state": {
            "_dom_classes": [],
            "_model_module": "@jupyter-widgets/controls",
            "_model_module_version": "1.5.0",
            "_model_name": "HTMLModel",
            "_view_count": null,
            "_view_module": "@jupyter-widgets/controls",
            "_view_module_version": "1.5.0",
            "_view_name": "HTMLView",
            "description": "",
            "description_tooltip": null,
            "layout": "IPY_MODEL_a2df3f246fff47e28269f551d85725e7",
            "placeholder": "​",
            "style": "IPY_MODEL_52c21bf730aa4482b6fea6a9b4902aee",
            "value": " 10/10 [36:48&lt;00:00, 221.15s/it]"
          }
        },
        "7fa0459905234ac19e2283d3bafebd47": {
          "model_module": "@jupyter-widgets/base",
          "model_name": "LayoutModel",
          "model_module_version": "1.2.0",
          "state": {
            "_model_module": "@jupyter-widgets/base",
            "_model_module_version": "1.2.0",
            "_model_name": "LayoutModel",
            "_view_count": null,
            "_view_module": "@jupyter-widgets/base",
            "_view_module_version": "1.2.0",
            "_view_name": "LayoutView",
            "align_content": null,
            "align_items": null,
            "align_self": null,
            "border": null,
            "bottom": null,
            "display": null,
            "flex": null,
            "flex_flow": null,
            "grid_area": null,
            "grid_auto_columns": null,
            "grid_auto_flow": null,
            "grid_auto_rows": null,
            "grid_column": null,
            "grid_gap": null,
            "grid_row": null,
            "grid_template_areas": null,
            "grid_template_columns": null,
            "grid_template_rows": null,
            "height": null,
            "justify_content": null,
            "justify_items": null,
            "left": null,
            "margin": null,
            "max_height": null,
            "max_width": null,
            "min_height": null,
            "min_width": null,
            "object_fit": null,
            "object_position": null,
            "order": null,
            "overflow": null,
            "overflow_x": null,
            "overflow_y": null,
            "padding": null,
            "right": null,
            "top": null,
            "visibility": null,
            "width": null
          }
        },
        "988adffc87914efb83fe0c34f1280851": {
          "model_module": "@jupyter-widgets/base",
          "model_name": "LayoutModel",
          "model_module_version": "1.2.0",
          "state": {
            "_model_module": "@jupyter-widgets/base",
            "_model_module_version": "1.2.0",
            "_model_name": "LayoutModel",
            "_view_count": null,
            "_view_module": "@jupyter-widgets/base",
            "_view_module_version": "1.2.0",
            "_view_name": "LayoutView",
            "align_content": null,
            "align_items": null,
            "align_self": null,
            "border": null,
            "bottom": null,
            "display": null,
            "flex": null,
            "flex_flow": null,
            "grid_area": null,
            "grid_auto_columns": null,
            "grid_auto_flow": null,
            "grid_auto_rows": null,
            "grid_column": null,
            "grid_gap": null,
            "grid_row": null,
            "grid_template_areas": null,
            "grid_template_columns": null,
            "grid_template_rows": null,
            "height": null,
            "justify_content": null,
            "justify_items": null,
            "left": null,
            "margin": null,
            "max_height": null,
            "max_width": null,
            "min_height": null,
            "min_width": null,
            "object_fit": null,
            "object_position": null,
            "order": null,
            "overflow": null,
            "overflow_x": null,
            "overflow_y": null,
            "padding": null,
            "right": null,
            "top": null,
            "visibility": null,
            "width": null
          }
        },
        "734e5748e675443c9519b2558f93563e": {
          "model_module": "@jupyter-widgets/controls",
          "model_name": "DescriptionStyleModel",
          "model_module_version": "1.5.0",
          "state": {
            "_model_module": "@jupyter-widgets/controls",
            "_model_module_version": "1.5.0",
            "_model_name": "DescriptionStyleModel",
            "_view_count": null,
            "_view_module": "@jupyter-widgets/base",
            "_view_module_version": "1.2.0",
            "_view_name": "StyleView",
            "description_width": ""
          }
        },
        "0ec73903184a475b95e01e2ef138b386": {
          "model_module": "@jupyter-widgets/base",
          "model_name": "LayoutModel",
          "model_module_version": "1.2.0",
          "state": {
            "_model_module": "@jupyter-widgets/base",
            "_model_module_version": "1.2.0",
            "_model_name": "LayoutModel",
            "_view_count": null,
            "_view_module": "@jupyter-widgets/base",
            "_view_module_version": "1.2.0",
            "_view_name": "LayoutView",
            "align_content": null,
            "align_items": null,
            "align_self": null,
            "border": null,
            "bottom": null,
            "display": null,
            "flex": null,
            "flex_flow": null,
            "grid_area": null,
            "grid_auto_columns": null,
            "grid_auto_flow": null,
            "grid_auto_rows": null,
            "grid_column": null,
            "grid_gap": null,
            "grid_row": null,
            "grid_template_areas": null,
            "grid_template_columns": null,
            "grid_template_rows": null,
            "height": null,
            "justify_content": null,
            "justify_items": null,
            "left": null,
            "margin": null,
            "max_height": null,
            "max_width": null,
            "min_height": null,
            "min_width": null,
            "object_fit": null,
            "object_position": null,
            "order": null,
            "overflow": null,
            "overflow_x": null,
            "overflow_y": null,
            "padding": null,
            "right": null,
            "top": null,
            "visibility": null,
            "width": null
          }
        },
        "ca2700d6ea2b438cbdd134380fa9d952": {
          "model_module": "@jupyter-widgets/controls",
          "model_name": "ProgressStyleModel",
          "model_module_version": "1.5.0",
          "state": {
            "_model_module": "@jupyter-widgets/controls",
            "_model_module_version": "1.5.0",
            "_model_name": "ProgressStyleModel",
            "_view_count": null,
            "_view_module": "@jupyter-widgets/base",
            "_view_module_version": "1.2.0",
            "_view_name": "StyleView",
            "bar_color": null,
            "description_width": ""
          }
        },
        "a2df3f246fff47e28269f551d85725e7": {
          "model_module": "@jupyter-widgets/base",
          "model_name": "LayoutModel",
          "model_module_version": "1.2.0",
          "state": {
            "_model_module": "@jupyter-widgets/base",
            "_model_module_version": "1.2.0",
            "_model_name": "LayoutModel",
            "_view_count": null,
            "_view_module": "@jupyter-widgets/base",
            "_view_module_version": "1.2.0",
            "_view_name": "LayoutView",
            "align_content": null,
            "align_items": null,
            "align_self": null,
            "border": null,
            "bottom": null,
            "display": null,
            "flex": null,
            "flex_flow": null,
            "grid_area": null,
            "grid_auto_columns": null,
            "grid_auto_flow": null,
            "grid_auto_rows": null,
            "grid_column": null,
            "grid_gap": null,
            "grid_row": null,
            "grid_template_areas": null,
            "grid_template_columns": null,
            "grid_template_rows": null,
            "height": null,
            "justify_content": null,
            "justify_items": null,
            "left": null,
            "margin": null,
            "max_height": null,
            "max_width": null,
            "min_height": null,
            "min_width": null,
            "object_fit": null,
            "object_position": null,
            "order": null,
            "overflow": null,
            "overflow_x": null,
            "overflow_y": null,
            "padding": null,
            "right": null,
            "top": null,
            "visibility": null,
            "width": null
          }
        },
        "52c21bf730aa4482b6fea6a9b4902aee": {
          "model_module": "@jupyter-widgets/controls",
          "model_name": "DescriptionStyleModel",
          "model_module_version": "1.5.0",
          "state": {
            "_model_module": "@jupyter-widgets/controls",
            "_model_module_version": "1.5.0",
            "_model_name": "DescriptionStyleModel",
            "_view_count": null,
            "_view_module": "@jupyter-widgets/base",
            "_view_module_version": "1.2.0",
            "_view_name": "StyleView",
            "description_width": ""
          }
        }
      }
    }
  },
  "nbformat": 4,
  "nbformat_minor": 0
}