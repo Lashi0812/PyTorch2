{
 "cells": [
  {
   "cell_type": "code",
   "execution_count": 7,
   "metadata": {},
   "outputs": [],
   "source": [
    "# python libraries\n",
    "import os\n",
    "import sys\n",
    "import dataclasses\n",
    "from datetime import datetime\n",
    "from pathlib import Path\n",
    "from operator import methodcaller\n",
    "from collections import OrderedDict\n",
    "from dataclasses import dataclass\n",
    "from typing import (\n",
    "    List,\n",
    "    Tuple,\n",
    "    Dict,\n",
    "    Any,\n",
    "    Mapping,\n",
    "    Callable\n",
    ")\n",
    "from enum import Enum\n",
    "# adding the path\n",
    "if not str(Path(os.getcwd()).parent) in sys.path:\n",
    "    sys.path.append(str(Path(os.getcwd()).parent))\n",
    "\n",
    "# numpy\n",
    "import numpy as np\n",
    "\n",
    "# torch\n",
    "import torch\n",
    "from torch import nn\n",
    "\n",
    "try:\n",
    "    from torchmetrics import Accuracy\n",
    "except:\n",
    "    print(f\"[INFO] Installing the torchmetrics\")\n",
    "    %pip install torchmetrics\n",
    "    from torchmetrics import Accuracy\n",
    "\n",
    "try:\n",
    "    import torchinfo\n",
    "except:\n",
    "    print(f\"[INFO] Installing the torchinfo\")\n",
    "    %pip install torchinfo\n",
    "    import torchinfo\n",
    "\n",
    "# helper function\n",
    "try:\n",
    "    import my_helper as helper\n",
    "except:\n",
    "    print(\"[INFO] Downloading the helper function from github\")\n",
    "    import requests\n",
    "    response = requests.get(\"https://raw.githubusercontent.com/Lashi0812/PyTorch2/master/my_helper.py\")\n",
    "    with open(\"my_helper.py\" ,\"wb\") as f:\n",
    "        f.write(response.content)\n",
    "    import my_helper as helper\n"
   ]
  },
  {
   "cell_type": "code",
   "execution_count": 8,
   "metadata": {},
   "outputs": [],
   "source": [
    "## Connect Persistence memory\n",
    "try :\n",
    "    from google.colab import drive\n",
    "\n",
    "    # Paths\n",
    "    DRIVE_PATH = Path(\"/content/drive\")\n",
    "    MODEL_SAVE_PATH = Path(\"/content/drive/Othercomputers/My PC/drive/models\")\n",
    "\n",
    "    # mount drive\n",
    "    drive.mount(str(DRIVE_PATH))\n",
    "except:\n",
    "    MODEL_SAVE_PATH = Path(os.getcwd())/\"models\""
   ]
  },
  {
   "cell_type": "code",
   "execution_count": 9,
   "metadata": {},
   "outputs": [],
   "source": [
    "device = \"cuda\" if torch.cuda.is_available() else \"cpu\""
   ]
  },
  {
   "attachments": {},
   "cell_type": "markdown",
   "metadata": {},
   "source": [
    "# Network Setup"
   ]
  },
  {
   "attachments": {},
   "cell_type": "markdown",
   "metadata": {},
   "source": [
    "## Conv + Relu"
   ]
  },
  {
   "cell_type": "code",
   "execution_count": 6,
   "metadata": {},
   "outputs": [],
   "source": [
    "class BasicConv2d(nn.Module):\n",
    "    def __init__(self,out_channels,**kwargs) -> None:\n",
    "        super().__init__()\n",
    "        self.bc = nn.Sequential(\n",
    "            nn.LazyConv2d(out_channels,**kwargs),\n",
    "            nn.ReLU(inplace=True)\n",
    "        )\n",
    "    \n",
    "    def forward(self,x):\n",
    "        return self.bc(x)"
   ]
  },
  {
   "attachments": {},
   "cell_type": "markdown",
   "metadata": {},
   "source": [
    "## Auxillary Classifier Class"
   ]
  },
  {
   "cell_type": "code",
   "execution_count": 4,
   "metadata": {},
   "outputs": [],
   "source": [
    "class InceptionAux(nn.Module):\n",
    "    def __init__(self,num_classes) -> None:\n",
    "        super().__init__()\n",
    "        self.aux = nn.Sequential(\n",
    "            nn.AvgPool2d(kernel_size=5,stride=2),\n",
    "            nn.LazyConv2d(128,kernel_size=1,stride=1,padding=0),\n",
    "            nn.Flatten(),\n",
    "            nn.Dropout2d(0.5),\n",
    "            nn.LazyLinear(1024),            \n",
    "            nn.ReLU(inplace=True),\n",
    "            nn.Dropout2d(0.5),\n",
    "            nn.Linear(1024,num_classes)\n",
    "            \n",
    "        )\n",
    "    def forward(self,x):\n",
    "        return self.aux(x)"
   ]
  },
  {
   "attachments": {},
   "cell_type": "markdown",
   "metadata": {},
   "source": [
    "## Inception Structure"
   ]
  },
  {
   "cell_type": "code",
   "execution_count": 12,
   "metadata": {},
   "outputs": [],
   "source": [
    "class Inception(nn.Module):\n",
    "    def __init__(self,ch1x1,ch3x3red,ch3x3,ch5x5red,ch5x5,pool_proj) -> None:\n",
    "        super().__init__()\n",
    "        \n",
    "        self.branch1 = BasicConv2d(ch1x1,kernel_size=1,stride=1,padding=0)\n",
    "        \n",
    "        self.branch2 = nn.Sequential(\n",
    "            BasicConv2d(ch3x3red,kernel_size=1,stride=1,padding=0),\n",
    "            BasicConv2d(ch3x3,kernel_size=3,stride=1,padding=1)\n",
    "        )\n",
    "        \n",
    "        self.branch3 = nn.Sequential(\n",
    "            BasicConv2d(ch5x5red,kernel_size=1,stride=1,padding=0),\n",
    "            BasicConv2d(ch5x5,kernel_size=5,stride=1,padding=2)\n",
    "        )\n",
    "\n",
    "        self.branch4 = nn.Sequential(\n",
    "            nn.MaxPool2d(kernel_size=3,stride=1,padding=1),\n",
    "            BasicConv2d(pool_proj,kernel_size=1,stride=1,padding=0)\n",
    "        )\n",
    "        \n",
    "    def forward(self,x):\n",
    "        b1 = self.branch1(x)\n",
    "        b2 = self.branch2(x)\n",
    "        b3 = self.branch3(x)\n",
    "        b4 = self.branch4(x)\n",
    "        \n",
    "        return torch.cat((b1,b2,b3,b4),dim=1)"
   ]
  },
  {
   "attachments": {},
   "cell_type": "markdown",
   "metadata": {},
   "source": [
    "## GoogLeNet"
   ]
  },
  {
   "cell_type": "code",
   "execution_count": 47,
   "metadata": {},
   "outputs": [],
   "source": [
    "class GoogLeNet(helper.Classifier):\n",
    "    def __init__(self,lr=0.01,num_classes=10) -> None:\n",
    "        super().__init__()\n",
    "        self.lr = lr\n",
    "        self.num_classes = num_classes\n",
    "        \n",
    "        self.main = nn.Sequential(\n",
    "            BasicConv2d(64,kernel_size=7,stride=2,padding=3),\n",
    "            nn.MaxPool2d(kernel_size=3,stride=2,ceil_mode=True),\n",
    "            \n",
    "            BasicConv2d(64,kernel_size=1,stride=1,padding=0),\n",
    "            BasicConv2d(192,kernel_size=3,stride=1,padding=1),\n",
    "            nn.MaxPool2d(kernel_size=3,stride=2,ceil_mode=True),\n",
    "            \n",
    "            Inception(64,96,128,16,32,32),\n",
    "            Inception(128,128,192,32,96,64),\n",
    "            nn.MaxPool2d(kernel_size=3,stride=2,ceil_mode=True),\n",
    "            Inception(192,96,208,16,48,64)\n",
    "        )\n",
    "        \n",
    "        self.main2 = nn.Sequential(\n",
    "            Inception(160, 112, 224, 24, 64, 64),\n",
    "            Inception(128, 128, 256, 24, 64, 64),\n",
    "            Inception(112, 144, 288, 32, 64, 64),\n",
    "        )\n",
    "        \n",
    "        self.main3 = nn.Sequential(\n",
    "            Inception(256,160,320,32,128,128),\n",
    "            nn.MaxPool2d(kernel_size=3,stride=2,ceil_mode=True),\n",
    "            Inception(256, 160, 320, 32, 128, 128),\n",
    "            Inception(384, 192, 384, 48, 128, 128),\n",
    "            \n",
    "            nn.AdaptiveAvgPool2d((1,1)),\n",
    "            nn.Flatten(),\n",
    "            nn.Dropout(0.4),\n",
    "            nn.LazyLinear(num_classes)\n",
    "        )\n",
    "        \n",
    "        self.aux1 = InceptionAux(num_classes)\n",
    "        self.aux2 = InceptionAux(num_classes)\n",
    "        \n",
    "        \n",
    "    def forward(self, x: torch.Tensor):\n",
    "        x = self.main(x)\n",
    "        aux1 = self.aux1(x)\n",
    "        x = self.main2(x)\n",
    "        aux2 = self.aux2(x)\n",
    "        x = self.main3(x)\n",
    "        \n",
    "        return x,aux1,aux2\n",
    "    \n",
    "    def apply_initialize_weight(self,inputs):\n",
    "        self.forward(*inputs)\n",
    "        for m in self.modules():\n",
    "            if isinstance(m,nn.Conv2d):\n",
    "                nn.init.kaiming_normal_(m.weight,mode=\"fan_out\",nonlinearity=\"relu\")\n",
    "                if m.bias is not None:\n",
    "                    nn.init.constant_(m.bias,0)\n",
    "            elif isinstance(m,nn.Linear):\n",
    "                nn.init.normal_(m.weight,0,0.01)\n",
    "                nn.init.constant_(m.bias,0)\n",
    "                \n",
    "        \n",
    "    def training_step(self, batch: List):\n",
    "        X,y = batch\n",
    "        \n",
    "        # compute the loss at main ,aux1,aux2\n",
    "        y_logits,aux1,aux2 = self(X)\n",
    "        loss0 = self.loss(y_logits,y)\n",
    "        loss1 = self.loss(aux1,y)\n",
    "        loss2 = self.loss(aux2,y)\n",
    "        \n",
    "        loss = loss0 + 0.3 * loss1 + 0.3 * loss2\n",
    "        acc = self.accuracy(y_logits,y)\n",
    "        return dict(loss=loss,acc=acc)   \n",
    "    \n",
    "    def validation_step(self, batch: List):\n",
    "        X,y = batch\n",
    "        \n",
    "        # forward pass \n",
    "        y_logits,aux1,aux2 = self(X)\n",
    "        \n",
    "        loss = self.loss(y_logits,y)\n",
    "        acc = self.accuracy(y_logits,y)\n",
    "        return dict(loss=loss,acc=acc)"
   ]
  },
  {
   "attachments": {},
   "cell_type": "markdown",
   "metadata": {},
   "source": [
    "# Summary"
   ]
  },
  {
   "cell_type": "code",
   "execution_count": 48,
   "metadata": {},
   "outputs": [
    {
     "data": {
      "text/plain": [
       "=====================================================================================================\n",
       "Layer (type (var_name))                       Kernel Shape   Output Shape   Param #        Mult-Adds\n",
       "=====================================================================================================\n",
       "GoogLeNet (GoogLeNet)                         --             [1, 10]        --             --\n",
       "├─Sequential (main)                           --             [1, 512, 14, 14] --             --\n",
       "│    └─BasicConv2d (0)                        --             [1, 64, 112, 112] 3,200          40,140,800\n",
       "│    └─MaxPool2d (1)                          3              [1, 64, 56, 56] --             --\n",
       "│    └─BasicConv2d (2)                        --             [1, 64, 56, 56] 4,160          13,045,760\n",
       "│    └─BasicConv2d (3)                        --             [1, 192, 56, 56] 110,784        347,418,624\n",
       "│    └─MaxPool2d (4)                          3              [1, 192, 28, 28] --             --\n",
       "│    └─Inception (5)                          --             [1, 256, 28, 28] 163,696        128,337,664\n",
       "│    └─Inception (6)                          --             [1, 480, 28, 28] 388,736        304,769,024\n",
       "│    └─MaxPool2d (7)                          3              [1, 480, 14, 14] --             --\n",
       "│    └─Inception (8)                          --             [1, 512, 14, 14] 376,176        73,730,496\n",
       "├─InceptionAux (aux1)                         --             [1, 10]        --             --\n",
       "│    └─Sequential (aux)                       --             [1, 10]        3,353,738      4,929,674\n",
       "├─Sequential (main2)                          --             [1, 528, 14, 14] --             --\n",
       "│    └─Inception (0)                          --             [1, 512, 14, 14] 449,160        88,035,360\n",
       "│    └─Inception (1)                          --             [1, 512, 14, 14] 510,104        99,980,384\n",
       "│    └─Inception (2)                          --             [1, 528, 14, 14] 605,376        118,653,696\n",
       "├─InceptionAux (aux2)                         --             [1, 10]        --             --\n",
       "│    └─Sequential (aux)                       --             [1, 10]        3,355,786      4,980,874\n",
       "├─Sequential (main3)                          --             [1, 10]        --             --\n",
       "│    └─Inception (0)                          --             [1, 832, 14, 14] 868,352        170,196,992\n",
       "│    └─MaxPool2d (1)                          3              [1, 832, 7, 7] --             --\n",
       "│    └─Inception (2)                          --             [1, 832, 7, 7] 1,043,456      51,129,344\n",
       "│    └─Inception (3)                          --             [1, 1024, 7, 7] 1,444,080      70,759,920\n",
       "│    └─AdaptiveAvgPool2d (4)                  --             [1, 1024, 1, 1] --             --\n",
       "│    └─Flatten (5)                            --             [1, 1024]      --             --\n",
       "│    └─Dropout (6)                            --             [1, 1024]      --             --\n",
       "│    └─Linear (7)                             --             [1, 10]        10,250         10,250\n",
       "=====================================================================================================\n",
       "Total params: 12,687,054\n",
       "Trainable params: 12,687,054\n",
       "Non-trainable params: 0\n",
       "Total mult-adds (G): 1.52\n",
       "=====================================================================================================\n",
       "Input size (MB): 0.20\n",
       "Forward/backward pass size (MB): 25.88\n",
       "Params size (MB): 50.75\n",
       "Estimated Total Size (MB): 76.83\n",
       "====================================================================================================="
      ]
     },
     "execution_count": 48,
     "metadata": {},
     "output_type": "execute_result"
    }
   ],
   "source": [
    "torchinfo.summary(GoogLeNet(),input_size=(1,1,224,224)  ,  col_width=14,depth=2,\n",
    "    col_names=[\"kernel_size\", \"output_size\", \"num_params\", \"mult_adds\"],\n",
    "    row_settings=[\"var_names\"],\n",
    ")"
   ]
  },
  {
   "attachments": {},
   "cell_type": "markdown",
   "metadata": {},
   "source": [
    "# Training the model"
   ]
  },
  {
   "cell_type": "code",
   "execution_count": 49,
   "metadata": {},
   "outputs": [],
   "source": [
    "data = helper.FashionMNIST(batch_size=64,resize=(224,224))\n",
    "model = GoogLeNet(num_classes=10,lr=0.01)"
   ]
  },
  {
   "cell_type": "code",
   "execution_count": 50,
   "metadata": {},
   "outputs": [],
   "source": [
    "model.apply_initialize_weight([next(iter(data.train_dataloader()))[0]])"
   ]
  },
  {
   "cell_type": "code",
   "execution_count": 51,
   "metadata": {},
   "outputs": [
    {
     "name": "stdout",
     "output_type": "stream",
     "text": [
      "Training the model in cpu\n"
     ]
    }
   ],
   "source": [
    "trainer = helper.Trainer(max_epochs=10,model_save_path=MODEL_SAVE_PATH)"
   ]
  },
  {
   "cell_type": "code",
   "execution_count": 52,
   "metadata": {},
   "outputs": [
    {
     "data": {
      "application/vnd.jupyter.widget-view+json": {
       "model_id": "112202a50dfc49e99c9b14bd25764c20",
       "version_major": 2,
       "version_minor": 0
      },
      "text/plain": [
       "  0%|          | 0/10 [00:00<?, ?it/s]"
      ]
     },
     "metadata": {},
     "output_type": "display_data"
    },
    {
     "ename": "KeyboardInterrupt",
     "evalue": "",
     "output_type": "error",
     "traceback": [
      "\u001b[1;31m---------------------------------------------------------------------------\u001b[0m",
      "\u001b[1;31mKeyboardInterrupt\u001b[0m                         Traceback (most recent call last)",
      "Cell \u001b[1;32mIn [52], line 1\u001b[0m\n\u001b[1;32m----> 1\u001b[0m trainer\u001b[39m.\u001b[39;49mfit(model,data)\n",
      "File \u001b[1;32mc:\\Users\\Lenovo\\DataspellProjects\\PyTorch2\\my_helper.py:234\u001b[0m, in \u001b[0;36mTrainer.fit\u001b[1;34m(self, model, data)\u001b[0m\n\u001b[0;32m    232\u001b[0m \u001b[39melse\u001b[39;00m:\n\u001b[0;32m    233\u001b[0m     \u001b[39mfor\u001b[39;00m epoch \u001b[39min\u001b[39;00m tqdm(\u001b[39mrange\u001b[39m(\u001b[39mself\u001b[39m\u001b[39m.\u001b[39mmax_epochs)):\n\u001b[1;32m--> 234\u001b[0m         \u001b[39mself\u001b[39;49m\u001b[39m.\u001b[39;49mfit_epoch()\n\u001b[0;32m    235\u001b[0m     \u001b[39mself\u001b[39m\u001b[39m.\u001b[39mani_plot\u001b[39m.\u001b[39mupdate(\u001b[39mself\u001b[39m\u001b[39m.\u001b[39mmax_epochs)\n\u001b[0;32m    237\u001b[0m     plt\u001b[39m.\u001b[39mshow()\n",
      "File \u001b[1;32mc:\\Users\\Lenovo\\DataspellProjects\\PyTorch2\\my_helper.py:246\u001b[0m, in \u001b[0;36mTrainer.fit_epoch\u001b[1;34m(self)\u001b[0m\n\u001b[0;32m    244\u001b[0m     \u001b[39mprint\u001b[39m(\u001b[39mf\u001b[39m\u001b[39m\"\u001b[39m\u001b[39m[INFO] Start Fitting per epoch\u001b[39m\u001b[39m\"\u001b[39m)\n\u001b[0;32m    245\u001b[0m \u001b[39m# do the training step\u001b[39;00m\n\u001b[1;32m--> 246\u001b[0m \u001b[39mself\u001b[39;49m\u001b[39m.\u001b[39;49mtrain_step()\n\u001b[0;32m    247\u001b[0m \u001b[39mif\u001b[39;00m \u001b[39mself\u001b[39m\u001b[39m.\u001b[39mval_dataloader \u001b[39mis\u001b[39;00m \u001b[39mNone\u001b[39;00m:\n\u001b[0;32m    248\u001b[0m     \u001b[39mreturn\u001b[39;00m\n",
      "File \u001b[1;32mc:\\Users\\Lenovo\\DataspellProjects\\PyTorch2\\my_helper.py:270\u001b[0m, in \u001b[0;36mTrainer.train_step\u001b[1;34m(self)\u001b[0m\n\u001b[0;32m    267\u001b[0m     \u001b[39mself\u001b[39m\u001b[39m.\u001b[39moptim\u001b[39m.\u001b[39mzero_grad()\n\u001b[0;32m    268\u001b[0m     \u001b[39mwith\u001b[39;00m torch\u001b[39m.\u001b[39mno_grad():\n\u001b[0;32m    269\u001b[0m         \u001b[39m# back propagate the loss\u001b[39;00m\n\u001b[1;32m--> 270\u001b[0m         loss\u001b[39m.\u001b[39;49mbackward()\n\u001b[0;32m    271\u001b[0m         \u001b[39mself\u001b[39m\u001b[39m.\u001b[39moptim\u001b[39m.\u001b[39mstep()\n\u001b[0;32m    272\u001b[0m \u001b[39m# print(batch_dict.keys())\u001b[39;00m\n",
      "File \u001b[1;32mc:\\Users\\Lenovo\\anaconda3\\envs\\py310\\lib\\site-packages\\torch\\_tensor.py:396\u001b[0m, in \u001b[0;36mTensor.backward\u001b[1;34m(self, gradient, retain_graph, create_graph, inputs)\u001b[0m\n\u001b[0;32m    387\u001b[0m \u001b[39mif\u001b[39;00m has_torch_function_unary(\u001b[39mself\u001b[39m):\n\u001b[0;32m    388\u001b[0m     \u001b[39mreturn\u001b[39;00m handle_torch_function(\n\u001b[0;32m    389\u001b[0m         Tensor\u001b[39m.\u001b[39mbackward,\n\u001b[0;32m    390\u001b[0m         (\u001b[39mself\u001b[39m,),\n\u001b[1;32m   (...)\u001b[0m\n\u001b[0;32m    394\u001b[0m         create_graph\u001b[39m=\u001b[39mcreate_graph,\n\u001b[0;32m    395\u001b[0m         inputs\u001b[39m=\u001b[39minputs)\n\u001b[1;32m--> 396\u001b[0m torch\u001b[39m.\u001b[39;49mautograd\u001b[39m.\u001b[39;49mbackward(\u001b[39mself\u001b[39;49m, gradient, retain_graph, create_graph, inputs\u001b[39m=\u001b[39;49minputs)\n",
      "File \u001b[1;32mc:\\Users\\Lenovo\\anaconda3\\envs\\py310\\lib\\site-packages\\torch\\autograd\\__init__.py:173\u001b[0m, in \u001b[0;36mbackward\u001b[1;34m(tensors, grad_tensors, retain_graph, create_graph, grad_variables, inputs)\u001b[0m\n\u001b[0;32m    168\u001b[0m     retain_graph \u001b[39m=\u001b[39m create_graph\n\u001b[0;32m    170\u001b[0m \u001b[39m# The reason we repeat same the comment below is that\u001b[39;00m\n\u001b[0;32m    171\u001b[0m \u001b[39m# some Python versions print out the first line of a multi-line function\u001b[39;00m\n\u001b[0;32m    172\u001b[0m \u001b[39m# calls in the traceback and some print out the last line\u001b[39;00m\n\u001b[1;32m--> 173\u001b[0m Variable\u001b[39m.\u001b[39;49m_execution_engine\u001b[39m.\u001b[39;49mrun_backward(  \u001b[39m# Calls into the C++ engine to run the backward pass\u001b[39;49;00m\n\u001b[0;32m    174\u001b[0m     tensors, grad_tensors_, retain_graph, create_graph, inputs,\n\u001b[0;32m    175\u001b[0m     allow_unreachable\u001b[39m=\u001b[39;49m\u001b[39mTrue\u001b[39;49;00m, accumulate_grad\u001b[39m=\u001b[39;49m\u001b[39mTrue\u001b[39;49;00m)\n",
      "\u001b[1;31mKeyboardInterrupt\u001b[0m: "
     ]
    },
    {
     "data": {
      "image/png": "[encoded data removed]",
      "text/plain": [
       "<Figure size 800x300 with 2 Axes>"
      ]
     },
     "metadata": {},
     "output_type": "display_data"
    }
   ],
   "source": [
    "trainer.fit(model,data)"
   ]
  },
  {
   "cell_type": "code",
   "execution_count": null,
   "metadata": {},
   "outputs": [],
   "source": []
  },
  {
   "cell_type": "code",
   "execution_count": null,
   "metadata": {},
   "outputs": [],
   "source": []
  },
  {
   "cell_type": "code",
   "execution_count": null,
   "metadata": {},
   "outputs": [],
   "source": []
  }
 ],
 "metadata": {
  "kernelspec": {
   "display_name": "py310",
   "language": "python",
   "name": "python3"
  },
  "language_info": {
   "codemirror_mode": {
    "name": "ipython",
    "version": 3
   },
   "file_extension": ".py",
   "mimetype": "text/x-python",
   "name": "python",
   "nbconvert_exporter": "python",
   "pygments_lexer": "ipython3",
   "version": "3.10.6"
  },
  "orig_nbformat": 4,
  "vscode": {
   "interpreter": {
    "hash": "cf51ac970e033765f04eaa06b2d945d30ec4bd27f0fa0badbc17cd319e8357a7"
   }
  }
 },
 "nbformat": 4,
 "nbformat_minor": 2
}
