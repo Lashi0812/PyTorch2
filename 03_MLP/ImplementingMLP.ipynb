{
  "cells": [
    {
      "cell_type": "code",
      "execution_count": 2,
      "metadata": {
        "id": "9LVEMpbpLtYA",
        "outputId": "9494293c-b2c5-4668-c0a0-974ca179ea51",
        "colab": {
          "base_uri": "https://localhost:8080/"
        }
      },
      "outputs": [
        {
          "output_type": "stream",
          "name": "stdout",
          "text": [
            "[INFO] Downloading helper function\n"
          ]
        }
      ],
      "source": [
        "# python libraries\n",
        "import sys\n",
        "from typing import List,Tuple\n",
        "sys.path.append(\"c:\\\\Users\\\\Lenovo\\\\DataspellProjects\\\\PyTorch2\")\n",
        "\n",
        "# torch\n",
        "import torch \n",
        "from torch import nn\n",
        "from torchvision import (\n",
        "    transforms,\n",
        "    datasets\n",
        "    )\n",
        "from torch.utils.data import DataLoader\n",
        "try:\n",
        "    from torchmetrics import Accuracy\n",
        "except:\n",
        "    %pip install torchmetrics\n",
        "    from torchmetrics import Accuracy\n",
        "\n",
        "# helper module\n",
        "try:\n",
        "    import my_helper as helper\n",
        "except :\n",
        "    print(\"[INFO] Downloading helper function\")\n",
        "    import requests\n",
        "    response = requests.get(\"https://raw.githubusercontent.com/Lashi0812/PyTorch2/master/my_helper.py\")\n",
        "    with open(\"my_helper.py\",\"wb\") as f:\n",
        "        f.write(response.content)\n",
        "    import my_helper as helper\n"
      ]
    },
    {
      "cell_type": "markdown",
      "metadata": {
        "id": "X48kSXq_LtYC"
      },
      "source": [
        "# FashionMNIST data"
      ]
    },
    {
      "cell_type": "code",
      "execution_count": 3,
      "metadata": {
        "id": "mPb96fSaLtYD"
      },
      "outputs": [],
      "source": [
        "class FashionMNIST(helper.DataModule):\n",
        "    def __init__(self, batch_size: int = 64, resize=(28, 28)) -> None:\n",
        "        super().__init__()\n",
        "        self.batch_size = batch_size\n",
        "        self.resize = resize\n",
        "\n",
        "        transform = transforms.Compose(\n",
        "            [transforms.Resize(resize), transforms.ToTensor()]\n",
        "        )\n",
        "\n",
        "        self.train = datasets.FashionMNIST(\n",
        "            root=self.root, train=True, transform=transform,download=True\n",
        "        )\n",
        "        self.val = datasets.FashionMNIST(\n",
        "            root=self.root, train=False, transform=transform,download=True\n",
        "        )\n",
        "        self.classes = self.train.classes\n",
        "        self.class_to_idx = self.train.class_to_idx\n",
        "\n",
        "    def text_labels(self, indices: List):\n",
        "        return [self.classes[a] for a in indices]\n",
        "\n",
        "    def get_dataloader(self, train: bool):\n",
        "        data = self.train if train else self.val\n",
        "        return DataLoader(\n",
        "            dataset=data,\n",
        "            batch_size=self.batch_size,\n",
        "            num_workers=self.num_workers,\n",
        "            shuffle=train,\n",
        "        )\n",
        "    \n",
        "    def visualize(self,batch:Tuple,num_rows=1,num_cols=8):\n",
        "        X,y = batch\n",
        "        labels = self.text_labels(y)\n",
        "        helper.show_images(X.squeeze(1),num_rows=num_rows,num_cols=num_cols,titles=labels)"
      ]
    },
    {
      "cell_type": "markdown",
      "metadata": {
        "id": "_H-XMl0DLtYE"
      },
      "source": [
        "# Implementing from Scratch"
      ]
    },
    {
      "cell_type": "code",
      "execution_count": 4,
      "metadata": {
        "id": "cU9OG0lhLtYE"
      },
      "outputs": [],
      "source": [
        "class MLPScratch(helper.Classifier):\n",
        "    def __init__(self, num_inputs, num_outputs, num_hiddens, lr, sigma=0.01) -> None:\n",
        "        super().__init__()\n",
        "        self.num_inputs = num_inputs\n",
        "        self.num_outputs = num_outputs\n",
        "        self.num_hiddens = num_hiddens\n",
        "        self.lr = lr\n",
        "        self.sigma = sigma\n",
        "\n",
        "        self.W1 = nn.Parameter(torch.randn(self.num_inputs, self.num_hiddens) * self.sigma)\n",
        "        self.b1 = nn.Parameter(torch.zeros(self.num_hiddens))\n",
        "        self.W2 = nn.Parameter(torch.randn(self.num_hiddens, self.num_outputs) * self.sigma)\n",
        "        self.b2 = nn.Parameter(torch.zeros(self.num_outputs))\n",
        "\n",
        "    def relu(self, x):\n",
        "        a = torch.zeros_like(x)\n",
        "        return torch.max(x, a)\n",
        "\n",
        "    def forward(self, x: torch.Tensor):\n",
        "        # flatten\n",
        "        x = x.reshape((-1, self.num_inputs))\n",
        "        H = self.relu(torch.matmul(x, self.W1) + self.b1)\n",
        "        return torch.matmul(H, self.W2) + self.b2\n"
      ]
    },
    {
      "cell_type": "markdown",
      "metadata": {
        "id": "X-ZRpmMxLtYE"
      },
      "source": [
        "# Training the model"
      ]
    },
    {
      "cell_type": "code",
      "execution_count": 6,
      "metadata": {
        "id": "coCX3ePXLtYF",
        "outputId": "64f717bc-3a16-48ec-cce2-a58b1c7034a1",
        "colab": {
          "base_uri": "https://localhost:8080/",
          "height": 291,
          "referenced_widgets": [
            "8cb1137784ee4218a8e5a11c5e6e1d63",
            "7c7c145e899d48ffa94ebd125cde2d30",
            "870d51a50f594981952947007f74bab2",
            "a9e7a4d2099347c9a8134332d48733fc",
            "53af31a14d524ff7a4a19c398eb9d752",
            "7199bf8615db4e449e02255933afd197",
            "1ac8222fa6ce42b09951ea185774911b",
            "f65d9610c1a749c08cbe674281077be6",
            "15a5e55722254be4a5a13c5bdbad6554",
            "063f92d3a31e44d9bbe9ac17011d940b",
            "a33eb7a2856844a8a96a5b31ca28013f"
          ]
        }
      },
      "outputs": [
        {
          "output_type": "stream",
          "name": "stdout",
          "text": [
            "Training the model in cuda\n"
          ]
        },
        {
          "output_type": "display_data",
          "data": {
            "text/plain": [
              "  0%|          | 0/10 [00:00<?, ?it/s]"
            ],
            "application/vnd.jupyter.widget-view+json": {
              "version_major": 2,
              "version_minor": 0,
              "model_id": "8cb1137784ee4218a8e5a11c5e6e1d63"
            }
          },
          "metadata": {}
        },
        {
          "output_type": "display_data",
          "data": {
            "text/plain": [
              "<Figure size 576x216 with 2 Axes>"
            ],
            "image/png": "[encoded data removed]"
          },
          "metadata": {
            "needs_background": "light"
          }
        }
      ],
      "source": [
        "data = FashionMNIST(batch_size=256)\n",
        "model = MLPScratch(num_inputs=28*28,num_hiddens=256,num_outputs=10,lr=0.1)\n",
        "trainer = helper.Trainer(max_epochs=10)\n",
        "trainer.fit(model,data)"
      ]
    }
  ],
  "metadata": {
    "kernelspec": {
      "display_name": "base",
      "language": "python",
      "name": "python3"
    },
    "language_info": {
      "codemirror_mode": {
        "name": "ipython",
        "version": 3
      },
      "file_extension": ".py",
      "mimetype": "text/x-python",
      "name": "python",
      "nbconvert_exporter": "python",
      "pygments_lexer": "ipython3",
      "version": "3.9.13 (main, Aug 25 2022, 23:51:50) [MSC v.1916 64 bit (AMD64)]"
    },
    "orig_nbformat": 4,
    "vscode": {
      "interpreter": {
        "hash": "20a9e06a1eee47c4abbed4ec8225ad91d78d9800d202b71b6b0a6e47016c6abd"
      }
    },
    "colab": {
      "provenance": []
    },
    "accelerator": "GPU",
    "gpuClass": "standard",
    "widgets": {
      "application/vnd.jupyter.widget-state+json": {
        "8cb1137784ee4218a8e5a11c5e6e1d63": {
          "model_module": "@jupyter-widgets/controls",
          "model_name": "HBoxModel",
          "model_module_version": "1.5.0",
          "state": {
            "_dom_classes": [],
            "_model_module": "@jupyter-widgets/controls",
            "_model_module_version": "1.5.0",
            "_model_name": "HBoxModel",
            "_view_count": null,
            "_view_module": "@jupyter-widgets/controls",
            "_view_module_version": "1.5.0",
            "_view_name": "HBoxView",
            "box_style": "",
            "children": [
              "IPY_MODEL_7c7c145e899d48ffa94ebd125cde2d30",
              "IPY_MODEL_870d51a50f594981952947007f74bab2",
              "IPY_MODEL_a9e7a4d2099347c9a8134332d48733fc"
            ],
            "layout": "IPY_MODEL_53af31a14d524ff7a4a19c398eb9d752"
          }
        },
        "7c7c145e899d48ffa94ebd125cde2d30": {
          "model_module": "@jupyter-widgets/controls",
          "model_name": "HTMLModel",
          "model_module_version": "1.5.0",
          "state": {
            "_dom_classes": [],
            "_model_module": "@jupyter-widgets/controls",
            "_model_module_version": "1.5.0",
            "_model_name": "HTMLModel",
            "_view_count": null,
            "_view_module": "@jupyter-widgets/controls",
            "_view_module_version": "1.5.0",
            "_view_name": "HTMLView",
            "description": "",
            "description_tooltip": null,
            "layout": "IPY_MODEL_7199bf8615db4e449e02255933afd197",
            "placeholder": "​",
            "style": "IPY_MODEL_1ac8222fa6ce42b09951ea185774911b",
            "value": "100%"
          }
        },
        "870d51a50f594981952947007f74bab2": {
          "model_module": "@jupyter-widgets/controls",
          "model_name": "FloatProgressModel",
          "model_module_version": "1.5.0",
          "state": {
            "_dom_classes": [],
            "_model_module": "@jupyter-widgets/controls",
            "_model_module_version": "1.5.0",
            "_model_name": "FloatProgressModel",
            "_view_count": null,
            "_view_module": "@jupyter-widgets/controls",
            "_view_module_version": "1.5.0",
            "_view_name": "ProgressView",
            "bar_style": "success",
            "description": "",
            "description_tooltip": null,
            "layout": "IPY_MODEL_f65d9610c1a749c08cbe674281077be6",
            "max": 10,
            "min": 0,
            "orientation": "horizontal",
            "style": "IPY_MODEL_15a5e55722254be4a5a13c5bdbad6554",
            "value": 10
          }
        },
        "a9e7a4d2099347c9a8134332d48733fc": {
          "model_module": "@jupyter-widgets/controls",
          "model_name": "HTMLModel",
          "model_module_version": "1.5.0",
          "state": {
            "_dom_classes": [],
            "_model_module": "@jupyter-widgets/controls",
            "_model_module_version": "1.5.0",
            "_model_name": "HTMLModel",
            "_view_count": null,
            "_view_module": "@jupyter-widgets/controls",
            "_view_module_version": "1.5.0",
            "_view_name": "HTMLView",
            "description": "",
            "description_tooltip": null,
            "layout": "IPY_MODEL_063f92d3a31e44d9bbe9ac17011d940b",
            "placeholder": "​",
            "style": "IPY_MODEL_a33eb7a2856844a8a96a5b31ca28013f",
            "value": " 10/10 [01:21&lt;00:00,  8.20s/it]"
          }
        },
        "53af31a14d524ff7a4a19c398eb9d752": {
          "model_module": "@jupyter-widgets/base",
          "model_name": "LayoutModel",
          "model_module_version": "1.2.0",
          "state": {
            "_model_module": "@jupyter-widgets/base",
            "_model_module_version": "1.2.0",
            "_model_name": "LayoutModel",
            "_view_count": null,
            "_view_module": "@jupyter-widgets/base",
            "_view_module_version": "1.2.0",
            "_view_name": "LayoutView",
            "align_content": null,
            "align_items": null,
            "align_self": null,
            "border": null,
            "bottom": null,
            "display": null,
            "flex": null,
            "flex_flow": null,
            "grid_area": null,
            "grid_auto_columns": null,
            "grid_auto_flow": null,
            "grid_auto_rows": null,
            "grid_column": null,
            "grid_gap": null,
            "grid_row": null,
            "grid_template_areas": null,
            "grid_template_columns": null,
            "grid_template_rows": null,
            "height": null,
            "justify_content": null,
            "justify_items": null,
            "left": null,
            "margin": null,
            "max_height": null,
            "max_width": null,
            "min_height": null,
            "min_width": null,
            "object_fit": null,
            "object_position": null,
            "order": null,
            "overflow": null,
            "overflow_x": null,
            "overflow_y": null,
            "padding": null,
            "right": null,
            "top": null,
            "visibility": null,
            "width": null
          }
        },
        "7199bf8615db4e449e02255933afd197": {
          "model_module": "@jupyter-widgets/base",
          "model_name": "LayoutModel",
          "model_module_version": "1.2.0",
          "state": {
            "_model_module": "@jupyter-widgets/base",
            "_model_module_version": "1.2.0",
            "_model_name": "LayoutModel",
            "_view_count": null,
            "_view_module": "@jupyter-widgets/base",
            "_view_module_version": "1.2.0",
            "_view_name": "LayoutView",
            "align_content": null,
            "align_items": null,
            "align_self": null,
            "border": null,
            "bottom": null,
            "display": null,
            "flex": null,
            "flex_flow": null,
            "grid_area": null,
            "grid_auto_columns": null,
            "grid_auto_flow": null,
            "grid_auto_rows": null,
            "grid_column": null,
            "grid_gap": null,
            "grid_row": null,
            "grid_template_areas": null,
            "grid_template_columns": null,
            "grid_template_rows": null,
            "height": null,
            "justify_content": null,
            "justify_items": null,
            "left": null,
            "margin": null,
            "max_height": null,
            "max_width": null,
            "min_height": null,
            "min_width": null,
            "object_fit": null,
            "object_position": null,
            "order": null,
            "overflow": null,
            "overflow_x": null,
            "overflow_y": null,
            "padding": null,
            "right": null,
            "top": null,
            "visibility": null,
            "width": null
          }
        },
        "1ac8222fa6ce42b09951ea185774911b": {
          "model_module": "@jupyter-widgets/controls",
          "model_name": "DescriptionStyleModel",
          "model_module_version": "1.5.0",
          "state": {
            "_model_module": "@jupyter-widgets/controls",
            "_model_module_version": "1.5.0",
            "_model_name": "DescriptionStyleModel",
            "_view_count": null,
            "_view_module": "@jupyter-widgets/base",
            "_view_module_version": "1.2.0",
            "_view_name": "StyleView",
            "description_width": ""
          }
        },
        "f65d9610c1a749c08cbe674281077be6": {
          "model_module": "@jupyter-widgets/base",
          "model_name": "LayoutModel",
          "model_module_version": "1.2.0",
          "state": {
            "_model_module": "@jupyter-widgets/base",
            "_model_module_version": "1.2.0",
            "_model_name": "LayoutModel",
            "_view_count": null,
            "_view_module": "@jupyter-widgets/base",
            "_view_module_version": "1.2.0",
            "_view_name": "LayoutView",
            "align_content": null,
            "align_items": null,
            "align_self": null,
            "border": null,
            "bottom": null,
            "display": null,
            "flex": null,
            "flex_flow": null,
            "grid_area": null,
            "grid_auto_columns": null,
            "grid_auto_flow": null,
            "grid_auto_rows": null,
            "grid_column": null,
            "grid_gap": null,
            "grid_row": null,
            "grid_template_areas": null,
            "grid_template_columns": null,
            "grid_template_rows": null,
            "height": null,
            "justify_content": null,
            "justify_items": null,
            "left": null,
            "margin": null,
            "max_height": null,
            "max_width": null,
            "min_height": null,
            "min_width": null,
            "object_fit": null,
            "object_position": null,
            "order": null,
            "overflow": null,
            "overflow_x": null,
            "overflow_y": null,
            "padding": null,
            "right": null,
            "top": null,
            "visibility": null,
            "width": null
          }
        },
        "15a5e55722254be4a5a13c5bdbad6554": {
          "model_module": "@jupyter-widgets/controls",
          "model_name": "ProgressStyleModel",
          "model_module_version": "1.5.0",
          "state": {
            "_model_module": "@jupyter-widgets/controls",
            "_model_module_version": "1.5.0",
            "_model_name": "ProgressStyleModel",
            "_view_count": null,
            "_view_module": "@jupyter-widgets/base",
            "_view_module_version": "1.2.0",
            "_view_name": "StyleView",
            "bar_color": null,
            "description_width": ""
          }
        },
        "063f92d3a31e44d9bbe9ac17011d940b": {
          "model_module": "@jupyter-widgets/base",
          "model_name": "LayoutModel",
          "model_module_version": "1.2.0",
          "state": {
            "_model_module": "@jupyter-widgets/base",
            "_model_module_version": "1.2.0",
            "_model_name": "LayoutModel",
            "_view_count": null,
            "_view_module": "@jupyter-widgets/base",
            "_view_module_version": "1.2.0",
            "_view_name": "LayoutView",
            "align_content": null,
            "align_items": null,
            "align_self": null,
            "border": null,
            "bottom": null,
            "display": null,
            "flex": null,
            "flex_flow": null,
            "grid_area": null,
            "grid_auto_columns": null,
            "grid_auto_flow": null,
            "grid_auto_rows": null,
            "grid_column": null,
            "grid_gap": null,
            "grid_row": null,
            "grid_template_areas": null,
            "grid_template_columns": null,
            "grid_template_rows": null,
            "height": null,
            "justify_content": null,
            "justify_items": null,
            "left": null,
            "margin": null,
            "max_height": null,
            "max_width": null,
            "min_height": null,
            "min_width": null,
            "object_fit": null,
            "object_position": null,
            "order": null,
            "overflow": null,
            "overflow_x": null,
            "overflow_y": null,
            "padding": null,
            "right": null,
            "top": null,
            "visibility": null,
            "width": null
          }
        },
        "a33eb7a2856844a8a96a5b31ca28013f": {
          "model_module": "@jupyter-widgets/controls",
          "model_name": "DescriptionStyleModel",
          "model_module_version": "1.5.0",
          "state": {
            "_model_module": "@jupyter-widgets/controls",
            "_model_module_version": "1.5.0",
            "_model_name": "DescriptionStyleModel",
            "_view_count": null,
            "_view_module": "@jupyter-widgets/base",
            "_view_module_version": "1.2.0",
            "_view_name": "StyleView",
            "description_width": ""
          }
        }
      }
    }
  },
  "nbformat": 4,
  "nbformat_minor": 0
}