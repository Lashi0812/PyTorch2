{
 "cells": [
  {
   "cell_type": "code",
   "execution_count": 1,
   "metadata": {},
   "outputs": [],
   "source": [
    "# python inbuilt-libraires\n",
    "from typing import Tuple, List, Dict\n",
    "from functools import partial\n",
    "from collections import defaultdict\n",
    "import sys\n",
    "\n",
    "sys.path.append(\"c:\\\\Users\\\\Lenovo\\\\DataspellProjects\\\\PyTorch2\")\n",
    "\n",
    "\n",
    "# helper module\n",
    "import helper\n",
    "\n",
    "# torch\n",
    "import torch\n",
    "from torch import nn\n",
    "from torch import utils as torch_utils\n",
    "\n",
    "\n",
    "# numpy\n",
    "import numpy as np\n",
    "\n",
    "\n",
    "# Visualization\n",
    "import matplotlib.pyplot as plt\n",
    "import matplotlib.animation as animation\n",
    "%matplotlib widget\n"
   ]
  },
  {
   "attachments": {},
   "cell_type": "markdown",
   "metadata": {},
   "source": [
    "# Utility"
   ]
  },
  {
   "attachments": {},
   "cell_type": "markdown",
   "metadata": {},
   "source": [
    "## Add the function to class"
   ]
  },
  {
   "cell_type": "code",
   "execution_count": 2,
   "metadata": {},
   "outputs": [],
   "source": [
    "def add_to_class(Class):\n",
    "    def wrapper(obj):\n",
    "        setattr(Class,obj.__name__,obj)\n",
    "    return wrapper"
   ]
  },
  {
   "attachments": {},
   "cell_type": "markdown",
   "metadata": {},
   "source": [
    "## Base class for the dataloaders\n"
   ]
  },
  {
   "cell_type": "code",
   "execution_count": 3,
   "metadata": {},
   "outputs": [],
   "source": [
    "class DataModule:\n",
    "    def get_dataloader(self, train: bool):\n",
    "        raise NotImplementedError\n",
    "\n",
    "    def train_dataloader(self):\n",
    "        return self.get_dataloader(train=True)\n",
    "\n",
    "    def val_dataloader(self):\n",
    "        return self.get_dataloader(train=False)\n"
   ]
  },
  {
   "attachments": {},
   "cell_type": "markdown",
   "metadata": {},
   "source": [
    "## Base Class for Model\n"
   ]
  },
  {
   "cell_type": "code",
   "execution_count": 4,
   "metadata": {},
   "outputs": [],
   "source": [
    "class Module(nn.Module):\n",
    "    def __init__(self) -> None:\n",
    "        super().__init__()\n",
    "\n",
    "    def loss(self, y_hat, y):\n",
    "        raise NotImplementedError\n",
    "\n",
    "    def forward(self, x: torch.Tensor):\n",
    "        assert hasattr(self, \"net\")\n",
    "        return self.net(x)\n",
    "\n",
    "    def configure_optimizer(self):\n",
    "        return torch.optim.SGD(self.parameters(), lr=self.lr)\n",
    "\n",
    "    def training_step(self, batch):\n",
    "        X,y = batch\n",
    "        # forward pass\n",
    "        y_logits = self(X)\n",
    "        loss = self.loss(y_logits,y)\n",
    "        return y_logits,loss\n",
    "\n",
    "    def validation_step(self, batch):\n",
    "        X,y = batch\n",
    "        # forward pass\n",
    "        y_logits = self(X)\n",
    "        loss = self.loss(y_logits,y)\n",
    "        return y_logits,loss\n"
   ]
  },
  {
   "attachments": {},
   "cell_type": "markdown",
   "metadata": {},
   "source": [
    "## Animate class"
   ]
  },
  {
   "cell_type": "code",
   "execution_count": 5,
   "metadata": {},
   "outputs": [],
   "source": [
    "class Animate:\n",
    "    def __init__(self):\n",
    "        self.fig = plt.figure(figsize=(4,3),layout=\"constrained\")\n",
    "        self.ax = plt.axes(xlim=(0, 3.5), ylim=(0, 10))\n",
    "        self.train_loss_line, = self.ax.plot([], [],\"o-\",markevery=[-1], lw=2,label=\"train_loss\")\n",
    "        self.val_loss_line, = self.ax.plot([], [],\"o-\",markevery=[-1], lw=2,label=\"test_loss\")\n",
    "        self.ax.set_xlabel(\"epochs\")\n",
    "        self.ax.set_ylabel(\"Loss\")\n",
    "        self.ax.set_title(\"Loss Curve\")\n",
    "        plt.legend()\n",
    "\n",
    "    def update(self, i):\n",
    "        # print(f\"[INFO] Entering Animate Update\")\n",
    "        self.trainer.fit_epoch()\n",
    "        # print(f\"[INFO] Finished {i} epoch\")\n",
    "        # print(self.trainer.history[\"train_loss\"])\n",
    "        self.ax.set_xlim(0, self.trainer.max_epochs)\n",
    "        self.ax.set_ylim(\n",
    "            min(min(self.trainer.history[\"train_loss\"]),min(self.trainer.history[\"val_loss\"])) ,\n",
    "            max(max(self.trainer.history[\"train_loss\"]),max(self.trainer.history[\"val_loss\"])) ,\n",
    "        )\n",
    "        self.train_loss_line.set_data(\n",
    "            list(range(len(self.trainer.history[\"train_loss\"]))),\n",
    "            self.trainer.history[\"train_loss\"],\n",
    "        )\n",
    "        self.val_loss_line.set_data(\n",
    "            list(range(len(self.trainer.history[\"val_loss\"]))),\n",
    "            self.trainer.history[\"val_loss\"],\n",
    "        )\n",
    "        return self.train_loss_line,self.val_loss_line\n",
    "\n",
    "    # def ani_init(self):\n",
    "    #     print(\"[INFO] Entering Init \")\n",
    "    #     self.train_loss_line.set_data([], [])\n",
    "    #     print(\"[INFO] Entering Init \")\n",
    "    #     return self.train_loss_line\n",
    "\n",
    "    def animate(self,save:bool=False):\n",
    "        # print(hasattr(self, \"trainer\"))\n",
    "        assert hasattr(self, \"trainer\"), \"Plot is not prepared\"\n",
    "        self.anim = animation.FuncAnimation(\n",
    "            fig=self.fig,\n",
    "            func=self.update,\n",
    "            # init_func=self.ani_init,\n",
    "            frames=self.trainer.max_epochs,\n",
    "            repeat=False,\n",
    "            blit=True,\n",
    "        )\n",
    "        if save:\n",
    "            print(\"Saving the animation\")\n",
    "            Writer = animation.writers['ffmpeg']\n",
    "            writer = Writer(fps=5, bitrate=1800)\n",
    "            self.anim.save(f'{self.trainer.model.__class__.__name__}.mp4', writer=writer)"
   ]
  },
  {
   "attachments": {},
   "cell_type": "markdown",
   "metadata": {},
   "source": [
    "## Trainer class"
   ]
  },
  {
   "cell_type": "code",
   "execution_count": 6,
   "metadata": {},
   "outputs": [],
   "source": [
    "class Trainer:\n",
    "    def __init__(self, max_epochs,show_ani=False,save_ani=False) -> None:\n",
    "        self.max_epochs = max_epochs\n",
    "        self.save_ani = save_ani\n",
    "        self.show_ani = show_ani\n",
    "        self.device = \"cuda\" if torch.cuda.is_available() else \"cpu\"\n",
    "\n",
    "    def prepare_data(self, data: DataModule):\n",
    "        # print(\"[INFO] Entering Data Prerparaion\")\n",
    "        self.train_dataloader = data.train_dataloader()\n",
    "        self.val_dataloader = data.val_dataloader()\n",
    "        self.num_train_batches = len(self.train_dataloader)\n",
    "        self.num_val_batches = (\n",
    "            len(self.val_dataloader) if self.val_dataloader is not None else 0\n",
    "        )\n",
    "\n",
    "    def prepare_model(self,model:Module):\n",
    "        # print(\"[INFO] Entering Model Preparartion\")\n",
    "        model.trainer = self\n",
    "        self.model = model.to(self.device)\n",
    "        \n",
    "    \n",
    "    def prepare_batch(self,batch):\n",
    "        batch = [a.to(self.device) for a in batch]\n",
    "        return batch\n",
    "    \n",
    "    def prepare_plot(self):\n",
    "        # print(\"[INFO] Entering Plot Preparation\")\n",
    "        # Checking that trainer has already have animate instatance\n",
    "        # This help help set scale and other value of the plot outside the function.\n",
    "        if not hasattr(self,\"ani_plot\"):\n",
    "            self.ani_plot = Animate()\n",
    "            self.ani_plot.trainer = self\n",
    "        \n",
    "    \n",
    "    def fit(self,model:Module,data:DataModule):\n",
    "        # print(\"[INFO] Entering FIT\")\n",
    "        self.prepare_data(data=data)\n",
    "        self.prepare_model(model)\n",
    "        self.prepare_plot()\n",
    "        self.optim = model.configure_optimizer()\n",
    "        # all the training and animation is happening here\n",
    "        # to store the history \n",
    "        self.history = defaultdict(list)\n",
    "        if self.show_ani:\n",
    "            self.ani_plot.animate(self.save_ani)\n",
    "        else:\n",
    "            for epoch in range(self.max_epochs):\n",
    "                self.fit_epoch()\n",
    "            self.ani_plot.train_loss_line.set_data(list(range(self.max_epochs)),self.history[\"train_loss\"])\n",
    "            self.ani_plot.val_loss_line.set_data(list(range(self.max_epochs)),self.history[\"val_loss\"])\n",
    "            plt.show()\n",
    "            \n",
    "\n",
    "    \n",
    "    def fit_epoch(self):       \n",
    "        # do the training step\n",
    "        self.train_step()\n",
    "        if self.val_dataloader is None:\n",
    "            return\n",
    "        # do the val step\n",
    "        self.val_step()\n",
    "\n",
    "    \n",
    "    def train_step(self):\n",
    "        # print(\"[INFO] Entered into the training step\")\n",
    "        batch_loss = 0\n",
    "        # put the model in training mode\n",
    "        self.model.train()\n",
    "        # Loop through the train dataloader\n",
    "        for batch in self.train_dataloader:\n",
    "            # do forward and find the loss\n",
    "            y_logits,loss = self.model.training_step(self.prepare_batch(batch))\n",
    "            batch_loss += loss\n",
    "            # set the zero grad\n",
    "            self.optim.zero_grad()\n",
    "            with torch.no_grad():\n",
    "                # back propagate the loss\n",
    "                loss.backward()\n",
    "                self.optim.step()\n",
    "        avg_batch_loss = batch_loss / self.num_train_batches\n",
    "        self.history[\"train_loss\"].append(avg_batch_loss.cpu().item())\n",
    "    \n",
    "    def val_step(self):\n",
    "        # put the model in eval mode\n",
    "        batch_loss = 0 \n",
    "        self.model.eval()\n",
    "        # Loop through the val dataloader\n",
    "        for batch in self.val_dataloader:\n",
    "            with torch.inference_mode():\n",
    "                y_logits , loss = self.model.validation_step(self.prepare_batch(batch))\n",
    "                batch_loss += loss\n",
    "        avg_batch_loss = batch_loss / self.num_train_batches\n",
    "        self.history[\"val_loss\"].append(avg_batch_loss.cpu().item())"
   ]
  },
  {
   "attachments": {},
   "cell_type": "markdown",
   "metadata": {},
   "source": [
    "# Linear Regression from Scratch:"
   ]
  },
  {
   "attachments": {},
   "cell_type": "markdown",
   "metadata": {},
   "source": [
    "## Define the Model"
   ]
  },
  {
   "cell_type": "code",
   "execution_count": 7,
   "metadata": {},
   "outputs": [],
   "source": [
    "class LinearRegressionScratch(Module):\n",
    "    def __init__(self,num_inputs,lr,sigma=0.01) -> None:\n",
    "        super().__init__()\n",
    "        self.num_inputs = num_inputs\n",
    "        self.lr = lr\n",
    "        self.sigma = sigma\n",
    "        self.w = torch.normal(mean=0,std=sigma,size=(num_inputs,1),requires_grad=True)\n",
    "        self.b = torch.zeros(1,requires_grad=True)\n",
    "    \n",
    "    def forward(self, x: torch.Tensor):\n",
    "        return torch.matmul(x,self.w)+self.b\n",
    "\n",
    "    \n",
    "    def loss(self, y_hat, y):\n",
    "        l = (y_hat - y)**2 /2\n",
    "        return l.mean()"
   ]
  },
  {
   "attachments": {},
   "cell_type": "markdown",
   "metadata": {},
   "source": [
    "## Define the optimization Algorithm"
   ]
  },
  {
   "cell_type": "code",
   "execution_count": 8,
   "metadata": {},
   "outputs": [],
   "source": [
    "class SGD:\n",
    "    def __init__(self,params,lr) -> None:\n",
    "        self.params = params\n",
    "        self.lr = lr\n",
    "    \n",
    "    def step(self):\n",
    "        for param in self.params:\n",
    "            param -= self.lr * param.grad\n",
    "\n",
    "    def zero_grad(self):\n",
    "        for param in self.params:\n",
    "            if param.grad is not None:\n",
    "                param.grad.zero_()"
   ]
  },
  {
   "cell_type": "code",
   "execution_count": 9,
   "metadata": {},
   "outputs": [],
   "source": [
    "# the optimizer the linear regression class\n",
    "@add_to_class(LinearRegressionScratch)\n",
    "def configure_optimizer(self):\n",
    "    return SGD([self.w,self.b],self.lr)"
   ]
  },
  {
   "attachments": {},
   "cell_type": "markdown",
   "metadata": {},
   "source": [
    "## Create the SyntheticData"
   ]
  },
  {
   "cell_type": "code",
   "execution_count": 10,
   "metadata": {},
   "outputs": [],
   "source": [
    "class SyntheticRegressionData(DataModule):\n",
    "    def __init__(\n",
    "        self, w, b, noise=0.01, num_train=1000, num_val=1000, batch_size=32\n",
    "    ) -> None:\n",
    "        self.w = w\n",
    "        self.b = b\n",
    "        self.noise = noise\n",
    "        self.num_train = num_train\n",
    "        self.num_val = num_val\n",
    "        self.batch_size = batch_size\n",
    "\n",
    "        n = num_train + num_val\n",
    "        self.X = torch.randn(size=(n, len(self.w)))\n",
    "        noise = torch.randn(size=(n, 1)) * self.noise\n",
    "        self.y = torch.matmul(self.X, torch.reshape(self.w, (-1, 1))) + b\n",
    "\n",
    "    def get_dataloader(self, train: bool):\n",
    "        i = slice(0, self.num_train) if train else slice(self.num_train, None)\n",
    "        return self.get_tensorloader((self.X,self.y),train,i)\n",
    "\n",
    "    def get_tensorloader(self, tensors, train, indices=slice(0, None)):\n",
    "        tensors = tuple(a[indices] for a in tensors)\n",
    "        dataset = torch.utils.data.TensorDataset(*tensors)\n",
    "        return torch.utils.data.DataLoader(dataset=dataset,batch_size=self.batch_size,shuffle=True)\n"
   ]
  },
  {
   "attachments": {},
   "cell_type": "markdown",
   "metadata": {},
   "source": [
    "## Train the model"
   ]
  },
  {
   "cell_type": "code",
   "execution_count": 11,
   "metadata": {},
   "outputs": [
    {
     "name": "stdout",
     "output_type": "stream",
     "text": [
      "test\n"
     ]
    },
    {
     "data": {
      "application/vnd.jupyter.widget-view+json": {
       "model_id": "67a1dde4fcd74824b368aa228ece0966",
       "version_major": 2,
       "version_minor": 0
      },
      "image/png": "[encoded data removed]",
      "text/html": [
       "\n",
       "            <div style=\"display: inline-block;\">\n",
       "                <div class=\"jupyter-widgets widget-label\" style=\"text-align: center;\">\n",
       "                    Figure\n",
       "                </div>\n",
       "                <img src='data:image/png;base64,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' width=400.0/>\n",
       "            </div>\n",
       "        "
      ],
      "text/plain": [
       "Canvas(toolbar=Toolbar(toolitems=[('Home', 'Reset original view', 'home', 'home'), ('Back', 'Back to previous …"
      ]
     },
     "metadata": {},
     "output_type": "display_data"
    }
   ],
   "source": [
    "model = LinearRegressionScratch(num_inputs=2,lr=0.03)\n",
    "data = SyntheticRegressionData(w=torch.tensor([2,-3.4]),b=4.2)\n",
    "trainer = Trainer(max_epochs=10,show_ani=False)\n",
    "trainer.fit(model=model,data=data)"
   ]
  },
  {
   "attachments": {},
   "cell_type": "markdown",
   "metadata": {},
   "source": [
    "# High Dimensional linear Regression"
   ]
  },
  {
   "cell_type": "code",
   "execution_count": 12,
   "metadata": {},
   "outputs": [],
   "source": [
    "class Data(helper.DataModule):\n",
    "    def __init__(self,num_train,num_val,num_inputs,batch_size):\n",
    "        self.num_train = num_train\n",
    "        self.num_val = num_val\n",
    "        self.num_inputs = num_inputs\n",
    "        self.batch_size = batch_size\n",
    "\n",
    "        n = self.num_train + self.num_val\n",
    "        noise = torch.normal(size=(n,1),mean=0,std=0.01)\n",
    "        w,b = torch.full(size=(num_inputs,1),fill_value=0.01)  , 0.05\n",
    "        self.X = torch.randn(n,self.num_inputs)\n",
    "        self.y = torch.matmul(self.X,w) + b + noise\n",
    "\n",
    "    def get_dataloader(self, train: bool):\n",
    "        i = slice(0, self.num_train) if train else slice(self.num_train, None)\n",
    "        return self.get_tensorloader((self.X,self.y),train,i)\n",
    "\n",
    "    def get_tensorloader(self, tensors, train, indices=slice(0, None)):\n",
    "        tensors = tuple(a[indices] for a in tensors)\n",
    "        dataset = torch.utils.data.TensorDataset(*tensors)\n",
    "        return torch.utils.data.DataLoader(dataset=dataset,batch_size=self.batch_size,shuffle=True)\n",
    "        "
   ]
  },
  {
   "cell_type": "code",
   "execution_count": 13,
   "metadata": {},
   "outputs": [],
   "source": [
    "class WeightDecayScratch(LinearRegressionScratch):\n",
    "    def __init__(self, num_inputs, lr, lambd,sigma=0.01) -> None:\n",
    "        super().__init__(num_inputs, lr, sigma)\n",
    "        self.lambd = lambd\n",
    "    \n",
    "    def loss(self, y_hat, y):\n",
    "        return super().loss(y_hat, y) + self.lambd * self.l2_penalty()\n",
    "    \n",
    "    def l2_penalty(self):\n",
    "        return (self.w **2).sum() /2\n"
   ]
  },
  {
   "cell_type": "code",
   "execution_count": 14,
   "metadata": {},
   "outputs": [],
   "source": [
    "data = Data(num_train=20,num_val=100,num_inputs=200,batch_size=5)\n",
    "\n",
    "def train_scratch(lambd):\n",
    "    model = WeightDecayScratch(num_inputs=200,lambd=lambd,lr=0.01)\n",
    "    trainer = Trainer(max_epochs=10,show_ani=True)\n",
    "    trainer.prepare_plot()\n",
    "    trainer.ani_plot.ax.set_yscale(\"symlog\")\n",
    "    trainer.fit(model,data)\n",
    "    print('L2 norm of w:', float(model.l2_penalty()))\n"
   ]
  },
  {
   "cell_type": "code",
   "execution_count": 20,
   "metadata": {},
   "outputs": [
    {
     "name": "stdout",
     "output_type": "stream",
     "text": [
      "test\n",
      "L2 norm of w: 0.00886907335370779\n"
     ]
    },
    {
     "data": {
      "application/vnd.jupyter.widget-view+json": {
       "model_id": "829bec0c05a0498d9470560cf2a8fa1d",
       "version_major": 2,
       "version_minor": 0
      },
      "image/png": "[encoded data removed]",
      "text/html": [
       "\n",
       "            <div style=\"display: inline-block;\">\n",
       "                <div class=\"jupyter-widgets widget-label\" style=\"text-align: center;\">\n",
       "                    Figure\n",
       "                </div>\n",
       "                <img src='data:image/png;base64,iVBORw0KGgoAAAANSUhEUgAAAZAAAAEsCAYAAADtt+XCAAAAOXRFWHRTb2Z0d2FyZQBNYXRwbG90bGliIHZlcnNpb24zLjUuMiwgaHR0cHM6Ly9tYXRwbG90bGliLm9yZy8qNh9FAAAACXBIWXMAAA9hAAAPYQGoP6dpAAAqs0lEQVR4nO3de1yUdaIG8GdAZrjfvCAogqmACLIiXgZSMxREo5AlzT2ZpO1Zt+O6ylpqJiJ2ostq3o6YZbBtn7zkLUtTMAX1YF4hMxTLQFAxRAQEFGXmd/7wMDkx3F5mmEGf7+czn2Xeeed9H3608/he5n1lQggBIiKiVjIzdgAiIuqYWCBERCQJC4SIiCRhgVCHl5qaCplMhlOnThk7SoscOXIEkyZNQo8ePSCXy+Hg4IDg4GAkJyejurra2PGIWowFQtSOlixZgpEjR+Lq1atYtmwZ0tPTsXnzZoSGhiIhIQFvvvmmsSMStVgnYwcgelx88cUXSExMxIwZM/DRRx9BJpNpXouIiMDrr7+OY8eO6WVdNTU1sLa21suyiBrDLRB6bBw9ehShoaGws7ODtbU1goODsWfPHq15ampqMG/ePPTu3RuWlpZwdnZGUFAQNm3apJnnl19+wQsvvAA3NzcoFAq4uLggNDQUOTk5Ta4/MTERTk5OWL16tVZ51LOzs0NYWBgAoKCgADKZDKmpqQ3mk8lkSEhI0DxPSEiATCbDmTNnEBMTAycnJ/Tp0wcrV66ETCbDzz//3GAZ8+fPh1wuR2lpqWbagQMHEBoaCnt7e1hbWyMkJATffvttk78TPd5YIPRYyMzMxNNPP42Kigps3LgRmzZtgp2dHSIjI7FlyxbNfHFxcUhOTsbs2bOxb98+/Pvf/8bzzz+PmzdvauYZP348Tp8+jffeew/p6elITk7GoEGDUF5e3uj6i4uLce7cOYSFhRlsyyA6Ohp9+/bFF198gfXr1+PFF1+EXC5vUEIqlQqfffYZIiMj0aVLFwDAZ599hrCwMNjb2+Nf//oXtm7dCmdnZ4SHh7NEqHGCqINLSUkRAMTJkycbnWf48OGiW7du4vbt25ppdXV1ws/PT/Ts2VOo1WohhBB+fn4iKiqq0eWUlpYKAGLlypWtyvjdd98JAGLBggUtmj8/P18AECkpKQ1eAyCWLFmieb5kyRIBQMTHxzeYNzo6WvTs2VOoVCrNtL179woA4quvvhJCCFFdXS2cnZ1FZGSk1ntVKpUICAgQQ4cObVFmevxwC4QeedXV1Th+/DhiYmJga2urmW5ubo6pU6fiypUryMvLAwAMHToU33zzDRYsWICMjAzcuXNHa1nOzs7o06cP3n//faxYsQLZ2dlQq9Xt+vs05o9//GODaS+//DKuXLmCAwcOaKalpKSge/fuiIiIAABkZWWhrKwM06ZNQ11dneahVqsxbtw4nDx5kmeHkU4sEHrk3bp1C0IIuLq6NnjNzc0NADS7qFavXo358+dj165dGD16NJydnREVFYWffvoJwIPjD99++y3Cw8Px3nvvITAwEF27dsXs2bNx+/btRjP06tULAJCfn6/vX09D1+8XEREBV1dXpKSkAHgwFrt378ZLL70Ec3NzAMCvv/4KAIiJiYGFhYXW491334UQAmVlZQbLTR0Xz8KiR56TkxPMzMxQXFzc4LVr164BgOZYgI2NDZYuXYqlS5fi119/1WyNREZG4sKFCwAADw8PbNy4EQBw8eJFbN26FQkJCbh37x7Wr1+vM4Orqyv8/f2RlpbWojOkLC0tAQC1tbVa0x8+FvN7ug7M129lrV69GuXl5fj8889RW1uLl19+WTNP/e++Zs0aDB8+XOeyXVxcmsxLjydugdAjz8bGBsOGDcOOHTu0dkmp1Wp89tln6NmzJ7y8vBq8z8XFBbGxsZgyZQry8vJQU1PTYB4vLy+8+eab8Pf3x5kzZ5rMsXjxYty6dQuzZ8+G0HEN06qqKqSlpWnWbWlpibNnz2rN8+WXX7bod37Yyy+/jLt372LTpk1ITU2FUqmEj4+P5vWQkBA4OjoiNzcXQUFBOh9yubzV66VHH7dA6JFx8OBBFBQUNJg+fvx4JCUlYezYsRg9ejTmzZsHuVyOdevW4dy5c9i0aZPmX+/Dhg3DM888g4EDB8LJyQnnz5/Hv//9byiVSlhbW+Ps2bOYNWsWnn/+efTr1w9yuRwHDx7E2bNnsWDBgibzPf/881i8eDGWLVuGCxcuYMaMGejTpw9qampw/PhxfPjhh5g8eTLCwsIgk8nw4osv4pNPPkGfPn0QEBCAEydO4PPPP2/1uPj4+ECpVCIpKQlFRUXYsGGD1uu2trZYs2YNpk2bhrKyMsTExKBbt264ceMGvv/+e9y4cQPJycmtXi89Box8EJ+ozerPwmrskZ+fL4QQ4siRI+Lpp58WNjY2wsrKSgwfPlxzJlK9BQsWiKCgIOHk5CQUCoV44oknxNy5c0VpaakQQohff/1VxMbGCh8fH2FjYyNsbW3FwIEDxQcffCDq6upalDczM1PExMQIV1dXYWFhIezt7YVSqRTvv/++qKys1MxXUVEhXnnlFeHi4iJsbGxEZGSkKCgoaPQsrBs3bjS6zg0bNggAwsrKSlRUVDSaa8KECcLZ2VlYWFiIHj16iAkTJogvvviiRb8XPX5kQvB+IERE1Ho8BkJERJJ0qAKZOHEinJycEBMTY+woRESPvQ5VILNnz8ann35q7BhERIQOViCjR4+GnZ2dsWMQERHasUAOHz6MyMhIuLm5QSaTYdeuXQ3mWbduneYqqIMHD8aRI0faKx4REbVSuxVIdXU1AgICsHbtWp2vb9myBXPmzMGiRYuQnZ2NESNGICIiAoWFhe0VkYiIWqHdvkgYERGhuXibLitWrMCMGTPwyiuvAABWrlyJ/fv3Izk5GUlJSe0Vk4iIWsgkvol+7949nD59usE3ecPCwpCVlSVpmbW1tVrXEVKr1SgrK0Pnzp11XjOIiOhxI4TA7du34ebmBjOz1u+QMokCKS0thUqlanDBNhcXF1y/fl3zPDw8HGfOnEF1dTV69uyJnTt3YsiQITqXmZSUhKVLlxo0NxHRo6CoqAg9e/Zs9ftMokDq/X7LQAihNW3//v0tXtbChQsRFxeneV5RUYFevXqhqKgI9vb2bQ9LRNTBVVZWwt3dXfLZrSZRIF26dIG5ubnW1gYAlJSUSL6MtEKhgEKhaDDd3t6eBUJE9BCpu/VN4nsgcrkcgwcPRnp6utb09PR0BAcHGykVERE1pd22QKqqqvDzzz9rnufn5yMnJwfOzs7o1asX4uLiMHXqVAQFBUGpVGLDhg0oLCzEzJkz2ysiERG1QrsVyKlTpzB69GjN8/rjE9OmTUNqaiomT56MmzdvIjExEcXFxfDz88PevXvh4eHRXhGJ6CFqtRr37t0zdgxqAwsLC82tiw3hsbmce2VlJRwcHFBRUcFjIETNuHfvHvLz86FWq40dhdrI0dER3bt313mco62fiyZxEJ2ITIcQAsXFxTA3N4e7u7uk7weQ8QkhUFNTg5KSEgCAq6ur3tfBAiEiLXV1daipqYGbmxusra2NHYfawMrKCsCDM1q7deum991Z/KcFEWlRqVQAHpwdSR1f/T8C7t+/r/dls0CISCde8ufRYMi/IwuEiIgkYYEQEeng6emJlStX6mVZGRkZkMlkKC8v18vyTAUPohORQajUAifyy1By+y662VliaG9nmJsZdrfYU089hT/84Q96+eA/efIkbGxs2h7qEcYCISK923euGEu/ykVxxV3NNFcHSyyJ9MU4P/2fTtpSQgioVCp06tT8R1/Xrl3bIVHHxl1YRKRX+84V46+fndEqDwC4XnEXf/3sDPadKzbIemNjY5GZmYlVq1ZBJpNBJpMhNTUVMpkM+/fvR1BQEBQKBY4cOYJLly7hueeeg4uLC2xtbTFkyBAcOHBAa3m/34Ulk8nw8ccfY+LEibC2tka/fv2we/duyXm3b9+OAQMGQKFQwNPTE8uXL9d6fd26dejXrx8sLS3h4uKCmJgYzWvbtm2Dv78/rKys0LlzZ4wZMwbV1dWSs0jFAiEivVGpBZZ+lQtdl7eon7b0q1yo1Pq/AMaqVaugVCrx5z//GcXFxSguLoa7uzsA4PXXX0dSUhLOnz+PgQMHoqqqCuPHj8eBAweQnZ2N8PBwREZGNnsL7aVLl2LSpEk4e/Ysxo8fj//4j/9AWVlZq7OePn0akyZNwgsvvIAffvgBCQkJWLx4MVJTUwE8uPTT7NmzkZiYiLy8POzbtw8jR44EABQXF2PKlCmYPn06zp8/j4yMDERHR8MYFxXhLiwialbkmqO4cbu22flq61S4VdP49w0EgOKKuwh6Kx2KTs1/qa2rnQJf/e3JFmV0cHCAXC6HtbU1unfvDgC4cOECACAxMRFjx47VzNu5c2cEBARonr/11lvYuXMndu/ejVmzZjW6jtjYWEyZMgUA8Pbbb2PNmjU4ceIExo0b16KM9VasWIHQ0FAsXrwYAODl5YXc3Fy8//77iI2NRWFhIWxsbPDMM8/Azs4OHh4eGDRoEIAHBVJXV4fo6GjNtQL9/f1btX59YYEQUbNu3K7F9cq7zc/YQg9KRv9fbGtMUFCQ1vPq6mosXboUX3/9Na5du4a6ujrcuXOn2S2QgQMHan62sbGBnZ2d5lIhrXH+/Hk899xzWtNCQkKwcuVKqFQqjB07Fh4eHnjiiScwbtw4jBs3TrPrLCAgAKGhofD390d4eDjCwsIQExMDJyenVudoKxYIETWrq13Dm7Pp0twWSD0na4sWb4How+/Ppnrttdewf/9+/POf/0Tfvn1hZWWFmJiYZq8+bGFhofVcJpNJuuDk7++2Wj+tnp2dHc6cOYOMjAykpaUhPj4eCQkJOHnyJBwdHZGeno6srCykpaVhzZo1WLRoEY4fP47evXu3OktbsECIqFkt3Y2kUgs8+e5BXK+4q/M4iAxAdwdLHJ3/tEFO6ZXL5ZpLsTTlyJEjiI2NxcSJEwE8uF9RQUGB3vM0xtfXF0ePHtWalpWVBS8vL831qjp16oQxY8ZgzJgxWLJkCRwdHXHw4EFER0dDJpMhJCQEISEhiI+Ph4eHB3bu3Kl1G+/2wAIhIr0xN5NhSaQv/vrZGcgArRKpr4slkb4G+z6Ip6cnjh8/joKCAtja2ja6ddC3b1/s2LEDkZGRkMlkWLx4cbteuv4f//gHhgwZgmXLlmHy5Mk4duwY1q5di3Xr1gEAvv76a/zyyy8YOXIknJycsHfvXqjVanh7e+P48eP49ttvERYWhm7duuH48eO4ceMG+vfv32756/EsLCLSq3F+rkh+MRDdHSy1pnd3sETyi4EG/R7IvHnzYG5uDl9fX3Tt2rXRYxoffPABnJycEBwcjMjISISHhyMwMNBguX4vMDAQW7duxebNm+Hn54f4+HgkJiYiNjYWwIN7eOzYsQNPP/00+vfvj/Xr12PTpk0YMGAA7O3tcfjwYYwfPx5eXl548803sXz5ckRERLRb/nq8oRQRabl79y7y8/PRu3dvWFpaNv+GRhjjm+jUUFN/T95QiohMkrmZDMo+nY0dgwyIu7CIiNpo5syZsLW11fmYOXOmseMZDLdAiIjaKDExEfPmzdP52qO8y5wFQkTURt26dUO3bt2MHaPdcRcWERFJwgIhIiJJWCBERCQJC4SIiCRhgRARkSQsECIiPSkoKIBMJkNOTo6xo7QLFggRGYZaBeQfAX7Y9uB/1c1fJbetnnrqKcyZM0dvy4uNjUVUVJTelveo4fdAiEj/cncD++YDldd+m2bvBox7F/B91ni5SK+4BUJE+pW7G9j6knZ5AEBl8YPpubsNstrY2FhkZmZi1apVkMlkkMlkKCgoQG5uLsaPHw9bW1u4uLhg6tSpKC0t1bxv27Zt8Pf3h5WVFTp37owxY8aguroaCQkJ+Ne//oUvv/xSs7yMjIxW58rMzMTQoUOhUCjg6uqKBQsWoK6urtn1A0BGRgaGDh0KGxsbODo6IiQkBJcvX27zWOkLC4SI9EeterDlofN2Uv8/bd8Cg+zOWrVqFZRKJf785z+juLgYxcXFsLCwwKhRo/CHP/wBp06dwr59+/Drr79i0qRJAB7cX3zKlCmYPn06zp8/j4yMDERHR0MIgXnz5mHSpEkYN26cZnnBwcGtynT16lWMHz8eQ4YMwffff4/k5GRs3LgRb731VrPrr6urQ1RUFEaNGoWzZ8/i2LFj+M///M8GdzI0Ju7CIqLmfTgKqGrBvb/raoE7N5uYQQCVV4H3+wGdWnC7WttuwF8yWxTRwcEBcrkc1tbW6N69OwAgPj4egYGBePvttzXzffLJJ3B3d8fFixdRVVWFuro6REdHw8PDAwDg7++vmdfKygq1tbWa5bXWunXr4O7ujrVr10Imk8HHxwfXrl3D/PnzER8fj+Li4kbXX1ZWhoqKCjzzzDPo06cPABjlplFNYYEQUfOqSoDb15qfr6WaLBn9OX36NA4dOgRbW9sGr126dAlhYWEIDQ2Fv78/wsPDERYWhpiYGDg5Oell/efPn4dSqdTaaggJCUFVVRWuXLmCgICARtfv7OyM2NhYhIeHY+zYsRgzZgwmTZoEV1fD3ZCrtbgLi4iaZ9sNsHNr/mHVwvt/WHVu2fJs23aBQrVajcjISOTk5Gg9fvrpJ4wcORLm5uZIT0/HN998A19fX6xZswbe3t7Iz89v03rrCSEa7HKqv4efTCZrdv0pKSk4duwYgoODsWXLFnh5eeG7777TSzZ94BYIETWvhbuRoFYBK/0eHDDXeRxE9uBsrDk/AGbm+kwIAJDL5VCpfju+EhgYiO3bt8PT0xOdOun+uJPJZAgJCUFISAji4+Ph4eGBnTt3Ii4ursHyWsvX1xfbt2/XKpKsrCzY2dmhR48eza4fAAYNGoRBgwZh4cKFUCqV+PzzzzF8+HDJmfSJWyBEpD9m5g9O1QUA/P5g7/8/H/eOQcoDADw9PXH8+HEUFBSgtLQU//Vf/4WysjJMmTIFJ06cwC+//IK0tDRMnz4dKpUKx48fx9tvv41Tp06hsLAQO3bswI0bNzTHGjw9PXH27Fnk5eWhtLQU9+/fb1WeV199FUVFRfjb3/6GCxcu4Msvv8SSJUsQFxcHMzOzJtefn5+PhQsX4tixY7h8+TLS0tJw8eJF0zoOIh4TFRUVAoCoqKgwdhQik3bnzh2Rm5sr7ty5I30hP34pxHIfIZbY//ZY3v/BdAPKy8sTw4cPF1ZWVgKAyM/PFxcvXhQTJ04Ujo6OwsrKSvj4+Ig5c+YItVotcnNzRXh4uOjatatQKBTCy8tLrFmzRrO8kpISMXbsWGFraysAiEOHDjW5/vz8fAFAZGdna6ZlZGSIIUOGCLlcLrp37y7mz58v7t+/L4QQTa7/+vXrIioqSri6ugq5XC48PDxEfHy8UKlUrRqTpv6ebf1clAkhdG1nPnLaevN4osfF3bt3kZ+fj969e8PS0lL6gtQq4HIWUPUrYOsCeAQbbMuDGtfU37Otn4s8BkJEhmFmDvQeYewUZEA8BkJE1EJvv/02bG1tdT4iIiKMHa/dcQuEiKiFZs6cqfkW++9ZWVm1cxrjY4EQEbWQs7MznJ2djR3DZHAXFhERScICISKdHpMTNB95hvw7skCISIu5+YNTbe/du2fkJKQPNTU1AAALCwu9L5vHQIhIS6dOnWBtbY0bN27AwsICZmb8d2ZHJIRATU0NSkpK4OjoqPmHgT6xQIhIi0wmg6urK/Lz803q5kUkjaOjo+TL0TeHBUJEDcjlcvTr14+7sTo4CwsLg2x51GOBEJFOZmZmbbuUCT3yuHOTiIgkYYEQEZEkLBAiIpKEBUJERJKwQIiISBIWCBERScICISIiSVggREQkCQuEiIgkYYEQEZEkLBAiIpKEBUJERJKwQIiISBIWCBERScICISIiSVggREQkCQuEiIgkYYEQEZEkLBAiIpKEBUJERJKwQIiISBIWCBERScICISIiSVggREQkCQuEiIgkYYEQEZEkLBAiIpKEBUJERJKwQIiISBIWCBERScICISIiSVggREQkCQuEiIgkYYEQEZEkLBAiIpKEBUJERJKwQIiISBIWCBERScICISIiSVggREQkCQuEiIgkYYEQEZEkLBAiIpKEBUJERJKwQIiISBIWCBERSdJsgRQVFeHKlSua5ydOnMCcOXOwYcMGgwYjIiLT1myB/OlPf8KhQ4cAANevX8fYsWNx4sQJvPHGG0hMTDR4QCIiMk3NFsi5c+cwdOhQAMDWrVvh5+eHrKwsfP7550hNTTV0PiIiMlHNFsj9+/ehUCgAAAcOHMCzzz4LAPDx8UFxcbFh0xERkclqtkAGDBiA9evX48iRI0hPT8e4ceMAANeuXUPnzp0NHpCIiExTswXy7rvv4sMPP8RTTz2FKVOmICAgAACwe/duza4tIiJ6/MiEEKK5mVQqFSorK+Hk5KSZVlBQAGtra3Tr1s2gAfWlsrISDg4OqKiogL29vbHjEBEZXVs/F5vdArlz5w5qa2s15XH58mWsXLkSeXl5HaY8iIhI/5otkOeeew6ffvopAKC8vBzDhg3D8uXLERUVheTkZIMHJCIi09RsgZw5cwYjRowAAGzbtg0uLi64fPkyPv30U6xevdrgAYmIyDQ1WyA1NTWws7MDAKSlpSE6OhpmZmYYPnw4Ll++bPCARERkmpotkL59+2LXrl0oKirC/v37ERYWBgAoKSnhwWgiosdYswUSHx+PefPmwdPTE0OHDoVSqQTwYGtk0KBBBg9IRESmqUWn8V6/fh3FxcUICAiAmdmDzjlx4gTs7e3h4+Nj8JD6wNN4iYi0tfVzsVNLZurevTu6d++OK1euQCaToUePHvwSIRHRY67ZXVhqtRqJiYlwcHCAh4cHevXqBUdHRyxbtgxqtbo9MhIRkQlqdgtk0aJF2LhxI9555x2EhIRACIH//d//RUJCAu7evYv//u//bo+cRERkYpo9BuLm5ob169drrsJb78svv8Srr76Kq1evGjSgvvAYCBGRNoNfyqSsrEzngXIfHx+UlZW1eoVERPRoaLZAAgICsHbt2gbT165di4EDBxokFBERmb5mj4G89957mDBhAg4cOAClUgmZTIasrCwUFRVh79697ZGRiIhMULNbIKNGjcLFixcxceJElJeXo6ysDNHR0fjxxx+RkpLSHhmJiMgEteiLhLp8//33CAwMhEql0ncmg+BBdCIibQY/iE5ERKQLC4SIiCRhgRARkSSNnoUVHR3d5BvLy8v1nYWIiDqQRgvEwcGhyTc6ODjgpZde0nsgIiLqGBotEJ6iS0RETeExECIikoQFQkREkrBAiIhIEhYIERFJwgIhIiJJWCBERCQJC4SIiCRhgRARkSQsECIikoQFQkREkrBAiIhIEhYIERFJwgIhIiJJWCBERCQJC4SIiCRhgRARkSQsECIikoQFQkREkrBAiIhIEhYIERFJ0qEK5Ouvv4a3tzf69euHjz/+2NhxiIgea52MHaCl6urqEBcXh0OHDsHe3h6BgYGIjo6Gs7OzsaMRET2WOswWyIkTJzBgwAD06NEDdnZ2GD9+PPbv32/sWEREj612K5DDhw8jMjISbm5ukMlk2LVrV4N51q1bh969e8PS0hKDBw/GkSNHNK9du3YNPXr00Dzv2bMnrl692h7RiYhIh3YrkOrqagQEBGDt2rU6X9+yZQvmzJmDRYsWITs7GyNGjEBERAQKCwsBAEKIBu+RyWQGzUxERI1rtwKJiIjAW2+9hejoaJ2vr1ixAjNmzMArr7yC/v37Y+XKlXB3d0dycjIAoEePHlpbHFeuXIGrq2u7ZCciooZM4hjIvXv3cPr0aYSFhWlNDwsLQ1ZWFgBg6NChOHfuHK5evYrbt29j7969CA8Pb3SZtbW1qKys1HoQEZH+mESBlJaWQqVSwcXFRWu6i4sLrl+/DgDo1KkTli9fjtGjR2PQoEF47bXX0Llz50aXmZSUBAcHB83D3d3doL8DEdHjxqRO4/39MQ0hhNa0Z599Fs8++2yLlrVw4ULExcVpnldWVrJEiIj0yCQKpEuXLjA3N9dsbdQrKSlpsFXSUgqFAgqFQh/xiIhIB5PYhSWXyzF48GCkp6drTU9PT0dwcLCRUhERUVPabQukqqoKP//8s+Z5fn4+cnJy4OzsjF69eiEuLg5Tp05FUFAQlEolNmzYgMLCQsycObO9IhIRUSu0W4GcOnUKo0eP1jyvPz4xbdo0pKamYvLkybh58yYSExNRXFwMPz8/7N27Fx4eHu0VkYiIWkEmdH1D7xFUWVkJBwcHVFRUwN7e3thxiIiMrq2fiyZxDISIiDoeFggREUnCAiEiIklYIEREJAkLhIiIJGGBEBGRJCwQIiKShAVCRESSsECIiEgSFggREUnCAiEiIklYIEREJAkLhIiIJGGBEBGRJCwQIiKShAVCRESSsECIiEgSFggREUnCAiEiIklYIEREJAkLhIiIJGGBEBGRJCwQIiKShAVCRESSsECIiEgSFggREUnCAiEiIklYIEREJAkLhIiIJGGBEBGRJCwQIiKShAVCRESSsECIiEgSFggREUnCAiEiIklYIEREJAkLhIiIJGGBEBGRJCwQIiKShAVCRESSsECIiEgSFggREUnCAiEiIklYIEREJAkLhIiIJGGBEBGRJCwQIiKShAVCRESSsECIiEgSFggREUnCAiEiIklYIEREJAkLhIiIJGGBEBGRJCwQIiKShAVCRESSsECIiEgSFggREUnSYQpk3bp16N27NywtLTF48GAcOXLE2JGIiB5rHaJAtmzZgjlz5mDRokXIzs7GiBEjEBERgcLCQmNHIyJ6bMmEEMLYIZozbNgwBAYGIjk5WTOtf//+iIqKQlJSUouWUVlZCQcHB1RUVMDe3t5QUYmIOoy2fi6a/BbIvXv3cPr0aYSFhWlNDwsLQ1ZWlpFSERFRJ2MHaE5paSlUKhVcXFy0pru4uOD69euNvq+2tha1tbWa5xUVFQAeNC4REf32eSh1R5TJF0g9mUym9VwI0WDaw5KSkrB06dIG093d3fWejYioI7t58yYcHBxa/T6TL5AuXbrA3Ny8wdZGSUlJg62Shy1cuBBxcXGa5+Xl5fDw8EBhYaGkgTKWyspKuLu7o6ioqMMdu+mo2TtqboDZjaGj5gYe7Jnp1asXnJ2dJb3f5AtELpdj8ODBSE9Px8SJEzXT09PT8dxzzzX6PoVCAYVC0WC6g4NDh/sjA4C9vX2HzA103OwdNTfA7MbQUXMDgJmZtMPhJl8gABAXF4epU6ciKCgISqUSGzZsQGFhIWbOnGnsaEREj60OUSCTJ0/GzZs3kZiYiOLiYvj5+WHv3r3w8PAwdjQiosdWhygQAHj11Vfx6quvSn6/QqHAkiVLdO7WMmUdNTfQcbN31NwAsxtDR80NtD17h/giIRERmR6T/yIhERGZJhYIERFJwgIhIiJJHqkCae0l3zMzMzF48GBYWlriiSeewPr169spqbbW5M7IyIBMJmvwuHDhQjsmBg4fPozIyEi4ublBJpNh165dzb7HVMa7tdlNZcyTkpIwZMgQ2NnZoVu3boiKikJeXl6z7zOFcZeS3RTGPTk5GQMHDtR8x0OpVOKbb75p8j2mMN5A67NLGm/xiNi8ebOwsLAQH330kcjNzRV///vfhY2Njbh8+bLO+X/55RdhbW0t/v73v4vc3Fzx0UcfCQsLC7Ft2zaTzn3o0CEBQOTl5Yni4mLNo66url1z7927VyxatEhs375dABA7d+5scn5TGW8hWp/dVMY8PDxcpKSkiHPnzomcnBwxYcIE0atXL1FVVdXoe0xl3KVkN4Vx3717t9izZ4/Iy8sTeXl54o033hAWFhbi3LlzOuc3lfEWovXZpYz3I1MgQ4cOFTNnztSa5uPjIxYsWKBz/tdff134+PhoTfvLX/4ihg8fbrCMurQ2d/0f+datW+2QrmVa8iFsKuP9e60pEFMacyGEKCkpEQBEZmZmo/OY6ri3JLupjruTk5P4+OOPdb5mquNdr6nsUsb7kdiFJeWS78eOHWswf3h4OE6dOoX79+8bLOvD2nKp+kGDBsHV1RWhoaE4dOiQIWPqhSmMd1uZ2pjXX2G6qesYmeq4tyR7PVMZd5VKhc2bN6O6uhpKpVLnPKY63i3JXq814/1IFIiUS75fv35d5/x1dXUoLS01WNaHScnt6uqKDRs2YPv27dixYwe8vb0RGhqKw4cPt0dkyUxhvKUyxTEXQiAuLg5PPvkk/Pz8Gp3PFMe9pdlNZdx/+OEH2NraQqFQYObMmdi5cyd8fX11zmtq492a7FLGu8N8E70lWnvJd13z65puaK3J7e3tDW9vb81zpVKJoqIi/POf/8TIkSMNmrOtTGW8W8sUx3zWrFk4e/Ysjh492uy8pjbuLc1uKuPu7e2NnJwclJeXY/v27Zg2bRoyMzMb/SA2pfFuTXYp4/1IbIFIueR79+7ddc7fqVMndO7c2WBZHyb1UvW/N3z4cPz000/6jqdXpjDe+mTMMf/b3/6G3bt349ChQ+jZs2eT85rauLcmuy7GGHe5XI6+ffsiKCgISUlJCAgIwKpVq3TOa2rj3ZrsujQ33o9EgTx8yfeHpaenIzg4WOd7lEplg/nT0tIQFBQECwsLg2V9mJTcumRnZ8PV1VXf8fTKFMZbn4wx5kIIzJo1Czt27MDBgwfRu3fvZt9jKuMuJbsupvDfuhBC626nDzOV8W5MU9l1aXa823BA36TUnw67ceNGkZubK+bMmSNsbGxEQUGBEEKIBQsWiKlTp2rmrz/dbu7cuSI3N1ds3LjRqKfxtjT3Bx98IHbu3CkuXrwozp07JxYsWCAAiO3bt7dr7tu3b4vs7GyRnZ0tAIgVK1aI7OxszenHpjreUrKbypj/9a9/FQ4ODiIjI0PrNMuamhrNPKY67lKym8K4L1y4UBw+fFjk5+eLs2fPijfeeEOYmZmJtLQ0nZlNZbylZJcy3o9MgQghxP/8z/8IDw8PIZfLRWBgoNYpgtOmTROjRo3Smj8jI0MMGjRIyOVy4enpKZKTk9s58QOtyf3uu++KPn36CEtLS+Hk5CSefPJJsWfPnnbPXH/K3+8f06ZN05lbCNMZ79ZmN5Ux15UZgEhJSdHMY6rjLiW7KYz79OnTNf/f7Nq1qwgNDdV8AOvKLIRpjLcQrc8uZbx5NV4iIpLkkTgGQkRE7Y8FQkREkrBAiIhIEhYIERFJwgIhIiJJWCBERCQJC4SIiCRhgRARkSQsECITVX+L0fLycmNHIdKJBUJERJKwQIiISBIWCFEjhBB477338MQTT8DKygoBAQHYtm0bgN92L+3ZswcBAQGwtLTEsGHD8MMPP2gtY/v27RgwYAAUCgU8PT2xfPlyrddra2vx+uuvw93dHQqFAv369cPGjRu15jl9+jSCgoJgbW2N4OBg5OXlaV77/vvvMXr0aNjZ2cHe3h6DBw/GqVOnDDQiRL9jkMtAEj0C3njjDeHj4yP27dsnLl26JFJSUoRCoRAZGRmaK/r2799fpKWlibNnz4pnnnlGeHp6inv37gkhhDh16pQwMzMTiYmJIi8vT6SkpAgrKyutK9BOmjRJuLu7ix07dohLly6JAwcOiM2bNwshfrtq8LBhw0RGRob48ccfxYgRI0RwcLDm/QMGDBAvvviiOH/+vLh48aLYunWryMnJaddxoscXC4RIh6qqKmFpaSmysrK0ps+YMUNMmTJF8+Fe/2EvhBA3b94UVlZWYsuWLUIIIf70pz+JsWPHar3/tddeE76+vkIIIfLy8gQAkZ6erjND/ToOHDigmbZnzx4BQNy5c0cIIYSdnZ1ITU1t+y9MJAF3YRHpkJubi7t372Ls2LGwtbXVPD799FNcunRJM59SqdT87OzsDG9vb5w/fx4AcP78eYSEhGgtNyQkBD/99BNUKhVycnJgbm6OUaNGNZll4MCBmp/r7w5XUlICAIiLi8Mrr7yCMWPG4J133tHKRmRoLBAiHdRqNQBgz549yMnJ0Txyc3M1x0EaI5PJADw4hlL/cz3x0O13rKysWpTl4Vuh1i+vPl9CQgJ+/PFHTJgwAQcPHoSvry927tzZouUStRULhEgHX19fKBQKFBYWom/fvloPd3d3zXzfffed5udbt27h4sWL8PHx0Szj6NGjWsvNysqCl5cXzM3N4e/vD7VajczMzDZl9fLywty5c5GWlobo6GikpKS0aXlELdXJ2AGITJGdnR3mzZuHuXPnQq1W48knn0RlZSWysrJga2sLDw8PAEBiYiI6d+4MFxcXLFq0CF26dEFUVBQA4B//+AeGDBmCZcuWYfLkyTh27BjWrl2LdevWAQA8PT0xbdo0TJ8+HatXr0ZAQAAuX76MkpISTJo0qdmMd+7cwWuvvYaYmBj07t0bV65cwcmTJ/HHP/7RYONCpMXYB2GITJVarRarVq0S3t7ewsLCQnTt2lWEh4eLzMxMzQHur776SgwYMEDI5XIxZMiQBmdAbdu2Tfj6+goLCwvRq1cv8f7772u9fufOHTF37lzh6uoq5HK56Nu3r/jkk0+EEL8dRL9165Zm/uzsbAFA5Ofni9raWvHCCy8Id3d3IZfLhZubm5g1a5bmADuRofGe6EQSZGRkYPTo0bh16xYcHR2NHYfIKHgMhIiIJGGBEBGRJNyFRUREknALhIiIJGGBEBGRJCwQIiKS5P8ALoSKStWRh9QAAAAASUVORK5CYII=' width=400.0/>\n",
       "            </div>\n",
       "        "
      ],
      "text/plain": [
       "Canvas(toolbar=Toolbar(toolitems=[('Home', 'Reset original view', 'home', 'home'), ('Back', 'Back to previous …"
      ]
     },
     "metadata": {},
     "output_type": "display_data"
    }
   ],
   "source": [
    "train_scratch(0)"
   ]
  },
  {
   "cell_type": "code",
   "execution_count": 18,
   "metadata": {},
   "outputs": [
    {
     "name": "stdout",
     "output_type": "stream",
     "text": [
      "test\n",
      "L2 norm of w: 0.010188770480453968\n"
     ]
    },
    {
     "data": {
      "application/vnd.jupyter.widget-view+json": {
       "model_id": "c05410314eee4acf87be92b64f596613",
       "version_major": 2,
       "version_minor": 0
      },
      "image/png": "[encoded data removed]",
      "text/html": [
       "\n",
       "            <div style=\"display: inline-block;\">\n",
       "                <div class=\"jupyter-widgets widget-label\" style=\"text-align: center;\">\n",
       "                    Figure\n",
       "                </div>\n",
       "                <img src='data:image/png;base64,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' width=400.0/>\n",
       "            </div>\n",
       "        "
      ],
      "text/plain": [
       "Canvas(toolbar=Toolbar(toolitems=[('Home', 'Reset original view', 'home', 'home'), ('Back', 'Back to previous …"
      ]
     },
     "metadata": {},
     "output_type": "display_data"
    }
   ],
   "source": [
    "train_scratch(3)"
   ]
  },
  {
   "cell_type": "code",
   "execution_count": null,
   "metadata": {},
   "outputs": [],
   "source": []
  }
 ],
 "metadata": {
  "kernelspec": {
   "display_name": "base",
   "language": "python",
   "name": "python3"
  },
  "language_info": {
   "codemirror_mode": {
    "name": "ipython",
    "version": 3
   },
   "file_extension": ".py",
   "mimetype": "text/x-python",
   "name": "python",
   "nbconvert_exporter": "python",
   "pygments_lexer": "ipython3",
   "version": "3.9.13"
  },
  "orig_nbformat": 4,
  "vscode": {
   "interpreter": {
    "hash": "20a9e06a1eee47c4abbed4ec8225ad91d78d9800d202b71b6b0a6e47016c6abd"
   }
  }
 },
 "nbformat": 4,
 "nbformat_minor": 2
}
