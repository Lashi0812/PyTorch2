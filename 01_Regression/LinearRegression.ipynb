{
 "cells": [
  {
   "cell_type": "code",
   "execution_count": 1,
   "metadata": {},
   "outputs": [],
   "source": [
    "# python inbuilt-libraires\n",
    "from typing import Tuple, List, Dict\n",
    "from functools import partial\n",
    "from collections import defaultdict\n",
    "import sys\n",
    "\n",
    "sys.path.append(\"c:\\\\Users\\\\Lenovo\\\\DataspellProjects\\\\PyTorch2\")\n",
    "\n",
    "\n",
    "# helper module\n",
    "import helper\n",
    "\n",
    "# torch\n",
    "import torch\n",
    "from torch import nn\n",
    "from torch import utils as torch_utils\n",
    "\n",
    "\n",
    "# numpy\n",
    "import numpy as np\n",
    "\n",
    "\n",
    "# Visualization\n",
    "import matplotlib.pyplot as plt\n",
    "import matplotlib.animation as animation\n",
    "%matplotlib widget\n"
   ]
  },
  {
   "attachments": {},
   "cell_type": "markdown",
   "metadata": {},
   "source": [
    "# Utility"
   ]
  },
  {
   "attachments": {},
   "cell_type": "markdown",
   "metadata": {},
   "source": [
    "## Add the function to class"
   ]
  },
  {
   "cell_type": "code",
   "execution_count": 2,
   "metadata": {},
   "outputs": [],
   "source": [
    "def add_to_class(Class):\n",
    "    def wrapper(obj):\n",
    "        setattr(Class,obj.__name__,obj)\n",
    "    return wrapper"
   ]
  },
  {
   "attachments": {},
   "cell_type": "markdown",
   "metadata": {},
   "source": [
    "## Base class for the dataloaders\n"
   ]
  },
  {
   "cell_type": "code",
   "execution_count": 3,
   "metadata": {},
   "outputs": [],
   "source": [
    "class DataModule:\n",
    "    def get_dataloader(self, train: bool):\n",
    "        raise NotImplementedError\n",
    "\n",
    "    def train_dataloader(self):\n",
    "        return self.get_dataloader(train=True)\n",
    "\n",
    "    def val_dataloader(self):\n",
    "        return self.get_dataloader(train=False)\n"
   ]
  },
  {
   "attachments": {},
   "cell_type": "markdown",
   "metadata": {},
   "source": [
    "## Base Class for Model\n"
   ]
  },
  {
   "cell_type": "code",
   "execution_count": 4,
   "metadata": {},
   "outputs": [],
   "source": [
    "class Module(nn.Module):\n",
    "    def __init__(self) -> None:\n",
    "        super().__init__()\n",
    "\n",
    "    def loss(self, y_hat, y):\n",
    "        raise NotImplementedError\n",
    "\n",
    "    def forward(self, x: torch.Tensor):\n",
    "        assert hasattr(self, \"net\")\n",
    "        return self.net(x)\n",
    "\n",
    "    def configure_optimizer(self):\n",
    "        return torch.optim.SGD(self.parameters(), lr=self.lr)\n",
    "\n",
    "    def training_step(self, batch):\n",
    "        X,y = batch\n",
    "        # forward pass\n",
    "        y_logits = self(X)\n",
    "        loss = self.loss(y_logits,y)\n",
    "        return y_logits,loss\n",
    "\n",
    "    def validation_step(self, batch):\n",
    "        X,y = batch\n",
    "        # forward pass\n",
    "        y_logits = self(X)\n",
    "        loss = self.loss(y_logits,y)\n",
    "        return y_logits,loss\n"
   ]
  },
  {
   "attachments": {},
   "cell_type": "markdown",
   "metadata": {},
   "source": [
    "## Animate class"
   ]
  },
  {
   "cell_type": "code",
   "execution_count": 5,
   "metadata": {},
   "outputs": [],
   "source": [
    "class Animate:\n",
    "    def __init__(self):\n",
    "        self.fig = plt.figure(figsize=(4,3),layout=\"constrained\")\n",
    "        self.ax = plt.axes(xlim=(0, 3.5), ylim=(0, 10))\n",
    "        self.train_loss_line, = self.ax.plot([], [],\"o-\",markevery=[-1], lw=2,label=\"train_loss\")\n",
    "        self.val_loss_line, = self.ax.plot([], [],\"o-\",markevery=[-1], lw=2,label=\"test_loss\")\n",
    "        self.ax.set_xlabel(\"epochs\")\n",
    "        self.ax.set_ylabel(\"Loss\")\n",
    "        self.ax.set_title(\"Loss Curve\")\n",
    "        plt.legend()\n",
    "\n",
    "    def update(self, i):\n",
    "        # print(f\"[INFO] Entering Animate Update\")\n",
    "        self.trainer.fit_epoch()\n",
    "        # print(f\"[INFO] Finished {i} epoch\")\n",
    "        # print(self.trainer.history[\"train_loss\"])\n",
    "        self.ax.set_xlim(0, self.trainer.max_epochs)\n",
    "        self.ax.set_ylim(\n",
    "            min(min(self.trainer.history[\"train_loss\"]),min(self.trainer.history[\"val_loss\"])) ,\n",
    "            max(max(self.trainer.history[\"train_loss\"]),max(self.trainer.history[\"val_loss\"])) ,\n",
    "        )\n",
    "        self.train_loss_line.set_data(\n",
    "            list(range(len(self.trainer.history[\"train_loss\"]))),\n",
    "            self.trainer.history[\"train_loss\"],\n",
    "        )\n",
    "        self.val_loss_line.set_data(\n",
    "            list(range(len(self.trainer.history[\"val_loss\"]))),\n",
    "            self.trainer.history[\"val_loss\"],\n",
    "        )\n",
    "        return self.train_loss_line,self.val_loss_line\n",
    "\n",
    "    # def ani_init(self):\n",
    "    #     print(\"[INFO] Entering Init \")\n",
    "    #     self.train_loss_line.set_data([], [])\n",
    "    #     print(\"[INFO] Entering Init \")\n",
    "    #     return self.train_loss_line\n",
    "\n",
    "    def animate(self,save:bool=False):\n",
    "        # print(hasattr(self, \"trainer\"))\n",
    "        assert hasattr(self, \"trainer\"), \"Plot is not prepared\"\n",
    "        self.anim = animation.FuncAnimation(\n",
    "            fig=self.fig,\n",
    "            func=self.update,\n",
    "            # init_func=self.ani_init,\n",
    "            frames=self.trainer.max_epochs,\n",
    "            repeat=False,\n",
    "            blit=True,\n",
    "        )\n",
    "        plt.show()\n",
    "        if save:\n",
    "            print(\"Saving the animation\")\n",
    "            Writer = animation.writers['ffmpeg']\n",
    "            writer = Writer(fps=5, bitrate=1800)\n",
    "            self.anim.save(f'{self.trainer.model.__class__.__name__}.mp4', writer=writer)"
   ]
  },
  {
   "attachments": {},
   "cell_type": "markdown",
   "metadata": {},
   "source": [
    "## Trainer class"
   ]
  },
  {
   "cell_type": "code",
   "execution_count": 6,
   "metadata": {},
   "outputs": [],
   "source": [
    "class Trainer:\n",
    "    def __init__(self, max_epochs,show_ani=False,save_ani=False) -> None:\n",
    "        self.max_epochs = max_epochs\n",
    "        self.save_ani = save_ani\n",
    "        self.show_ani = show_ani\n",
    "        self.device = \"cuda\" if torch.cuda.is_available() else \"cpu\"\n",
    "\n",
    "    def prepare_data(self, data: DataModule):\n",
    "        # print(\"[INFO] Entering Data Prerparaion\")\n",
    "        self.train_dataloader = data.train_dataloader()\n",
    "        self.val_dataloader = data.val_dataloader()\n",
    "        self.num_train_batches = len(self.train_dataloader)\n",
    "        self.num_val_batches = (\n",
    "            len(self.val_dataloader) if self.val_dataloader is not None else 0\n",
    "        )\n",
    "\n",
    "    def prepare_model(self,model:Module):\n",
    "        # print(\"[INFO] Entering Model Preparartion\")\n",
    "        model.trainer = self\n",
    "        self.model = model.to(self.device)\n",
    "        \n",
    "    \n",
    "    def prepare_batch(self,batch):\n",
    "        batch = [a.to(self.device) for a in batch]\n",
    "        return batch\n",
    "    \n",
    "    def prepare_plot(self):\n",
    "        # print(\"[INFO] Entering Plot Preparation\")\n",
    "        # Checking that trainer has already have animate instatance\n",
    "        # This help help set scale and other value of the plot outside the function.\n",
    "        if not hasattr(self,\"ani_plot\"):\n",
    "            self.ani_plot = Animate()\n",
    "            self.ani_plot.trainer = self\n",
    "        \n",
    "    \n",
    "    def fit(self,model:Module,data:DataModule):\n",
    "        # print(\"[INFO] Entering FIT\")\n",
    "        self.prepare_data(data=data)\n",
    "        self.prepare_model(model)\n",
    "        self.prepare_plot()\n",
    "        self.optim = model.configure_optimizer()\n",
    "        # all the training and animation is happening here\n",
    "        # to store the history \n",
    "        self.history = defaultdict(list)\n",
    "        if self.show_ani:\n",
    "            self.ani_plot.animate(self.save_ani)\n",
    "        else:\n",
    "            for epoch in range(self.max_epochs):\n",
    "                self.fit_epoch()\n",
    "            self.ani_plot.train_loss_line.set_data(list(range(self.max_epochs)),self.history[\"train_loss\"])\n",
    "            self.ani_plot.val_loss_line.set_data(list(range(self.max_epochs)),self.history[\"val_loss\"])\n",
    "            plt.show()\n",
    "            \n",
    "\n",
    "    \n",
    "    def fit_epoch(self):       \n",
    "        # do the training step\n",
    "        self.train_step()\n",
    "        if self.val_dataloader is None:\n",
    "            return\n",
    "        # do the val step\n",
    "        self.val_step()\n",
    "\n",
    "    \n",
    "    def train_step(self):\n",
    "        # print(\"[INFO] Entered into the training step\")\n",
    "        batch_loss = 0\n",
    "        # put the model in training mode\n",
    "        self.model.train()\n",
    "        # Loop through the train dataloader\n",
    "        for batch in self.train_dataloader:\n",
    "            # do forward and find the loss\n",
    "            y_logits,loss = self.model.training_step(self.prepare_batch(batch))\n",
    "            batch_loss += loss\n",
    "            # set the zero grad\n",
    "            self.optim.zero_grad()\n",
    "            with torch.no_grad():\n",
    "                # back propagate the loss\n",
    "                loss.backward()\n",
    "                self.optim.step()\n",
    "        avg_batch_loss = batch_loss / self.num_train_batches\n",
    "        self.history[\"train_loss\"].append(avg_batch_loss.cpu().item())\n",
    "    \n",
    "    def val_step(self):\n",
    "        # put the model in eval mode\n",
    "        batch_loss = 0 \n",
    "        self.model.eval()\n",
    "        # Loop through the val dataloader\n",
    "        for batch in self.val_dataloader:\n",
    "            with torch.inference_mode():\n",
    "                y_logits , loss = self.model.validation_step(self.prepare_batch(batch))\n",
    "                batch_loss += loss\n",
    "        avg_batch_loss = batch_loss / self.num_train_batches\n",
    "        self.history[\"val_loss\"].append(avg_batch_loss.cpu().item())"
   ]
  },
  {
   "attachments": {},
   "cell_type": "markdown",
   "metadata": {},
   "source": [
    "# Linear Regression from Scratch:"
   ]
  },
  {
   "attachments": {},
   "cell_type": "markdown",
   "metadata": {},
   "source": [
    "## Define the Model"
   ]
  },
  {
   "cell_type": "code",
   "execution_count": 7,
   "metadata": {},
   "outputs": [],
   "source": [
    "class LinearRegressionScratch(Module):\n",
    "    def __init__(self,num_inputs,lr,sigma=0.01) -> None:\n",
    "        super().__init__()\n",
    "        self.num_inputs = num_inputs\n",
    "        self.lr = lr\n",
    "        self.sigma = sigma\n",
    "        self.w = torch.normal(mean=0,std=sigma,size=(num_inputs,1),requires_grad=True)\n",
    "        self.b = torch.zeros(1,requires_grad=True)\n",
    "    \n",
    "    def forward(self, x: torch.Tensor):\n",
    "        return torch.matmul(x,self.w)+self.b\n",
    "\n",
    "    \n",
    "    def loss(self, y_hat, y):\n",
    "        l = (y_hat - y)**2 /2\n",
    "        return l.mean()"
   ]
  },
  {
   "attachments": {},
   "cell_type": "markdown",
   "metadata": {},
   "source": [
    "## Define the optimization Algorithm"
   ]
  },
  {
   "cell_type": "code",
   "execution_count": 8,
   "metadata": {},
   "outputs": [],
   "source": [
    "class SGD:\n",
    "    def __init__(self,params,lr) -> None:\n",
    "        self.params = params\n",
    "        self.lr = lr\n",
    "    \n",
    "    def step(self):\n",
    "        for param in self.params:\n",
    "            param -= self.lr * param.grad\n",
    "\n",
    "    def zero_grad(self):\n",
    "        for param in self.params:\n",
    "            if param.grad is not None:\n",
    "                param.grad.zero_()"
   ]
  },
  {
   "cell_type": "code",
   "execution_count": 9,
   "metadata": {},
   "outputs": [],
   "source": [
    "# the optimizer the linear regression class\n",
    "@add_to_class(LinearRegressionScratch)\n",
    "def configure_optimizer(self):\n",
    "    return SGD([self.w,self.b],self.lr)"
   ]
  },
  {
   "attachments": {},
   "cell_type": "markdown",
   "metadata": {},
   "source": [
    "## Create the SyntheticData"
   ]
  },
  {
   "cell_type": "code",
   "execution_count": 10,
   "metadata": {},
   "outputs": [],
   "source": [
    "class SyntheticRegressionData(DataModule):\n",
    "    def __init__(\n",
    "        self, w, b, noise=0.01, num_train=1000, num_val=1000, batch_size=32\n",
    "    ) -> None:\n",
    "        self.w = w\n",
    "        self.b = b\n",
    "        self.noise = noise\n",
    "        self.num_train = num_train\n",
    "        self.num_val = num_val\n",
    "        self.batch_size = batch_size\n",
    "\n",
    "        n = num_train + num_val\n",
    "        self.X = torch.randn(size=(n, len(self.w)))\n",
    "        noise = torch.randn(size=(n, 1)) * self.noise\n",
    "        self.y = torch.matmul(self.X, torch.reshape(self.w, (-1, 1))) + b\n",
    "\n",
    "    def get_dataloader(self, train: bool):\n",
    "        i = slice(0, self.num_train) if train else slice(self.num_train, None)\n",
    "        return self.get_tensorloader((self.X,self.y),train,i)\n",
    "\n",
    "    def get_tensorloader(self, tensors, train, indices=slice(0, None)):\n",
    "        tensors = tuple(a[indices] for a in tensors)\n",
    "        dataset = torch.utils.data.TensorDataset(*tensors)\n",
    "        return torch.utils.data.DataLoader(dataset=dataset,batch_size=self.batch_size,shuffle=True)\n"
   ]
  },
  {
   "attachments": {},
   "cell_type": "markdown",
   "metadata": {},
   "source": [
    "## Train the model"
   ]
  },
  {
   "cell_type": "code",
   "execution_count": 11,
   "metadata": {},
   "outputs": [
    {
     "data": {
      "application/vnd.jupyter.widget-view+json": {
       "model_id": "15a3588f17a145099ed64f3f82f56579",
       "version_major": 2,
       "version_minor": 0
      },
      "image/png": "[encoded data removed]",
      "text/html": [
       "\n",
       "            <div style=\"display: inline-block;\">\n",
       "                <div class=\"jupyter-widgets widget-label\" style=\"text-align: center;\">\n",
       "                    Figure\n",
       "                </div>\n",
       "                <img src='data:image/png;base64,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' width=400.0/>\n",
       "            </div>\n",
       "        "
      ],
      "text/plain": [
       "Canvas(toolbar=Toolbar(toolitems=[('Home', 'Reset original view', 'home', 'home'), ('Back', 'Back to previous …"
      ]
     },
     "metadata": {},
     "output_type": "display_data"
    }
   ],
   "source": [
    "model = LinearRegressionScratch(num_inputs=2,lr=0.03)\n",
    "data = SyntheticRegressionData(w=torch.tensor([2,-3.4]),b=4.2)\n",
    "trainer = Trainer(max_epochs=10,show_ani=False)\n",
    "trainer.fit(model=model,data=data)"
   ]
  },
  {
   "attachments": {},
   "cell_type": "markdown",
   "metadata": {},
   "source": [
    "# High Dimensional linear Regression"
   ]
  },
  {
   "cell_type": "code",
   "execution_count": 12,
   "metadata": {},
   "outputs": [],
   "source": [
    "class Data(helper.DataModule):\n",
    "    def __init__(self,num_train,num_val,num_inputs,batch_size):\n",
    "        self.num_train = num_train\n",
    "        self.num_val = num_val\n",
    "        self.num_inputs = num_inputs\n",
    "        self.batch_size = batch_size\n",
    "\n",
    "        n = self.num_train + self.num_val\n",
    "        noise = torch.normal(size=(n,1),mean=0,std=0.01)\n",
    "        w,b = torch.full(size=(num_inputs,1),fill_value=0.01)  , 0.05\n",
    "        self.X = torch.randn(n,self.num_inputs)\n",
    "        self.y = torch.matmul(self.X,w) + b + noise\n",
    "\n",
    "    def get_dataloader(self, train: bool):\n",
    "        i = slice(0, self.num_train) if train else slice(self.num_train, None)\n",
    "        return self.get_tensorloader((self.X,self.y),train,i)\n",
    "\n",
    "    def get_tensorloader(self, tensors, train, indices=slice(0, None)):\n",
    "        tensors = tuple(a[indices] for a in tensors)\n",
    "        dataset = torch.utils.data.TensorDataset(*tensors)\n",
    "        return torch.utils.data.DataLoader(dataset=dataset,batch_size=self.batch_size,shuffle=True)\n",
    "        "
   ]
  },
  {
   "cell_type": "code",
   "execution_count": 13,
   "metadata": {},
   "outputs": [],
   "source": [
    "class WeightDecayScratch(LinearRegressionScratch):\n",
    "    def __init__(self, num_inputs, lr, lambd,sigma=0.01) -> None:\n",
    "        super().__init__(num_inputs, lr, sigma)\n",
    "        self.lambd = lambd\n",
    "    \n",
    "    def loss(self, y_hat, y):\n",
    "        return super().loss(y_hat, y) + self.lambd * self.l2_penalty()\n",
    "    \n",
    "    def l2_penalty(self):\n",
    "        return (self.w **2).sum() /2\n"
   ]
  },
  {
   "cell_type": "code",
   "execution_count": 14,
   "metadata": {},
   "outputs": [],
   "source": [
    "data = Data(num_train=20,num_val=100,num_inputs=200,batch_size=5)\n",
    "\n",
    "def train_scratch(lambd):\n",
    "    model = WeightDecayScratch(num_inputs=200,lambd=lambd,lr=0.01)\n",
    "    trainer = Trainer(max_epochs=10,show_ani=True)\n",
    "    trainer.prepare_plot()\n",
    "    trainer.ani_plot.ax.set_yscale(\"symlog\")\n",
    "    trainer.fit(model,data)\n",
    "    print('L2 norm of w:', float(model.l2_penalty()))\n"
   ]
  },
  {
   "cell_type": "code",
   "execution_count": 15,
   "metadata": {},
   "outputs": [
    {
     "data": {
      "application/vnd.jupyter.widget-view+json": {
       "model_id": "9b9208e86b844684ad100b7b71b48ae0",
       "version_major": 2,
       "version_minor": 0
      },
      "image/png": "[encoded data removed]",
      "text/html": [
       "\n",
       "            <div style=\"display: inline-block;\">\n",
       "                <div class=\"jupyter-widgets widget-label\" style=\"text-align: center;\">\n",
       "                    Figure\n",
       "                </div>\n",
       "                <img src='data:image/png;base64,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' width=400.0/>\n",
       "            </div>\n",
       "        "
      ],
      "text/plain": [
       "Canvas(toolbar=Toolbar(toolitems=[('Home', 'Reset original view', 'home', 'home'), ('Back', 'Back to previous …"
      ]
     },
     "metadata": {},
     "output_type": "display_data"
    },
    {
     "name": "stdout",
     "output_type": "stream",
     "text": [
      "L2 norm of w: 0.008700908161699772\n"
     ]
    }
   ],
   "source": [
    "train_scratch(0)"
   ]
  },
  {
   "cell_type": "code",
   "execution_count": 16,
   "metadata": {},
   "outputs": [
    {
     "data": {
      "application/vnd.jupyter.widget-view+json": {
       "model_id": "7c5cd9de9a084515a468c12df23ac086",
       "version_major": 2,
       "version_minor": 0
      },
      "image/png": "[encoded data removed]",
      "text/html": [
       "\n",
       "            <div style=\"display: inline-block;\">\n",
       "                <div class=\"jupyter-widgets widget-label\" style=\"text-align: center;\">\n",
       "                    Figure\n",
       "                </div>\n",
       "                <img src='data:image/png;base64,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' width=400.0/>\n",
       "            </div>\n",
       "        "
      ],
      "text/plain": [
       "Canvas(toolbar=Toolbar(toolitems=[('Home', 'Reset original view', 'home', 'home'), ('Back', 'Back to previous …"
      ]
     },
     "metadata": {},
     "output_type": "display_data"
    },
    {
     "name": "stdout",
     "output_type": "stream",
     "text": [
      "L2 norm of w: 0.010470696724951267\n"
     ]
    }
   ],
   "source": [
    "train_scratch(3)"
   ]
  },
  {
   "cell_type": "code",
   "execution_count": null,
   "metadata": {},
   "outputs": [],
   "source": []
  }
 ],
 "metadata": {
  "kernelspec": {
   "display_name": "base",
   "language": "python",
   "name": "python3"
  },
  "language_info": {
   "codemirror_mode": {
    "name": "ipython",
    "version": 3
   },
   "file_extension": ".py",
   "mimetype": "text/x-python",
   "name": "python",
   "nbconvert_exporter": "python",
   "pygments_lexer": "ipython3",
   "version": "3.9.13"
  },
  "orig_nbformat": 4,
  "vscode": {
   "interpreter": {
    "hash": "20a9e06a1eee47c4abbed4ec8225ad91d78d9800d202b71b6b0a6e47016c6abd"
   }
  }
 },
 "nbformat": 4,
 "nbformat_minor": 2
}
