{
 "cells": [
  {
   "cell_type": "code",
   "execution_count": 1,
   "metadata": {},
   "outputs": [],
   "source": [
    "# python inbuilt-libraires\n",
    "from typing import Tuple, List, Dict\n",
    "from functools import partial\n",
    "from collections import defaultdict\n",
    "\n",
    "# torch\n",
    "import torch\n",
    "from torch import nn\n",
    "from torch import utils as torch_utils\n",
    "\n",
    "\n",
    "# numpy\n",
    "import numpy as np\n",
    "\n",
    "\n",
    "# Visualization\n",
    "import matplotlib.pyplot as plt\n",
    "import matplotlib.animation as animation\n",
    "%matplotlib widget\n"
   ]
  },
  {
   "attachments": {},
   "cell_type": "markdown",
   "metadata": {},
   "source": [
    "# Utility"
   ]
  },
  {
   "attachments": {},
   "cell_type": "markdown",
   "metadata": {},
   "source": [
    "## Add the function to class"
   ]
  },
  {
   "cell_type": "code",
   "execution_count": 2,
   "metadata": {},
   "outputs": [],
   "source": [
    "def add_to_class(Class):\n",
    "    def wrapper(obj):\n",
    "        setattr(Class,obj.__name__,obj)\n",
    "    return wrapper"
   ]
  },
  {
   "attachments": {},
   "cell_type": "markdown",
   "metadata": {},
   "source": [
    "## Base class for the dataloaders\n"
   ]
  },
  {
   "cell_type": "code",
   "execution_count": 3,
   "metadata": {},
   "outputs": [],
   "source": [
    "class DataModule:\n",
    "    def get_dataloader(self, train: bool):\n",
    "        raise NotImplementedError\n",
    "\n",
    "    def train_dataloader(self):\n",
    "        return self.get_dataloader(train=True)\n",
    "\n",
    "    def val_dataloader(self):\n",
    "        return self.get_dataloader(train=False)\n"
   ]
  },
  {
   "attachments": {},
   "cell_type": "markdown",
   "metadata": {},
   "source": [
    "## Base Class for Model\n"
   ]
  },
  {
   "cell_type": "code",
   "execution_count": 4,
   "metadata": {},
   "outputs": [],
   "source": [
    "class Module(nn.Module):\n",
    "    def __init__(self) -> None:\n",
    "        super().__init__()\n",
    "\n",
    "    def loss(self, y_hat, y):\n",
    "        raise NotImplementedError\n",
    "\n",
    "    def forward(self, x: torch.Tensor):\n",
    "        assert hasattr(self, \"net\")\n",
    "        return self.net(x)\n",
    "\n",
    "    def configure_optimizer(self):\n",
    "        return torch.optim.SGD(self.parameters(), lr=self.lr)\n",
    "\n",
    "    def training_step(self, batch):\n",
    "        X,y = batch\n",
    "        # forward pass\n",
    "        y_logits = self(X)\n",
    "        loss = self.loss(y_logits,y)\n",
    "        return y_logits,loss\n",
    "\n",
    "    def validation_step(self, batch):\n",
    "        X,y = batch\n",
    "        # forward pass\n",
    "        y_logits = self(X)\n",
    "        loss = self.loss(y_logits,y)\n",
    "        return y_logits,loss\n"
   ]
  },
  {
   "attachments": {},
   "cell_type": "markdown",
   "metadata": {},
   "source": [
    "## Animate class"
   ]
  },
  {
   "cell_type": "code",
   "execution_count": 5,
   "metadata": {},
   "outputs": [],
   "source": [
    "class Animate:\n",
    "    def __init__(self):\n",
    "        self.fig = plt.figure(figsize=(4,3),layout=\"constrained\")\n",
    "        self.ax = plt.axes(xlim=(0, 3.5), ylim=(0, 10))\n",
    "        self.train_loss_line, = self.ax.plot([], [],\"o-\",markevery=[-1], lw=2,label=\"train_loss\")\n",
    "        self.val_loss_line, = self.ax.plot([], [],\"o-\",markevery=[-1], lw=2,label=\"test_loss\")\n",
    "        self.ax.set_xlabel(\"epochs\")\n",
    "        self.ax.set_ylabel(\"Loss\")\n",
    "        self.ax.set_title(\"Loss Curve\")\n",
    "        plt.legend()\n",
    "\n",
    "    def update(self, i):\n",
    "        # print(f\"[INFO] Entering Animate Update\")\n",
    "        self.trainer.fit_epoch()\n",
    "        # print(f\"[INFO] Finished {i} epoch\")\n",
    "        # print(self.trainer.history[\"train_loss\"])\n",
    "        self.ax.set_xlim(0, self.trainer.max_epochs)\n",
    "        self.ax.set_ylim(\n",
    "            min(self.trainer.history[\"train_loss\"]) - 1,\n",
    "            max(self.trainer.history[\"train_loss\"]) + 1,\n",
    "        )\n",
    "        self.train_loss_line.set_data(\n",
    "            list(range(len(self.trainer.history[\"train_loss\"]))),\n",
    "            self.trainer.history[\"train_loss\"],\n",
    "        )\n",
    "        self.val_loss_line.set_data(\n",
    "            list(range(len(self.trainer.history[\"val_loss\"]))),\n",
    "            self.trainer.history[\"val_loss\"],\n",
    "        )\n",
    "        return self.train_loss_line,self.val_loss_line\n",
    "\n",
    "    def ani_init(self):\n",
    "        self.train_loss_line.set_data([], [])\n",
    "        return self.train_loss_line\n",
    "\n",
    "    def animate(self,save:bool=False):\n",
    "        # print(\"[INFO] Entering Aimate \")\n",
    "        # print(hasattr(self, \"trainer\"))\n",
    "        assert hasattr(self, \"trainer\"), \"Plot is not prepared\"\n",
    "        self.anim = animation.FuncAnimation(\n",
    "            fig=self.fig,\n",
    "            func=self.update,\n",
    "            init_func=self.ani_init,\n",
    "            frames=self.trainer.max_epochs,\n",
    "            repeat=False,\n",
    "            blit=True,\n",
    "        )\n",
    "        if save:\n",
    "            print(\"Saving the animation\")\n",
    "            Writer = animation.writers['ffmpeg']\n",
    "            writer = Writer(fps=5, bitrate=1800)\n",
    "            self.anim.save(f'{self.trainer.model.__class__.__name__}.mp4', writer=writer)"
   ]
  },
  {
   "attachments": {},
   "cell_type": "markdown",
   "metadata": {},
   "source": [
    "## Trainer class"
   ]
  },
  {
   "cell_type": "code",
   "execution_count": 6,
   "metadata": {},
   "outputs": [],
   "source": [
    "class Trainer:\n",
    "    def __init__(self, max_epochs,show_ani=False,save_ani=False) -> None:\n",
    "        self.max_epochs = max_epochs\n",
    "        self.save_ani = save_ani\n",
    "        self.show_ani = show_ani\n",
    "        self.device = \"cuda\" if torch.cuda.is_available() else \"cpu\"\n",
    "\n",
    "    def prepare_data(self, data: DataModule):\n",
    "        # print(\"[INFO] Entering Data Prerparaion\")\n",
    "        self.train_dataloader = data.train_dataloader()\n",
    "        self.val_dataloader = data.val_dataloader()\n",
    "        self.num_train_batches = len(self.train_dataloader)\n",
    "        self.num_val_batches = (\n",
    "            len(self.val_dataloader) if self.val_dataloader is not None else 0\n",
    "        )\n",
    "\n",
    "    def prepare_model(self,model:Module):\n",
    "        # print(\"[INFO] Entering Model Preparartion\")\n",
    "        model.trainer = self\n",
    "        self.model = model.to(self.device)\n",
    "        \n",
    "    \n",
    "    def prepare_batch(self,batch):\n",
    "        batch = [a.to(self.device) for a in batch]\n",
    "        return batch\n",
    "    \n",
    "    def prepare_plot(self):\n",
    "        # print(\"[INFO] Entering Plot Preparation\")\n",
    "        self.ani_plot = Animate()\n",
    "        self.ani_plot.trainer = self\n",
    "        \n",
    "    \n",
    "    def fit(self,model:Module,data:DataModule):\n",
    "        # print(\"[INFO] Entering FIT\")\n",
    "        self.prepare_data(data=data)\n",
    "        self.prepare_model(model)\n",
    "        self.prepare_plot()\n",
    "        self.optim = model.configure_optimizer()\n",
    "        # all the training and animation is happening here\n",
    "        # to store the history \n",
    "        self.history = defaultdict(list)\n",
    "        if self.show_ani:\n",
    "            self.ani_plot.animate(self.save_ani)\n",
    "        else:\n",
    "            for epoch in range(self.max_epochs):\n",
    "                self.fit_epoch()\n",
    "            self.ani_plot.train_loss_line.set_data(list(range(self.max_epochs)),self.history[\"train_loss\"])\n",
    "            self.ani_plot.val_loss_line.set_data(list(range(self.max_epochs)),self.history[\"val_loss\"])\n",
    "            plt.show()\n",
    "            \n",
    "\n",
    "    \n",
    "    def fit_epoch(self):       \n",
    "        # do the training step\n",
    "        self.train_step()\n",
    "        if self.val_dataloader is None:\n",
    "            return\n",
    "        # do the val step\n",
    "        self.val_step()\n",
    "\n",
    "    \n",
    "    def train_step(self):\n",
    "        # print(\"[INFO] Entered into the training step\")\n",
    "        batch_loss = 0\n",
    "        # put the model in training mode\n",
    "        self.model.train()\n",
    "        # Loop through the train dataloader\n",
    "        for batch in self.train_dataloader:\n",
    "            # do forward and find the loss\n",
    "            y_logits,loss = self.model.training_step(self.prepare_batch(batch))\n",
    "            batch_loss += loss\n",
    "            # set the zero grad\n",
    "            self.optim.zero_grad()\n",
    "            with torch.no_grad():\n",
    "                # back propagate the loss\n",
    "                loss.backward()\n",
    "                self.optim.step()\n",
    "        avg_batch_loss = batch_loss / self.num_train_batches\n",
    "        self.history[\"train_loss\"].append(avg_batch_loss.cpu().item())\n",
    "    \n",
    "    def val_step(self):\n",
    "        # put the model in eval mode\n",
    "        batch_loss = 0 \n",
    "        self.model.eval()\n",
    "        # Loop through the val dataloader\n",
    "        for batch in self.val_dataloader:\n",
    "            with torch.inference_mode():\n",
    "                y_logits , loss = self.model.validation_step(self.prepare_batch(batch))\n",
    "                batch_loss += loss\n",
    "        avg_batch_loss = batch_loss / self.num_train_batches\n",
    "        self.history[\"val_loss\"].append(avg_batch_loss.cpu().item())"
   ]
  },
  {
   "attachments": {},
   "cell_type": "markdown",
   "metadata": {},
   "source": [
    "# Linear Regression from Scratch:"
   ]
  },
  {
   "attachments": {},
   "cell_type": "markdown",
   "metadata": {},
   "source": [
    "## Define the Model"
   ]
  },
  {
   "cell_type": "code",
   "execution_count": 7,
   "metadata": {},
   "outputs": [],
   "source": [
    "class LinearRegressionScratch(Module):\n",
    "    def __init__(self,num_inputs,lr,sigma=0.01) -> None:\n",
    "        super().__init__()\n",
    "        self.num_inputs = num_inputs\n",
    "        self.lr = lr\n",
    "        self.sigma = sigma\n",
    "        self.w = torch.normal(mean=0,std=sigma,size=(num_inputs,1),requires_grad=True)\n",
    "        self.b = torch.zeros(1,requires_grad=True)\n",
    "    \n",
    "    def forward(self, x: torch.Tensor):\n",
    "        return torch.matmul(x,self.w)+self.b\n",
    "\n",
    "    \n",
    "    def loss(self, y_hat, y):\n",
    "        l = (y_hat - y)**2 /2\n",
    "        return l.mean()"
   ]
  },
  {
   "attachments": {},
   "cell_type": "markdown",
   "metadata": {},
   "source": [
    "## Define the optimization Algorithm"
   ]
  },
  {
   "cell_type": "code",
   "execution_count": 8,
   "metadata": {},
   "outputs": [],
   "source": [
    "class SGD:\n",
    "    def __init__(self,params,lr) -> None:\n",
    "        self.params = params\n",
    "        self.lr = lr\n",
    "    \n",
    "    def step(self):\n",
    "        for param in self.params:\n",
    "            param -= self.lr * param.grad\n",
    "\n",
    "    def zero_grad(self):\n",
    "        for param in self.params:\n",
    "            if param.grad is not None:\n",
    "                param.grad.zero_()"
   ]
  },
  {
   "cell_type": "code",
   "execution_count": 9,
   "metadata": {},
   "outputs": [],
   "source": [
    "# the optimizer the linear regression class\n",
    "@add_to_class(LinearRegressionScratch)\n",
    "def configure_optimizer(self):\n",
    "    return SGD([self.w,self.b],self.lr)"
   ]
  },
  {
   "attachments": {},
   "cell_type": "markdown",
   "metadata": {},
   "source": [
    "## Create the SyntheticData"
   ]
  },
  {
   "cell_type": "code",
   "execution_count": 10,
   "metadata": {},
   "outputs": [],
   "source": [
    "class SyntheticRegressionData(DataModule):\n",
    "    def __init__(\n",
    "        self, w, b, noise=0.01, num_train=1000, num_val=1000, batch_size=32\n",
    "    ) -> None:\n",
    "        self.w = w\n",
    "        self.b = b\n",
    "        self.noise = noise\n",
    "        self.num_train = num_train\n",
    "        self.num_val = num_val\n",
    "        self.batch_size = batch_size\n",
    "\n",
    "        n = num_train + num_val\n",
    "        self.X = torch.randn(size=(n, len(self.w)))\n",
    "        noise = torch.randn(size=(n, 1)) * self.noise\n",
    "        self.y = torch.matmul(self.X, torch.reshape(self.w, (-1, 1))) + b\n",
    "\n",
    "    def get_dataloader(self, train: bool):\n",
    "        i = slice(0, self.num_train) if train else slice(self.num_train, None)\n",
    "        return self.get_tensorloader((self.X,self.y),train,i)\n",
    "\n",
    "    def get_tensorloader(self, tensors, train, indices=slice(0, None)):\n",
    "        tensors = tuple(a[indices] for a in tensors)\n",
    "        dataset = torch.utils.data.TensorDataset(*tensors)\n",
    "        return torch.utils.data.DataLoader(dataset=dataset,batch_size=self.batch_size,shuffle=True)\n"
   ]
  },
  {
   "attachments": {},
   "cell_type": "markdown",
   "metadata": {},
   "source": [
    "## Train the model"
   ]
  },
  {
   "cell_type": "code",
   "execution_count": 12,
   "metadata": {},
   "outputs": [
    {
     "data": {
      "application/vnd.jupyter.widget-view+json": {
       "model_id": "e0d5f5fe30234b6180f2526c998429d2",
       "version_major": 2,
       "version_minor": 0
      },
      "image/png": "[encoded data removed]",
      "text/html": [
       "\n",
       "            <div style=\"display: inline-block;\">\n",
       "                <div class=\"jupyter-widgets widget-label\" style=\"text-align: center;\">\n",
       "                    Figure\n",
       "                </div>\n",
       "                <img src='data:image/png;base64,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' width=400.0/>\n",
       "            </div>\n",
       "        "
      ],
      "text/plain": [
       "Canvas(toolbar=Toolbar(toolitems=[('Home', 'Reset original view', 'home', 'home'), ('Back', 'Back to previous …"
      ]
     },
     "metadata": {},
     "output_type": "display_data"
    }
   ],
   "source": [
    "model = LinearRegressionScratch(num_inputs=2,lr=0.03)\n",
    "data = SyntheticRegressionData(w=torch.tensor([2,-3.4]),b=4.2)\n",
    "trainer = Trainer(max_epochs=10,show_ani=False)\n",
    "trainer.fit(model=model,data=data)"
   ]
  },
  {
   "cell_type": "code",
   "execution_count": null,
   "metadata": {},
   "outputs": [],
   "source": []
  }
 ],
 "metadata": {
  "kernelspec": {
   "display_name": "base",
   "language": "python",
   "name": "python3"
  },
  "language_info": {
   "codemirror_mode": {
    "name": "ipython",
    "version": 3
   },
   "file_extension": ".py",
   "mimetype": "text/x-python",
   "name": "python",
   "nbconvert_exporter": "python",
   "pygments_lexer": "ipython3",
   "version": "3.9.13"
  },
  "orig_nbformat": 4,
  "vscode": {
   "interpreter": {
    "hash": "20a9e06a1eee47c4abbed4ec8225ad91d78d9800d202b71b6b0a6e47016c6abd"
   }
  }
 },
 "nbformat": 4,
 "nbformat_minor": 2
}
