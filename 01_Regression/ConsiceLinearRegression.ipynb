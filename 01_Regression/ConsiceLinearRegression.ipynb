{
 "cells": [
  {
   "cell_type": "code",
   "execution_count": 1,
   "metadata": {
    "pycharm": {
     "name": "#%%\n"
    }
   },
   "outputs": [],
   "source": [
    "# python libraries\n",
    "from typing import List,Dict\n",
    "import time\n",
    "import sys\n",
    "\n",
    "sys.path.append(\"c:\\\\Users\\\\Lenovo\\\\DataspellProjects\\\\PyTorch2\")\n",
    "\n",
    "# torch\n",
    "import torch\n",
    "import torchvision\n",
    "from torch import nn\n",
    "from torchvision import transforms\n",
    "from torchvision import datasets\n",
    "from torch.utils.data import DataLoader\n",
    "try:\n",
    "    from torchmetrics import Accuracy\n",
    "except:\n",
    "    %pip install torchmetrics\n",
    "    from torchmetrics import Accuracy\n",
    "\n",
    "# helper module\n",
    "try:\n",
    "    import helper\n",
    "except :\n",
    "    import requests\n",
    "    response = requests.get(\"https://raw.githubusercontent.com/Lashi0812/PyTorch2/master/helper.py\")\n",
    "    with open(\"helper.py\",\"wb\") as f:\n",
    "        f.write(response.content)\n",
    "    import helper\n",
    "\n",
    "# data manipulation\n",
    "import numpy as np\n",
    "\n",
    "#visualization\n",
    "import matplotlib.pyplot as plt\n",
    "\n",
    "try:\n",
    "    %matplotlib widget\n",
    "except:\n",
    "    %pip install ipympl\n",
    "    from google.colab import output\n",
    "    output.enable_custom_widget_manager()\n",
    "\n"
   ]
  },
  {
   "cell_type": "markdown",
   "metadata": {
    "pycharm": {
     "name": "#%% md\n"
    }
   },
   "source": []
  },
  {
   "attachments": {},
   "cell_type": "markdown",
   "metadata": {
    "pycharm": {
     "name": "#%% md\n"
    }
   },
   "source": [
    "# Concise Implementation of Linear Regression"
   ]
  },
  {
   "cell_type": "markdown",
   "metadata": {
    "pycharm": {
     "name": "#%% md\n"
    }
   },
   "source": [
    "## Defining the model"
   ]
  },
  {
   "cell_type": "code",
   "execution_count": 2,
   "metadata": {
    "pycharm": {
     "name": "#%%\n"
    }
   },
   "outputs": [],
   "source": [
    "class LinearRegression(helper.Module):\n",
    "    def __init__(self, lr) -> None:\n",
    "        super().__init__()\n",
    "        self.lr = lr\n",
    "        self.net = nn.LazyLinear(out_features=1)\n",
    "        self.net.weight.data.normal_(mean=0, std=0.01)\n",
    "        self.net.bias.data.fill_(value=0)\n",
    "\n",
    "    def forward(self, x: torch.Tensor):\n",
    "        return self.net(x)\n",
    "\n",
    "    def loss(self, y_hat, y):\n",
    "        fn = nn.MSELoss()\n",
    "        return fn(y_hat, y)\n",
    "\n",
    "    def configure_optimizer(self):\n",
    "        return torch.optim.SGD(params=self.net.parameters(), lr=self.lr)\n"
   ]
  },
  {
   "cell_type": "markdown",
   "metadata": {
    "pycharm": {
     "name": "#%% md\n"
    }
   },
   "source": [
    "##  Create Data"
   ]
  },
  {
   "cell_type": "code",
   "execution_count": 3,
   "metadata": {
    "pycharm": {
     "name": "#%%\n"
    }
   },
   "outputs": [],
   "source": [
    "class SyntheticRegressionData(helper.DataModule):\n",
    "    def __init__(\n",
    "        self, w, b, noise=0.01, num_train=1000, num_val=1000, batch_size=32\n",
    "    ) -> None:\n",
    "        self.w = w\n",
    "        self.b = b\n",
    "        self.noise = noise\n",
    "        self.num_train = num_train\n",
    "        self.num_val = num_val\n",
    "        self.batch_size = batch_size\n",
    "\n",
    "        n = num_train + num_val\n",
    "        self.X = torch.randn(size=(n, len(self.w)))\n",
    "        noise = torch.randn(size=(n, 1)) * self.noise\n",
    "        self.y = torch.matmul(self.X, torch.reshape(self.w, (-1, 1))) + b\n",
    "\n",
    "    def get_dataloader(self, train: bool):\n",
    "        i = slice(0, self.num_train) if train else slice(self.num_train, None)\n",
    "        return self.get_tensorloader((self.X,self.y),train,i)\n",
    "\n",
    "    def get_tensorloader(self, tensors, train, indices=slice(0, None)):\n",
    "        tensors = tuple(a[indices] for a in tensors)\n",
    "        dataset = torch.utils.data.TensorDataset(*tensors)\n",
    "        return torch.utils.data.DataLoader(dataset=dataset,batch_size=self.batch_size,shuffle=True)\n"
   ]
  },
  {
   "cell_type": "markdown",
   "metadata": {
    "pycharm": {
     "name": "#%% md\n"
    }
   },
   "source": [
    "## Training the model"
   ]
  },
  {
   "cell_type": "code",
   "execution_count": 4,
   "metadata": {
    "pycharm": {
     "name": "#%%\n"
    }
   },
   "outputs": [
    {
     "name": "stdout",
     "output_type": "stream",
     "text": [
      "Running the model in cpu\n"
     ]
    },
    {
     "name": "stderr",
     "output_type": "stream",
     "text": [
      "c:\\Users\\Lenovo\\anaconda3\\lib\\site-packages\\torch\\nn\\modules\\lazy.py:180: UserWarning: Lazy modules are a new feature under heavy development so changes to the API or functionality can happen at any moment.\n",
      "  warnings.warn('Lazy modules are a new feature under heavy development '\n"
     ]
    },
    {
     "data": {
      "application/vnd.jupyter.widget-view+json": {
       "model_id": "3e0174c6797e4ebd82121520b210395a",
       "version_major": 2,
       "version_minor": 0
      },
      "text/plain": [
       "  0%|          | 0/10 [00:00<?, ?it/s]"
      ]
     },
     "metadata": {},
     "output_type": "display_data"
    },
    {
     "data": {
      "application/vnd.jupyter.widget-view+json": {
       "model_id": "59c402420ce842beb54d90e1086d8596",
       "version_major": 2,
       "version_minor": 0
      },
      "image/png": "[encoded data removed]",
      "text/html": [
       "\n",
       "            <div style=\"display: inline-block;\">\n",
       "                <div class=\"jupyter-widgets widget-label\" style=\"text-align: center;\">\n",
       "                    Figure\n",
       "                </div>\n",
       "                <img src='data:image/png;base64,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' width=400.0/>\n",
       "            </div>\n",
       "        "
      ],
      "text/plain": [
       "Canvas(toolbar=Toolbar(toolitems=[('Home', 'Reset original view', 'home', 'home'), ('Back', 'Back to previous …"
      ]
     },
     "metadata": {},
     "output_type": "display_data"
    }
   ],
   "source": [
    "model = LinearRegression(lr=0.03)\n",
    "data = SyntheticRegressionData(w = torch.tensor([2,-3.4]),b=4.2)\n",
    "trainer = helper.Trainer(max_epochs=10,show_ani=True,verbose=False)\n",
    "trainer.fit(model,data)"
   ]
  },
  {
   "cell_type": "code",
   "execution_count": null,
   "metadata": {},
   "outputs": [],
   "source": []
  }
 ],
 "metadata": {
  "kernelspec": {
   "display_name": "Python 3 (ipykernel)",
   "language": "python",
   "name": "python3"
  },
  "language_info": {
   "codemirror_mode": {
    "name": "ipython",
    "version": 3
   },
   "file_extension": ".py",
   "mimetype": "text/x-python",
   "name": "python",
   "nbconvert_exporter": "python",
   "pygments_lexer": "ipython3",
   "version": "3.9.13"
  },
  "toc": {
   "base_numbering": 1,
   "nav_menu": {},
   "number_sections": true,
   "sideBar": true,
   "skip_h1_title": false,
   "title_cell": "Table of Contents",
   "title_sidebar": "Contents",
   "toc_cell": false,
   "toc_position": {},
   "toc_section_display": true,
   "toc_window_display": false
  },
  "varInspector": {
   "cols": {
    "lenName": 16,
    "lenType": 16,
    "lenVar": 40
   },
   "kernels_config": {
    "python": {
     "delete_cmd_postfix": "",
     "delete_cmd_prefix": "del ",
     "library": "var_list.py",
     "varRefreshCmd": "print(var_dic_list())"
    },
    "r": {
     "delete_cmd_postfix": ") ",
     "delete_cmd_prefix": "rm(",
     "library": "var_list.r",
     "varRefreshCmd": "cat(var_dic_list()) "
    }
   },
   "types_to_exclude": [
    "module",
    "function",
    "builtin_function_or_method",
    "instance",
    "_Feature"
   ],
   "window_display": false
  },
  "vscode": {
   "interpreter": {
    "hash": "20a9e06a1eee47c4abbed4ec8225ad91d78d9800d202b71b6b0a6e47016c6abd"
   }
  }
 },
 "nbformat": 4,
 "nbformat_minor": 2
}
